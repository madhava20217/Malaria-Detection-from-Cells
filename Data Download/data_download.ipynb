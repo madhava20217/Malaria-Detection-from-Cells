{
 "cells": [
  {
   "cell_type": "markdown",
   "metadata": {},
   "source": [
    "# Data Download and Setup\n",
    "\n",
    "Note: The $new\\_height$ and $new\\_width$ parameters will set the height and width of the resulting images."
   ]
  },
  {
   "cell_type": "code",
   "execution_count": 1,
   "metadata": {},
   "outputs": [],
   "source": [
    "import opendatasets as od\n",
    "import shutil\n",
    "import os\n",
    "import glob\n",
    "import cv2"
   ]
  },
  {
   "cell_type": "code",
   "execution_count": 3,
   "metadata": {},
   "outputs": [],
   "source": [
    "# Resized dimensions\n",
    "new_height = 50\n",
    "new_width  = 50\n",
    "\n",
    "# This is where we will find the resized images\n",
    "resized_dir = os.path.join(os.path.pardir, \"Datasets\", \"Resized_data_{}_{}\".format(new_width, new_height))"
   ]
  },
  {
   "cell_type": "markdown",
   "metadata": {},
   "source": [
    "## Imports"
   ]
  },
  {
   "cell_type": "markdown",
   "metadata": {},
   "source": [
    "## Downloading the Dataset"
   ]
  },
  {
   "cell_type": "markdown",
   "metadata": {},
   "source": [
    "Downloading the dataset requires a Kaggle account and an API key. Please make sure you have the requisites before proceeding.\n",
    "\n",
    "For getting the API key:\n",
    "1. Go to your Kaggle account.\n",
    "2. Click on the Account tab (alternatively, go to the url: https://www.kaggle.com/username/account, where 'username' refers to your Kaggle username).\n",
    "3. In the API section, click on 'Create New API Token'.\n",
    "4. Download and open the JSON file.\n",
    "5. Enter the respective credentials."
   ]
  },
  {
   "cell_type": "code",
   "execution_count": 4,
   "metadata": {},
   "outputs": [],
   "source": [
    "url = \"https://www.kaggle.com/datasets/iarunava/cell-images-for-detecting-malaria\""
   ]
  },
  {
   "cell_type": "code",
   "execution_count": 5,
   "metadata": {},
   "outputs": [],
   "source": [
    "data_path = os.path.join(os.path.pardir, \"Data\")"
   ]
  },
  {
   "cell_type": "markdown",
   "metadata": {},
   "source": [
    "## Prepare Directories and Download the Dataset"
   ]
  },
  {
   "cell_type": "code",
   "execution_count": 7,
   "metadata": {},
   "outputs": [
    {
     "name": "stdout",
     "output_type": "stream",
     "text": [
      "Please provide your Kaggle credentials to download this dataset. Learn more: http://bit.ly/kaggle-creds\n",
      "Your Kaggle username:Your Kaggle Key:Downloading cell-images-for-detecting-malaria.zip to ../Data\\cell-images-for-detecting-malaria\n"
     ]
    },
    {
     "name": "stderr",
     "output_type": "stream",
     "text": [
      "100%|██████████| 675M/675M [00:58<00:00, 12.0MB/s] \n"
     ]
    },
    {
     "name": "stdout",
     "output_type": "stream",
     "text": [
      "\n"
     ]
    }
   ],
   "source": [
    "if not os.path.exists(data_path):\n",
    "    os.makedirs(data_path)\n",
    "\n",
    "if not os.path.exists(os.path.join(data_path, 'cell-images-for-detecting-malaria')):\n",
    "    od.download(url, data_path)\n",
    "    shutil.rmtree(os.path.join(data_path, 'cell-images-for-detecting-malaria', 'cell_images', 'cell_images'))"
   ]
  },
  {
   "cell_type": "markdown",
   "metadata": {},
   "source": [
    "## Resize Images in the Dataset"
   ]
  },
  {
   "cell_type": "code",
   "execution_count": null,
   "metadata": {},
   "outputs": [],
   "source": [
    "data_dir = os.path.join(data_path, 'cell-images-for-detecting-malaria', 'cell_images')\n"
   ]
  },
  {
   "cell_type": "markdown",
   "metadata": {},
   "source": [
    "### Getting maximum height and width"
   ]
  },
  {
   "cell_type": "code",
   "execution_count": null,
   "metadata": {},
   "outputs": [],
   "source": [
    "maxheight = 385\n",
    "maxwidth  = 394\n",
    "\n",
    "minheight = 40\n",
    "minwidth = 46\n",
    "\n",
    "# # Commented out code so that you don't need to spend 10 seconds waiting for the loop to finish\n",
    "\n",
    "# for dirpath, dir, files in os.walk(os.path.join(data_dir, 'cell_images'), topdown = True):\n",
    "#     if len(dir) != 0:\n",
    "#         for subdir in dir:\n",
    "#             for file in glob.glob(os.path.join(os.path.join(data_dir, 'cell_images'), subdir, \"*.png\")):\n",
    "#                 img = cv2.imread(file)\n",
    "#                 height, width = img.shape[:2]\n",
    "\n",
    "#                 if maxheight < height: maxheight = height\n",
    "#                 if maxwidth < width: maxwidth = width\n",
    "\n",
    "#                 if height < minheight: minheight = height\n",
    "#                 if width < minwidth: minwidth = width\n",
    "\n",
    "print(\"Maximum heights and widths are: \", maxheight, maxwidth)\n",
    "print(\"Minimum heights and widths are: \", minheight, minwidth)"
   ]
  },
  {
   "cell_type": "markdown",
   "metadata": {},
   "source": [
    "### Resize images to specified sizes"
   ]
  },
  {
   "cell_type": "markdown",
   "metadata": {},
   "source": [
    "#### Making directories"
   ]
  },
  {
   "cell_type": "markdown",
   "metadata": {},
   "source": [
    "#### Resizing"
   ]
  },
  {
   "cell_type": "code",
   "execution_count": null,
   "metadata": {},
   "outputs": [],
   "source": [
    "for dirpath, dir, files in os.walk(data_dir, topdown = True):\n",
    "    if len(dir) != 0:\n",
    "        for subdir in dir:\n",
    "            print(subdir)\n",
    "            resized_dir_class  = os.path.join(resized_dir,subdir)\n",
    "\n",
    "            print(resized_dir_class)\n",
    "            os.makedirs(resized_dir_class, exist_ok = True)\n",
    "            for file in glob.glob(os.path.join(data_dir, subdir, \"*.png\")):\n",
    "                fn = os.path.basename(file)\n",
    "                img = cv2.imread(file)\n",
    "                resized = cv2.resize(img, (new_width, new_height))\n",
    "                cv2.imwrite(os.path.join(resized_dir_class,\n",
    "                        \"{}x{}{}\".format(new_width, new_height, fn)), \n",
    "                    resized)"
   ]
  },
  {
   "cell_type": "markdown",
   "metadata": {},
   "source": [
    "## (Optional) Remove the dataset"
   ]
  },
  {
   "cell_type": "code",
   "execution_count": null,
   "metadata": {},
   "outputs": [],
   "source": [
    "#uncomment the below line to remove the dataset directory\n",
    "\n",
    "#shutil.rmtree(data_path)"
   ]
  }
 ],
 "metadata": {
  "kernelspec": {
   "display_name": "Python 3.8.13 ('tf2.9')",
   "language": "python",
   "name": "python3"
  },
  "language_info": {
   "codemirror_mode": {
    "name": "ipython",
    "version": 3
   },
   "file_extension": ".py",
   "mimetype": "text/x-python",
   "name": "python",
   "nbconvert_exporter": "python",
   "pygments_lexer": "ipython3",
   "version": "3.8.13"
  },
  "orig_nbformat": 4,
  "vscode": {
   "interpreter": {
    "hash": "f3f9b9e2c84dd319003698fc684ead22f769b71014b59713d46cc8251cf0f9de"
   }
  }
 },
 "nbformat": 4,
 "nbformat_minor": 2
}
