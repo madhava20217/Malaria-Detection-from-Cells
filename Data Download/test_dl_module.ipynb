{
 "cells": [
  {
   "cell_type": "code",
   "execution_count": 1,
   "metadata": {},
   "outputs": [],
   "source": [
    "import sys, os\n",
    "sys.path.append(os.path.dirname(os.path.join((os.path.pardir), \"Modules\")))\n",
    "from Modules.data_download import Data_Download\n",
    "from Modules.labelling import Labelling\n",
    "\n",
    "\n",
    "dd = Data_Download(os.path.join(os.path.pardir, \"Data\"))"
   ]
  },
  {
   "cell_type": "code",
   "execution_count": 2,
   "metadata": {},
   "outputs": [
    {
     "ename": "KeyboardInterrupt",
     "evalue": "",
     "output_type": "error",
     "traceback": [
      "\u001b[1;31m---------------------------------------------------------------------------\u001b[0m",
      "\u001b[1;31mKeyboardInterrupt\u001b[0m                         Traceback (most recent call last)",
      "\u001b[1;32mc:\\Users\\krish\\Desktop\\Malaria Detection from Cells\\Data Download\\test_dl_module.ipynb Cell 2\u001b[0m in \u001b[0;36m<cell line: 1>\u001b[1;34m()\u001b[0m\n\u001b[1;32m----> <a href='vscode-notebook-cell:/c%3A/Users/krish/Desktop/Malaria%20Detection%20from%20Cells/Data%20Download/test_dl_module.ipynb#W1sZmlsZQ%3D%3D?line=0'>1</a>\u001b[0m dd\u001b[39m.\u001b[39;49mresize_image(os\u001b[39m.\u001b[39;49mpath\u001b[39m.\u001b[39;49mjoin(os\u001b[39m.\u001b[39;49mpardir, \u001b[39m\"\u001b[39;49m\u001b[39mDatasets\u001b[39;49m\u001b[39m\"\u001b[39;49m), \u001b[39m40\u001b[39;49m,\u001b[39m40\u001b[39;49m)\n",
      "File \u001b[1;32mc:\\Users\\krish\\Desktop\\Malaria Detection from Cells\\Data Download\\..\\Modules\\data_download.py:52\u001b[0m, in \u001b[0;36mData_Download.resize_image\u001b[1;34m(self, path, new_width, new_height)\u001b[0m\n\u001b[0;32m     50\u001b[0m \u001b[39mfor\u001b[39;00m file \u001b[39min\u001b[39;00m glob\u001b[39m.\u001b[39mglob(os\u001b[39m.\u001b[39mpath\u001b[39m.\u001b[39mjoin(data_dir, subdir, \u001b[39m\"\u001b[39m\u001b[39m*.png\u001b[39m\u001b[39m\"\u001b[39m)):\n\u001b[0;32m     51\u001b[0m     fn \u001b[39m=\u001b[39m os\u001b[39m.\u001b[39mpath\u001b[39m.\u001b[39mbasename(file)\n\u001b[1;32m---> 52\u001b[0m     img \u001b[39m=\u001b[39m cv2\u001b[39m.\u001b[39;49mimread(file)\n\u001b[0;32m     53\u001b[0m     resized \u001b[39m=\u001b[39m cv2\u001b[39m.\u001b[39mresize(img, (new_width, new_height))\n\u001b[0;32m     54\u001b[0m     cv2\u001b[39m.\u001b[39mimwrite(os\u001b[39m.\u001b[39mpath\u001b[39m.\u001b[39mjoin(resized_dir_class,\n\u001b[0;32m     55\u001b[0m             \u001b[39m\"\u001b[39m\u001b[39m{}\u001b[39;00m\u001b[39mx\u001b[39m\u001b[39m{}\u001b[39;00m\u001b[39m{}\u001b[39;00m\u001b[39m\"\u001b[39m\u001b[39m.\u001b[39mformat(new_width, new_height, fn)), \n\u001b[0;32m     56\u001b[0m         resized)\n",
      "\u001b[1;31mKeyboardInterrupt\u001b[0m: "
     ]
    }
   ],
   "source": [
    "#dd.resize_image(os.path.join(os.pardir, \"Datasets\"), 40,40)"
   ]
  },
  {
   "cell_type": "code",
   "execution_count": 2,
   "metadata": {},
   "outputs": [],
   "source": [
    "lab = Labelling()\n",
    "\n",
    "lab.label(os.path.join(os.pardir, \"Datasets\", \"Resized_data_40_40\"))\n",
    "\n",
    "lab.train_test_val_split(os.path.join(os.pardir, \"Datasets\", \"Resized_data_40_40\"),\n",
    "                        labels = 'labels.csv')"
   ]
  }
 ],
 "metadata": {
  "kernelspec": {
   "display_name": "Python 3.8.13 ('tf2.9')",
   "language": "python",
   "name": "python3"
  },
  "language_info": {
   "codemirror_mode": {
    "name": "ipython",
    "version": 3
   },
   "file_extension": ".py",
   "mimetype": "text/x-python",
   "name": "python",
   "nbconvert_exporter": "python",
   "pygments_lexer": "ipython3",
   "version": "3.8.13"
  },
  "orig_nbformat": 4,
  "vscode": {
   "interpreter": {
    "hash": "f3f9b9e2c84dd319003698fc684ead22f769b71014b59713d46cc8251cf0f9de"
   }
  }
 },
 "nbformat": 4,
 "nbformat_minor": 2
}
