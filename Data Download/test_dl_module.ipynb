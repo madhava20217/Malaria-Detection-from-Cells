{
 "cells": [
  {
   "cell_type": "code",
   "execution_count": 1,
   "metadata": {},
   "outputs": [],
   "source": [
    "import sys, os, pandas as pd\n",
    "sys.path.append(os.path.dirname(os.path.join((os.path.pardir), \"Modules\")))\n",
    "from Modules.data_download import Data_Download\n",
    "from Modules.labelling import Labelling\n",
    "\n",
    "\n",
    "dd = Data_Download(os.path.join(os.path.pardir, \"Data\"))"
   ]
  },
  {
   "cell_type": "code",
   "execution_count": 5,
   "metadata": {},
   "outputs": [
    {
     "name": "stdout",
     "output_type": "stream",
     "text": [
      "Images resized to 40 x 40\n",
      "Directory path is ..\\Datasets\\Resized_data_40_40\n"
     ]
    },
    {
     "data": {
      "text/plain": [
       "'..\\\\Datasets\\\\Resized_data_40_40'"
      ]
     },
     "execution_count": 5,
     "metadata": {},
     "output_type": "execute_result"
    }
   ],
   "source": [
    "dd.resize_image(os.path.join(os.pardir, \"Datasets\"), 40,40, remove_misclassified= True)"
   ]
  },
  {
   "cell_type": "code",
   "execution_count": 6,
   "metadata": {},
   "outputs": [
    {
     "data": {
      "text/plain": [
       "('..\\\\Datasets\\\\Resized_data_40_40\\\\train.csv',\n",
       " '..\\\\Datasets\\\\Resized_data_40_40\\\\val.csv',\n",
       " '..\\\\Datasets\\\\Resized_data_40_40\\\\test.csv')"
      ]
     },
     "execution_count": 6,
     "metadata": {},
     "output_type": "execute_result"
    }
   ],
   "source": [
    "lab = Labelling()\n",
    "\n",
    "lab.label(os.path.join(os.pardir, \"Datasets\", \"Resized_data_40_40\"))\n",
    "\n",
    "train, val, test = lab.train_test_val_split(os.path.join(os.pardir, \"Datasets\", \"Resized_data_40_40\"),\n",
    "                        labels = 'labels.csv')\n",
    "\n",
    "train, val, test"
   ]
  },
  {
   "cell_type": "code",
   "execution_count": 7,
   "metadata": {},
   "outputs": [
    {
     "data": {
      "text/plain": [
       "1.0    10341\n",
       "0.0    10260\n",
       "Name: Parasitized, dtype: int64"
      ]
     },
     "execution_count": 7,
     "metadata": {},
     "output_type": "execute_result"
    }
   ],
   "source": [
    "train_df = pd.read_csv(train)\n",
    "val_df = pd.read_csv(val)\n",
    "test_df = pd.read_csv(test)\n",
    "\n",
    "\n",
    "train_df.Parasitized.value_counts()"
   ]
  }
 ],
 "metadata": {
  "kernelspec": {
   "display_name": "Python 3.8.13 ('tf2.9')",
   "language": "python",
   "name": "python3"
  },
  "language_info": {
   "codemirror_mode": {
    "name": "ipython",
    "version": 3
   },
   "file_extension": ".py",
   "mimetype": "text/x-python",
   "name": "python",
   "nbconvert_exporter": "python",
   "pygments_lexer": "ipython3",
   "version": "3.8.13"
  },
  "orig_nbformat": 4,
  "vscode": {
   "interpreter": {
    "hash": "f3f9b9e2c84dd319003698fc684ead22f769b71014b59713d46cc8251cf0f9de"
   }
  }
 },
 "nbformat": 4,
 "nbformat_minor": 2
}
