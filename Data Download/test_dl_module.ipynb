{
 "cells": [
  {
   "cell_type": "code",
   "execution_count": 4,
   "metadata": {},
   "outputs": [],
   "source": [
    "import sys, os, pandas as pd\n",
    "sys.path.append(os.path.dirname(os.path.join((os.path.pardir), \"Modules\")))\n",
    "from Modules.data_download import Data_Download\n",
    "from Modules.labelling import Labelling\n",
    "\n",
    "\n",
    "dd = Data_Download(os.path.join(os.path.pardir, \"Data\"))"
   ]
  },
  {
   "cell_type": "code",
   "execution_count": 5,
   "metadata": {},
   "outputs": [],
   "source": [
    "height, width = 25, 25"
   ]
  },
  {
   "cell_type": "code",
   "execution_count": 6,
   "metadata": {},
   "outputs": [],
   "source": [
    "# dd.resize_image(os.path.join(os.pardir, \"Datasets\"), height, width, remove_misclassified= False)"
   ]
  },
  {
   "cell_type": "code",
   "execution_count": 7,
   "metadata": {},
   "outputs": [
    {
     "data": {
      "text/plain": [
       "('..\\\\Datasets\\\\Resized_data_25_25\\\\train.csv',\n",
       " '..\\\\Datasets\\\\Resized_data_25_25\\\\val.csv',\n",
       " '..\\\\Datasets\\\\Resized_data_25_25\\\\test.csv')"
      ]
     },
     "execution_count": 7,
     "metadata": {},
     "output_type": "execute_result"
    }
   ],
   "source": [
    "from matplotlib import ExecutableNotFoundError\n",
    "\n",
    "\n",
    "lab = Labelling()\n",
    "\n",
    "lab.label(os.path.join(os.pardir, \"Datasets\", \"Resized_data_{}_{}\".format(height, width)), exclude_mislabeled= False)\n",
    "\n",
    "train, val, test = lab.train_test_val_split(os.path.join(os.pardir, \"Datasets\", \"Resized_data_{}_{}\".format(height, width)),\n",
    "                        labels = 'labels.csv')\n",
    "\n",
    "train, val, test"
   ]
  },
  {
   "cell_type": "code",
   "execution_count": 8,
   "metadata": {},
   "outputs": [
    {
     "data": {
      "text/plain": [
       "0.0    10851\n",
       "1.0    10850\n",
       "Name: Parasitized, dtype: int64"
      ]
     },
     "execution_count": 8,
     "metadata": {},
     "output_type": "execute_result"
    }
   ],
   "source": [
    "train_df = pd.read_csv(train)\n",
    "val_df = pd.read_csv(val)\n",
    "test_df = pd.read_csv(test)\n",
    "\n",
    "\n",
    "train_df.Parasitized.value_counts()"
   ]
  }
 ],
 "metadata": {
  "kernelspec": {
   "display_name": "Python 3.10.8 64-bit (microsoft store)",
   "language": "python",
   "name": "python3"
  },
  "language_info": {
   "codemirror_mode": {
    "name": "ipython",
    "version": 3
   },
   "file_extension": ".py",
   "mimetype": "text/x-python",
   "name": "python",
   "nbconvert_exporter": "python",
   "pygments_lexer": "ipython3",
   "version": "3.10.8"
  },
  "orig_nbformat": 4,
  "vscode": {
   "interpreter": {
    "hash": "4bac288aa39488c199db7c1d2d3a4aa1846c8b7d5157a5261bbf38d0b7c4ca41"
   }
  }
 },
 "nbformat": 4,
 "nbformat_minor": 2
}
