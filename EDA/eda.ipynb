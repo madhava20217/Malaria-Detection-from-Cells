{
  "cells": [
    {
      "cell_type": "code",
      "execution_count": 3,
      "metadata": {
        "id": "9-bJjSKt9UxL"
      },
      "outputs": [],
      "source": [
        "import sys, os\n",
        "sys.path.append(os.path.dirname(os.path.join((os.path.pardir), \"Modules\")))\n",
        "\n",
        "origin_dir = os.path.join(os.path.pardir, 'Data')\n",
        "\n",
        "\n",
        "new_dir_path = os.path.join(os.path.pardir, 'Datasets')\n",
        "\n",
        "true_parasitized_path = os.path.relpath(\"corrected_images/True_parasitized.csv\")\n",
        "false_parasitized_path = os.path.relpath(\"corrected_images/False_parasitized.csv\")\n",
        "true_uninfected_path = os.path.relpath(\"corrected_images/True_uninfected.csv\")\n",
        "false_uninfected_path = os.path.relpath(\"corrected_images/False_uninfected.csv\")"
      ]
    },
    {
      "cell_type": "code",
      "execution_count": 4,
      "metadata": {
        "id": "qRGB9n-b9UxN"
      },
      "outputs": [],
      "source": [
        "import pandas as pd\n",
        "import matplotlib.pyplot as plt\n",
        "import seaborn as sns\n",
        "import cv2\n",
        "import os\n",
        "import numpy as np\n",
        "\n",
        "from sklearn.manifold import TSNE\n",
        "from sklearn.preprocessing import StandardScaler as scaler"
      ]
    },
    {
      "cell_type": "markdown",
      "metadata": {
        "id": "WsrSikWn9UxO"
      },
      "source": [
        "### **RUN THE BELOW CELL IF USING COLAB** (overrides paths and installs packages)\n",
        "\n",
        "For the git clone segment, please add the Personal Access Token instead of the {pat} segment "
      ]
    },
    {
      "cell_type": "code",
      "execution_count": 5,
      "metadata": {
        "colab": {
          "base_uri": "https://localhost:8080/"
        },
        "id": "obC4gO3W9UxP",
        "outputId": "18a0e89a-4698-4b21-e30c-1a87200680cf"
      },
      "outputs": [
        {
          "name": "stdout",
          "output_type": "stream",
          "text": [
            "Drive already mounted at /content/gdrive; to attempt to forcibly remount, call drive.mount(\"/content/gdrive\", force_remount=True).\n",
            "fatal: destination path 'Malaria-Detection-from-Cells' already exists and is not an empty directory.\n"
          ]
        }
      ],
      "source": [
        "# # RUN THIS CELL IF COLAB\n",
        "\n",
        "# from google.colab import drive\n",
        "\n",
        "# drive.mount('/content/gdrive')\n",
        "# !git clone \"https://{pat}@github.com/madhava20217/Malaria-Detection-from-Cells.git\"\n",
        "\n",
        "# !pip install -q -r \"/content/Malaria-Detection-from-Cells/requirements_versionless.txt\" \n",
        "\n",
        "# sys.path.append(os.path.dirname('/content/Malaria-Detection-from-Cells/Modules'))\n",
        "\n",
        "# origin_dir = \"/content/Data\"\n",
        "# new_dir_path = \"/content/Datasets/\"\n",
        "\n",
        "# true_parasitized_path  = '/content/Malaria-Detection-from-Cells/EDA/corrected_images/True_parasitized.csv'\n",
        "# false_parasitized_path = '/content/Malaria-Detection-from-Cells/EDA/corrected_images/False_parasitized.csv'\n",
        "# true_uninfected_path   = '/content/Malaria-Detection-from-Cells/EDA/corrected_images/True_uninfected.csv'\n",
        "# false_uninfected_path  = '/content/Malaria-Detection-from-Cells/EDA/corrected_images/False_uninfected.csv'\n"
      ]
    },
    {
      "cell_type": "markdown",
      "metadata": {
        "id": "VvAuSNlV9UxP"
      },
      "source": [
        "### Run this cell if you want to download data and label the datapoints"
      ]
    },
    {
      "cell_type": "code",
      "execution_count": 6,
      "metadata": {
        "id": "rwkd9QEv9UxP"
      },
      "outputs": [],
      "source": [
        "# from Modules.data_download import Data_Download\n",
        "# from Modules.labelling import Labelling\n",
        "\n",
        "# download = Data_Download(origin_dir)"
      ]
    },
    {
      "cell_type": "code",
      "execution_count": 7,
      "metadata": {
        "id": "URPo4yti9UxQ"
      },
      "outputs": [],
      "source": [
        "parasitized_dir = os.path.join(origin_dir, 'cell-images-for-detecting-malaria', 'cell_images', \"Parasitized\")\n",
        "uninfected_dir  = os.path.join(origin_dir, 'cell-images-for-detecting-malaria', 'cell_images', 'Uninfected')\n",
        "\n",
        "true_parasitized = pd.read_csv(true_parasitized_path, index_col = 0, names = ['ImagePath'], header = 0)\n",
        "false_parasitized = pd.read_csv(false_parasitized_path, index_col = 0, names = ['ImagePath'], header = 0)\n",
        "\n",
        "true_uninfected = pd.read_csv(true_uninfected_path, index_col = 0, names = ['ImagePath'], header = 0)\n",
        "false_uninfected = pd.read_csv(false_uninfected_path, index_col = 0, names = ['ImagePath'], header = 0)"
      ]
    },
    {
      "cell_type": "markdown",
      "metadata": {
        "id": "_pD6Qbt89UxQ"
      },
      "source": [
        "## Data Import"
      ]
    },
    {
      "cell_type": "markdown",
      "metadata": {
        "id": "2PgY2v-H9UxR"
      },
      "source": [
        "## Modifying File Paths in DataFrames to point to images"
      ]
    },
    {
      "cell_type": "code",
      "execution_count": 8,
      "metadata": {
        "id": "z1gkmRGW9UxR"
      },
      "outputs": [],
      "source": [
        "for dataset in [true_parasitized, false_parasitized]:\n",
        "    dataset['ImagePath'] = dataset['ImagePath'].apply(lambda row: os.path.join(parasitized_dir, row))\n",
        "\n",
        "for dataset in [true_uninfected, false_uninfected]:\n",
        "    dataset['ImagePath'] = dataset['ImagePath'].apply(lambda row: os.path.join(uninfected_dir, row))"
      ]
    },
    {
      "cell_type": "markdown",
      "metadata": {
        "id": "fFLBaapY9UxR"
      },
      "source": [
        "## Visualising Images"
      ]
    },
    {
      "cell_type": "code",
      "execution_count": 9,
      "metadata": {
        "id": "PE9StsRY9UxS"
      },
      "outputs": [],
      "source": [
        "parasitized_dir = os.path.join(origin_dir, 'cell-images-for-detecting-malaria', 'cell_images', \"Parasitized\")\n",
        "uninfected_dir  = os.path.join(origin_dir, 'cell-images-for-detecting-malaria', 'cell_images', 'Uninfected')\n",
        "\n",
        "for dataset in [true_parasitized, false_parasitized]:\n",
        "    dataset['ImagePath'] = dataset['ImagePath'].apply(lambda row: os.path.join(parasitized_dir, row))\n",
        "\n",
        "for dataset in [true_uninfected, false_uninfected]:\n",
        "    dataset['ImagePath'] = dataset['ImagePath'].apply(lambda row: os.path.join(uninfected_dir, row))"
      ]
    },
    {
      "cell_type": "markdown",
      "metadata": {
        "id": "h1TgZQ_69UxS"
      },
      "source": [
        "### Labelling"
      ]
    },
    {
      "cell_type": "code",
      "execution_count": 10,
      "metadata": {
        "id": "ug9GsRC09UxS"
      },
      "outputs": [],
      "source": [
        "true_parasitized['status'] = 'true_parasitized'\n",
        "false_parasitized['status'] = 'false_parasitized'\n",
        "\n",
        "true_uninfected['status'] = 'true_uninfected'\n",
        "false_uninfected['status'] = 'false_uninfected'\n",
        "\n",
        "#joining the dataframes\n",
        "images = pd.concat([true_parasitized, false_parasitized, true_uninfected, false_uninfected])\n",
        "images.reset_index(drop = True, inplace = True)"
      ]
    },
    {
      "cell_type": "markdown",
      "metadata": {
        "id": "Q9Nbt8e69UxS"
      },
      "source": [
        "### Function to read a single image given the path"
      ]
    },
    {
      "cell_type": "code",
      "execution_count": 11,
      "metadata": {
        "id": "df4scjb99UxS"
      },
      "outputs": [],
      "source": [
        "def read_image(path, resize = False, width = 50, height = 50, IMAGE_MODE = 1):\n",
        "    '''Reads and loads images into a numpy array\n",
        "    Returns: a numpy array\n",
        "    \n",
        "    Arguments:\n",
        "    \n",
        "    1. path_arr: array containing paths to the images\n",
        "    2. resize: whether to resize the image\n",
        "    3. width : width of the resized image\n",
        "    4. height: height of the resized image\n",
        "    5 . IMAGE_MODE: the state of the images - 1 for Colour, 0 for GrayScale, as per opencv2 documentation'''\n",
        "\n",
        "    image = cv2.imread(path, IMAGE_MODE)\n",
        "    if resize:\n",
        "        image = cv2.resize(image, (width, height))\n",
        "    \n",
        "    return image"
      ]
    },
    {
      "cell_type": "markdown",
      "metadata": {
        "id": "648hT0kK9UxS"
      },
      "source": [
        "### Visualising Color: TODO\n",
        "\n",
        "What to do here?\n",
        "\n",
        "- Plot images of the various classes (true_uninfected, true_parasitized, false_uninfected, false_parasitized) \n",
        "- Randomly choose 8 images with no replacement from each class. Use the following dataframes:\n",
        "  - true_parasitized\n",
        "  - false_parasitized\n",
        "  - true_uninfected\n",
        "  - false_uninfected"
      ]
    },
    {
      "cell_type": "code",
      "execution_count": 12,
      "metadata": {
        "colab": {
          "base_uri": "https://localhost:8080/",
          "height": 471
        },
        "id": "8zichen39UxT",
        "outputId": "1a4725da-6ecd-4cab-d9fa-fc1c6e828a5b"
      },
      "outputs": [
        {
          "data": {
            "image/png": "[encoded data removed]",
            "text/plain": [
              "<Figure size 1152x576 with 32 Axes>"
            ]
          },
          "metadata": {
            "needs_background": "light"
          },
          "output_type": "display_data"
        }
      ],
      "source": [
        "#TODO:  EDA\n",
        "\n",
        "figs, axes = plt.subplots(4, 8, figsize = (16, 8))"
      ]
    },
    {
      "cell_type": "markdown",
      "metadata": {
        "id": "GJDPqJWa9UxT"
      },
      "source": [
        "### Red Dimension: TODO\n",
        "\n",
        "The same as above, but visualise the R dimension of each image"
      ]
    },
    {
      "cell_type": "code",
      "execution_count": 12,
      "metadata": {
        "id": "DPiEmKkV9UxT"
      },
      "outputs": [],
      "source": []
    },
    {
      "cell_type": "markdown",
      "metadata": {
        "id": "0pY8AnJW9UxT"
      },
      "source": [
        "### Blue Dimension: TODO\n",
        "\n",
        "The same as above, but visualise the B dimension of each image"
      ]
    },
    {
      "cell_type": "code",
      "execution_count": 12,
      "metadata": {
        "id": "1S8SnZLv9UxT"
      },
      "outputs": [],
      "source": []
    },
    {
      "cell_type": "markdown",
      "metadata": {
        "id": "7gN6HKSY9UxU"
      },
      "source": [
        "### Green Dimension: TODO\n",
        "\n",
        "The same as above, but visualise the G dimension of each image"
      ]
    },
    {
      "cell_type": "code",
      "execution_count": 12,
      "metadata": {
        "id": "JFJ5rBhT9UxU"
      },
      "outputs": [],
      "source": []
    },
    {
      "cell_type": "markdown",
      "metadata": {
        "id": "T3RNFG829UxU"
      },
      "source": [
        "### Grayscale: TODO\n",
        "\n",
        "The same as above, but visualise each image as grayscale"
      ]
    },
    {
      "cell_type": "code",
      "execution_count": 12,
      "metadata": {
        "id": "Z1m7hs6d9UxU"
      },
      "outputs": [],
      "source": []
    },
    {
      "cell_type": "markdown",
      "metadata": {
        "id": "V3PMK0BN9UxU"
      },
      "source": [
        "## Clustering and Visualisation using TSNE"
      ]
    },
    {
      "cell_type": "markdown",
      "metadata": {
        "id": "t8ppl1c99UxU"
      },
      "source": [
        "### Function for loading images as a numpy array"
      ]
    },
    {
      "cell_type": "code",
      "execution_count": 15,
      "metadata": {
        "id": "u4gUMbmm9UxU"
      },
      "outputs": [],
      "source": [
        "def load_images(path_arr, resize = True, width = 50, height = 50, IMAGE_MODE = 1):\n",
        "    '''Reads and loads images into a numpy array\n",
        "    Returns: a numpy array\n",
        "    \n",
        "    Arguments:\n",
        "    \n",
        "    1. path_arr: array containing paths to the images\n",
        "    2. resize: whether to resize the image\n",
        "    3. width : width of the resized image\n",
        "    4. height: height of the resized image\n",
        "    5 . IMAGE_MODE: the state of the images - 1 for Colour, 0 for GrayScale, as per opencv2 documentation'''\n",
        "    \n",
        "    arr = []\n",
        "    for path in path_arr:\n",
        "        resized = cv2.imread(path, IMAGE_MODE)\n",
        "        if resize:\n",
        "            resized = cv2.resize(resized, (width, height))\n",
        "        arr.append(resized)\n",
        "    return np.array(arr)"
      ]
    },
    {
      "cell_type": "markdown",
      "metadata": {
        "id": "u2vrYIJZ9UxU"
      },
      "source": [
        "### Data Loading\n",
        "\n",
        "Here, we resize the images so that the distances can be measured without issues."
      ]
    },
    {
      "cell_type": "code",
      "execution_count": null,
      "metadata": {
        "colab": {
          "base_uri": "https://localhost:8080/"
        },
        "id": "iKBzJ5eX9UxU",
        "outputId": "fec24da0-159d-4b18-f8d0-99a3c1cfe3a3"
      },
      "outputs": [
        {
          "name": "stderr",
          "output_type": "stream",
          "text": [
            "/usr/local/lib/python3.7/dist-packages/ipykernel_launcher.py:19: VisibleDeprecationWarning: Creating an ndarray from ragged nested sequences (which is a list-or-tuple of lists-or-tuples-or ndarrays with different lengths or shapes) is deprecated. If you meant to do this, you must specify 'dtype=object' when creating the ndarray.\n"
          ]
        }
      ],
      "source": [
        "#resizing using \n",
        "h = 50\n",
        "w = 50\n",
        "\n",
        "image_array = load_images(images.ImagePath.to_numpy(), resize = False, height = 50, width = 50)/255.0\n",
        "\n",
        "dims = image_array.shape[1:]\n",
        "shape = 1\n",
        "for x in dims:\n",
        "    shape*=x\n",
        "\n",
        "image_array = image_array.reshape((image_array.shape[0], shape))\n",
        "print(image_array.shape)"
      ]
    },
    {
      "cell_type": "markdown",
      "metadata": {
        "id": "udC0OwsS9UxV"
      },
      "source": [
        "### Reducing dimensions and visualising using TSNE"
      ]
    },
    {
      "cell_type": "code",
      "execution_count": 1,
      "metadata": {
        "colab": {
          "base_uri": "https://localhost:8080/",
          "height": 235
        },
        "id": "0q-tIUPH9UxV",
        "outputId": "8cb87519-97f9-4a50-f41f-f4864102d93c"
      },
      "outputs": [
        {
          "ename": "NameError",
          "evalue": "ignored",
          "output_type": "error",
          "traceback": [
            "\u001b[0;31m---------------------------------------------------------------------------\u001b[0m",
            "\u001b[0;31mNameError\u001b[0m                                 Traceback (most recent call last)",
            "\u001b[0;32m<ipython-input-1-3eeb7eb66dd0>\u001b[0m in \u001b[0;36m<module>\u001b[0;34m\u001b[0m\n\u001b[1;32m     12\u001b[0m )\n\u001b[1;32m     13\u001b[0m \u001b[0;34m\u001b[0m\u001b[0m\n\u001b[0;32m---> 14\u001b[0;31m \u001b[0mcoords\u001b[0m \u001b[0;34m=\u001b[0m \u001b[0mtsne\u001b[0m\u001b[0;34m.\u001b[0m\u001b[0mfit_transform\u001b[0m\u001b[0;34m(\u001b[0m\u001b[0mimage_array\u001b[0m\u001b[0;34m)\u001b[0m\u001b[0;34m\u001b[0m\u001b[0;34m\u001b[0m\u001b[0m\n\u001b[0m\u001b[1;32m     15\u001b[0m \u001b[0;34m\u001b[0m\u001b[0m\n\u001b[1;32m     16\u001b[0m \u001b[0mfit_df\u001b[0m \u001b[0;34m=\u001b[0m \u001b[0mpd\u001b[0m\u001b[0;34m.\u001b[0m\u001b[0mDataFrame\u001b[0m\u001b[0;34m(\u001b[0m\u001b[0mcoords\u001b[0m\u001b[0;34m)\u001b[0m\u001b[0;34m\u001b[0m\u001b[0;34m\u001b[0m\u001b[0m\n",
            "\u001b[0;31mNameError\u001b[0m: name 'image_array' is not defined"
          ]
        }
      ],
      "source": [
        "from sklearn.manifold import TSNE\n",
        "\n",
        "#TODO with GPU\n",
        "\n",
        "tsne = TSNE(\n",
        "    n_components = 2,\n",
        "    perplexity = 100,\n",
        "    n_iter = 1000,\n",
        "    metric = 'euclidean',\n",
        "    n_jobs = -1,\n",
        "    verbose = 2,\n",
        ")\n",
        "\n",
        "coords = tsne.fit_transform(image_array)\n",
        "\n",
        "fit_df = pd.DataFrame(coords)\n",
        "fit_df.columns = ['x', 'y']\n",
        "fit_df['label'] = images['status']"
      ]
    },
    {
      "cell_type": "code",
      "execution_count": null,
      "metadata": {
        "id": "jX746OL19UxV"
      },
      "outputs": [],
      "source": [
        "plt.figure(figsize = (16, 16))\n",
        "\n",
        "\n",
        "for val in ['true_parasitized', 'true_uninfected']:\n",
        "    plt.scatter(fit_df[fit_df.label == val].x, \n",
        "                fit_df[fit_df.label == val].y,\n",
        "                s = 5,\n",
        "                alpha = 0.2,\n",
        "                label = val)\n",
        "\n",
        "for val in ['false_parasitized', 'false_uninfected']:\n",
        "    plt.scatter(fit_df[fit_df.label == val].x, \n",
        "                fit_df[fit_df.label == val].y,\n",
        "                s = 30,\n",
        "                alpha = 1,\n",
        "                label = val)\n",
        "\n",
        "plt.legend(loc = 'upper left')"
      ]
    },
    {
      "cell_type": "markdown",
      "metadata": {
        "id": "NYnpV49r9UxV"
      },
      "source": [
        "### Clustering : TODO"
      ]
    },
    {
      "cell_type": "markdown",
      "metadata": {
        "id": "WXkSOlrf9UxV"
      },
      "source": [
        "### TODO: EDA again with the reduced dataset :("
      ]
    }
  ],
  "metadata": {
    "colab": {
      "provenance": []
    },
    "kernelspec": {
      "display_name": "Python 3.8.13 ('tf2.9')",
      "language": "python",
      "name": "python3"
    },
    "language_info": {
      "codemirror_mode": {
        "name": "ipython",
        "version": 3
      },
      "file_extension": ".py",
      "mimetype": "text/x-python",
      "name": "python",
      "nbconvert_exporter": "python",
      "pygments_lexer": "ipython3",
      "version": "3.8.13"
    },
    "orig_nbformat": 4,
    "vscode": {
      "interpreter": {
        "hash": "f3f9b9e2c84dd319003698fc684ead22f769b71014b59713d46cc8251cf0f9de"
      }
    }
  },
  "nbformat": 4,
  "nbformat_minor": 0
}
