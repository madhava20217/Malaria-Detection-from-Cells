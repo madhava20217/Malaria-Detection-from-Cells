{
 "cells": [
  {
   "cell_type": "markdown",
   "metadata": {},
   "source": [
    "# Labeling the dataset\n",
    "\n",
    "This notebook requires the following libraries:\n",
    "\n",
    "- Numpy\n",
    "- Pandas\n",
    "- glob\n",
    "- os\n",
    "\n",
    "The output of this notebook reads data in the $data\\_dir$ and creates a CSV containing labels, saving that as per the $output$ path."
   ]
  },
  {
   "cell_type": "code",
   "execution_count": 7,
   "metadata": {},
   "outputs": [],
   "source": [
    "import os\n",
    "\n",
    "\n",
    "# This is the main data directory\n",
    "height = 25\n",
    "width = 25\n",
    "\n",
    "data_dir = os.path.join(os.path.pardir, \"Datasets\", 'Resized_data_{}_{}'.format(height, width))\n",
    "\n",
    "# This is for the output CSV file: it will reside under the name \"output_filename\" in output_dir\n",
    "output_dir = data_dir\n",
    "output_filename = 'labels.csv'"
   ]
  },
  {
   "cell_type": "markdown",
   "metadata": {},
   "source": [
    "## Imports"
   ]
  },
  {
   "cell_type": "code",
   "execution_count": 8,
   "metadata": {},
   "outputs": [],
   "source": [
    "import numpy as np\n",
    "import glob\n",
    "\n",
    "\n",
    "import pandas as pd"
   ]
  },
  {
   "cell_type": "markdown",
   "metadata": {},
   "source": [
    "## Loading the data and normalising dimensions"
   ]
  },
  {
   "cell_type": "markdown",
   "metadata": {},
   "source": [
    "### Directories"
   ]
  },
  {
   "cell_type": "markdown",
   "metadata": {},
   "source": [
    "### Exception handling"
   ]
  },
  {
   "cell_type": "code",
   "execution_count": 9,
   "metadata": {},
   "outputs": [],
   "source": [
    "if not os.path.isdir(data_dir):\n",
    "    raise Exception(\"Data Directory not found! Please run the data_download.ipynb notebook before proceeding.\")"
   ]
  },
  {
   "cell_type": "code",
   "execution_count": 10,
   "metadata": {},
   "outputs": [],
   "source": [
    "if not os.path.isdir(output_dir):\n",
    "    os.makedirs(output_dir)"
   ]
  },
  {
   "cell_type": "markdown",
   "metadata": {},
   "source": [
    "### Data loading"
   ]
  },
  {
   "cell_type": "code",
   "execution_count": 11,
   "metadata": {},
   "outputs": [],
   "source": [
    "file_list_parasitized = glob.glob(os.path.join(data_dir, 'Parasitized', '*.png'))\n",
    "file_list_uninfected  = glob.glob(os.path.join(data_dir, 'Uninfected', '*.png'))"
   ]
  },
  {
   "cell_type": "code",
   "execution_count": 12,
   "metadata": {},
   "outputs": [],
   "source": [
    "# os.path.join(os.path.dirname(__file__),'corrected_images','False_uninfected.csv')"
   ]
  },
  {
   "cell_type": "code",
   "execution_count": 13,
   "metadata": {},
   "outputs": [
    {
     "data": {
      "text/plain": [
       "(13132, 13029)"
      ]
     },
     "execution_count": 13,
     "metadata": {},
     "output_type": "execute_result"
    }
   ],
   "source": [
    "n_parasitized = len(file_list_parasitized)\n",
    "n_uninfected  = len(file_list_uninfected)\n",
    "\n",
    "n_parasitized, n_uninfected"
   ]
  },
  {
   "cell_type": "code",
   "execution_count": 14,
   "metadata": {},
   "outputs": [],
   "source": [
    "file_list_parasitized = np.array(file_list_parasitized)\n",
    "file_list_uninfected  = np.array(file_list_uninfected)\n",
    "\n",
    "file_list_parasitized = np.reshape(file_list_parasitized, newshape = (n_parasitized, 1))\n",
    "file_list_uninfected  = np.reshape(file_list_uninfected , newshape = (n_uninfected , 1))"
   ]
  },
  {
   "cell_type": "code",
   "execution_count": 15,
   "metadata": {},
   "outputs": [],
   "source": [
    "file_list_parasitized = np.append(file_list_parasitized, np.ones(file_list_parasitized.shape), axis = 1)\n",
    "file_list_uninfected  = np.append(file_list_uninfected , np.zeros(file_list_uninfected.shape), axis = 1)"
   ]
  },
  {
   "cell_type": "code",
   "execution_count": 16,
   "metadata": {},
   "outputs": [
    {
     "data": {
      "text/plain": [
       "((13132, 2), (13132, 2))"
      ]
     },
     "execution_count": 16,
     "metadata": {},
     "output_type": "execute_result"
    }
   ],
   "source": [
    "file_list_parasitized.shape, file_list_parasitized.shape"
   ]
  },
  {
   "cell_type": "code",
   "execution_count": 17,
   "metadata": {},
   "outputs": [
    {
     "data": {
      "text/plain": [
       "(26161, 2)"
      ]
     },
     "execution_count": 17,
     "metadata": {},
     "output_type": "execute_result"
    }
   ],
   "source": [
    "file_list = np.append(file_list_uninfected, file_list_parasitized, axis = 0)\n",
    "\n",
    "file_list.shape"
   ]
  },
  {
   "cell_type": "markdown",
   "metadata": {},
   "source": [
    "### Removing mislabeled examples"
   ]
  },
  {
   "cell_type": "code",
   "execution_count": 28,
   "metadata": {},
   "outputs": [],
   "source": [
    "thoo = pd.read_csv('corrected_images/False_parasitized.csv', index_col= 0)\n",
    "\n",
    "thoo['False_parasitized'] = thoo['False_parasitized'].apply(lambda row: os.path.join(data_dir, 'Parasitized', row))"
   ]
  },
  {
   "cell_type": "code",
   "execution_count": 29,
   "metadata": {},
   "outputs": [
    {
     "data": {
      "text/html": [
       "<div>\n",
       "<style scoped>\n",
       "    .dataframe tbody tr th:only-of-type {\n",
       "        vertical-align: middle;\n",
       "    }\n",
       "\n",
       "    .dataframe tbody tr th {\n",
       "        vertical-align: top;\n",
       "    }\n",
       "\n",
       "    .dataframe thead th {\n",
       "        text-align: right;\n",
       "    }\n",
       "</style>\n",
       "<table border=\"1\" class=\"dataframe\">\n",
       "  <thead>\n",
       "    <tr style=\"text-align: right;\">\n",
       "      <th></th>\n",
       "      <th>False_parasitized</th>\n",
       "    </tr>\n",
       "  </thead>\n",
       "  <tbody>\n",
       "    <tr>\n",
       "      <th>0</th>\n",
       "      <td>..\\Datasets\\Resized_data_25_25\\Parasitized\\C11...</td>\n",
       "    </tr>\n",
       "    <tr>\n",
       "      <th>1</th>\n",
       "      <td>..\\Datasets\\Resized_data_25_25\\Parasitized\\C59...</td>\n",
       "    </tr>\n",
       "    <tr>\n",
       "      <th>2</th>\n",
       "      <td>..\\Datasets\\Resized_data_25_25\\Parasitized\\C12...</td>\n",
       "    </tr>\n",
       "    <tr>\n",
       "      <th>3</th>\n",
       "      <td>..\\Datasets\\Resized_data_25_25\\Parasitized\\C12...</td>\n",
       "    </tr>\n",
       "    <tr>\n",
       "      <th>4</th>\n",
       "      <td>..\\Datasets\\Resized_data_25_25\\Parasitized\\C67...</td>\n",
       "    </tr>\n",
       "    <tr>\n",
       "      <th>...</th>\n",
       "      <td>...</td>\n",
       "    </tr>\n",
       "    <tr>\n",
       "      <th>642</th>\n",
       "      <td>..\\Datasets\\Resized_data_25_25\\Parasitized\\C18...</td>\n",
       "    </tr>\n",
       "    <tr>\n",
       "      <th>643</th>\n",
       "      <td>..\\Datasets\\Resized_data_25_25\\Parasitized\\C39...</td>\n",
       "    </tr>\n",
       "    <tr>\n",
       "      <th>644</th>\n",
       "      <td>..\\Datasets\\Resized_data_25_25\\Parasitized\\C13...</td>\n",
       "    </tr>\n",
       "    <tr>\n",
       "      <th>645</th>\n",
       "      <td>..\\Datasets\\Resized_data_25_25\\Parasitized\\C99...</td>\n",
       "    </tr>\n",
       "    <tr>\n",
       "      <th>646</th>\n",
       "      <td>..\\Datasets\\Resized_data_25_25\\Parasitized\\C50...</td>\n",
       "    </tr>\n",
       "  </tbody>\n",
       "</table>\n",
       "<p>647 rows × 1 columns</p>\n",
       "</div>"
      ],
      "text/plain": [
       "                                     False_parasitized\n",
       "0    ..\\Datasets\\Resized_data_25_25\\Parasitized\\C11...\n",
       "1    ..\\Datasets\\Resized_data_25_25\\Parasitized\\C59...\n",
       "2    ..\\Datasets\\Resized_data_25_25\\Parasitized\\C12...\n",
       "3    ..\\Datasets\\Resized_data_25_25\\Parasitized\\C12...\n",
       "4    ..\\Datasets\\Resized_data_25_25\\Parasitized\\C67...\n",
       "..                                                 ...\n",
       "642  ..\\Datasets\\Resized_data_25_25\\Parasitized\\C18...\n",
       "643  ..\\Datasets\\Resized_data_25_25\\Parasitized\\C39...\n",
       "644  ..\\Datasets\\Resized_data_25_25\\Parasitized\\C13...\n",
       "645  ..\\Datasets\\Resized_data_25_25\\Parasitized\\C99...\n",
       "646  ..\\Datasets\\Resized_data_25_25\\Parasitized\\C50...\n",
       "\n",
       "[647 rows x 1 columns]"
      ]
     },
     "execution_count": 29,
     "metadata": {},
     "output_type": "execute_result"
    }
   ],
   "source": [
    "thoo"
   ]
  },
  {
   "cell_type": "markdown",
   "metadata": {},
   "source": [
    "We see that there are 13779 images in both directories, indicating balanced data."
   ]
  },
  {
   "cell_type": "markdown",
   "metadata": {},
   "source": [
    "## Creating a labeled dataframe"
   ]
  },
  {
   "cell_type": "code",
   "execution_count": 18,
   "metadata": {},
   "outputs": [
    {
     "data": {
      "text/html": [
       "<div>\n",
       "<style scoped>\n",
       "    .dataframe tbody tr th:only-of-type {\n",
       "        vertical-align: middle;\n",
       "    }\n",
       "\n",
       "    .dataframe tbody tr th {\n",
       "        vertical-align: top;\n",
       "    }\n",
       "\n",
       "    .dataframe thead th {\n",
       "        text-align: right;\n",
       "    }\n",
       "</style>\n",
       "<table border=\"1\" class=\"dataframe\">\n",
       "  <thead>\n",
       "    <tr style=\"text-align: right;\">\n",
       "      <th></th>\n",
       "      <th>Image_Path</th>\n",
       "      <th>Parasitized</th>\n",
       "    </tr>\n",
       "  </thead>\n",
       "  <tbody>\n",
       "    <tr>\n",
       "      <th>0</th>\n",
       "      <td>..\\Datasets\\Resized_data_25_25\\Uninfected\\25x2...</td>\n",
       "      <td>0.0</td>\n",
       "    </tr>\n",
       "    <tr>\n",
       "      <th>1</th>\n",
       "      <td>..\\Datasets\\Resized_data_25_25\\Uninfected\\25x2...</td>\n",
       "      <td>0.0</td>\n",
       "    </tr>\n",
       "    <tr>\n",
       "      <th>2</th>\n",
       "      <td>..\\Datasets\\Resized_data_25_25\\Uninfected\\25x2...</td>\n",
       "      <td>0.0</td>\n",
       "    </tr>\n",
       "    <tr>\n",
       "      <th>3</th>\n",
       "      <td>..\\Datasets\\Resized_data_25_25\\Uninfected\\25x2...</td>\n",
       "      <td>0.0</td>\n",
       "    </tr>\n",
       "    <tr>\n",
       "      <th>4</th>\n",
       "      <td>..\\Datasets\\Resized_data_25_25\\Uninfected\\25x2...</td>\n",
       "      <td>0.0</td>\n",
       "    </tr>\n",
       "    <tr>\n",
       "      <th>...</th>\n",
       "      <td>...</td>\n",
       "      <td>...</td>\n",
       "    </tr>\n",
       "    <tr>\n",
       "      <th>26156</th>\n",
       "      <td>..\\Datasets\\Resized_data_25_25\\Parasitized\\25x...</td>\n",
       "      <td>1.0</td>\n",
       "    </tr>\n",
       "    <tr>\n",
       "      <th>26157</th>\n",
       "      <td>..\\Datasets\\Resized_data_25_25\\Parasitized\\25x...</td>\n",
       "      <td>1.0</td>\n",
       "    </tr>\n",
       "    <tr>\n",
       "      <th>26158</th>\n",
       "      <td>..\\Datasets\\Resized_data_25_25\\Parasitized\\25x...</td>\n",
       "      <td>1.0</td>\n",
       "    </tr>\n",
       "    <tr>\n",
       "      <th>26159</th>\n",
       "      <td>..\\Datasets\\Resized_data_25_25\\Parasitized\\25x...</td>\n",
       "      <td>1.0</td>\n",
       "    </tr>\n",
       "    <tr>\n",
       "      <th>26160</th>\n",
       "      <td>..\\Datasets\\Resized_data_25_25\\Parasitized\\25x...</td>\n",
       "      <td>1.0</td>\n",
       "    </tr>\n",
       "  </tbody>\n",
       "</table>\n",
       "<p>26161 rows × 2 columns</p>\n",
       "</div>"
      ],
      "text/plain": [
       "                                              Image_Path Parasitized\n",
       "0      ..\\Datasets\\Resized_data_25_25\\Uninfected\\25x2...         0.0\n",
       "1      ..\\Datasets\\Resized_data_25_25\\Uninfected\\25x2...         0.0\n",
       "2      ..\\Datasets\\Resized_data_25_25\\Uninfected\\25x2...         0.0\n",
       "3      ..\\Datasets\\Resized_data_25_25\\Uninfected\\25x2...         0.0\n",
       "4      ..\\Datasets\\Resized_data_25_25\\Uninfected\\25x2...         0.0\n",
       "...                                                  ...         ...\n",
       "26156  ..\\Datasets\\Resized_data_25_25\\Parasitized\\25x...         1.0\n",
       "26157  ..\\Datasets\\Resized_data_25_25\\Parasitized\\25x...         1.0\n",
       "26158  ..\\Datasets\\Resized_data_25_25\\Parasitized\\25x...         1.0\n",
       "26159  ..\\Datasets\\Resized_data_25_25\\Parasitized\\25x...         1.0\n",
       "26160  ..\\Datasets\\Resized_data_25_25\\Parasitized\\25x...         1.0\n",
       "\n",
       "[26161 rows x 2 columns]"
      ]
     },
     "execution_count": 18,
     "metadata": {},
     "output_type": "execute_result"
    }
   ],
   "source": [
    "df = pd.DataFrame(file_list, columns = ['Image_Path', 'Parasitized'])\n",
    "df"
   ]
  },
  {
   "cell_type": "code",
   "execution_count": 19,
   "metadata": {},
   "outputs": [],
   "source": [
    "df.to_csv(os.path.join(output_dir, output_filename), index = False)"
   ]
  }
 ],
 "metadata": {
  "kernelspec": {
   "display_name": "Python 3.8.13 ('tf2.9')",
   "language": "python",
   "name": "python3"
  },
  "language_info": {
   "codemirror_mode": {
    "name": "ipython",
    "version": 3
   },
   "file_extension": ".py",
   "mimetype": "text/x-python",
   "name": "python",
   "nbconvert_exporter": "python",
   "pygments_lexer": "ipython3",
   "version": "3.8.13"
  },
  "orig_nbformat": 4,
  "vscode": {
   "interpreter": {
    "hash": "f3f9b9e2c84dd319003698fc684ead22f769b71014b59713d46cc8251cf0f9de"
   }
  }
 },
 "nbformat": 4,
 "nbformat_minor": 2
}
