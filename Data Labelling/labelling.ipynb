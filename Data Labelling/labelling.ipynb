{
 "cells": [
  {
   "cell_type": "markdown",
   "metadata": {},
   "source": [
    "# Labeling the dataset\n",
    "\n",
    "This notebook requires the following libraries:\n",
    "\n",
    "- Numpy\n",
    "- Pandas\n",
    "- glob\n",
    "- os\n",
    "\n",
    "The output of this notebook reads data in the $data\\_dir$ and creates a CSV containing labels, saving that as per the $output$ path."
   ]
  },
  {
   "cell_type": "code",
   "execution_count": 40,
   "metadata": {},
   "outputs": [],
   "source": [
    "import numpy as np\n",
    "import glob\n",
    "import os\n",
    "\n",
    "import pandas as pd"
   ]
  },
  {
   "cell_type": "code",
   "execution_count": 39,
   "metadata": {},
   "outputs": [],
   "source": [
    "# This is the main data directory\n",
    "data_dir = os.path.join(os.path.pardir, \"Datasets\", 'Resized_data_50_50')\n",
    "\n",
    "# This is for the output CSV file: it will reside under the name \"output_filename\" in output_dir\n",
    "output_dir = data_dir\n",
    "output_filename = 'labels.csv'"
   ]
  },
  {
   "cell_type": "markdown",
   "metadata": {},
   "source": [
    "## Imports"
   ]
  },
  {
   "cell_type": "markdown",
   "metadata": {},
   "source": [
    "## Loading the data and normalising dimensions"
   ]
  },
  {
   "cell_type": "markdown",
   "metadata": {},
   "source": [
    "### Directories"
   ]
  },
  {
   "cell_type": "markdown",
   "metadata": {},
   "source": [
    "### Exception handling"
   ]
  },
  {
   "cell_type": "code",
   "execution_count": 41,
   "metadata": {},
   "outputs": [],
   "source": [
    "if not os.path.isdir(data_dir):\n",
    "    raise Exception(\"Data Directory not found! Please run the data_download.ipynb notebook before proceeding.\")"
   ]
  },
  {
   "cell_type": "code",
   "execution_count": 42,
   "metadata": {},
   "outputs": [],
   "source": [
    "if not os.path.isdir(output_dir):\n",
    "    os.makedirs(output_dir)"
   ]
  },
  {
   "cell_type": "markdown",
   "metadata": {},
   "source": [
    "### Data loading"
   ]
  },
  {
   "cell_type": "code",
   "execution_count": 43,
   "metadata": {},
   "outputs": [],
   "source": [
    "file_list_parasitized = glob.glob(os.path.join(data_dir, 'Parasitized', '*.png'))\n",
    "file_list_uninfected  = glob.glob(os.path.join(data_dir, 'Uninfected', '*.png'))"
   ]
  },
  {
   "cell_type": "code",
   "execution_count": 44,
   "metadata": {},
   "outputs": [
    {
     "data": {
      "text/plain": [
       "(13779, 13779)"
      ]
     },
     "execution_count": 44,
     "metadata": {},
     "output_type": "execute_result"
    }
   ],
   "source": [
    "n_parasitized = len(file_list_parasitized)\n",
    "n_uninfected  = len(file_list_uninfected)\n",
    "\n",
    "n_parasitized, n_uninfected"
   ]
  },
  {
   "cell_type": "code",
   "execution_count": 45,
   "metadata": {},
   "outputs": [],
   "source": [
    "file_list_parasitized = np.array(file_list_parasitized)\n",
    "file_list_uninfected  = np.array(file_list_uninfected)\n",
    "\n",
    "file_list_parasitized = np.reshape(file_list_parasitized, newshape = (n_parasitized, 1))\n",
    "file_list_uninfected  = np.reshape(file_list_uninfected , newshape = (n_uninfected , 1))"
   ]
  },
  {
   "cell_type": "code",
   "execution_count": 46,
   "metadata": {},
   "outputs": [],
   "source": [
    "file_list_parasitized = np.append(file_list_parasitized, np.ones(file_list_parasitized.shape), axis = 1)\n",
    "file_list_uninfected  = np.append(file_list_uninfected , np.zeros(file_list_uninfected.shape), axis = 1)"
   ]
  },
  {
   "cell_type": "code",
   "execution_count": 47,
   "metadata": {},
   "outputs": [
    {
     "data": {
      "text/plain": [
       "((13779, 2), (13779, 2))"
      ]
     },
     "execution_count": 47,
     "metadata": {},
     "output_type": "execute_result"
    }
   ],
   "source": [
    "file_list_parasitized.shape, file_list_parasitized.shape"
   ]
  },
  {
   "cell_type": "code",
   "execution_count": 48,
   "metadata": {},
   "outputs": [
    {
     "data": {
      "text/plain": [
       "(27558, 2)"
      ]
     },
     "execution_count": 48,
     "metadata": {},
     "output_type": "execute_result"
    }
   ],
   "source": [
    "file_list = np.append(file_list_uninfected, file_list_parasitized, axis = 0)\n",
    "\n",
    "file_list.shape"
   ]
  },
  {
   "cell_type": "markdown",
   "metadata": {},
   "source": [
    "We see that there are 13779 images in both directories, indicating balanced data."
   ]
  },
  {
   "cell_type": "markdown",
   "metadata": {},
   "source": [
    "## Creating a labeled dataframe"
   ]
  },
  {
   "cell_type": "code",
   "execution_count": 49,
   "metadata": {},
   "outputs": [
    {
     "data": {
      "text/html": [
       "<div>\n",
       "<style scoped>\n",
       "    .dataframe tbody tr th:only-of-type {\n",
       "        vertical-align: middle;\n",
       "    }\n",
       "\n",
       "    .dataframe tbody tr th {\n",
       "        vertical-align: top;\n",
       "    }\n",
       "\n",
       "    .dataframe thead th {\n",
       "        text-align: right;\n",
       "    }\n",
       "</style>\n",
       "<table border=\"1\" class=\"dataframe\">\n",
       "  <thead>\n",
       "    <tr style=\"text-align: right;\">\n",
       "      <th></th>\n",
       "      <th>Image_Path</th>\n",
       "      <th>Parasitized</th>\n",
       "    </tr>\n",
       "  </thead>\n",
       "  <tbody>\n",
       "    <tr>\n",
       "      <th>0</th>\n",
       "      <td>..\\Datasets\\Resized_data_50_50\\Uninfected\\50x5...</td>\n",
       "      <td>0.0</td>\n",
       "    </tr>\n",
       "    <tr>\n",
       "      <th>1</th>\n",
       "      <td>..\\Datasets\\Resized_data_50_50\\Uninfected\\50x5...</td>\n",
       "      <td>0.0</td>\n",
       "    </tr>\n",
       "    <tr>\n",
       "      <th>2</th>\n",
       "      <td>..\\Datasets\\Resized_data_50_50\\Uninfected\\50x5...</td>\n",
       "      <td>0.0</td>\n",
       "    </tr>\n",
       "    <tr>\n",
       "      <th>3</th>\n",
       "      <td>..\\Datasets\\Resized_data_50_50\\Uninfected\\50x5...</td>\n",
       "      <td>0.0</td>\n",
       "    </tr>\n",
       "    <tr>\n",
       "      <th>4</th>\n",
       "      <td>..\\Datasets\\Resized_data_50_50\\Uninfected\\50x5...</td>\n",
       "      <td>0.0</td>\n",
       "    </tr>\n",
       "    <tr>\n",
       "      <th>...</th>\n",
       "      <td>...</td>\n",
       "      <td>...</td>\n",
       "    </tr>\n",
       "    <tr>\n",
       "      <th>27553</th>\n",
       "      <td>..\\Datasets\\Resized_data_50_50\\Parasitized\\50x...</td>\n",
       "      <td>1.0</td>\n",
       "    </tr>\n",
       "    <tr>\n",
       "      <th>27554</th>\n",
       "      <td>..\\Datasets\\Resized_data_50_50\\Parasitized\\50x...</td>\n",
       "      <td>1.0</td>\n",
       "    </tr>\n",
       "    <tr>\n",
       "      <th>27555</th>\n",
       "      <td>..\\Datasets\\Resized_data_50_50\\Parasitized\\50x...</td>\n",
       "      <td>1.0</td>\n",
       "    </tr>\n",
       "    <tr>\n",
       "      <th>27556</th>\n",
       "      <td>..\\Datasets\\Resized_data_50_50\\Parasitized\\50x...</td>\n",
       "      <td>1.0</td>\n",
       "    </tr>\n",
       "    <tr>\n",
       "      <th>27557</th>\n",
       "      <td>..\\Datasets\\Resized_data_50_50\\Parasitized\\50x...</td>\n",
       "      <td>1.0</td>\n",
       "    </tr>\n",
       "  </tbody>\n",
       "</table>\n",
       "<p>27558 rows × 2 columns</p>\n",
       "</div>"
      ],
      "text/plain": [
       "                                              Image_Path Parasitized\n",
       "0      ..\\Datasets\\Resized_data_50_50\\Uninfected\\50x5...         0.0\n",
       "1      ..\\Datasets\\Resized_data_50_50\\Uninfected\\50x5...         0.0\n",
       "2      ..\\Datasets\\Resized_data_50_50\\Uninfected\\50x5...         0.0\n",
       "3      ..\\Datasets\\Resized_data_50_50\\Uninfected\\50x5...         0.0\n",
       "4      ..\\Datasets\\Resized_data_50_50\\Uninfected\\50x5...         0.0\n",
       "...                                                  ...         ...\n",
       "27553  ..\\Datasets\\Resized_data_50_50\\Parasitized\\50x...         1.0\n",
       "27554  ..\\Datasets\\Resized_data_50_50\\Parasitized\\50x...         1.0\n",
       "27555  ..\\Datasets\\Resized_data_50_50\\Parasitized\\50x...         1.0\n",
       "27556  ..\\Datasets\\Resized_data_50_50\\Parasitized\\50x...         1.0\n",
       "27557  ..\\Datasets\\Resized_data_50_50\\Parasitized\\50x...         1.0\n",
       "\n",
       "[27558 rows x 2 columns]"
      ]
     },
     "execution_count": 49,
     "metadata": {},
     "output_type": "execute_result"
    }
   ],
   "source": [
    "df = pd.DataFrame(file_list, columns = ['Image_Path', 'Parasitized'])\n",
    "df"
   ]
  },
  {
   "cell_type": "code",
   "execution_count": 50,
   "metadata": {},
   "outputs": [],
   "source": [
    "df.to_csv(os.path.join(output_dir, output_filename), index = False)"
   ]
  }
 ],
 "metadata": {
  "kernelspec": {
   "display_name": "Python 3.8.13 ('tf2.9')",
   "language": "python",
   "name": "python3"
  },
  "language_info": {
   "codemirror_mode": {
    "name": "ipython",
    "version": 3
   },
   "file_extension": ".py",
   "mimetype": "text/x-python",
   "name": "python",
   "nbconvert_exporter": "python",
   "pygments_lexer": "ipython3",
   "version": "3.8.13"
  },
  "orig_nbformat": 4,
  "vscode": {
   "interpreter": {
    "hash": "f3f9b9e2c84dd319003698fc684ead22f769b71014b59713d46cc8251cf0f9de"
   }
  }
 },
 "nbformat": 4,
 "nbformat_minor": 2
}
