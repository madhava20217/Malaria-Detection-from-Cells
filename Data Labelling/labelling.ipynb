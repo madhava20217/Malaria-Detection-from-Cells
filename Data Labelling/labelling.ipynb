{
 "cells": [
  {
   "cell_type": "markdown",
   "metadata": {},
   "source": [
    "# Labeling the dataset\n",
    "\n",
    "This notebook requires the following libraries:\n",
    "\n",
    "- Numpy\n",
    "- Pandas\n",
    "- glob\n",
    "- os\n",
    "\n",
    "The output of this notebook reads data in the $data\\_dir$ and creates a CSV containing labels, saving that as per the $output$ path."
   ]
  },
  {
   "cell_type": "markdown",
   "metadata": {},
   "source": [
    "## Imports"
   ]
  },
  {
   "cell_type": "code",
   "execution_count": 13,
   "metadata": {},
   "outputs": [],
   "source": [
    "import numpy as np\n",
    "import glob\n",
    "import os\n",
    "\n",
    "import pandas as pd"
   ]
  },
  {
   "cell_type": "markdown",
   "metadata": {},
   "source": [
    "## Loading the data and normalising dimensions"
   ]
  },
  {
   "cell_type": "markdown",
   "metadata": {},
   "source": [
    "### Directories"
   ]
  },
  {
   "cell_type": "code",
   "execution_count": 14,
   "metadata": {},
   "outputs": [],
   "source": [
    "#This is the main data directory\n",
    "\n",
    "data_dir = '../Data/cell-images-for-detecting-malaria/cell_images/'\n",
    "\n",
    "#This is the output CSV file\n",
    "output_dir = '../Data/'\n",
    "output_filename = 'labels.csv'"
   ]
  },
  {
   "cell_type": "markdown",
   "metadata": {},
   "source": [
    "### Exception handling"
   ]
  },
  {
   "cell_type": "code",
   "execution_count": 15,
   "metadata": {},
   "outputs": [],
   "source": [
    "if not os.path.isdir(data_dir):\n",
    "    raise Exception(\"Data Directory not found! Please run the data_download.ipynb notebook before proceeding.\")"
   ]
  },
  {
   "cell_type": "code",
   "execution_count": 16,
   "metadata": {},
   "outputs": [],
   "source": [
    "if not os.path.isdir(output_dir):\n",
    "    os.makedirs(output_dir)"
   ]
  },
  {
   "cell_type": "markdown",
   "metadata": {},
   "source": [
    "### Data loading"
   ]
  },
  {
   "cell_type": "code",
   "execution_count": 17,
   "metadata": {},
   "outputs": [],
   "source": [
    "file_list_parasitized = glob.glob(os.path.join(data_dir, 'Parasitized', '*.png'))\n",
    "file_list_uninfected  = glob.glob(os.path.join(data_dir, 'Uninfected', '*.png'))"
   ]
  },
  {
   "cell_type": "code",
   "execution_count": 18,
   "metadata": {},
   "outputs": [
    {
     "data": {
      "text/plain": [
       "(13779, 13779)"
      ]
     },
     "execution_count": 18,
     "metadata": {},
     "output_type": "execute_result"
    }
   ],
   "source": [
    "n_parasitized = len(file_list_parasitized)\n",
    "n_uninfected  = len(file_list_uninfected)\n",
    "\n",
    "n_parasitized, n_uninfected"
   ]
  },
  {
   "cell_type": "code",
   "execution_count": 19,
   "metadata": {},
   "outputs": [],
   "source": [
    "file_list_parasitized = np.array(file_list_parasitized)\n",
    "file_list_uninfected  = np.array(file_list_uninfected)\n",
    "\n",
    "file_list_parasitized = np.reshape(file_list_parasitized, newshape = (n_parasitized, 1))\n",
    "file_list_uninfected  = np.reshape(file_list_uninfected , newshape = (n_uninfected , 1))"
   ]
  },
  {
   "cell_type": "code",
   "execution_count": 20,
   "metadata": {},
   "outputs": [],
   "source": [
    "file_list_parasitized = np.append(file_list_parasitized, np.ones(file_list_parasitized.shape), axis = 1)\n",
    "file_list_uninfected  = np.append(file_list_uninfected , np.zeros(file_list_uninfected.shape), axis = 1)"
   ]
  },
  {
   "cell_type": "code",
   "execution_count": 21,
   "metadata": {},
   "outputs": [
    {
     "data": {
      "text/plain": [
       "((13779, 2), (13779, 2))"
      ]
     },
     "execution_count": 21,
     "metadata": {},
     "output_type": "execute_result"
    }
   ],
   "source": [
    "file_list_parasitized.shape, file_list_parasitized.shape"
   ]
  },
  {
   "cell_type": "code",
   "execution_count": 22,
   "metadata": {},
   "outputs": [
    {
     "data": {
      "text/plain": [
       "(27558, 2)"
      ]
     },
     "execution_count": 22,
     "metadata": {},
     "output_type": "execute_result"
    }
   ],
   "source": [
    "file_list = np.append(file_list_uninfected, file_list_parasitized, axis = 0)\n",
    "\n",
    "file_list.shape"
   ]
  },
  {
   "cell_type": "markdown",
   "metadata": {},
   "source": [
    "We see that there are 13779 images in both directories, indicating balanced data."
   ]
  },
  {
   "cell_type": "markdown",
   "metadata": {},
   "source": [
    "## Creating a labeled dataframe"
   ]
  },
  {
   "cell_type": "code",
   "execution_count": 23,
   "metadata": {},
   "outputs": [
    {
     "data": {
      "text/html": [
       "<div>\n",
       "<style scoped>\n",
       "    .dataframe tbody tr th:only-of-type {\n",
       "        vertical-align: middle;\n",
       "    }\n",
       "\n",
       "    .dataframe tbody tr th {\n",
       "        vertical-align: top;\n",
       "    }\n",
       "\n",
       "    .dataframe thead th {\n",
       "        text-align: right;\n",
       "    }\n",
       "</style>\n",
       "<table border=\"1\" class=\"dataframe\">\n",
       "  <thead>\n",
       "    <tr style=\"text-align: right;\">\n",
       "      <th></th>\n",
       "      <th>Image_Path</th>\n",
       "      <th>Parasitized</th>\n",
       "    </tr>\n",
       "  </thead>\n",
       "  <tbody>\n",
       "    <tr>\n",
       "      <th>0</th>\n",
       "      <td>../Data/cell-images-for-detecting-malaria/cell...</td>\n",
       "      <td>0.0</td>\n",
       "    </tr>\n",
       "    <tr>\n",
       "      <th>1</th>\n",
       "      <td>../Data/cell-images-for-detecting-malaria/cell...</td>\n",
       "      <td>0.0</td>\n",
       "    </tr>\n",
       "    <tr>\n",
       "      <th>2</th>\n",
       "      <td>../Data/cell-images-for-detecting-malaria/cell...</td>\n",
       "      <td>0.0</td>\n",
       "    </tr>\n",
       "    <tr>\n",
       "      <th>3</th>\n",
       "      <td>../Data/cell-images-for-detecting-malaria/cell...</td>\n",
       "      <td>0.0</td>\n",
       "    </tr>\n",
       "    <tr>\n",
       "      <th>4</th>\n",
       "      <td>../Data/cell-images-for-detecting-malaria/cell...</td>\n",
       "      <td>0.0</td>\n",
       "    </tr>\n",
       "    <tr>\n",
       "      <th>...</th>\n",
       "      <td>...</td>\n",
       "      <td>...</td>\n",
       "    </tr>\n",
       "    <tr>\n",
       "      <th>27553</th>\n",
       "      <td>../Data/cell-images-for-detecting-malaria/cell...</td>\n",
       "      <td>1.0</td>\n",
       "    </tr>\n",
       "    <tr>\n",
       "      <th>27554</th>\n",
       "      <td>../Data/cell-images-for-detecting-malaria/cell...</td>\n",
       "      <td>1.0</td>\n",
       "    </tr>\n",
       "    <tr>\n",
       "      <th>27555</th>\n",
       "      <td>../Data/cell-images-for-detecting-malaria/cell...</td>\n",
       "      <td>1.0</td>\n",
       "    </tr>\n",
       "    <tr>\n",
       "      <th>27556</th>\n",
       "      <td>../Data/cell-images-for-detecting-malaria/cell...</td>\n",
       "      <td>1.0</td>\n",
       "    </tr>\n",
       "    <tr>\n",
       "      <th>27557</th>\n",
       "      <td>../Data/cell-images-for-detecting-malaria/cell...</td>\n",
       "      <td>1.0</td>\n",
       "    </tr>\n",
       "  </tbody>\n",
       "</table>\n",
       "<p>27558 rows × 2 columns</p>\n",
       "</div>"
      ],
      "text/plain": [
       "                                              Image_Path Parasitized\n",
       "0      ../Data/cell-images-for-detecting-malaria/cell...         0.0\n",
       "1      ../Data/cell-images-for-detecting-malaria/cell...         0.0\n",
       "2      ../Data/cell-images-for-detecting-malaria/cell...         0.0\n",
       "3      ../Data/cell-images-for-detecting-malaria/cell...         0.0\n",
       "4      ../Data/cell-images-for-detecting-malaria/cell...         0.0\n",
       "...                                                  ...         ...\n",
       "27553  ../Data/cell-images-for-detecting-malaria/cell...         1.0\n",
       "27554  ../Data/cell-images-for-detecting-malaria/cell...         1.0\n",
       "27555  ../Data/cell-images-for-detecting-malaria/cell...         1.0\n",
       "27556  ../Data/cell-images-for-detecting-malaria/cell...         1.0\n",
       "27557  ../Data/cell-images-for-detecting-malaria/cell...         1.0\n",
       "\n",
       "[27558 rows x 2 columns]"
      ]
     },
     "execution_count": 23,
     "metadata": {},
     "output_type": "execute_result"
    }
   ],
   "source": [
    "df = pd.DataFrame(file_list, columns = ['Image_Path', 'Parasitized'])\n",
    "df"
   ]
  },
  {
   "cell_type": "code",
   "execution_count": 24,
   "metadata": {},
   "outputs": [],
   "source": [
    "df.to_csv(os.path.join(output_dir, output_filename), index = False)"
   ]
  }
 ],
 "metadata": {
  "kernelspec": {
   "display_name": "Python 3.8.13 ('tf2.9')",
   "language": "python",
   "name": "python3"
  },
  "language_info": {
   "codemirror_mode": {
    "name": "ipython",
    "version": 3
   },
   "file_extension": ".py",
   "mimetype": "text/x-python",
   "name": "python",
   "nbconvert_exporter": "python",
   "pygments_lexer": "ipython3",
   "version": "3.8.13"
  },
  "orig_nbformat": 4,
  "vscode": {
   "interpreter": {
    "hash": "f3f9b9e2c84dd319003698fc684ead22f769b71014b59713d46cc8251cf0f9de"
   }
  }
 },
 "nbformat": 4,
 "nbformat_minor": 2
}
