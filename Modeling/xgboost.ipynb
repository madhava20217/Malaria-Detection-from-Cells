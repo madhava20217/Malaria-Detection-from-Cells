{
 "cells": [
  {
   "cell_type": "markdown",
   "metadata": {},
   "source": [
    "# XGBoost"
   ]
  },
  {
   "cell_type": "markdown",
   "metadata": {},
   "source": [
    "### Image Mode"
   ]
  },
  {
   "cell_type": "code",
   "execution_count": 24,
   "metadata": {},
   "outputs": [],
   "source": [
    "IMAGE_MODE = 0      #1 for colour, 0 for grayscale, unchanged for -1"
   ]
  },
  {
   "cell_type": "markdown",
   "metadata": {},
   "source": [
    "### Datasets locations:"
   ]
  },
  {
   "cell_type": "code",
   "execution_count": 25,
   "metadata": {},
   "outputs": [],
   "source": [
    "import os\n",
    "\n",
    "\n",
    "train_csv = os.path.join(os.path.pardir, \"Datasets\", 'Resized_data_50_50', 'train.csv')\n",
    "test_csv = os.path.join(os.path.pardir, \"Datasets\", 'Resized_data_50_50', 'test.csv')\n",
    "\n",
    "N_CLASSES = 2"
   ]
  },
  {
   "cell_type": "markdown",
   "metadata": {},
   "source": [
    "## Imports"
   ]
  },
  {
   "cell_type": "code",
   "execution_count": 26,
   "metadata": {},
   "outputs": [],
   "source": [
    "import xgboost as xgb\n",
    "import pandas as pd\n",
    "import numpy as np\n",
    "\n",
    "import matplotlib.pyplot as plt\n",
    "import cv2\n",
    "\n",
    "from sklearn.metrics import accuracy_score, precision_score, recall_score, f1_score, roc_auc_score, roc_curve"
   ]
  },
  {
   "cell_type": "markdown",
   "metadata": {},
   "source": [
    "## Loading the dataset"
   ]
  },
  {
   "cell_type": "code",
   "execution_count": 27,
   "metadata": {},
   "outputs": [],
   "source": [
    "train_df = pd.read_csv(train_csv)\n",
    "test_df = pd.read_csv(test_csv)"
   ]
  },
  {
   "cell_type": "code",
   "execution_count": 28,
   "metadata": {},
   "outputs": [
    {
     "data": {
      "text/html": [
       "<div>\n",
       "<style scoped>\n",
       "    .dataframe tbody tr th:only-of-type {\n",
       "        vertical-align: middle;\n",
       "    }\n",
       "\n",
       "    .dataframe tbody tr th {\n",
       "        vertical-align: top;\n",
       "    }\n",
       "\n",
       "    .dataframe thead th {\n",
       "        text-align: right;\n",
       "    }\n",
       "</style>\n",
       "<table border=\"1\" class=\"dataframe\">\n",
       "  <thead>\n",
       "    <tr style=\"text-align: right;\">\n",
       "      <th></th>\n",
       "      <th>Image_Path</th>\n",
       "      <th>Parasitized</th>\n",
       "    </tr>\n",
       "  </thead>\n",
       "  <tbody>\n",
       "    <tr>\n",
       "      <th>0</th>\n",
       "      <td>..\\Datasets\\Resized_data_50_50\\Parasitized\\50x...</td>\n",
       "      <td>1.0</td>\n",
       "    </tr>\n",
       "    <tr>\n",
       "      <th>1</th>\n",
       "      <td>..\\Datasets\\Resized_data_50_50\\Parasitized\\50x...</td>\n",
       "      <td>1.0</td>\n",
       "    </tr>\n",
       "    <tr>\n",
       "      <th>2</th>\n",
       "      <td>..\\Datasets\\Resized_data_50_50\\Uninfected\\50x5...</td>\n",
       "      <td>0.0</td>\n",
       "    </tr>\n",
       "    <tr>\n",
       "      <th>3</th>\n",
       "      <td>..\\Datasets\\Resized_data_50_50\\Parasitized\\50x...</td>\n",
       "      <td>1.0</td>\n",
       "    </tr>\n",
       "    <tr>\n",
       "      <th>4</th>\n",
       "      <td>..\\Datasets\\Resized_data_50_50\\Parasitized\\50x...</td>\n",
       "      <td>1.0</td>\n",
       "    </tr>\n",
       "  </tbody>\n",
       "</table>\n",
       "</div>"
      ],
      "text/plain": [
       "                                          Image_Path  Parasitized\n",
       "0  ..\\Datasets\\Resized_data_50_50\\Parasitized\\50x...          1.0\n",
       "1  ..\\Datasets\\Resized_data_50_50\\Parasitized\\50x...          1.0\n",
       "2  ..\\Datasets\\Resized_data_50_50\\Uninfected\\50x5...          0.0\n",
       "3  ..\\Datasets\\Resized_data_50_50\\Parasitized\\50x...          1.0\n",
       "4  ..\\Datasets\\Resized_data_50_50\\Parasitized\\50x...          1.0"
      ]
     },
     "execution_count": 28,
     "metadata": {},
     "output_type": "execute_result"
    }
   ],
   "source": [
    "train_df.head()"
   ]
  },
  {
   "cell_type": "code",
   "execution_count": 29,
   "metadata": {},
   "outputs": [
    {
     "data": {
      "text/plain": [
       "Image_Path      object\n",
       "Parasitized    float64\n",
       "dtype: object"
      ]
     },
     "execution_count": 29,
     "metadata": {},
     "output_type": "execute_result"
    }
   ],
   "source": [
    "train_df.dtypes"
   ]
  },
  {
   "cell_type": "markdown",
   "metadata": {},
   "source": [
    "## Data and Labels"
   ]
  },
  {
   "cell_type": "code",
   "execution_count": 30,
   "metadata": {},
   "outputs": [],
   "source": [
    "train_x = train_df['Image_Path'].to_numpy()\n",
    "train_y = train_df['Parasitized'].to_numpy()\n",
    "\n",
    "test_x  = test_df['Image_Path'].to_numpy()\n",
    "test_y  = test_df['Parasitized'].to_numpy()"
   ]
  },
  {
   "cell_type": "markdown",
   "metadata": {},
   "source": [
    "#### Load images from paths"
   ]
  },
  {
   "cell_type": "code",
   "execution_count": 31,
   "metadata": {},
   "outputs": [],
   "source": [
    "def load_images(path_arr):\n",
    "    '''Reads and loads images into a numpy array\n",
    "    Returns: a numpy array'''\n",
    "    arr = []\n",
    "    for path in path_arr:\n",
    "        arr.append(cv2.imread(path, IMAGE_MODE))\n",
    "    \n",
    "    return np.array(arr)\n"
   ]
  },
  {
   "cell_type": "code",
   "execution_count": 32,
   "metadata": {},
   "outputs": [],
   "source": [
    "train_x = load_images(train_x)\n",
    "test_x = load_images(test_x)"
   ]
  },
  {
   "cell_type": "markdown",
   "metadata": {},
   "source": [
    "#### Checking shape"
   ]
  },
  {
   "cell_type": "code",
   "execution_count": 33,
   "metadata": {},
   "outputs": [
    {
     "name": "stdout",
     "output_type": "stream",
     "text": [
      "(24802, 50, 50)\n",
      "(2756, 50, 50)\n"
     ]
    }
   ],
   "source": [
    "print(train_x.shape, test_x.shape, sep = '\\n')"
   ]
  },
  {
   "cell_type": "markdown",
   "metadata": {},
   "source": [
    "## Flattening"
   ]
  },
  {
   "cell_type": "code",
   "execution_count": 34,
   "metadata": {},
   "outputs": [
    {
     "name": "stdout",
     "output_type": "stream",
     "text": [
      "24802 2500\n"
     ]
    }
   ],
   "source": [
    "num_train, num_test = train_x.shape[0], test_x.shape[0]\n",
    "\n",
    "dim = 1\n",
    "for i in train_x.shape[1:]: dim*=i\n",
    "\n",
    "print(num_train, dim)"
   ]
  },
  {
   "cell_type": "code",
   "execution_count": 35,
   "metadata": {},
   "outputs": [],
   "source": [
    "train_x = train_x.reshape([num_train, dim])\n",
    "test_x = test_x.reshape([num_test, dim])"
   ]
  },
  {
   "cell_type": "markdown",
   "metadata": {},
   "source": [
    "## XGBoost"
   ]
  },
  {
   "cell_type": "markdown",
   "metadata": {},
   "source": [
    "### Data prep"
   ]
  },
  {
   "cell_type": "code",
   "execution_count": 36,
   "metadata": {},
   "outputs": [],
   "source": [
    "dtrain = xgb.DMatrix(train_x, label = train_y)\n",
    "dtest = xgb.DMatrix(test_x, label = test_y)"
   ]
  },
  {
   "cell_type": "code",
   "execution_count": 78,
   "metadata": {},
   "outputs": [
    {
     "name": "stdout",
     "output_type": "stream",
     "text": [
      "[0]\teval-rmse:0.46077\ttrain-rmse:0.39632\n",
      "[1]\teval-rmse:0.43838\ttrain-rmse:0.32282\n",
      "[2]\teval-rmse:0.42457\ttrain-rmse:0.26580\n",
      "[3]\teval-rmse:0.41451\ttrain-rmse:0.22221\n",
      "[4]\teval-rmse:0.41021\ttrain-rmse:0.18866\n",
      "[5]\teval-rmse:0.40531\ttrain-rmse:0.16056\n",
      "[6]\teval-rmse:0.40209\ttrain-rmse:0.13787\n",
      "[7]\teval-rmse:0.39831\ttrain-rmse:0.11965\n",
      "[8]\teval-rmse:0.39411\ttrain-rmse:0.10586\n",
      "[9]\teval-rmse:0.39070\ttrain-rmse:0.09392\n",
      "[10]\teval-rmse:0.38787\ttrain-rmse:0.08391\n",
      "[11]\teval-rmse:0.38615\ttrain-rmse:0.07474\n",
      "[12]\teval-rmse:0.38411\ttrain-rmse:0.06706\n",
      "[13]\teval-rmse:0.38272\ttrain-rmse:0.06070\n",
      "[14]\teval-rmse:0.38037\ttrain-rmse:0.05520\n",
      "[15]\teval-rmse:0.37712\ttrain-rmse:0.05038\n",
      "[16]\teval-rmse:0.37259\ttrain-rmse:0.04612\n",
      "[17]\teval-rmse:0.36918\ttrain-rmse:0.04288\n",
      "[18]\teval-rmse:0.36780\ttrain-rmse:0.03974\n",
      "[19]\teval-rmse:0.36429\ttrain-rmse:0.03719\n",
      "[20]\teval-rmse:0.36418\ttrain-rmse:0.03470\n",
      "[21]\teval-rmse:0.36330\ttrain-rmse:0.03254\n",
      "[22]\teval-rmse:0.36238\ttrain-rmse:0.03075\n",
      "[23]\teval-rmse:0.36218\ttrain-rmse:0.02908\n",
      "[24]\teval-rmse:0.36118\ttrain-rmse:0.02752\n",
      "[25]\teval-rmse:0.36011\ttrain-rmse:0.02611\n",
      "[26]\teval-rmse:0.35866\ttrain-rmse:0.02485\n",
      "[27]\teval-rmse:0.35753\ttrain-rmse:0.02357\n",
      "[28]\teval-rmse:0.35639\ttrain-rmse:0.02247\n",
      "[29]\teval-rmse:0.35457\ttrain-rmse:0.02143\n",
      "[30]\teval-rmse:0.35297\ttrain-rmse:0.02045\n",
      "[31]\teval-rmse:0.35253\ttrain-rmse:0.01957\n",
      "[32]\teval-rmse:0.35177\ttrain-rmse:0.01879\n",
      "[33]\teval-rmse:0.35133\ttrain-rmse:0.01806\n",
      "[34]\teval-rmse:0.35005\ttrain-rmse:0.01738\n",
      "[35]\teval-rmse:0.34963\ttrain-rmse:0.01671\n",
      "[36]\teval-rmse:0.34940\ttrain-rmse:0.01626\n",
      "[37]\teval-rmse:0.34904\ttrain-rmse:0.01571\n",
      "[38]\teval-rmse:0.34870\ttrain-rmse:0.01517\n",
      "[39]\teval-rmse:0.34792\ttrain-rmse:0.01469\n",
      "[40]\teval-rmse:0.34753\ttrain-rmse:0.01423\n",
      "[41]\teval-rmse:0.34702\ttrain-rmse:0.01379\n",
      "[42]\teval-rmse:0.34680\ttrain-rmse:0.01338\n",
      "[43]\teval-rmse:0.34571\ttrain-rmse:0.01302\n",
      "[44]\teval-rmse:0.34511\ttrain-rmse:0.01263\n",
      "[45]\teval-rmse:0.34489\ttrain-rmse:0.01230\n",
      "[46]\teval-rmse:0.34437\ttrain-rmse:0.01201\n",
      "[47]\teval-rmse:0.34380\ttrain-rmse:0.01168\n",
      "[48]\teval-rmse:0.34359\ttrain-rmse:0.01139\n",
      "[49]\teval-rmse:0.34353\ttrain-rmse:0.01115\n",
      "[50]\teval-rmse:0.34317\ttrain-rmse:0.01087\n",
      "[51]\teval-rmse:0.34295\ttrain-rmse:0.01061\n",
      "[52]\teval-rmse:0.34228\ttrain-rmse:0.01036\n",
      "[53]\teval-rmse:0.34171\ttrain-rmse:0.01013\n",
      "[54]\teval-rmse:0.34092\ttrain-rmse:0.00997\n",
      "[55]\teval-rmse:0.34098\ttrain-rmse:0.00975\n",
      "[56]\teval-rmse:0.34074\ttrain-rmse:0.00955\n",
      "[57]\teval-rmse:0.34025\ttrain-rmse:0.00936\n",
      "[58]\teval-rmse:0.33998\ttrain-rmse:0.00918\n",
      "[59]\teval-rmse:0.33979\ttrain-rmse:0.00899\n",
      "[60]\teval-rmse:0.33948\ttrain-rmse:0.00883\n",
      "[61]\teval-rmse:0.33887\ttrain-rmse:0.00865\n",
      "[62]\teval-rmse:0.33858\ttrain-rmse:0.00847\n",
      "[63]\teval-rmse:0.33832\ttrain-rmse:0.00830\n",
      "[64]\teval-rmse:0.33807\ttrain-rmse:0.00817\n",
      "[65]\teval-rmse:0.33760\ttrain-rmse:0.00803\n",
      "[66]\teval-rmse:0.33759\ttrain-rmse:0.00791\n",
      "[67]\teval-rmse:0.33706\ttrain-rmse:0.00778\n",
      "[68]\teval-rmse:0.33700\ttrain-rmse:0.00764\n",
      "[69]\teval-rmse:0.33714\ttrain-rmse:0.00752\n",
      "[70]\teval-rmse:0.33708\ttrain-rmse:0.00739\n",
      "[71]\teval-rmse:0.33701\ttrain-rmse:0.00727\n",
      "[72]\teval-rmse:0.33698\ttrain-rmse:0.00716\n",
      "[73]\teval-rmse:0.33694\ttrain-rmse:0.00705\n",
      "[74]\teval-rmse:0.33699\ttrain-rmse:0.00696\n",
      "[75]\teval-rmse:0.33683\ttrain-rmse:0.00685\n",
      "[76]\teval-rmse:0.33673\ttrain-rmse:0.00674\n",
      "[77]\teval-rmse:0.33642\ttrain-rmse:0.00665\n",
      "[78]\teval-rmse:0.33635\ttrain-rmse:0.00655\n",
      "[79]\teval-rmse:0.33603\ttrain-rmse:0.00647\n",
      "[80]\teval-rmse:0.33620\ttrain-rmse:0.00637\n",
      "[81]\teval-rmse:0.33600\ttrain-rmse:0.00629\n",
      "[82]\teval-rmse:0.33584\ttrain-rmse:0.00621\n",
      "[83]\teval-rmse:0.33584\ttrain-rmse:0.00615\n",
      "[84]\teval-rmse:0.33574\ttrain-rmse:0.00607\n",
      "[85]\teval-rmse:0.33536\ttrain-rmse:0.00598\n",
      "[86]\teval-rmse:0.33546\ttrain-rmse:0.00592\n",
      "[87]\teval-rmse:0.33545\ttrain-rmse:0.00585\n",
      "[88]\teval-rmse:0.33552\ttrain-rmse:0.00578\n",
      "[89]\teval-rmse:0.33520\ttrain-rmse:0.00571\n",
      "[90]\teval-rmse:0.33537\ttrain-rmse:0.00566\n",
      "[91]\teval-rmse:0.33528\ttrain-rmse:0.00559\n",
      "[92]\teval-rmse:0.33486\ttrain-rmse:0.00551\n",
      "[93]\teval-rmse:0.33467\ttrain-rmse:0.00546\n",
      "[94]\teval-rmse:0.33482\ttrain-rmse:0.00540\n",
      "[95]\teval-rmse:0.33460\ttrain-rmse:0.00533\n",
      "[96]\teval-rmse:0.33438\ttrain-rmse:0.00527\n",
      "[97]\teval-rmse:0.33423\ttrain-rmse:0.00522\n",
      "[98]\teval-rmse:0.33393\ttrain-rmse:0.00516\n",
      "[99]\teval-rmse:0.33390\ttrain-rmse:0.00510\n"
     ]
    }
   ],
   "source": [
    "params = {\"max_depth\": 50, \"objective\": 'reg:logistic','verbosity': 1, 'num_parallel_tree' : 1, 'booster': 'gbtree'}\n",
    "xgboosto = xgb.train(params, dtrain, 100, [(dtest, 'eval'), (dtrain, 'train')])"
   ]
  },
  {
   "cell_type": "markdown",
   "metadata": {},
   "source": [
    "## Performance Evaluation"
   ]
  },
  {
   "cell_type": "code",
   "execution_count": 79,
   "metadata": {},
   "outputs": [],
   "source": [
    "y_pred_train = xgboosto.predict(xgb.DMatrix(train_x))\n",
    "y_pred_test  = xgboosto.predict(xgb.DMatrix(test_x))"
   ]
  },
  {
   "cell_type": "markdown",
   "metadata": {},
   "source": [
    "#### Accuracy"
   ]
  },
  {
   "cell_type": "code",
   "execution_count": 80,
   "metadata": {},
   "outputs": [],
   "source": [
    "y_pred_train[np.where(y_pred_train >= 0.5)] = 1\n",
    "y_pred_train[np.where(y_pred_train < 0.5)] = 0"
   ]
  },
  {
   "cell_type": "code",
   "execution_count": 81,
   "metadata": {},
   "outputs": [],
   "source": [
    "y_pred_test[np.where(y_pred_test >= 0.5)] = 1\n",
    "y_pred_test[np.where(y_pred_test < 0.5)] = 0"
   ]
  },
  {
   "cell_type": "code",
   "execution_count": 82,
   "metadata": {},
   "outputs": [
    {
     "data": {
      "text/plain": [
       "array([1., 1., 0., ..., 0., 0., 1.], dtype=float32)"
      ]
     },
     "execution_count": 82,
     "metadata": {},
     "output_type": "execute_result"
    }
   ],
   "source": [
    "y_pred_train"
   ]
  },
  {
   "cell_type": "code",
   "execution_count": 83,
   "metadata": {},
   "outputs": [
    {
     "name": "stdout",
     "output_type": "stream",
     "text": [
      "Training Accuracy is: 1.0000 and Validation Accuracy is: 0.8520\n"
     ]
    }
   ],
   "source": [
    "acc_train = accuracy_score(train_y, y_pred_train)\n",
    "acc_test  = accuracy_score(test_y , y_pred_test)\n",
    "\n",
    "print(\"Training Accuracy is: {:.4f} and Validation Accuracy is: {:.4f}\".format(acc_train, acc_test))"
   ]
  },
  {
   "cell_type": "markdown",
   "metadata": {},
   "source": [
    "#### Precision"
   ]
  },
  {
   "cell_type": "code",
   "execution_count": 84,
   "metadata": {},
   "outputs": [
    {
     "name": "stdout",
     "output_type": "stream",
     "text": [
      "Training Precision is: 1.0000 and Validation Precision is: 0.8499\n"
     ]
    }
   ],
   "source": [
    "prec_train = precision_score(train_y, y_pred_train)\n",
    "prec_test  = precision_score(test_y , y_pred_test)\n",
    "\n",
    "print(\"Training Precision is: {:.4f} and Validation Precision is: {:.4f}\".format(prec_train, prec_test))"
   ]
  },
  {
   "cell_type": "markdown",
   "metadata": {},
   "source": [
    "#### Recall"
   ]
  },
  {
   "cell_type": "code",
   "execution_count": 85,
   "metadata": {},
   "outputs": [
    {
     "name": "stdout",
     "output_type": "stream",
     "text": [
      "Training Recall is: 1.0000 and Validation Recall is: 0.8549\n"
     ]
    }
   ],
   "source": [
    "recall_train = recall_score(train_y, y_pred_train)\n",
    "recall_test  = recall_score(test_y , y_pred_test)\n",
    "\n",
    "print(\"Training Recall is: {:.4f} and Validation Recall is: {:.4f}\".format(recall_train, recall_test))"
   ]
  },
  {
   "cell_type": "markdown",
   "metadata": {},
   "source": [
    "#### F1 Score"
   ]
  },
  {
   "cell_type": "code",
   "execution_count": 86,
   "metadata": {},
   "outputs": [
    {
     "name": "stdout",
     "output_type": "stream",
     "text": [
      "Training F1-Score is: 1.0000 and Validation F1-Score is: 0.8524\n"
     ]
    }
   ],
   "source": [
    "f1_train = f1_score(train_y, y_pred_train)\n",
    "f1_test  = f1_score(test_y , y_pred_test)\n",
    "\n",
    "print(\"Training F1-Score is: {:.4f} and Validation F1-Score is: {:.4f}\".format(f1_train, f1_test))"
   ]
  },
  {
   "cell_type": "markdown",
   "metadata": {},
   "source": [
    "#### ROC AUC"
   ]
  },
  {
   "cell_type": "code",
   "execution_count": 87,
   "metadata": {},
   "outputs": [
    {
     "ename": "NameError",
     "evalue": "name 'nb' is not defined",
     "output_type": "error",
     "traceback": [
      "\u001b[1;31m---------------------------------------------------------------------------\u001b[0m",
      "\u001b[1;31mNameError\u001b[0m                                 Traceback (most recent call last)",
      "\u001b[1;32mc:\\Users\\krish\\Desktop\\Malaria Detection from Cells\\Modeling\\xgboost.ipynb Cell 40\u001b[0m in \u001b[0;36m<cell line: 1>\u001b[1;34m()\u001b[0m\n\u001b[1;32m----> <a href='vscode-notebook-cell:/c%3A/Users/krish/Desktop/Malaria%20Detection%20from%20Cells/Modeling/xgboost.ipynb#X46sZmlsZQ%3D%3D?line=0'>1</a>\u001b[0m y_score \u001b[39m=\u001b[39m nb\u001b[39m.\u001b[39mpredict_proba(test_x)\n\u001b[0;32m      <a href='vscode-notebook-cell:/c%3A/Users/krish/Desktop/Malaria%20Detection%20from%20Cells/Modeling/xgboost.ipynb#X46sZmlsZQ%3D%3D?line=2'>3</a>\u001b[0m fpr, tpr, _ \u001b[39m=\u001b[39m roc_curve(test_y, y_score[:, \u001b[39m1\u001b[39m], pos_label \u001b[39m=\u001b[39m \u001b[39m1\u001b[39m)\n\u001b[0;32m      <a href='vscode-notebook-cell:/c%3A/Users/krish/Desktop/Malaria%20Detection%20from%20Cells/Modeling/xgboost.ipynb#X46sZmlsZQ%3D%3D?line=3'>4</a>\u001b[0m roc_auc \u001b[39m=\u001b[39m roc_auc_score(test_y, y_score[:, \u001b[39m1\u001b[39m])\n",
      "\u001b[1;31mNameError\u001b[0m: name 'nb' is not defined"
     ]
    }
   ],
   "source": [
    "y_score = nb.predict_proba(test_x)\n",
    "\n",
    "fpr, tpr, _ = roc_curve(test_y, y_score[:, 1], pos_label = 1)\n",
    "roc_auc = roc_auc_score(test_y, y_score[:, 1])\n",
    "\n",
    "plt.plot(fpr, tpr, color = 'orange')\n",
    "plt.plot([0,1], [0,1], color = 'navy', linestyle = '--')\n",
    "\n",
    "plt.xlabel(\"False Positive Rate\")\n",
    "plt.ylabel(\"True Positive Rate\")\n",
    "plt.title(\"ROC Curve\\nAuC = {:.4f}\".format(roc_auc))\n",
    "\n",
    "plt.show()\n"
   ]
  }
 ],
 "metadata": {
  "kernelspec": {
   "display_name": "Python 3.8.13 ('tf2.9')",
   "language": "python",
   "name": "python3"
  },
  "language_info": {
   "codemirror_mode": {
    "name": "ipython",
    "version": 3
   },
   "file_extension": ".py",
   "mimetype": "text/x-python",
   "name": "python",
   "nbconvert_exporter": "python",
   "pygments_lexer": "ipython3",
   "version": "3.8.13"
  },
  "orig_nbformat": 4,
  "vscode": {
   "interpreter": {
    "hash": "f3f9b9e2c84dd319003698fc684ead22f769b71014b59713d46cc8251cf0f9de"
   }
  }
 },
 "nbformat": 4,
 "nbformat_minor": 2
}
