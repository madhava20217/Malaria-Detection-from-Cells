{
 "cells": [
  {
   "cell_type": "markdown",
   "metadata": {},
   "source": [
    "# Naive Bayes Implementation"
   ]
  },
  {
   "cell_type": "markdown",
   "metadata": {},
   "source": [
    "### Image Mode"
   ]
  },
  {
   "cell_type": "code",
   "execution_count": 1,
   "metadata": {},
   "outputs": [],
   "source": [
    "IMAGE_MODE = 1      #1 for colour, 0 for grayscale, unchanged for -1"
   ]
  },
  {
   "cell_type": "markdown",
   "metadata": {},
   "source": [
    "### Datasets locations:"
   ]
  },
  {
   "cell_type": "code",
   "execution_count": 2,
   "metadata": {},
   "outputs": [],
   "source": [
    "import os\n",
    "\n",
    "height = 100\n",
    "width  = 100\n",
    "\n",
    "data_dir = os.path.join(os.path.pardir, \"Datasets\", \"Resized_data_{}_{}\".format(height, width))\n",
    "train_csv = os.path.join(data_dir, \"train.csv\")\n",
    "test_csv = os.path.join(data_dir, \"test.csv\")\n",
    "\n",
    "N_CLASSES = 2"
   ]
  },
  {
   "cell_type": "markdown",
   "metadata": {},
   "source": [
    "## Imports"
   ]
  },
  {
   "cell_type": "code",
   "execution_count": 3,
   "metadata": {},
   "outputs": [
    {
     "name": "stderr",
     "output_type": "stream",
     "text": [
      "C:\\Users\\krish\\AppData\\Roaming\\Python\\Python38\\site-packages\\scipy\\__init__.py:146: UserWarning: A NumPy version >=1.16.5 and <1.23.0 is required for this version of SciPy (detected version 1.23.1\n",
      "  warnings.warn(f\"A NumPy version >={np_minversion} and <{np_maxversion}\"\n"
     ]
    }
   ],
   "source": [
    "from sklearn.naive_bayes import GaussianNB\n",
    "import pandas as pd\n",
    "import numpy as np\n",
    "\n",
    "import matplotlib.pyplot as plt\n",
    "import cv2\n",
    "\n",
    "from sklearn.metrics import accuracy_score, precision_score, recall_score, f1_score, roc_auc_score, roc_curve"
   ]
  },
  {
   "cell_type": "markdown",
   "metadata": {},
   "source": [
    "## Loading the dataset"
   ]
  },
  {
   "cell_type": "code",
   "execution_count": 4,
   "metadata": {},
   "outputs": [],
   "source": [
    "train_df = pd.read_csv(train_csv)\n",
    "test_df = pd.read_csv(test_csv)"
   ]
  },
  {
   "cell_type": "code",
   "execution_count": 5,
   "metadata": {},
   "outputs": [
    {
     "data": {
      "text/html": [
       "<div>\n",
       "<style scoped>\n",
       "    .dataframe tbody tr th:only-of-type {\n",
       "        vertical-align: middle;\n",
       "    }\n",
       "\n",
       "    .dataframe tbody tr th {\n",
       "        vertical-align: top;\n",
       "    }\n",
       "\n",
       "    .dataframe thead th {\n",
       "        text-align: right;\n",
       "    }\n",
       "</style>\n",
       "<table border=\"1\" class=\"dataframe\">\n",
       "  <thead>\n",
       "    <tr style=\"text-align: right;\">\n",
       "      <th></th>\n",
       "      <th>Image_Path</th>\n",
       "      <th>Parasitized</th>\n",
       "    </tr>\n",
       "  </thead>\n",
       "  <tbody>\n",
       "    <tr>\n",
       "      <th>0</th>\n",
       "      <td>..\\Datasets\\Resized_data_100_100\\Parasitized\\1...</td>\n",
       "      <td>1.0</td>\n",
       "    </tr>\n",
       "    <tr>\n",
       "      <th>1</th>\n",
       "      <td>..\\Datasets\\Resized_data_100_100\\Parasitized\\1...</td>\n",
       "      <td>1.0</td>\n",
       "    </tr>\n",
       "    <tr>\n",
       "      <th>2</th>\n",
       "      <td>..\\Datasets\\Resized_data_100_100\\Uninfected\\10...</td>\n",
       "      <td>0.0</td>\n",
       "    </tr>\n",
       "    <tr>\n",
       "      <th>3</th>\n",
       "      <td>..\\Datasets\\Resized_data_100_100\\Parasitized\\1...</td>\n",
       "      <td>1.0</td>\n",
       "    </tr>\n",
       "    <tr>\n",
       "      <th>4</th>\n",
       "      <td>..\\Datasets\\Resized_data_100_100\\Parasitized\\1...</td>\n",
       "      <td>1.0</td>\n",
       "    </tr>\n",
       "  </tbody>\n",
       "</table>\n",
       "</div>"
      ],
      "text/plain": [
       "                                          Image_Path  Parasitized\n",
       "0  ..\\Datasets\\Resized_data_100_100\\Parasitized\\1...          1.0\n",
       "1  ..\\Datasets\\Resized_data_100_100\\Parasitized\\1...          1.0\n",
       "2  ..\\Datasets\\Resized_data_100_100\\Uninfected\\10...          0.0\n",
       "3  ..\\Datasets\\Resized_data_100_100\\Parasitized\\1...          1.0\n",
       "4  ..\\Datasets\\Resized_data_100_100\\Parasitized\\1...          1.0"
      ]
     },
     "execution_count": 5,
     "metadata": {},
     "output_type": "execute_result"
    }
   ],
   "source": [
    "train_df.head()"
   ]
  },
  {
   "cell_type": "code",
   "execution_count": 6,
   "metadata": {},
   "outputs": [
    {
     "data": {
      "text/plain": [
       "Image_Path      object\n",
       "Parasitized    float64\n",
       "dtype: object"
      ]
     },
     "execution_count": 6,
     "metadata": {},
     "output_type": "execute_result"
    }
   ],
   "source": [
    "train_df.dtypes"
   ]
  },
  {
   "cell_type": "markdown",
   "metadata": {},
   "source": [
    "## Data and Labels"
   ]
  },
  {
   "cell_type": "code",
   "execution_count": 7,
   "metadata": {},
   "outputs": [],
   "source": [
    "train_x = train_df['Image_Path'].to_numpy()\n",
    "train_y = train_df['Parasitized'].to_numpy()\n",
    "\n",
    "test_x  = test_df['Image_Path'].to_numpy()\n",
    "test_y  = test_df['Parasitized'].to_numpy()"
   ]
  },
  {
   "cell_type": "markdown",
   "metadata": {},
   "source": [
    "#### Load images from paths"
   ]
  },
  {
   "cell_type": "code",
   "execution_count": 8,
   "metadata": {},
   "outputs": [],
   "source": [
    "def load_images(path_arr):\n",
    "    '''Reads and loads images into a numpy array\n",
    "    Returns: a numpy array'''\n",
    "    arr = []\n",
    "    for path in path_arr:\n",
    "        arr.append(cv2.imread(path, IMAGE_MODE))\n",
    "    \n",
    "    return np.array(arr)\n"
   ]
  },
  {
   "cell_type": "code",
   "execution_count": 9,
   "metadata": {},
   "outputs": [],
   "source": [
    "train_x = load_images(train_x)\n",
    "test_x = load_images(test_x)"
   ]
  },
  {
   "cell_type": "markdown",
   "metadata": {},
   "source": [
    "#### Checking shape"
   ]
  },
  {
   "cell_type": "code",
   "execution_count": 10,
   "metadata": {},
   "outputs": [
    {
     "name": "stdout",
     "output_type": "stream",
     "text": [
      "(24802, 100, 100, 3)\n",
      "(2756, 100, 100, 3)\n"
     ]
    }
   ],
   "source": [
    "print(train_x.shape, test_x.shape, sep = '\\n')"
   ]
  },
  {
   "cell_type": "markdown",
   "metadata": {},
   "source": [
    "## Flattening"
   ]
  },
  {
   "cell_type": "code",
   "execution_count": 11,
   "metadata": {},
   "outputs": [
    {
     "name": "stdout",
     "output_type": "stream",
     "text": [
      "24802 30000\n"
     ]
    }
   ],
   "source": [
    "num_train, num_test = train_x.shape[0], test_x.shape[0]\n",
    "\n",
    "dim = 1\n",
    "for i in train_x.shape[1:]: dim*=i\n",
    "\n",
    "print(num_train, dim)"
   ]
  },
  {
   "cell_type": "code",
   "execution_count": 12,
   "metadata": {},
   "outputs": [],
   "source": [
    "train_x = train_x.reshape([num_train, dim])\n",
    "test_x = test_x.reshape([num_test, dim])"
   ]
  },
  {
   "cell_type": "markdown",
   "metadata": {},
   "source": [
    "## Naive Bayes"
   ]
  },
  {
   "cell_type": "code",
   "execution_count": 13,
   "metadata": {},
   "outputs": [
    {
     "data": {
      "text/plain": [
       "GaussianNB()"
      ]
     },
     "execution_count": 13,
     "metadata": {},
     "output_type": "execute_result"
    }
   ],
   "source": [
    "nb = GaussianNB()\n",
    "\n",
    "nb.fit(train_x, train_y)"
   ]
  },
  {
   "cell_type": "markdown",
   "metadata": {},
   "source": [
    "## Performance Evaluation"
   ]
  },
  {
   "cell_type": "code",
   "execution_count": 14,
   "metadata": {},
   "outputs": [],
   "source": [
    "y_pred_train = nb.predict(train_x)\n",
    "y_pred_test  = nb.predict(test_x)"
   ]
  },
  {
   "cell_type": "code",
   "execution_count": 15,
   "metadata": {},
   "outputs": [
    {
     "name": "stdout",
     "output_type": "stream",
     "text": [
      "[0. 0. 1. ... 0. 1. 1.]\n"
     ]
    }
   ],
   "source": [
    "print(y_pred_test)"
   ]
  },
  {
   "cell_type": "markdown",
   "metadata": {},
   "source": [
    "#### Accuracy"
   ]
  },
  {
   "cell_type": "code",
   "execution_count": 16,
   "metadata": {},
   "outputs": [
    {
     "name": "stdout",
     "output_type": "stream",
     "text": [
      "Training Accuracy is: 0.6348 and Validation Accuracy is: 0.6357\n"
     ]
    }
   ],
   "source": [
    "acc_train = accuracy_score(train_y, y_pred_train)\n",
    "acc_test  = accuracy_score(test_y , y_pred_test)\n",
    "\n",
    "print(\"Training Accuracy is: {:.4f} and Validation Accuracy is: {:.4f}\".format(acc_train, acc_test))"
   ]
  },
  {
   "cell_type": "markdown",
   "metadata": {},
   "source": [
    "#### Precision"
   ]
  },
  {
   "cell_type": "code",
   "execution_count": 17,
   "metadata": {},
   "outputs": [
    {
     "name": "stdout",
     "output_type": "stream",
     "text": [
      "Training Precision is: 0.6781 and Validation Precision is: 0.6774\n"
     ]
    }
   ],
   "source": [
    "prec_train = precision_score(train_y, y_pred_train)\n",
    "prec_test  = precision_score(test_y , y_pred_test)\n",
    "\n",
    "print(\"Training Precision is: {:.4f} and Validation Precision is: {:.4f}\".format(prec_train, prec_test))"
   ]
  },
  {
   "cell_type": "markdown",
   "metadata": {},
   "source": [
    "#### Recall"
   ]
  },
  {
   "cell_type": "code",
   "execution_count": 18,
   "metadata": {},
   "outputs": [
    {
     "name": "stdout",
     "output_type": "stream",
     "text": [
      "Training Recall is: 0.5132 and Validation Recall is: 0.5181\n"
     ]
    }
   ],
   "source": [
    "recall_train = recall_score(train_y, y_pred_train)\n",
    "recall_test  = recall_score(test_y , y_pred_test)\n",
    "\n",
    "print(\"Training Recall is: {:.4f} and Validation Recall is: {:.4f}\".format(recall_train, recall_test))"
   ]
  },
  {
   "cell_type": "markdown",
   "metadata": {},
   "source": [
    "#### F1 Score"
   ]
  },
  {
   "cell_type": "code",
   "execution_count": 19,
   "metadata": {},
   "outputs": [
    {
     "name": "stdout",
     "output_type": "stream",
     "text": [
      "Training F1-Score is: 0.5842 and Validation F1-Score is: 0.5872\n"
     ]
    }
   ],
   "source": [
    "f1_train = f1_score(train_y, y_pred_train)\n",
    "f1_test  = f1_score(test_y , y_pred_test)\n",
    "\n",
    "print(\"Training F1-Score is: {:.4f} and Validation F1-Score is: {:.4f}\".format(f1_train, f1_test))"
   ]
  },
  {
   "cell_type": "markdown",
   "metadata": {},
   "source": [
    "#### ROC AUC"
   ]
  },
  {
   "cell_type": "code",
   "execution_count": 20,
   "metadata": {},
   "outputs": [
    {
     "data": {
      "image/png": "[encoded data removed]",
      "text/plain": [
       "<Figure size 432x288 with 1 Axes>"
      ]
     },
     "metadata": {
      "needs_background": "light"
     },
     "output_type": "display_data"
    }
   ],
   "source": [
    "y_score = nb.predict_proba(test_x)\n",
    "\n",
    "fpr, tpr, _ = roc_curve(test_y, y_score[:, 1], pos_label = 1)\n",
    "roc_auc = roc_auc_score(test_y, y_score[:, 1])\n",
    "\n",
    "plt.plot(fpr, tpr, color = 'orange')\n",
    "plt.plot([0,1], [0,1], color = 'navy', linestyle = '--')\n",
    "\n",
    "plt.xlabel(\"False Positive Rate\")\n",
    "plt.ylabel(\"True Positive Rate\")\n",
    "plt.title(\"ROC Curve\\nAuC = {:.4f}\".format(roc_auc))\n",
    "\n",
    "plt.show()\n"
   ]
  }
 ],
 "metadata": {
  "kernelspec": {
   "display_name": "Python 3.8.13 ('tf2.9')",
   "language": "python",
   "name": "python3"
  },
  "language_info": {
   "codemirror_mode": {
    "name": "ipython",
    "version": 3
   },
   "file_extension": ".py",
   "mimetype": "text/x-python",
   "name": "python",
   "nbconvert_exporter": "python",
   "pygments_lexer": "ipython3",
   "version": "3.8.13"
  },
  "orig_nbformat": 4,
  "vscode": {
   "interpreter": {
    "hash": "f3f9b9e2c84dd319003698fc684ead22f769b71014b59713d46cc8251cf0f9de"
   }
  }
 },
 "nbformat": 4,
 "nbformat_minor": 2
}
