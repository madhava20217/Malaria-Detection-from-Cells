{
 "cells": [
  {
   "cell_type": "markdown",
   "metadata": {},
   "source": [
    "# Deep Neural Network"
   ]
  },
  {
   "cell_type": "markdown",
   "metadata": {},
   "source": [
    "### Image Mode"
   ]
  },
  {
   "cell_type": "code",
   "execution_count": 21,
   "metadata": {},
   "outputs": [],
   "source": [
    "IMAGE_MODE = 1      #1 for colour, 0 for grayscale, unchanged for -1"
   ]
  },
  {
   "cell_type": "markdown",
   "metadata": {},
   "source": [
    "### Datasets locations:"
   ]
  },
  {
   "cell_type": "code",
   "execution_count": 22,
   "metadata": {},
   "outputs": [],
   "source": [
    "train_csv = \"..\\\\Datasets\\\\Resized_data_50_50\\\\train.csv\"\n",
    "test_csv = \"..\\\\Datasets\\\\Resized_data_50_50\\\\test.csv\"\n",
    "\n",
    "N_CLASSES = 2"
   ]
  },
  {
   "cell_type": "markdown",
   "metadata": {},
   "source": [
    "## Imports"
   ]
  },
  {
   "cell_type": "code",
   "execution_count": 23,
   "metadata": {},
   "outputs": [],
   "source": [
    "import tensorflow as tf\n",
    "\n",
    "import pandas as pd\n",
    "import numpy as np\n",
    "\n",
    "import matplotlib.pyplot as plt\n",
    "import cv2"
   ]
  },
  {
   "cell_type": "markdown",
   "metadata": {},
   "source": [
    "## Loading the dataset"
   ]
  },
  {
   "cell_type": "code",
   "execution_count": 24,
   "metadata": {},
   "outputs": [],
   "source": [
    "train_df = pd.read_csv(train_csv)\n",
    "test_df = pd.read_csv(test_csv)"
   ]
  },
  {
   "cell_type": "code",
   "execution_count": 25,
   "metadata": {},
   "outputs": [
    {
     "data": {
      "text/html": [
       "<div>\n",
       "<style scoped>\n",
       "    .dataframe tbody tr th:only-of-type {\n",
       "        vertical-align: middle;\n",
       "    }\n",
       "\n",
       "    .dataframe tbody tr th {\n",
       "        vertical-align: top;\n",
       "    }\n",
       "\n",
       "    .dataframe thead th {\n",
       "        text-align: right;\n",
       "    }\n",
       "</style>\n",
       "<table border=\"1\" class=\"dataframe\">\n",
       "  <thead>\n",
       "    <tr style=\"text-align: right;\">\n",
       "      <th></th>\n",
       "      <th>Image_Path</th>\n",
       "      <th>Parasitized</th>\n",
       "    </tr>\n",
       "  </thead>\n",
       "  <tbody>\n",
       "    <tr>\n",
       "      <th>0</th>\n",
       "      <td>..\\Datasets\\Resized_data_50_50\\Parasitized\\50x...</td>\n",
       "      <td>1.0</td>\n",
       "    </tr>\n",
       "    <tr>\n",
       "      <th>1</th>\n",
       "      <td>..\\Datasets\\Resized_data_50_50\\Parasitized\\50x...</td>\n",
       "      <td>1.0</td>\n",
       "    </tr>\n",
       "    <tr>\n",
       "      <th>2</th>\n",
       "      <td>..\\Datasets\\Resized_data_50_50\\Uninfected\\50x5...</td>\n",
       "      <td>0.0</td>\n",
       "    </tr>\n",
       "    <tr>\n",
       "      <th>3</th>\n",
       "      <td>..\\Datasets\\Resized_data_50_50\\Parasitized\\50x...</td>\n",
       "      <td>1.0</td>\n",
       "    </tr>\n",
       "    <tr>\n",
       "      <th>4</th>\n",
       "      <td>..\\Datasets\\Resized_data_50_50\\Parasitized\\50x...</td>\n",
       "      <td>1.0</td>\n",
       "    </tr>\n",
       "  </tbody>\n",
       "</table>\n",
       "</div>"
      ],
      "text/plain": [
       "                                          Image_Path  Parasitized\n",
       "0  ..\\Datasets\\Resized_data_50_50\\Parasitized\\50x...          1.0\n",
       "1  ..\\Datasets\\Resized_data_50_50\\Parasitized\\50x...          1.0\n",
       "2  ..\\Datasets\\Resized_data_50_50\\Uninfected\\50x5...          0.0\n",
       "3  ..\\Datasets\\Resized_data_50_50\\Parasitized\\50x...          1.0\n",
       "4  ..\\Datasets\\Resized_data_50_50\\Parasitized\\50x...          1.0"
      ]
     },
     "execution_count": 25,
     "metadata": {},
     "output_type": "execute_result"
    }
   ],
   "source": [
    "train_df.head()"
   ]
  },
  {
   "cell_type": "code",
   "execution_count": 26,
   "metadata": {},
   "outputs": [
    {
     "data": {
      "text/plain": [
       "Image_Path      object\n",
       "Parasitized    float64\n",
       "dtype: object"
      ]
     },
     "execution_count": 26,
     "metadata": {},
     "output_type": "execute_result"
    }
   ],
   "source": [
    "train_df.dtypes"
   ]
  },
  {
   "cell_type": "markdown",
   "metadata": {},
   "source": [
    "## Data and Labels"
   ]
  },
  {
   "cell_type": "code",
   "execution_count": 27,
   "metadata": {},
   "outputs": [],
   "source": [
    "train_x = train_df['Image_Path'].to_numpy()\n",
    "train_y = train_df['Parasitized'].to_numpy()\n",
    "\n",
    "test_x  = test_df['Image_Path'].to_numpy()\n",
    "test_y  = test_df['Parasitized'].to_numpy()"
   ]
  },
  {
   "cell_type": "markdown",
   "metadata": {},
   "source": [
    "#### Load images from paths"
   ]
  },
  {
   "cell_type": "code",
   "execution_count": 28,
   "metadata": {},
   "outputs": [],
   "source": [
    "def load_images(path_arr):\n",
    "    '''Reads and loads images into a numpy array\n",
    "    Returns: a numpy array'''\n",
    "    arr = []\n",
    "    for path in path_arr:\n",
    "        arr.append(cv2.imread(path, IMAGE_MODE))\n",
    "    \n",
    "    return np.array(arr)\n"
   ]
  },
  {
   "cell_type": "code",
   "execution_count": 29,
   "metadata": {},
   "outputs": [],
   "source": [
    "train_x = load_images(train_x)\n",
    "test_x = load_images(test_x)"
   ]
  },
  {
   "cell_type": "markdown",
   "metadata": {},
   "source": [
    "#### Checking shape"
   ]
  },
  {
   "cell_type": "code",
   "execution_count": 30,
   "metadata": {},
   "outputs": [
    {
     "name": "stdout",
     "output_type": "stream",
     "text": [
      "(24802, 50, 50, 3)\n",
      "(2756, 50, 50, 3)\n"
     ]
    }
   ],
   "source": [
    "print(train_x.shape, test_x.shape, sep = '\\n')"
   ]
  },
  {
   "cell_type": "markdown",
   "metadata": {},
   "source": [
    "## DNN"
   ]
  },
  {
   "cell_type": "code",
   "execution_count": 31,
   "metadata": {},
   "outputs": [],
   "source": [
    "# batch sizes\n",
    "TRAIN_BATCH_SIZE = 128\n",
    "TEST_BATCH_SIZE  = 64"
   ]
  },
  {
   "cell_type": "code",
   "execution_count": 32,
   "metadata": {},
   "outputs": [],
   "source": [
    "train_x = train_x/255.0\n",
    "test_x = test_x/255.0\n",
    "\n",
    "train_ds = tf.data.Dataset.from_tensor_slices((train_x, train_y))\n",
    "test_ds  = tf.data.Dataset.from_tensor_slices((test_x, test_y))\n",
    "\n",
    "train_ds = train_ds.batch(TRAIN_BATCH_SIZE)\n",
    "test_ds  = test_ds.batch(TEST_BATCH_SIZE)"
   ]
  },
  {
   "cell_type": "code",
   "execution_count": 33,
   "metadata": {},
   "outputs": [],
   "source": [
    "height, width = train_x.shape[1], train_x.shape[2]\n",
    "dims = len(train_x.shape)-1"
   ]
  },
  {
   "cell_type": "code",
   "execution_count": 34,
   "metadata": {},
   "outputs": [
    {
     "data": {
      "text/plain": [
       "tensorflow.python.data.ops.dataset_ops.BatchDataset"
      ]
     },
     "execution_count": 34,
     "metadata": {},
     "output_type": "execute_result"
    }
   ],
   "source": [
    "type(train_ds)"
   ]
  },
  {
   "cell_type": "code",
   "execution_count": 35,
   "metadata": {},
   "outputs": [
    {
     "data": {
      "text/plain": [
       "[50, 50, 3]"
      ]
     },
     "execution_count": 35,
     "metadata": {},
     "output_type": "execute_result"
    }
   ],
   "source": [
    "input_shape = list(train_x.shape[1:])\n",
    "if(len(input_shape) == 2): input_shape.append(1)\n",
    "\n",
    "input_shape"
   ]
  },
  {
   "cell_type": "code",
   "execution_count": 69,
   "metadata": {},
   "outputs": [
    {
     "name": "stdout",
     "output_type": "stream",
     "text": [
      "Epoch 1/50\n",
      "194/194 [==============================] - 2s 9ms/step - loss: 0.6119 - accuracy: 0.6690 - val_loss: 0.5618 - val_accuracy: 0.7184\n",
      "Epoch 2/50\n",
      "194/194 [==============================] - 1s 7ms/step - loss: 0.5163 - accuracy: 0.7515 - val_loss: 0.4713 - val_accuracy: 0.7772\n",
      "Epoch 3/50\n",
      "194/194 [==============================] - 1s 7ms/step - loss: 0.3935 - accuracy: 0.8282 - val_loss: 0.3315 - val_accuracy: 0.8494\n",
      "Epoch 4/50\n",
      "194/194 [==============================] - 1s 7ms/step - loss: 0.2563 - accuracy: 0.9055 - val_loss: 0.2316 - val_accuracy: 0.9115\n",
      "Epoch 5/50\n",
      "194/194 [==============================] - 1s 7ms/step - loss: 0.1960 - accuracy: 0.9324 - val_loss: 0.1899 - val_accuracy: 0.9307\n",
      "Epoch 6/50\n",
      "194/194 [==============================] - 1s 7ms/step - loss: 0.1752 - accuracy: 0.9410 - val_loss: 0.1845 - val_accuracy: 0.9329\n",
      "Epoch 7/50\n",
      "194/194 [==============================] - 1s 7ms/step - loss: 0.1623 - accuracy: 0.9471 - val_loss: 0.1746 - val_accuracy: 0.9343\n",
      "Epoch 8/50\n",
      "194/194 [==============================] - 1s 7ms/step - loss: 0.1546 - accuracy: 0.9486 - val_loss: 0.1615 - val_accuracy: 0.9423\n",
      "Epoch 9/50\n",
      "194/194 [==============================] - 1s 7ms/step - loss: 0.1496 - accuracy: 0.9509 - val_loss: 0.1555 - val_accuracy: 0.9441\n",
      "Epoch 10/50\n",
      "194/194 [==============================] - 1s 7ms/step - loss: 0.1449 - accuracy: 0.9526 - val_loss: 0.1490 - val_accuracy: 0.9485\n",
      "Epoch 11/50\n",
      "194/194 [==============================] - 1s 7ms/step - loss: 0.1407 - accuracy: 0.9536 - val_loss: 0.1440 - val_accuracy: 0.9488\n",
      "Epoch 12/50\n",
      "194/194 [==============================] - 1s 7ms/step - loss: 0.1373 - accuracy: 0.9541 - val_loss: 0.1422 - val_accuracy: 0.9503\n",
      "Epoch 13/50\n",
      "194/194 [==============================] - 1s 7ms/step - loss: 0.1337 - accuracy: 0.9559 - val_loss: 0.1387 - val_accuracy: 0.9546\n",
      "Epoch 14/50\n",
      "194/194 [==============================] - 1s 7ms/step - loss: 0.1310 - accuracy: 0.9567 - val_loss: 0.1360 - val_accuracy: 0.9557\n",
      "Epoch 15/50\n",
      "194/194 [==============================] - 1s 7ms/step - loss: 0.1294 - accuracy: 0.9573 - val_loss: 0.1340 - val_accuracy: 0.9572\n",
      "Epoch 16/50\n",
      "194/194 [==============================] - 1s 7ms/step - loss: 0.1254 - accuracy: 0.9588 - val_loss: 0.1326 - val_accuracy: 0.9579\n",
      "Epoch 17/50\n",
      "194/194 [==============================] - 1s 7ms/step - loss: 0.1232 - accuracy: 0.9588 - val_loss: 0.1322 - val_accuracy: 0.9575\n",
      "Epoch 18/50\n",
      "194/194 [==============================] - 1s 7ms/step - loss: 0.1215 - accuracy: 0.9596 - val_loss: 0.1306 - val_accuracy: 0.9575\n",
      "Epoch 19/50\n",
      "194/194 [==============================] - 1s 7ms/step - loss: 0.1190 - accuracy: 0.9602 - val_loss: 0.1288 - val_accuracy: 0.9579\n",
      "Epoch 20/50\n",
      "194/194 [==============================] - 1s 7ms/step - loss: 0.1173 - accuracy: 0.9606 - val_loss: 0.1275 - val_accuracy: 0.9579\n",
      "Epoch 21/50\n",
      "194/194 [==============================] - 1s 7ms/step - loss: 0.1145 - accuracy: 0.9612 - val_loss: 0.1267 - val_accuracy: 0.9575\n",
      "Epoch 22/50\n",
      "194/194 [==============================] - 1s 7ms/step - loss: 0.1119 - accuracy: 0.9613 - val_loss: 0.1266 - val_accuracy: 0.9583\n",
      "Epoch 23/50\n",
      "194/194 [==============================] - 1s 7ms/step - loss: 0.1111 - accuracy: 0.9617 - val_loss: 0.1252 - val_accuracy: 0.9590\n",
      "Epoch 24/50\n",
      "194/194 [==============================] - 1s 7ms/step - loss: 0.1092 - accuracy: 0.9627 - val_loss: 0.1249 - val_accuracy: 0.9586\n",
      "Epoch 25/50\n",
      "194/194 [==============================] - 1s 7ms/step - loss: 0.1076 - accuracy: 0.9632 - val_loss: 0.1249 - val_accuracy: 0.9590\n",
      "Epoch 26/50\n",
      "194/194 [==============================] - 1s 7ms/step - loss: 0.1059 - accuracy: 0.9637 - val_loss: 0.1243 - val_accuracy: 0.9601\n",
      "Epoch 27/50\n",
      "194/194 [==============================] - 1s 7ms/step - loss: 0.1033 - accuracy: 0.9642 - val_loss: 0.1243 - val_accuracy: 0.9586\n",
      "Epoch 28/50\n",
      "194/194 [==============================] - 1s 7ms/step - loss: 0.1018 - accuracy: 0.9640 - val_loss: 0.1239 - val_accuracy: 0.9604\n",
      "Epoch 29/50\n",
      "194/194 [==============================] - 1s 7ms/step - loss: 0.1007 - accuracy: 0.9648 - val_loss: 0.1245 - val_accuracy: 0.9597\n",
      "Epoch 30/50\n",
      "194/194 [==============================] - 1s 7ms/step - loss: 0.0989 - accuracy: 0.9655 - val_loss: 0.1243 - val_accuracy: 0.9608\n",
      "Epoch 31/50\n",
      "194/194 [==============================] - 1s 7ms/step - loss: 0.0977 - accuracy: 0.9662 - val_loss: 0.1247 - val_accuracy: 0.9612\n"
     ]
    },
    {
     "data": {
      "text/plain": [
       "<keras.callbacks.History at 0x17d22517190>"
      ]
     },
     "execution_count": 69,
     "metadata": {},
     "output_type": "execute_result"
    }
   ],
   "source": [
    "dnn_model = tf.keras.Sequential([\n",
    "    tf.keras.layers.Conv2D(32, (3,3), padding = 'same', activation = 'relu', input_shape = input_shape),\n",
    "    tf.keras.layers.MaxPool2D((3,3), padding = 'same'),\n",
    "\n",
    "    tf.keras.layers.Conv2D(8, (3,3), padding = 'same', activation = 'relu'),\n",
    "    tf.keras.layers.MaxPool2D((3,3), padding = 'same'),\n",
    "\n",
    "    tf.keras.layers.Flatten(),\n",
    "\n",
    "    tf.keras.layers.Dense(256, activation = 'relu'),\n",
    "    tf.keras.layers.Dropout(0.2),\n",
    "    tf.keras.layers.Dense(N_CLASSES, activation = 'sigmoid')\n",
    "])\n",
    "\n",
    "dnn_model.compile(\n",
    "    optimizer = tf.keras.optimizers.Adam(learning_rate=0.0003),\n",
    "    loss = 'sparse_categorical_crossentropy',\n",
    "    metrics = ['accuracy']\n",
    ")\n",
    "\n",
    "dnn_model.fit(train_ds, batch_size = TRAIN_BATCH_SIZE, shuffle = True, epochs = 50, validation_data = test_ds, validation_batch_size= TEST_BATCH_SIZE, callbacks = tf.keras.callbacks.EarlyStopping(monitor = 'val_loss', patience = 3))"
   ]
  }
 ],
 "metadata": {
  "kernelspec": {
   "display_name": "Python 3.8.13 ('tf2.9')",
   "language": "python",
   "name": "python3"
  },
  "language_info": {
   "codemirror_mode": {
    "name": "ipython",
    "version": 3
   },
   "file_extension": ".py",
   "mimetype": "text/x-python",
   "name": "python",
   "nbconvert_exporter": "python",
   "pygments_lexer": "ipython3",
   "version": "3.8.13"
  },
  "orig_nbformat": 4,
  "vscode": {
   "interpreter": {
    "hash": "f3f9b9e2c84dd319003698fc684ead22f769b71014b59713d46cc8251cf0f9de"
   }
  }
 },
 "nbformat": 4,
 "nbformat_minor": 2
}
