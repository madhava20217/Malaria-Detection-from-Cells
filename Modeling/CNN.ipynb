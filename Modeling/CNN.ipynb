{
 "cells": [
  {
   "cell_type": "markdown",
   "metadata": {},
   "source": [
    "# Deep Neural Network"
   ]
  },
  {
   "cell_type": "markdown",
   "metadata": {},
   "source": [
    "### Image Mode"
   ]
  },
  {
   "cell_type": "code",
   "execution_count": 25,
   "metadata": {},
   "outputs": [],
   "source": [
    "IMAGE_MODE = 1      #1 for colour, 0 for grayscale, unchanged for -1"
   ]
  },
  {
   "cell_type": "markdown",
   "metadata": {},
   "source": [
    "### Datasets locations:"
   ]
  },
  {
   "cell_type": "code",
   "execution_count": 26,
   "metadata": {},
   "outputs": [],
   "source": [
    "train_csv = \"..\\\\Datasets\\\\Resized_data_50_50\\\\train.csv\"\n",
    "test_csv = \"..\\\\Datasets\\\\Resized_data_50_50\\\\test.csv\"\n",
    "\n",
    "N_CLASSES = 2"
   ]
  },
  {
   "cell_type": "markdown",
   "metadata": {},
   "source": [
    "## Imports"
   ]
  },
  {
   "cell_type": "code",
   "execution_count": 27,
   "metadata": {},
   "outputs": [],
   "source": [
    "import tensorflow as tf\n",
    "\n",
    "import pandas as pd\n",
    "import numpy as np\n",
    "\n",
    "import matplotlib.pyplot as plt\n",
    "import cv2"
   ]
  },
  {
   "cell_type": "markdown",
   "metadata": {},
   "source": [
    "## Loading the dataset"
   ]
  },
  {
   "cell_type": "code",
   "execution_count": 28,
   "metadata": {},
   "outputs": [],
   "source": [
    "train_df = pd.read_csv(train_csv)\n",
    "test_df = pd.read_csv(test_csv)"
   ]
  },
  {
   "cell_type": "code",
   "execution_count": 29,
   "metadata": {},
   "outputs": [
    {
     "data": {
      "text/html": [
       "<div>\n",
       "<style scoped>\n",
       "    .dataframe tbody tr th:only-of-type {\n",
       "        vertical-align: middle;\n",
       "    }\n",
       "\n",
       "    .dataframe tbody tr th {\n",
       "        vertical-align: top;\n",
       "    }\n",
       "\n",
       "    .dataframe thead th {\n",
       "        text-align: right;\n",
       "    }\n",
       "</style>\n",
       "<table border=\"1\" class=\"dataframe\">\n",
       "  <thead>\n",
       "    <tr style=\"text-align: right;\">\n",
       "      <th></th>\n",
       "      <th>Image_Path</th>\n",
       "      <th>Parasitized</th>\n",
       "    </tr>\n",
       "  </thead>\n",
       "  <tbody>\n",
       "    <tr>\n",
       "      <th>0</th>\n",
       "      <td>..\\Datasets\\Resized_data_50_50\\Parasitized\\50x...</td>\n",
       "      <td>1.0</td>\n",
       "    </tr>\n",
       "    <tr>\n",
       "      <th>1</th>\n",
       "      <td>..\\Datasets\\Resized_data_50_50\\Parasitized\\50x...</td>\n",
       "      <td>1.0</td>\n",
       "    </tr>\n",
       "    <tr>\n",
       "      <th>2</th>\n",
       "      <td>..\\Datasets\\Resized_data_50_50\\Uninfected\\50x5...</td>\n",
       "      <td>0.0</td>\n",
       "    </tr>\n",
       "    <tr>\n",
       "      <th>3</th>\n",
       "      <td>..\\Datasets\\Resized_data_50_50\\Parasitized\\50x...</td>\n",
       "      <td>1.0</td>\n",
       "    </tr>\n",
       "    <tr>\n",
       "      <th>4</th>\n",
       "      <td>..\\Datasets\\Resized_data_50_50\\Parasitized\\50x...</td>\n",
       "      <td>1.0</td>\n",
       "    </tr>\n",
       "  </tbody>\n",
       "</table>\n",
       "</div>"
      ],
      "text/plain": [
       "                                          Image_Path  Parasitized\n",
       "0  ..\\Datasets\\Resized_data_50_50\\Parasitized\\50x...          1.0\n",
       "1  ..\\Datasets\\Resized_data_50_50\\Parasitized\\50x...          1.0\n",
       "2  ..\\Datasets\\Resized_data_50_50\\Uninfected\\50x5...          0.0\n",
       "3  ..\\Datasets\\Resized_data_50_50\\Parasitized\\50x...          1.0\n",
       "4  ..\\Datasets\\Resized_data_50_50\\Parasitized\\50x...          1.0"
      ]
     },
     "execution_count": 29,
     "metadata": {},
     "output_type": "execute_result"
    }
   ],
   "source": [
    "train_df.head()"
   ]
  },
  {
   "cell_type": "code",
   "execution_count": 30,
   "metadata": {},
   "outputs": [
    {
     "data": {
      "text/plain": [
       "Image_Path      object\n",
       "Parasitized    float64\n",
       "dtype: object"
      ]
     },
     "execution_count": 30,
     "metadata": {},
     "output_type": "execute_result"
    }
   ],
   "source": [
    "train_df.dtypes"
   ]
  },
  {
   "cell_type": "markdown",
   "metadata": {},
   "source": [
    "## Data and Labels"
   ]
  },
  {
   "cell_type": "code",
   "execution_count": 31,
   "metadata": {},
   "outputs": [],
   "source": [
    "train_x = train_df['Image_Path'].to_numpy()\n",
    "train_y = train_df['Parasitized'].to_numpy()\n",
    "\n",
    "test_x  = test_df['Image_Path'].to_numpy()\n",
    "test_y  = test_df['Parasitized'].to_numpy()"
   ]
  },
  {
   "cell_type": "markdown",
   "metadata": {},
   "source": [
    "#### Load images from paths"
   ]
  },
  {
   "cell_type": "code",
   "execution_count": 32,
   "metadata": {},
   "outputs": [],
   "source": [
    "def load_images(path_arr):\n",
    "    '''Reads and loads images into a numpy array\n",
    "    Returns: a numpy array'''\n",
    "    arr = []\n",
    "    for path in path_arr:\n",
    "        arr.append(cv2.imread(path, IMAGE_MODE))\n",
    "    \n",
    "    return np.array(arr)\n"
   ]
  },
  {
   "cell_type": "code",
   "execution_count": 33,
   "metadata": {},
   "outputs": [],
   "source": [
    "train_x = load_images(train_x)\n",
    "test_x = load_images(test_x)"
   ]
  },
  {
   "cell_type": "markdown",
   "metadata": {},
   "source": [
    "#### Checking shape"
   ]
  },
  {
   "cell_type": "code",
   "execution_count": 34,
   "metadata": {},
   "outputs": [
    {
     "name": "stdout",
     "output_type": "stream",
     "text": [
      "(24802, 50, 50, 3)\n",
      "(2756, 50, 50, 3)\n"
     ]
    }
   ],
   "source": [
    "print(train_x.shape, test_x.shape, sep = '\\n')"
   ]
  },
  {
   "cell_type": "markdown",
   "metadata": {},
   "source": [
    "## DNN"
   ]
  },
  {
   "cell_type": "code",
   "execution_count": 35,
   "metadata": {},
   "outputs": [],
   "source": [
    "# batch sizes\n",
    "TRAIN_BATCH_SIZE = 128\n",
    "TEST_BATCH_SIZE  = 64"
   ]
  },
  {
   "cell_type": "code",
   "execution_count": 36,
   "metadata": {},
   "outputs": [],
   "source": [
    "train_x = train_x/255.0\n",
    "test_x = test_x/255.0\n",
    "\n",
    "train_ds = tf.data.Dataset.from_tensor_slices((train_x, train_y))\n",
    "test_ds  = tf.data.Dataset.from_tensor_slices((test_x, test_y))\n",
    "\n",
    "train_ds = train_ds.batch(TRAIN_BATCH_SIZE)\n",
    "test_ds  = test_ds.batch(TEST_BATCH_SIZE)"
   ]
  },
  {
   "cell_type": "code",
   "execution_count": 37,
   "metadata": {},
   "outputs": [],
   "source": [
    "height, width = train_x.shape[1], train_x.shape[2]\n",
    "dims = len(train_x.shape)-1"
   ]
  },
  {
   "cell_type": "code",
   "execution_count": 38,
   "metadata": {},
   "outputs": [
    {
     "data": {
      "text/plain": [
       "tensorflow.python.data.ops.dataset_ops.BatchDataset"
      ]
     },
     "execution_count": 38,
     "metadata": {},
     "output_type": "execute_result"
    }
   ],
   "source": [
    "type(train_ds)"
   ]
  },
  {
   "cell_type": "code",
   "execution_count": 39,
   "metadata": {},
   "outputs": [
    {
     "data": {
      "text/plain": [
       "[50, 50, 3]"
      ]
     },
     "execution_count": 39,
     "metadata": {},
     "output_type": "execute_result"
    }
   ],
   "source": [
    "input_shape = list(train_x.shape[1:])\n",
    "if(len(input_shape) == 2): input_shape.append(1)\n",
    "\n",
    "input_shape"
   ]
  },
  {
   "cell_type": "code",
   "execution_count": 46,
   "metadata": {},
   "outputs": [
    {
     "name": "stdout",
     "output_type": "stream",
     "text": [
      "Epoch 1/50\n",
      "194/194 [==============================] - 2s 7ms/step - loss: 0.6324 - accuracy: 0.6324 - val_loss: 0.5627 - val_accuracy: 0.6988\n",
      "Epoch 2/50\n",
      "194/194 [==============================] - 1s 6ms/step - loss: 0.4666 - accuracy: 0.7843 - val_loss: 0.4280 - val_accuracy: 0.7914\n",
      "Epoch 3/50\n",
      "194/194 [==============================] - 1s 6ms/step - loss: 0.3242 - accuracy: 0.8614 - val_loss: 0.3162 - val_accuracy: 0.8567\n",
      "Epoch 4/50\n",
      "194/194 [==============================] - 1s 6ms/step - loss: 0.2301 - accuracy: 0.9120 - val_loss: 0.2335 - val_accuracy: 0.9078\n",
      "Epoch 5/50\n",
      "194/194 [==============================] - 1s 6ms/step - loss: 0.1798 - accuracy: 0.9357 - val_loss: 0.1798 - val_accuracy: 0.9340\n",
      "Epoch 6/50\n",
      "194/194 [==============================] - 1s 6ms/step - loss: 0.1582 - accuracy: 0.9434 - val_loss: 0.1768 - val_accuracy: 0.9340\n",
      "Epoch 7/50\n",
      "194/194 [==============================] - 1s 6ms/step - loss: 0.1466 - accuracy: 0.9492 - val_loss: 0.1555 - val_accuracy: 0.9423\n",
      "Epoch 8/50\n",
      "194/194 [==============================] - 1s 6ms/step - loss: 0.1361 - accuracy: 0.9521 - val_loss: 0.1442 - val_accuracy: 0.9485\n",
      "Epoch 9/50\n",
      "194/194 [==============================] - 1s 6ms/step - loss: 0.1268 - accuracy: 0.9552 - val_loss: 0.1402 - val_accuracy: 0.9488\n",
      "Epoch 10/50\n",
      "194/194 [==============================] - 1s 6ms/step - loss: 0.1216 - accuracy: 0.9574 - val_loss: 0.1378 - val_accuracy: 0.9510\n",
      "Epoch 11/50\n",
      "194/194 [==============================] - 1s 6ms/step - loss: 0.1157 - accuracy: 0.9593 - val_loss: 0.1389 - val_accuracy: 0.9536\n",
      "Epoch 12/50\n",
      "194/194 [==============================] - 1s 6ms/step - loss: 0.1107 - accuracy: 0.9611 - val_loss: 0.1369 - val_accuracy: 0.9521\n",
      "Epoch 13/50\n",
      "194/194 [==============================] - 1s 6ms/step - loss: 0.1046 - accuracy: 0.9628 - val_loss: 0.1344 - val_accuracy: 0.9536\n",
      "Epoch 14/50\n",
      "194/194 [==============================] - 1s 6ms/step - loss: 0.0991 - accuracy: 0.9660 - val_loss: 0.1373 - val_accuracy: 0.9536\n",
      "Epoch 15/50\n",
      "194/194 [==============================] - 1s 6ms/step - loss: 0.0973 - accuracy: 0.9657 - val_loss: 0.1402 - val_accuracy: 0.9521\n",
      "Epoch 16/50\n",
      "194/194 [==============================] - 1s 6ms/step - loss: 0.0898 - accuracy: 0.9679 - val_loss: 0.1409 - val_accuracy: 0.9525\n"
     ]
    },
    {
     "data": {
      "text/plain": [
       "<keras.callbacks.History at 0x1ce58050d00>"
      ]
     },
     "execution_count": 46,
     "metadata": {},
     "output_type": "execute_result"
    }
   ],
   "source": [
    "dnn_model = tf.keras.Sequential([\n",
    "    tf.keras.layers.Conv2D(8, (3,3), padding = 'same', activation = 'relu', input_shape = input_shape),\n",
    "    tf.keras.layers.MaxPool2D((3,3), padding = 'same'),\n",
    "\n",
    "    tf.keras.layers.Conv2D(16, (3,3), padding = 'same', activation = 'relu'),\n",
    "    tf.keras.layers.MaxPool2D((3,3), padding = 'same'),\n",
    "\n",
    "    tf.keras.layers.Flatten(),\n",
    "\n",
    "    tf.keras.layers.Dense(256, activation = 'relu'),\n",
    "    tf.keras.layers.Dropout(0.2),\n",
    "    tf.keras.layers.Dense(N_CLASSES, activation = 'sigmoid')\n",
    "])\n",
    "\n",
    "dnn_model.compile(\n",
    "    optimizer = tf.keras.optimizers.Adam(learning_rate=0.001),\n",
    "    loss = 'sparse_categorical_crossentropy',\n",
    "    metrics = ['accuracy']\n",
    ")\n",
    "\n",
    "dnn_model.fit(train_ds, batch_size = TRAIN_BATCH_SIZE, epochs = 50, validation_data = test_ds, validation_batch_size= TEST_BATCH_SIZE, callbacks = tf.keras.callbacks.EarlyStopping(monitor = 'val_loss', patience = 3))"
   ]
  }
 ],
 "metadata": {
  "kernelspec": {
   "display_name": "Python 3.8.13 ('tf2.9')",
   "language": "python",
   "name": "python3"
  },
  "language_info": {
   "codemirror_mode": {
    "name": "ipython",
    "version": 3
   },
   "file_extension": ".py",
   "mimetype": "text/x-python",
   "name": "python",
   "nbconvert_exporter": "python",
   "pygments_lexer": "ipython3",
   "version": "3.8.13"
  },
  "orig_nbformat": 4,
  "vscode": {
   "interpreter": {
    "hash": "f3f9b9e2c84dd319003698fc684ead22f769b71014b59713d46cc8251cf0f9de"
   }
  }
 },
 "nbformat": 4,
 "nbformat_minor": 2
}
