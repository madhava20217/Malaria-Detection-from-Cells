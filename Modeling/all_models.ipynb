{
 "cells": [
  {
   "cell_type": "code",
   "execution_count": 30,
   "metadata": {},
   "outputs": [],
   "source": [
    "import pandas as pd\n",
    "import numpy as np\n",
    "import tensorflow as tf\n",
    "import os\n",
    "\n",
    "import seaborn as sns\n",
    "import matplotlib.pyplot as plt\n",
    "import sys\n",
    "\n",
    "import skimage\n",
    "from skimage.color import rgb2hsv\n",
    "from tqdm import tqdm"
   ]
  },
  {
   "cell_type": "code",
   "execution_count": 10,
   "metadata": {},
   "outputs": [],
   "source": [
    "sys.path.append(os.path.dirname(os.path.join((os.path.pardir), \"Modules\")))\n",
    "\n",
    "origin_dir = os.path.join(os.path.pardir, 'Data')\n",
    "new_dir_path = os.path.join(os.path.pardir, 'Data', 'cell_images')\n",
    "\n",
    "#for local systems\n",
    "train_csv = os.path.join(origin_dir, 'train.csv')\n",
    "test_csv = os.path.join(origin_dir, 'test.csv')\n",
    "val_csv = os.path.join(origin_dir, 'val.csv')\n",
    "\n",
    "from Modules.data_download import Data_Download\n",
    "from Modules.labelling import Labelling\n",
    "\n",
    "# download = Data_Download(origin_dir)\n",
    "# data_dir = download.resize_image(new_dir_path, 44, 44)\n",
    "\n",
    "lab = Labelling()\n",
    "lab.label('../Data/cell_images/', exclude_mislabeled= True)      # function to label the dataset\n",
    "train_csv, val_csv, test_csv = lab.train_test_val_split('../Data/', '../Data/cell_images/labels.csv', random_state = 12345)"
   ]
  },
  {
   "cell_type": "code",
   "execution_count": 11,
   "metadata": {},
   "outputs": [],
   "source": [
    "train_data = pd.read_csv(train_csv)\n",
    "val_data   = pd.read_csv(val_csv)\n",
    "test_data  = pd.read_csv(test_csv)"
   ]
  },
  {
   "cell_type": "code",
   "execution_count": 31,
   "metadata": {},
   "outputs": [],
   "source": [
    "def read_image(path):\n",
    "    '''Function to read images given a path and return an array'''\n",
    "    return skimage.io.imread(path)"
   ]
  },
  {
   "cell_type": "code",
   "execution_count": 105,
   "metadata": {},
   "outputs": [
    {
     "name": "stdout",
     "output_type": "stream",
     "text": [
      "../Data/cell_images/Uninfected\\C149P110ThinF_IMG_20151115_114629_cell_57.png\n",
      "0.9833333333333334\n"
     ]
    },
    {
     "data": {
      "text/plain": [
       "<matplotlib.image.AxesImage at 0x208066ec400>"
      ]
     },
     "execution_count": 105,
     "metadata": {},
     "output_type": "execute_result"
    },
    {
     "data": {
      "image/png": "[encoded data removed]",
      "text/plain": [
       "<Figure size 640x480 with 1 Axes>"
      ]
     },
     "metadata": {},
     "output_type": "display_data"
    }
   ],
   "source": [
    "i = 13\n",
    "\n",
    "print(train_data['Image_Path'][i])\n",
    "image = rgb2hsv(skimage.io.imread(train_data['Image_Path'][i]))\n",
    "print(np.max(image))\n",
    "result = ((image > 0.5)*image)[..., 1]\n",
    "plt.imshow(result, 'gray')"
   ]
  },
  {
   "cell_type": "code",
   "execution_count": 28,
   "metadata": {},
   "outputs": [
    {
     "name": "stderr",
     "output_type": "stream",
     "text": [
      "100%|██████████| 20601/20601 [00:17<00:00, 1177.31it/s]\n",
      "100%|██████████| 2943/2943 [00:07<00:00, 369.44it/s]\n",
      "100%|██████████| 2617/2617 [00:06<00:00, 378.96it/s]\n"
     ]
    }
   ],
   "source": [
    "tqdm.pandas()\n",
    "train_data['image_arr'] = train_data['Image_Path'].progress_apply(read_image)\n",
    "val_data['image_arr']   = val_data['Image_Path'].progress_apply(read_image)\n",
    "test_data['image_arr']  = test_data['Image_Path'].progress_apply(read_image)"
   ]
  }
 ],
 "metadata": {
  "kernelspec": {
   "display_name": "Python 3.10.0 ('ml')",
   "language": "python",
   "name": "python3"
  },
  "language_info": {
   "codemirror_mode": {
    "name": "ipython",
    "version": 3
   },
   "file_extension": ".py",
   "mimetype": "text/x-python",
   "name": "python",
   "nbconvert_exporter": "python",
   "pygments_lexer": "ipython3",
   "version": "3.10.0"
  },
  "orig_nbformat": 4,
  "vscode": {
   "interpreter": {
    "hash": "c58e9361bde7ca617934da376e83056db506761bdc9593ca2087fabac973f609"
   }
  }
 },
 "nbformat": 4,
 "nbformat_minor": 2
}
