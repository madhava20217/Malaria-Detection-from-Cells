{
 "cells": [
  {
   "cell_type": "markdown",
   "metadata": {},
   "source": [
    "## Imports"
   ]
  },
  {
   "cell_type": "code",
   "execution_count": 1,
   "metadata": {},
   "outputs": [],
   "source": [
    "import pandas as pd\n",
    "import numpy as np\n",
    "import tensorflow as tf\n",
    "import os\n",
    "\n",
    "import seaborn as sns\n",
    "import matplotlib.pyplot as plt\n",
    "import sys\n",
    "\n",
    "import skimage\n",
    "from skimage.color import rgb2hsv\n",
    "from skimage.transform import rescale, resize\n",
    "from tqdm import tqdm\n",
    "\n",
    "import sys\n",
    "import os\n",
    "\n",
    "from sklearn.metrics import classification_report\n",
    "\n",
    "\n",
    "import bz2, pickle, _pickle as cPickle\n",
    "\n",
    "import random\n",
    "\n",
    "# random.seed(1234)\n",
    "\n",
    "module_path = os.path.abspath(os.path.join('..'))\n",
    "if module_path not in sys.path:\n",
    "    sys.path.append(module_path+\"\\\\Modules\\\\Testing\")\n",
    "import testing_module\n",
    "\n",
    "SAVE_DIR = \"../Pickled Datasets/\"\n",
    "\n",
    "HEIGHT = 25\n",
    "WIDTH  = 25\n",
    "\n",
    "\n",
    "def compressed_pickle(name: str, data):\n",
    "    with bz2.BZ2File(os.path.join(SAVE_DIR, \"{}.pbz2\".format(name)), 'w') as f:\n",
    "        cPickle.dump(data, f)\n",
    "\n",
    "def decompress_pickle(file):\n",
    "    data = bz2.BZ2File(file, 'rb')\n",
    "    data = cPickle.load(data)\n",
    "    return data\n",
    "\n",
    "    "
   ]
  },
  {
   "cell_type": "markdown",
   "metadata": {},
   "source": [
    "SKImage rescales the image for us! Which means that we don't need to rescale by 255.0 anymore, saving us needlessly spent time and effort. There is another Augmentor library which can be used for data augmentation. We can simply sample the augmented images henceforth!"
   ]
  },
  {
   "cell_type": "markdown",
   "metadata": {},
   "source": [
    "## Preliminary setup"
   ]
  },
  {
   "cell_type": "code",
   "execution_count": 2,
   "metadata": {},
   "outputs": [],
   "source": [
    "sys.path.append(os.path.dirname(os.path.join((os.path.pardir), \"Modules\")))\n",
    "\n",
    "origin_dir = os.path.join(os.path.pardir, 'Data')\n",
    "new_dir_path = os.path.join(os.path.pardir, 'Data', 'cell_images')\n",
    "\n",
    "#for local systems\n",
    "train_csv = os.path.join(origin_dir, 'train.csv')\n",
    "test_csv = os.path.join(origin_dir, 'test.csv')\n",
    "val_csv = os.path.join(origin_dir, 'val.csv')\n",
    "\n",
    "from Modules.labelling import Labelling\n",
    "\n",
    "# download = Data_Download(origin_dir)\n",
    "# data_dir = download.resize_image(new_dir_path, 44, 44)\n",
    "\n",
    "lab = Labelling()\n",
    "lab.label('../Data/cell_images/', exclude_mislabeled= True)      # function to label the dataset\n",
    "train_csv, val_csv, test_csv = lab.train_test_val_split('../Data/', '../Data/cell_images/labels.csv', random_state = 1234)"
   ]
  },
  {
   "cell_type": "code",
   "execution_count": 3,
   "metadata": {},
   "outputs": [],
   "source": [
    "train_data = pd.read_csv(train_csv)\n",
    "val_data   = pd.read_csv(val_csv)\n",
    "test_data  = pd.read_csv(test_csv)"
   ]
  },
  {
   "cell_type": "markdown",
   "metadata": {},
   "source": [
    "### Reading images"
   ]
  },
  {
   "cell_type": "code",
   "execution_count": 4,
   "metadata": {},
   "outputs": [],
   "source": [
    "def read_image(path):\n",
    "    '''Function to read images given a path and return an array'''\n",
    "    return skimage.io.imread(path)"
   ]
  },
  {
   "cell_type": "code",
   "execution_count": 5,
   "metadata": {},
   "outputs": [
    {
     "name": "stdout",
     "output_type": "stream",
     "text": [
      "../Data/cell_images/Parasitized\\C39P4thinF_original_IMG_20150622_105102_cell_95.png\n",
      "0.9966666666666667\n"
     ]
    },
    {
     "data": {
      "text/plain": [
       "<matplotlib.image.AxesImage at 0x1f086ad5c00>"
      ]
     },
     "execution_count": 5,
     "metadata": {},
     "output_type": "execute_result"
    },
    {
     "data": {
      "image/png": "[encoded data removed]",
      "text/plain": [
       "<Figure size 640x480 with 1 Axes>"
      ]
     },
     "metadata": {},
     "output_type": "display_data"
    }
   ],
   "source": [
    "i = 14\n",
    "\n",
    "print(train_data['Image_Path'][i])\n",
    "image = rgb2hsv(skimage.io.imread(train_data['Image_Path'][i]))\n",
    "print(np.max(image))\n",
    "result = ((image > 0.5)*image)[..., 1]\n",
    "plt.imshow(result, 'gray')"
   ]
  },
  {
   "cell_type": "code",
   "execution_count": 6,
   "metadata": {},
   "outputs": [
    {
     "name": "stderr",
     "output_type": "stream",
     "text": [
      "100%|██████████| 20601/20601 [00:15<00:00, 1356.70it/s]\n",
      "100%|██████████| 2943/2943 [00:02<00:00, 1293.60it/s]\n",
      "100%|██████████| 2617/2617 [00:02<00:00, 1218.91it/s]\n"
     ]
    }
   ],
   "source": [
    "tqdm.pandas()\n",
    "train_data['image_arr'] = train_data['Image_Path'].progress_apply(lambda x: read_image(x))\n",
    "val_data['image_arr']   = val_data['Image_Path'].progress_apply(lambda x: read_image(x))\n",
    "test_data['image_arr']  = test_data['Image_Path'].progress_apply(lambda x: read_image(x))\n",
    "\n",
    "\n",
    "x_train, y_train = train_data['image_arr'].to_numpy(), train_data['Parasitized'].to_numpy()\n",
    "x_val  , y_val   = val_data['image_arr'].to_numpy()  , val_data['Parasitized'].to_numpy()\n",
    "x_test , y_test  = test_data['image_arr'].to_numpy() , test_data['Parasitized'].to_numpy()"
   ]
  },
  {
   "cell_type": "markdown",
   "metadata": {},
   "source": [
    "## Data Augmentation"
   ]
  },
  {
   "cell_type": "code",
   "execution_count": 7,
   "metadata": {},
   "outputs": [],
   "source": [
    "import albumentations as A\n",
    "import cv2"
   ]
  },
  {
   "cell_type": "code",
   "execution_count": 8,
   "metadata": {},
   "outputs": [
    {
     "name": "stderr",
     "output_type": "stream",
     "text": [
      "20601it [00:21, 946.82it/s]\n"
     ]
    }
   ],
   "source": [
    "augment = A.augmentations.geometric.transforms.Affine(\n",
    "    translate_percent = 0.1,\n",
    "    rotate = 60,\n",
    "    shear = 30\n",
    "    )\n",
    "\n",
    "augment = A.ShiftScaleRotate(scale_limit = (-0.5, 0.01),rotate_limit= 180, border_mode=cv2.BORDER_CONSTANT, always_apply= True)\n",
    "\n",
    "transform = A.Compose(\n",
    "    [augment,\n",
    "    A.VerticalFlip(p = 0.5),\n",
    "    A.HorizontalFlip(p = 0.5),\n",
    "    A.augmentations.geometric.Affine(shear = 30),\n",
    "    A.Resize(HEIGHT, WIDTH, always_apply= True)\n",
    "    ]\n",
    ")\n",
    "\n",
    "aug_dataset = []\n",
    "aug_labels = []\n",
    "COPIES = 3\n",
    "\n",
    "for i, lab in tqdm(zip(x_train, y_train)):\n",
    "    for _ in range(COPIES):\n",
    "        aug_dataset.append(transform(image = i)['image'])\n",
    "        aug_labels.append(lab)"
   ]
  },
  {
   "cell_type": "code",
   "execution_count": 9,
   "metadata": {},
   "outputs": [],
   "source": [
    "x_train_aug = np.array(aug_dataset)\n",
    "y_train_aug = np.array(aug_labels)"
   ]
  },
  {
   "cell_type": "markdown",
   "metadata": {},
   "source": [
    "### Resizing"
   ]
  },
  {
   "cell_type": "code",
   "execution_count": 10,
   "metadata": {},
   "outputs": [
    {
     "name": "stderr",
     "output_type": "stream",
     "text": [
      "100%|██████████| 20601/20601 [00:19<00:00, 1048.81it/s]\n",
      "100%|██████████| 2943/2943 [00:02<00:00, 1125.43it/s]\n",
      "100%|██████████| 2617/2617 [00:02<00:00, 1131.18it/s]\n"
     ]
    }
   ],
   "source": [
    "temp = []\n",
    "for img in tqdm(x_train):\n",
    "    temp.append(resize(img, (HEIGHT, WIDTH)))\n",
    "x_train = np.array(temp)\n",
    "\n",
    "\n",
    "temp = []\n",
    "for img in tqdm(x_val):\n",
    "    temp.append(resize(img, (HEIGHT, WIDTH)))\n",
    "x_val = np.array(temp)\n",
    "\n",
    "\n",
    "temp = []\n",
    "for img in tqdm(x_test):\n",
    "    temp.append(resize(img, (HEIGHT, WIDTH)))\n",
    "x_test = np.array(temp)"
   ]
  },
  {
   "cell_type": "markdown",
   "metadata": {},
   "source": [
    "## Saving Data"
   ]
  },
  {
   "cell_type": "code",
   "execution_count": 11,
   "metadata": {},
   "outputs": [],
   "source": [
    "compressed_pickle(\"x_train_aug\", x_train_aug)\n",
    "compressed_pickle(\"y_train_aug\", y_train_aug)\n",
    "compressed_pickle(\"x_train\", x_train)\n",
    "compressed_pickle(\"y_train\", y_train)\n",
    "compressed_pickle(\"x_val\", x_val)\n",
    "compressed_pickle(\"y_val\", y_val)\n",
    "compressed_pickle(\"x_test\", x_test)\n",
    "compressed_pickle(\"y_test\", y_test)"
   ]
  },
  {
   "cell_type": "markdown",
   "metadata": {},
   "source": [
    "## Loading Data"
   ]
  },
  {
   "cell_type": "code",
   "execution_count": 12,
   "metadata": {},
   "outputs": [
    {
     "name": "stdout",
     "output_type": "stream",
     "text": [
      "augmented:  (61803, 25, 25, 3) (61803,)\n",
      "train:  (20601, 25, 25, 3) (20601,)\n",
      "val:  (2943, 25, 25, 3) (2943,)\n",
      "test:  (2617, 25, 25, 3) (2617,)\n"
     ]
    }
   ],
   "source": [
    "x_train_aug = decompress_pickle(SAVE_DIR + 'x_train_aug.pbz2')\n",
    "y_train_aug = decompress_pickle(SAVE_DIR + 'y_train_aug.pbz2')\n",
    "x_train = decompress_pickle(SAVE_DIR + 'x_train.pbz2')\n",
    "y_train = decompress_pickle(SAVE_DIR + 'y_train.pbz2')\n",
    "x_val = decompress_pickle(SAVE_DIR + 'x_val.pbz2')\n",
    "y_val = decompress_pickle(SAVE_DIR + 'y_val.pbz2')\n",
    "x_test = decompress_pickle(SAVE_DIR + 'x_test.pbz2')\n",
    "y_test = decompress_pickle(SAVE_DIR + 'y_test.pbz2')\n",
    "\n",
    "print(\"augmented: \", x_train_aug.shape, y_train_aug.shape)\n",
    "print(\"train: \", x_train.shape, y_train.shape)\n",
    "print(\"val: \", x_val.shape, y_val.shape)\n",
    "print(\"test: \", x_test.shape, y_test.shape)"
   ]
  },
  {
   "cell_type": "code",
   "execution_count": 13,
   "metadata": {},
   "outputs": [],
   "source": [
    "n_aug_train = x_train_aug.shape[0]\n",
    "n_train     = x_train.shape[0]\n",
    "n_val       = x_val.shape[0]\n",
    "n_test      = x_test.shape[0]"
   ]
  },
  {
   "cell_type": "markdown",
   "metadata": {},
   "source": [
    "## Modeling"
   ]
  },
  {
   "cell_type": "code",
   "execution_count": 14,
   "metadata": {},
   "outputs": [],
   "source": [
    "N_DIGITS = 3"
   ]
  },
  {
   "cell_type": "markdown",
   "metadata": {},
   "source": [
    "### Unaugmented"
   ]
  },
  {
   "cell_type": "markdown",
   "metadata": {},
   "source": [
    "#### Naive Bayes"
   ]
  },
  {
   "cell_type": "code",
   "execution_count": 15,
   "metadata": {},
   "outputs": [
    {
     "name": "stdout",
     "output_type": "stream",
     "text": [
      "Training Classification Report: \n",
      "               precision    recall  f1-score   support\n",
      "\n",
      "         0.0      0.611     0.746     0.672     10260\n",
      "         1.0      0.677     0.530     0.594     10341\n",
      "\n",
      "    accuracy                          0.637     20601\n",
      "   macro avg      0.644     0.638     0.633     20601\n",
      "weighted avg      0.644     0.637     0.633     20601\n",
      "\n",
      "\n",
      "Validation Classification Report: \n",
      "               precision    recall  f1-score   support\n",
      "\n",
      "         0.0      0.620     0.761     0.683      1466\n",
      "         1.0      0.693     0.538     0.606      1477\n",
      "\n",
      "    accuracy                          0.649      2943\n",
      "   macro avg      0.657     0.649     0.644      2943\n",
      "weighted avg      0.657     0.649     0.644      2943\n",
      "\n",
      "\n",
      "Testing Classification Report: \n",
      "               precision    recall  f1-score   support\n",
      "\n",
      "         0.0      0.613     0.766     0.681      1303\n",
      "         1.0      0.692     0.521     0.595      1314\n",
      "\n",
      "    accuracy                          0.643      2617\n",
      "   macro avg      0.653     0.644     0.638      2617\n",
      "weighted avg      0.653     0.643     0.638      2617\n",
      "\n"
     ]
    }
   ],
   "source": [
    "from sklearn import naive_bayes\n",
    "\n",
    "nb_cls = naive_bayes.GaussianNB()\n",
    "nb_cls.fit(x_train.reshape(n_train, -1), y_train)\n",
    "preds_train = nb_cls.predict(x_train.reshape(n_train, -1))\n",
    "preds_val   = nb_cls.predict(x_val.reshape(n_val, -1))\n",
    "preds_test  = nb_cls.predict(x_test.reshape(n_test, -1))\n",
    "\n",
    "print(\"Training Classification Report: \\n\", classification_report(y_train, preds_train, digits = N_DIGITS))\n",
    "print(\"\\nValidation Classification Report: \\n\", classification_report(y_val, preds_val, digits = N_DIGITS))\n",
    "print(\"\\nTesting Classification Report: \\n\", classification_report(y_test, preds_test, digits = N_DIGITS))\n",
    "\n",
    "# eval = testing_module.ModelEvaluation(y_val, \n",
    "#     nb_cls.predict(x_val.reshape(n_val, -1)),\n",
    "#     model_reference_name = 'Naive Bayes',\n",
    "#     model_type = 'classification',\n",
    "#     plot_classification_metric = ['roc_auc']) # if classification\n",
    "# eval.evaluate(evaluate_save= True, plots_show = True)"
   ]
  },
  {
   "cell_type": "markdown",
   "metadata": {},
   "source": [
    "#### Logistic Regression"
   ]
  },
  {
   "cell_type": "code",
   "execution_count": 16,
   "metadata": {},
   "outputs": [
    {
     "name": "stderr",
     "output_type": "stream",
     "text": [
      "[Parallel(n_jobs=-1)]: Using backend ThreadingBackend with 24 concurrent workers.\n"
     ]
    },
    {
     "name": "stdout",
     "output_type": "stream",
     "text": [
      "max_iter reached after 43 seconds\n",
      "Training Classification Report: \n",
      "               precision    recall  f1-score   support\n",
      "\n",
      "         0.0      0.729     0.754     0.741     10260\n",
      "         1.0      0.747     0.722     0.734     10341\n",
      "\n",
      "    accuracy                          0.738     20601\n",
      "   macro avg      0.738     0.738     0.738     20601\n",
      "weighted avg      0.738     0.738     0.738     20601\n",
      "\n",
      "\n",
      "Validation Classification Report: \n",
      "               precision    recall  f1-score   support\n",
      "\n",
      "         0.0      0.693     0.715     0.704      1466\n",
      "         1.0      0.708     0.685     0.696      1477\n",
      "\n",
      "    accuracy                          0.700      2943\n",
      "   macro avg      0.700     0.700     0.700      2943\n",
      "weighted avg      0.700     0.700     0.700      2943\n",
      "\n",
      "\n",
      "Testing Classification Report: \n",
      "               precision    recall  f1-score   support\n",
      "\n",
      "         0.0      0.689     0.738     0.713      1303\n",
      "         1.0      0.721     0.670     0.694      1314\n",
      "\n",
      "    accuracy                          0.704      2617\n",
      "   macro avg      0.705     0.704     0.704      2617\n",
      "weighted avg      0.705     0.704     0.704      2617\n",
      "\n"
     ]
    },
    {
     "name": "stderr",
     "output_type": "stream",
     "text": [
      "c:\\ProgramData\\Anaconda3\\envs\\ml\\lib\\site-packages\\sklearn\\linear_model\\_sag.py:350: ConvergenceWarning: The max_iter was reached which means the coef_ did not converge\n",
      "  warnings.warn(\n",
      "[Parallel(n_jobs=-1)]: Done   1 tasks      | elapsed:   42.9s\n",
      "[Parallel(n_jobs=-1)]: Done   1 out of   1 | elapsed:   42.9s finished\n"
     ]
    }
   ],
   "source": [
    "from sklearn.linear_model import LogisticRegression\n",
    "\n",
    "logreg_cls =  LogisticRegression(max_iter = 200, verbose = 10, n_jobs = -1, solver = 'saga')\n",
    "logreg_cls.fit(x_train.reshape(n_train, -1), y_train)\n",
    "preds_train = logreg_cls.predict(x_train.reshape(n_train, -1))\n",
    "preds_val   = logreg_cls.predict(x_val.reshape(n_val, -1))\n",
    "preds_test  = logreg_cls.predict(x_test.reshape(n_test, -1))\n",
    "\n",
    "print(\"Training Classification Report: \\n\", classification_report(y_train, preds_train, digits = N_DIGITS))\n",
    "print(\"\\nValidation Classification Report: \\n\", classification_report(y_val, preds_val, digits = N_DIGITS))\n",
    "print(\"\\nTesting Classification Report: \\n\", classification_report(y_test, preds_test, digits = N_DIGITS))\n",
    "\n",
    "# eval = testing_module.ModelEvaluation(y_val, \n",
    "#     nb_cls.predict(x_val.reshape(n_val, -1)),\n",
    "#     model_reference_name = 'Naive Bayes',\n",
    "#     model_type = 'classification',\n",
    "#     plot_classification_metric = ['roc_auc']) # if classification\n",
    "# eval.evaluate(evaluate_save= True, plots_show = True)"
   ]
  },
  {
   "cell_type": "markdown",
   "metadata": {},
   "source": [
    "#### Decision Trees"
   ]
  },
  {
   "cell_type": "code",
   "execution_count": 17,
   "metadata": {},
   "outputs": [
    {
     "name": "stdout",
     "output_type": "stream",
     "text": [
      "Training Classification Report: \n",
      "               precision    recall  f1-score   support\n",
      "\n",
      "         0.0      0.685     0.774     0.727     10260\n",
      "         1.0      0.743     0.646     0.691     10341\n",
      "\n",
      "    accuracy                          0.710     20601\n",
      "   macro avg      0.714     0.710     0.709     20601\n",
      "weighted avg      0.714     0.710     0.709     20601\n",
      "\n",
      "\n",
      "Validation Classification Report: \n",
      "               precision    recall  f1-score   support\n",
      "\n",
      "         0.0      0.677     0.774     0.722      1466\n",
      "         1.0      0.738     0.633     0.681      1477\n",
      "\n",
      "    accuracy                          0.703      2943\n",
      "   macro avg      0.707     0.703     0.702      2943\n",
      "weighted avg      0.707     0.703     0.702      2943\n",
      "\n",
      "\n",
      "Testing Classification Report: \n",
      "               precision    recall  f1-score   support\n",
      "\n",
      "         0.0      0.661     0.748     0.702      1303\n",
      "         1.0      0.713     0.620     0.663      1314\n",
      "\n",
      "    accuracy                          0.684      2617\n",
      "   macro avg      0.687     0.684     0.683      2617\n",
      "weighted avg      0.687     0.684     0.683      2617\n",
      "\n"
     ]
    }
   ],
   "source": [
    "from sklearn.tree import DecisionTreeClassifier\n",
    "\n",
    "dt_cls =  DecisionTreeClassifier(criterion = 'gini', splitter = 'best', max_depth = 5, min_samples_split = 2, )\n",
    "dt_cls.fit(x_train.reshape(n_train, -1), y_train)\n",
    "preds_train = dt_cls.predict(x_train.reshape(n_train, -1))\n",
    "preds_val   = dt_cls.predict(x_val.reshape(n_val, -1))\n",
    "preds_test  = dt_cls.predict(x_test.reshape(n_test, -1))\n",
    "\n",
    "print(\"Training Classification Report: \\n\", classification_report(y_train, preds_train, digits = N_DIGITS))\n",
    "print(\"\\nValidation Classification Report: \\n\", classification_report(y_val, preds_val, digits = N_DIGITS))\n",
    "print(\"\\nTesting Classification Report: \\n\", classification_report(y_test, preds_test, digits = N_DIGITS))\n",
    "\n",
    "# eval = testing_module.ModelEvaluation(y_val, \n",
    "#     nb_cls.predict(x_val.reshape(n_val, -1)),\n",
    "#     model_reference_name = 'Naive Bayes',\n",
    "#     model_type = 'classification',\n",
    "#     plot_classification_metric = ['roc_auc']) # if classification\n",
    "# eval.evaluate(evaluate_save= True, plots_show = True)"
   ]
  },
  {
   "cell_type": "markdown",
   "metadata": {},
   "source": [
    "#### XGBoost"
   ]
  },
  {
   "cell_type": "code",
   "execution_count": 18,
   "metadata": {},
   "outputs": [
    {
     "name": "stdout",
     "output_type": "stream",
     "text": [
      "Training Classification Report: \n",
      "               precision    recall  f1-score   support\n",
      "\n",
      "         0.0      0.966     0.983     0.974     10260\n",
      "         1.0      0.983     0.966     0.974     10341\n",
      "\n",
      "    accuracy                          0.974     20601\n",
      "   macro avg      0.974     0.974     0.974     20601\n",
      "weighted avg      0.975     0.974     0.974     20601\n",
      "\n",
      "\n",
      "Validation Classification Report: \n",
      "               precision    recall  f1-score   support\n",
      "\n",
      "         0.0      0.842     0.873     0.857      1466\n",
      "         1.0      0.869     0.837     0.853      1477\n",
      "\n",
      "    accuracy                          0.855      2943\n",
      "   macro avg      0.855     0.855     0.855      2943\n",
      "weighted avg      0.855     0.855     0.855      2943\n",
      "\n",
      "\n",
      "Testing Classification Report: \n",
      "               precision    recall  f1-score   support\n",
      "\n",
      "         0.0      0.842     0.861     0.851      1303\n",
      "         1.0      0.859     0.839     0.849      1314\n",
      "\n",
      "    accuracy                          0.850      2617\n",
      "   macro avg      0.850     0.850     0.850      2617\n",
      "weighted avg      0.850     0.850     0.850      2617\n",
      "\n"
     ]
    }
   ],
   "source": [
    "from xgboost import XGBClassifier\n",
    "\n",
    "xgb_cls = XGBClassifier(max_depth = 5, objective = 'reg:logistic',\n",
    "                            num_parallel_tree = 20, booster = 'gbtree',\n",
    "                            gamma = 0.5, tree_method = 'gpu_hist', subsample = 0.4, reg_lambda = 1)\n",
    "xgb_cls.fit(x_train.reshape(n_train, -1), y_train)\n",
    "preds_train = xgb_cls.predict(x_train.reshape(n_train, -1))\n",
    "preds_val   = xgb_cls.predict(x_val.reshape(n_val, -1))\n",
    "preds_test  = xgb_cls.predict(x_test.reshape(n_test, -1))\n",
    "\n",
    "print(\"Training Classification Report: \\n\", classification_report(y_train, preds_train, digits = N_DIGITS))\n",
    "print(\"\\nValidation Classification Report: \\n\", classification_report(y_val, preds_val, digits = N_DIGITS))\n",
    "print(\"\\nTesting Classification Report: \\n\", classification_report(y_test, preds_test, digits = N_DIGITS))\n",
    "                  "
   ]
  },
  {
   "cell_type": "markdown",
   "metadata": {},
   "source": [
    "#### SVM"
   ]
  },
  {
   "cell_type": "code",
   "execution_count": 19,
   "metadata": {},
   "outputs": [
    {
     "name": "stdout",
     "output_type": "stream",
     "text": [
      "[LibSVM]"
     ]
    },
    {
     "name": "stderr",
     "output_type": "stream",
     "text": [
      "c:\\ProgramData\\Anaconda3\\envs\\ml\\lib\\site-packages\\sklearn\\svm\\_base.py:301: ConvergenceWarning: Solver terminated early (max_iter=250).  Consider pre-processing your data with StandardScaler or MinMaxScaler.\n",
      "  warnings.warn(\n"
     ]
    },
    {
     "name": "stdout",
     "output_type": "stream",
     "text": [
      "Training Classification Report: \n",
      "               precision    recall  f1-score   support\n",
      "\n",
      "         0.0      0.456     0.498     0.476     10260\n",
      "         1.0      0.452     0.411     0.430     10341\n",
      "\n",
      "    accuracy                          0.454     20601\n",
      "   macro avg      0.454     0.454     0.453     20601\n",
      "weighted avg      0.454     0.454     0.453     20601\n",
      "\n",
      "\n",
      "Validation Classification Report: \n",
      "               precision    recall  f1-score   support\n",
      "\n",
      "         0.0      0.446     0.477     0.461      1466\n",
      "         1.0      0.442     0.412     0.426      1477\n",
      "\n",
      "    accuracy                          0.444      2943\n",
      "   macro avg      0.444     0.444     0.444      2943\n",
      "weighted avg      0.444     0.444     0.444      2943\n",
      "\n",
      "\n",
      "Testing Classification Report: \n",
      "               precision    recall  f1-score   support\n",
      "\n",
      "         0.0      0.457     0.486     0.471      1303\n",
      "         1.0      0.456     0.428     0.441      1314\n",
      "\n",
      "    accuracy                          0.457      2617\n",
      "   macro avg      0.457     0.457     0.456      2617\n",
      "weighted avg      0.457     0.457     0.456      2617\n",
      "\n"
     ]
    }
   ],
   "source": [
    "from sklearn.svm import SVC\n",
    "\n",
    "svm_cls = SVC(kernel = 'rbf', max_iter = 250, verbose= True)\n",
    "svm_cls.fit(x_train.reshape(n_train, -1), y_train)\n",
    "preds_train = svm_cls.predict(x_train.reshape(n_train, -1))\n",
    "preds_val   = svm_cls.predict(x_val.reshape(n_val, -1))\n",
    "preds_test  = svm_cls.predict(x_test.reshape(n_test, -1))\n",
    "\n",
    "print(\"Training Classification Report: \\n\", classification_report(y_train, preds_train, digits = N_DIGITS))\n",
    "print(\"\\nValidation Classification Report: \\n\", classification_report(y_val, preds_val, digits = N_DIGITS))\n",
    "print(\"\\nTesting Classification Report: \\n\", classification_report(y_test, preds_test, digits = N_DIGITS))\n",
    "                  "
   ]
  },
  {
   "cell_type": "markdown",
   "metadata": {},
   "source": [
    "#### Transfer Learning"
   ]
  },
  {
   "cell_type": "code",
   "execution_count": 20,
   "metadata": {},
   "outputs": [
    {
     "name": "stdout",
     "output_type": "stream",
     "text": [
      "Epoch 1/50\n",
      "322/322 [==============================] - 9s 17ms/step - loss: 0.2166 - accuracy: 0.9174 - val_loss: 0.1312 - val_accuracy: 0.9521\n",
      "Epoch 2/50\n",
      "322/322 [==============================] - 5s 15ms/step - loss: 0.1290 - accuracy: 0.9501 - val_loss: 0.1222 - val_accuracy: 0.9524\n",
      "Epoch 3/50\n",
      "322/322 [==============================] - 5s 15ms/step - loss: 0.1127 - accuracy: 0.9562 - val_loss: 0.1166 - val_accuracy: 0.9602\n",
      "Epoch 4/50\n",
      "322/322 [==============================] - 5s 15ms/step - loss: 0.1048 - accuracy: 0.9585 - val_loss: 0.1190 - val_accuracy: 0.9562\n",
      "Epoch 5/50\n",
      "322/322 [==============================] - 5s 15ms/step - loss: 0.0942 - accuracy: 0.9632 - val_loss: 0.1140 - val_accuracy: 0.9572\n",
      "Epoch 6/50\n",
      "322/322 [==============================] - 5s 15ms/step - loss: 0.0860 - accuracy: 0.9660 - val_loss: 0.1030 - val_accuracy: 0.9640\n",
      "Epoch 7/50\n",
      "322/322 [==============================] - 5s 15ms/step - loss: 0.0856 - accuracy: 0.9673 - val_loss: 0.1080 - val_accuracy: 0.9626\n",
      "Epoch 8/50\n",
      "322/322 [==============================] - 5s 15ms/step - loss: 0.0775 - accuracy: 0.9707 - val_loss: 0.1270 - val_accuracy: 0.9667\n",
      "Epoch 9/50\n",
      "322/322 [==============================] - 5s 15ms/step - loss: 0.0720 - accuracy: 0.9732 - val_loss: 0.1254 - val_accuracy: 0.9589\n",
      "644/644 [==============================] - 5s 7ms/step\n",
      "92/92 [==============================] - 1s 7ms/step\n",
      "82/82 [==============================] - 1s 7ms/step\n",
      "Training Classification Report: \n",
      "               precision    recall  f1-score   support\n",
      "\n",
      "         0.0      0.967     0.981     0.974     10260\n",
      "         1.0      0.981     0.966     0.974     10341\n",
      "\n",
      "    accuracy                          0.974     20601\n",
      "   macro avg      0.974     0.974     0.974     20601\n",
      "weighted avg      0.974     0.974     0.974     20601\n",
      "\n",
      "\n",
      "Validation Classification Report: \n",
      "               precision    recall  f1-score   support\n",
      "\n",
      "         0.0      0.954     0.964     0.959      1466\n",
      "         1.0      0.964     0.954     0.959      1477\n",
      "\n",
      "    accuracy                          0.959      2943\n",
      "   macro avg      0.959     0.959     0.959      2943\n",
      "weighted avg      0.959     0.959     0.959      2943\n",
      "\n",
      "\n",
      "Testing Classification Report: \n",
      "               precision    recall  f1-score   support\n",
      "\n",
      "         0.0      0.946     0.964     0.955      1303\n",
      "         1.0      0.964     0.946     0.955      1314\n",
      "\n",
      "    accuracy                          0.955      2617\n",
      "   macro avg      0.955     0.955     0.955      2617\n",
      "weighted avg      0.955     0.955     0.955      2617\n",
      "\n"
     ]
    }
   ],
   "source": [
    "imagenet = tf.keras.applications.Xception(\n",
    "    weights = 'imagenet',\n",
    "    include_top = False,\n",
    "    input_shape = (72, 72, 3)\n",
    ")\n",
    "imagenet.trainable = False\n",
    "\n",
    "trans_learn = tf.keras.Sequential([\n",
    "    tf.keras.layers.Resizing(72, 72),\n",
    "    imagenet,\n",
    "\n",
    "    tf.keras.layers.GlobalAveragePooling2D(),\n",
    "    tf.keras.layers.Dense(512, activation = 'relu'),\n",
    "    tf.keras.layers.Dense(512, activation = 'relu'),\n",
    "    tf.keras.layers.Dense(2, activation = 'sigmoid')\n",
    "])\n",
    "\n",
    "trans_learn.compile(\n",
    "    optimizer = tf.keras.optimizers.Adam(learning_rate=0.003),\n",
    "    loss = 'sparse_categorical_crossentropy',\n",
    "    metrics = ['accuracy']\n",
    ")\n",
    "\n",
    "history = trans_learn.fit(\n",
    "            x_train, y_train, batch_size = 64,\n",
    "            shuffle = True,\n",
    "            epochs = 50,\n",
    "            validation_data = [x_val, y_val],\n",
    "            validation_batch_size = 32,\n",
    "            callbacks = tf.keras.callbacks.EarlyStopping(monitor = 'val_loss', patience = 3)\n",
    "        )\n",
    "preds_train = np.argmax(trans_learn.predict(x_train), axis = 1)\n",
    "preds_val   = np.argmax(trans_learn.predict(x_val), axis = 1)\n",
    "preds_test  = np.argmax(trans_learn.predict(x_test), axis = 1)\n",
    "\n",
    "print(\"Training Classification Report: \\n\", classification_report(y_train, preds_train, digits = N_DIGITS))\n",
    "print(\"\\nValidation Classification Report: \\n\", classification_report(y_val, preds_val, digits = N_DIGITS))\n",
    "print(\"\\nTesting Classification Report: \\n\", classification_report(y_test, preds_test, digits = N_DIGITS))\n",
    "\n"
   ]
  },
  {
   "cell_type": "markdown",
   "metadata": {},
   "source": [
    "#### CNN Model"
   ]
  },
  {
   "cell_type": "code",
   "execution_count": 27,
   "metadata": {},
   "outputs": [
    {
     "name": "stdout",
     "output_type": "stream",
     "text": [
      "Epoch 1/50\n",
      "21/21 [==============================] - 1s 17ms/step - loss: 0.7031 - accuracy: 0.5248 - val_loss: 0.6811 - val_accuracy: 0.6174\n",
      "Epoch 2/50\n",
      "21/21 [==============================] - 0s 8ms/step - loss: 0.6667 - accuracy: 0.6009 - val_loss: 0.6539 - val_accuracy: 0.6069\n",
      "Epoch 3/50\n",
      "21/21 [==============================] - 0s 8ms/step - loss: 0.6201 - accuracy: 0.6575 - val_loss: 0.6843 - val_accuracy: 0.5790\n",
      "Epoch 4/50\n",
      "21/21 [==============================] - 0s 8ms/step - loss: 0.5892 - accuracy: 0.6901 - val_loss: 0.4957 - val_accuracy: 0.7788\n",
      "Epoch 5/50\n",
      "21/21 [==============================] - 0s 7ms/step - loss: 0.5119 - accuracy: 0.7567 - val_loss: 0.4690 - val_accuracy: 0.8029\n",
      "Epoch 6/50\n",
      "21/21 [==============================] - 0s 7ms/step - loss: 0.4793 - accuracy: 0.7806 - val_loss: 0.4648 - val_accuracy: 0.7829\n",
      "Epoch 7/50\n",
      "21/21 [==============================] - 0s 7ms/step - loss: 0.4267 - accuracy: 0.8139 - val_loss: 0.3688 - val_accuracy: 0.8522\n",
      "Epoch 8/50\n",
      "21/21 [==============================] - 0s 8ms/step - loss: 0.3646 - accuracy: 0.8469 - val_loss: 0.2899 - val_accuracy: 0.8804\n",
      "Epoch 9/50\n",
      "21/21 [==============================] - 0s 8ms/step - loss: 0.2738 - accuracy: 0.8935 - val_loss: 0.2147 - val_accuracy: 0.9198\n",
      "Epoch 10/50\n",
      "21/21 [==============================] - 0s 8ms/step - loss: 0.2032 - accuracy: 0.9248 - val_loss: 0.1889 - val_accuracy: 0.9310\n",
      "Epoch 11/50\n",
      "21/21 [==============================] - 0s 8ms/step - loss: 0.1622 - accuracy: 0.9407 - val_loss: 0.1241 - val_accuracy: 0.9521\n",
      "Epoch 12/50\n",
      "21/21 [==============================] - 0s 8ms/step - loss: 0.1450 - accuracy: 0.9480 - val_loss: 0.1198 - val_accuracy: 0.9562\n",
      "Epoch 13/50\n",
      "21/21 [==============================] - 0s 8ms/step - loss: 0.1199 - accuracy: 0.9563 - val_loss: 0.0960 - val_accuracy: 0.9681\n",
      "Epoch 14/50\n",
      "21/21 [==============================] - 0s 8ms/step - loss: 0.0890 - accuracy: 0.9680 - val_loss: 0.0791 - val_accuracy: 0.9711\n",
      "Epoch 15/50\n",
      "21/21 [==============================] - 0s 9ms/step - loss: 0.0754 - accuracy: 0.9731 - val_loss: 0.0742 - val_accuracy: 0.9738\n",
      "Epoch 16/50\n",
      "21/21 [==============================] - 0s 8ms/step - loss: 0.0741 - accuracy: 0.9741 - val_loss: 0.0868 - val_accuracy: 0.9684\n",
      "Epoch 17/50\n",
      "21/21 [==============================] - 0s 8ms/step - loss: 0.0752 - accuracy: 0.9737 - val_loss: 0.0555 - val_accuracy: 0.9806\n",
      "Epoch 18/50\n",
      "21/21 [==============================] - 0s 8ms/step - loss: 0.0579 - accuracy: 0.9794 - val_loss: 0.0639 - val_accuracy: 0.9762\n",
      "Epoch 19/50\n",
      "21/21 [==============================] - 0s 8ms/step - loss: 0.0527 - accuracy: 0.9816 - val_loss: 0.0508 - val_accuracy: 0.9844\n",
      "Epoch 20/50\n",
      "21/21 [==============================] - 0s 8ms/step - loss: 0.0482 - accuracy: 0.9833 - val_loss: 0.0547 - val_accuracy: 0.9834\n",
      "Epoch 21/50\n",
      "21/21 [==============================] - 0s 8ms/step - loss: 0.0466 - accuracy: 0.9842 - val_loss: 0.0526 - val_accuracy: 0.9813\n",
      "Epoch 22/50\n",
      "21/21 [==============================] - 0s 8ms/step - loss: 0.0423 - accuracy: 0.9860 - val_loss: 0.0444 - val_accuracy: 0.9840\n",
      "Epoch 23/50\n",
      "21/21 [==============================] - 0s 7ms/step - loss: 0.0370 - accuracy: 0.9875 - val_loss: 0.0445 - val_accuracy: 0.9867\n",
      "Epoch 24/50\n",
      "21/21 [==============================] - 0s 8ms/step - loss: 0.0364 - accuracy: 0.9877 - val_loss: 0.0413 - val_accuracy: 0.9871\n",
      "Epoch 25/50\n",
      "21/21 [==============================] - 0s 7ms/step - loss: 0.0314 - accuracy: 0.9898 - val_loss: 0.0414 - val_accuracy: 0.9878\n",
      "Epoch 26/50\n",
      "21/21 [==============================] - 0s 7ms/step - loss: 0.0324 - accuracy: 0.9895 - val_loss: 0.0375 - val_accuracy: 0.9891\n",
      "Epoch 27/50\n",
      "21/21 [==============================] - 0s 8ms/step - loss: 0.0304 - accuracy: 0.9891 - val_loss: 0.0425 - val_accuracy: 0.9874\n",
      "Epoch 28/50\n",
      "21/21 [==============================] - 0s 8ms/step - loss: 0.0273 - accuracy: 0.9908 - val_loss: 0.0444 - val_accuracy: 0.9878\n",
      "Epoch 29/50\n",
      "21/21 [==============================] - 0s 7ms/step - loss: 0.0293 - accuracy: 0.9886 - val_loss: 0.0429 - val_accuracy: 0.9871\n",
      "644/644 [==============================] - 1s 1ms/step\n",
      "92/92 [==============================] - 0s 1ms/step\n",
      "82/82 [==============================] - 0s 1ms/step\n",
      "Training Classification Report: \n",
      "               precision    recall  f1-score   support\n",
      "\n",
      "         0.0      0.986     0.999     0.992     10260\n",
      "         1.0      0.999     0.986     0.992     10341\n",
      "\n",
      "    accuracy                          0.992     20601\n",
      "   macro avg      0.992     0.992     0.992     20601\n",
      "weighted avg      0.992     0.992     0.992     20601\n",
      "\n",
      "\n",
      "Validation Classification Report: \n",
      "               precision    recall  f1-score   support\n",
      "\n",
      "         0.0      0.979     0.996     0.987      1466\n",
      "         1.0      0.996     0.978     0.987      1477\n",
      "\n",
      "    accuracy                          0.987      2943\n",
      "   macro avg      0.987     0.987     0.987      2943\n",
      "weighted avg      0.987     0.987     0.987      2943\n",
      "\n",
      "\n",
      "Testing Classification Report: \n",
      "               precision    recall  f1-score   support\n",
      "\n",
      "         0.0      0.969     0.997     0.983      1303\n",
      "         1.0      0.997     0.968     0.982      1314\n",
      "\n",
      "    accuracy                          0.982      2617\n",
      "   macro avg      0.983     0.982     0.982      2617\n",
      "weighted avg      0.983     0.982     0.982      2617\n",
      "\n"
     ]
    }
   ],
   "source": [
    "cnn = tf.keras.Sequential([\n",
    "    tf.keras.layers.Conv2D(16, (3,3), padding = 'same', activation = 'relu', input_shape = x_train[0].shape),\n",
    "    tf.keras.layers.MaxPool2D((3,3), padding = 'same'),\n",
    "\n",
    "    tf.keras.layers.Conv2D(32, (2,2), padding = 'same', activation = 'relu'),\n",
    "    tf.keras.layers.MaxPool2D((2,2), padding = 'same'),\n",
    "\n",
    "\n",
    "    tf.keras.layers.Flatten(),\n",
    "\n",
    "    tf.keras.layers.Dense(256, activation = 'relu'),\n",
    "    tf.keras.layers.Dropout(0.5),\n",
    "    tf.keras.layers.Dense(256, activation = 'relu'),\n",
    "    tf.keras.layers.Dropout(0.5),\n",
    "    tf.keras.layers.Dense(2, activation = 'sigmoid')\n",
    "])\n",
    "\n",
    "cnn.compile(\n",
    "    optimizer = tf.keras.optimizers.Adam(learning_rate=0.003),\n",
    "    loss = 'sparse_categorical_crossentropy',\n",
    "    metrics = ['accuracy']\n",
    ")\n",
    "\n",
    "history = cnn.fit(\n",
    "            x_train, y_train, batch_size = 1024,\n",
    "            epochs = 50,\n",
    "            validation_data = [x_val, y_val],\n",
    "            validation_batch_size = 256,\n",
    "            callbacks = tf.keras.callbacks.EarlyStopping(monitor = 'val_loss', patience = 3)\n",
    "        )\n",
    "preds_train = np.argmax(cnn.predict(x_train), axis = 1)\n",
    "preds_val   = np.argmax(cnn.predict(x_val), axis = 1)\n",
    "preds_test  = np.argmax(cnn.predict(x_test), axis = 1)\n",
    "\n",
    "print(\"Training Classification Report: \\n\", classification_report(y_train, preds_train, digits = N_DIGITS))\n",
    "print(\"\\nValidation Classification Report: \\n\", classification_report(y_val, preds_val, digits = N_DIGITS))\n",
    "print(\"\\nTesting Classification Report: \\n\", classification_report(y_test, preds_test, digits = N_DIGITS))"
   ]
  },
  {
   "cell_type": "markdown",
   "metadata": {},
   "source": [
    "### Augmented Dataset"
   ]
  },
  {
   "cell_type": "markdown",
   "metadata": {},
   "source": [
    "#### Naive Bayes"
   ]
  },
  {
   "cell_type": "code",
   "execution_count": 30,
   "metadata": {},
   "outputs": [
    {
     "name": "stdout",
     "output_type": "stream",
     "text": [
      "Training Classification Report: \n",
      "               precision    recall  f1-score   support\n",
      "\n",
      "         0.0      0.598     0.689     0.640     30780\n",
      "         1.0      0.636     0.539     0.584     31023\n",
      "\n",
      "    accuracy                          0.614     61803\n",
      "   macro avg      0.617     0.614     0.612     61803\n",
      "weighted avg      0.617     0.614     0.612     61803\n",
      "\n",
      "\n",
      "Validation Classification Report: \n",
      "               precision    recall  f1-score   support\n",
      "\n",
      "         0.0      0.571     0.003     0.005      1466\n",
      "         1.0      0.502     0.998     0.668      1477\n",
      "\n",
      "    accuracy                          0.502      2943\n",
      "   macro avg      0.537     0.500     0.337      2943\n",
      "weighted avg      0.537     0.502     0.338      2943\n",
      "\n",
      "\n",
      "Testing Classification Report: \n",
      "               precision    recall  f1-score   support\n",
      "\n",
      "         0.0      0.750     0.002     0.005      1303\n",
      "         1.0      0.502     0.999     0.669      1314\n",
      "\n",
      "    accuracy                          0.503      2617\n",
      "   macro avg      0.626     0.501     0.337      2617\n",
      "weighted avg      0.626     0.503     0.338      2617\n",
      "\n"
     ]
    }
   ],
   "source": [
    "from sklearn import naive_bayes\n",
    "\n",
    "nb_cls = naive_bayes.GaussianNB()\n",
    "nb_cls.fit(x_train_aug.reshape(n_aug_train, -1), y_train_aug)\n",
    "preds_train = nb_cls.predict(x_train_aug.reshape(n_aug_train, -1))\n",
    "preds_val   = nb_cls.predict(x_val.reshape(n_val, -1))\n",
    "preds_test  = nb_cls.predict(x_test.reshape(n_test, -1))\n",
    "\n",
    "print(\"Training Classification Report: \\n\", classification_report(y_train_aug, preds_train, digits = N_DIGITS))\n",
    "print(\"\\nValidation Classification Report: \\n\", classification_report(y_val, preds_val, digits = N_DIGITS))\n",
    "print(\"\\nTesting Classification Report: \\n\", classification_report(y_test, preds_test, digits = N_DIGITS))"
   ]
  },
  {
   "cell_type": "markdown",
   "metadata": {},
   "source": [
    "#### Logistic Regression"
   ]
  },
  {
   "cell_type": "code",
   "execution_count": 33,
   "metadata": {},
   "outputs": [
    {
     "name": "stderr",
     "output_type": "stream",
     "text": [
      "[Parallel(n_jobs=-1)]: Using backend ThreadingBackend with 24 concurrent workers.\n"
     ]
    },
    {
     "name": "stdout",
     "output_type": "stream",
     "text": [
      "max_iter reached after 132 seconds\n"
     ]
    },
    {
     "name": "stderr",
     "output_type": "stream",
     "text": [
      "c:\\ProgramData\\Anaconda3\\envs\\ml\\lib\\site-packages\\sklearn\\linear_model\\_sag.py:350: ConvergenceWarning: The max_iter was reached which means the coef_ did not converge\n",
      "  warnings.warn(\n",
      "[Parallel(n_jobs=-1)]: Done   1 tasks      | elapsed:  2.2min\n",
      "[Parallel(n_jobs=-1)]: Done   1 out of   1 | elapsed:  2.2min finished\n"
     ]
    },
    {
     "name": "stdout",
     "output_type": "stream",
     "text": [
      "Training Classification Report: \n",
      "               precision    recall  f1-score   support\n",
      "\n",
      "         0.0      0.669     0.740     0.703     30780\n",
      "         1.0      0.712     0.636     0.672     31023\n",
      "\n",
      "    accuracy                          0.688     61803\n",
      "   macro avg      0.690     0.688     0.687     61803\n",
      "weighted avg      0.690     0.688     0.687     61803\n",
      "\n",
      "\n",
      "Validation Classification Report: \n",
      "               precision    recall  f1-score   support\n",
      "\n",
      "         0.0      0.677     0.641     0.659      1466\n",
      "         1.0      0.662     0.697     0.679      1477\n",
      "\n",
      "    accuracy                          0.669      2943\n",
      "   macro avg      0.669     0.669     0.669      2943\n",
      "weighted avg      0.669     0.669     0.669      2943\n",
      "\n",
      "\n",
      "Testing Classification Report: \n",
      "               precision    recall  f1-score   support\n",
      "\n",
      "         0.0      0.677     0.617     0.646      1303\n",
      "         1.0      0.651     0.708     0.678      1314\n",
      "\n",
      "    accuracy                          0.663      2617\n",
      "   macro avg      0.664     0.662     0.662      2617\n",
      "weighted avg      0.664     0.663     0.662      2617\n",
      "\n"
     ]
    }
   ],
   "source": [
    "from sklearn.linear_model import LogisticRegression\n",
    "\n",
    "logreg_cls =  LogisticRegression(max_iter = 200, verbose = 10, n_jobs = -1, solver = 'saga')\n",
    "logreg_cls.fit(x_train_aug.reshape(n_aug_train, -1), y_train_aug)\n",
    "preds_train = logreg_cls.predict(x_train_aug.reshape(n_aug_train, -1))\n",
    "preds_val   = logreg_cls.predict(x_val.reshape(n_val, -1))\n",
    "preds_test  = logreg_cls.predict(x_test.reshape(n_test, -1))\n",
    "\n",
    "print(\"Training Classification Report: \\n\", classification_report(y_train_aug, preds_train, digits = N_DIGITS))\n",
    "print(\"\\nValidation Classification Report: \\n\", classification_report(y_val, preds_val, digits = N_DIGITS))\n",
    "print(\"\\nTesting Classification Report: \\n\", classification_report(y_test, preds_test, digits = N_DIGITS))"
   ]
  },
  {
   "cell_type": "markdown",
   "metadata": {},
   "source": [
    "#### Decision Trees"
   ]
  },
  {
   "cell_type": "code",
   "execution_count": null,
   "metadata": {},
   "outputs": [
    {
     "name": "stdout",
     "output_type": "stream",
     "text": [
      "Training Classification Report: \n",
      "               precision    recall  f1-score   support\n",
      "\n",
      "         0.0      0.669     0.763     0.713     30780\n",
      "         1.0      0.727     0.625     0.672     31023\n",
      "\n",
      "    accuracy                          0.694     61803\n",
      "   macro avg      0.698     0.694     0.692     61803\n",
      "weighted avg      0.698     0.694     0.692     61803\n",
      "\n",
      "\n",
      "Validation Classification Report: \n",
      "               precision    recall  f1-score   support\n",
      "\n",
      "         0.0      0.000     0.000     0.000      1466\n",
      "         1.0      0.502     1.000     0.668      1477\n",
      "\n",
      "    accuracy                          0.502      2943\n",
      "   macro avg      0.251     0.500     0.334      2943\n",
      "weighted avg      0.252     0.502     0.335      2943\n",
      "\n",
      "\n",
      "Testing Classification Report: \n",
      "               precision    recall  f1-score   support\n",
      "\n",
      "         0.0      0.000     0.000     0.000      1303\n",
      "         1.0      0.502     1.000     0.669      1314\n",
      "\n",
      "    accuracy                          0.502      2617\n",
      "   macro avg      0.251     0.500     0.334      2617\n",
      "weighted avg      0.252     0.502     0.336      2617\n",
      "\n"
     ]
    },
    {
     "name": "stderr",
     "output_type": "stream",
     "text": [
      "c:\\ProgramData\\Anaconda3\\envs\\ml\\lib\\site-packages\\sklearn\\metrics\\_classification.py:1334: UndefinedMetricWarning: Precision and F-score are ill-defined and being set to 0.0 in labels with no predicted samples. Use `zero_division` parameter to control this behavior.\n",
      "  _warn_prf(average, modifier, msg_start, len(result))\n",
      "c:\\ProgramData\\Anaconda3\\envs\\ml\\lib\\site-packages\\sklearn\\metrics\\_classification.py:1334: UndefinedMetricWarning: Precision and F-score are ill-defined and being set to 0.0 in labels with no predicted samples. Use `zero_division` parameter to control this behavior.\n",
      "  _warn_prf(average, modifier, msg_start, len(result))\n",
      "c:\\ProgramData\\Anaconda3\\envs\\ml\\lib\\site-packages\\sklearn\\metrics\\_classification.py:1334: UndefinedMetricWarning: Precision and F-score are ill-defined and being set to 0.0 in labels with no predicted samples. Use `zero_division` parameter to control this behavior.\n",
      "  _warn_prf(average, modifier, msg_start, len(result))\n",
      "c:\\ProgramData\\Anaconda3\\envs\\ml\\lib\\site-packages\\sklearn\\metrics\\_classification.py:1334: UndefinedMetricWarning: Precision and F-score are ill-defined and being set to 0.0 in labels with no predicted samples. Use `zero_division` parameter to control this behavior.\n",
      "  _warn_prf(average, modifier, msg_start, len(result))\n",
      "c:\\ProgramData\\Anaconda3\\envs\\ml\\lib\\site-packages\\sklearn\\metrics\\_classification.py:1334: UndefinedMetricWarning: Precision and F-score are ill-defined and being set to 0.0 in labels with no predicted samples. Use `zero_division` parameter to control this behavior.\n",
      "  _warn_prf(average, modifier, msg_start, len(result))\n",
      "c:\\ProgramData\\Anaconda3\\envs\\ml\\lib\\site-packages\\sklearn\\metrics\\_classification.py:1334: UndefinedMetricWarning: Precision and F-score are ill-defined and being set to 0.0 in labels with no predicted samples. Use `zero_division` parameter to control this behavior.\n",
      "  _warn_prf(average, modifier, msg_start, len(result))\n"
     ]
    }
   ],
   "source": [
    "from sklearn.tree import DecisionTreeClassifier\n",
    "\n",
    "dt_cls =  DecisionTreeClassifier(criterion = 'gini', splitter = 'best', max_depth = 20, min_samples_split = 2, )\n",
    "dt_cls.fit(x_train_aug.reshape(n_aug_train, -1), y_train_aug)\n",
    "preds_train = dt_cls.predict(x_train_aug.reshape(n_aug_train, -1))\n",
    "preds_val   = dt_cls.predict(x_val.reshape(n_val, -1))\n",
    "preds_test  = dt_cls.predict(x_test.reshape(n_test, -1))\n",
    "\n",
    "print(\"Training Classification Report: \\n\", classification_report(y_train_aug, preds_train, digits = N_DIGITS))\n",
    "print(\"\\nValidation Classification Report: \\n\", classification_report(y_val, preds_val, digits = N_DIGITS))\n",
    "print(\"\\nTesting Classification Report: \\n\", classification_report(y_test, preds_test, digits = N_DIGITS))\n",
    "\n",
    "# eval = testing_module.ModelEvaluation(y_val, \n",
    "#     nb_cls.predict(x_val.reshape(n_val, -1)),\n",
    "#     model_reference_name = 'Naive Bayes',\n",
    "#     model_type = 'classification',\n",
    "#     plot_classification_metric = ['roc_auc']) # if classification\n",
    "# eval.evaluate(evaluate_save= True, plots_show = True)"
   ]
  },
  {
   "cell_type": "markdown",
   "metadata": {},
   "source": [
    "#### XGBoost"
   ]
  },
  {
   "cell_type": "code",
   "execution_count": 36,
   "metadata": {},
   "outputs": [
    {
     "name": "stdout",
     "output_type": "stream",
     "text": [
      "Training Classification Report: \n",
      "               precision    recall  f1-score   support\n",
      "\n",
      "         0.0      0.836     0.904     0.869     30780\n",
      "         1.0      0.897     0.824     0.859     31023\n",
      "\n",
      "    accuracy                          0.864     61803\n",
      "   macro avg      0.866     0.864     0.864     61803\n",
      "weighted avg      0.867     0.864     0.864     61803\n",
      "\n",
      "\n",
      "Validation Classification Report: \n",
      "               precision    recall  f1-score   support\n",
      "\n",
      "         0.0      0.000     0.000     0.000      1466\n",
      "         1.0      0.502     1.000     0.668      1477\n",
      "\n",
      "    accuracy                          0.502      2943\n",
      "   macro avg      0.251     0.500     0.334      2943\n",
      "weighted avg      0.252     0.502     0.335      2943\n",
      "\n",
      "\n",
      "Testing Classification Report: \n",
      "               precision    recall  f1-score   support\n",
      "\n",
      "         0.0      0.000     0.000     0.000      1303\n",
      "         1.0      0.502     1.000     0.669      1314\n",
      "\n",
      "    accuracy                          0.502      2617\n",
      "   macro avg      0.251     0.500     0.334      2617\n",
      "weighted avg      0.252     0.502     0.336      2617\n",
      "\n"
     ]
    },
    {
     "name": "stderr",
     "output_type": "stream",
     "text": [
      "c:\\ProgramData\\Anaconda3\\envs\\ml\\lib\\site-packages\\sklearn\\metrics\\_classification.py:1334: UndefinedMetricWarning: Precision and F-score are ill-defined and being set to 0.0 in labels with no predicted samples. Use `zero_division` parameter to control this behavior.\n",
      "  _warn_prf(average, modifier, msg_start, len(result))\n",
      "c:\\ProgramData\\Anaconda3\\envs\\ml\\lib\\site-packages\\sklearn\\metrics\\_classification.py:1334: UndefinedMetricWarning: Precision and F-score are ill-defined and being set to 0.0 in labels with no predicted samples. Use `zero_division` parameter to control this behavior.\n",
      "  _warn_prf(average, modifier, msg_start, len(result))\n",
      "c:\\ProgramData\\Anaconda3\\envs\\ml\\lib\\site-packages\\sklearn\\metrics\\_classification.py:1334: UndefinedMetricWarning: Precision and F-score are ill-defined and being set to 0.0 in labels with no predicted samples. Use `zero_division` parameter to control this behavior.\n",
      "  _warn_prf(average, modifier, msg_start, len(result))\n",
      "c:\\ProgramData\\Anaconda3\\envs\\ml\\lib\\site-packages\\sklearn\\metrics\\_classification.py:1334: UndefinedMetricWarning: Precision and F-score are ill-defined and being set to 0.0 in labels with no predicted samples. Use `zero_division` parameter to control this behavior.\n",
      "  _warn_prf(average, modifier, msg_start, len(result))\n",
      "c:\\ProgramData\\Anaconda3\\envs\\ml\\lib\\site-packages\\sklearn\\metrics\\_classification.py:1334: UndefinedMetricWarning: Precision and F-score are ill-defined and being set to 0.0 in labels with no predicted samples. Use `zero_division` parameter to control this behavior.\n",
      "  _warn_prf(average, modifier, msg_start, len(result))\n",
      "c:\\ProgramData\\Anaconda3\\envs\\ml\\lib\\site-packages\\sklearn\\metrics\\_classification.py:1334: UndefinedMetricWarning: Precision and F-score are ill-defined and being set to 0.0 in labels with no predicted samples. Use `zero_division` parameter to control this behavior.\n",
      "  _warn_prf(average, modifier, msg_start, len(result))\n"
     ]
    }
   ],
   "source": [
    "from xgboost import XGBClassifier\n",
    "\n",
    "xgb_cls = XGBClassifier(max_depth = 5, objective = 'reg:logistic',\n",
    "                            num_parallel_tree = 20, booster = 'gbtree',\n",
    "                            gamma = 0.5, tree_method = 'gpu_hist', subsample = 0.4, reg_lambda = 1)\n",
    "xgb_cls.fit(x_train_aug.reshape(n_aug_train, -1), y_train_aug)\n",
    "preds_train = xgb_cls.predict(x_train_aug.reshape(n_aug_train, -1))\n",
    "preds_val   = xgb_cls.predict(x_val.reshape(n_val, -1))\n",
    "preds_test  = xgb_cls.predict(x_test.reshape(n_test, -1))\n",
    "\n",
    "print(\"Training Classification Report: \\n\", classification_report(y_train_aug, preds_train, digits = N_DIGITS))\n",
    "print(\"\\nValidation Classification Report: \\n\", classification_report(y_val, preds_val, digits = N_DIGITS))\n",
    "print(\"\\nTesting Classification Report: \\n\", classification_report(y_test, preds_test, digits = N_DIGITS))\n",
    "                  "
   ]
  },
  {
   "cell_type": "markdown",
   "metadata": {},
   "source": [
    "#### SVM"
   ]
  },
  {
   "cell_type": "code",
   "execution_count": 34,
   "metadata": {},
   "outputs": [
    {
     "name": "stdout",
     "output_type": "stream",
     "text": [
      "[LibSVM]"
     ]
    },
    {
     "name": "stderr",
     "output_type": "stream",
     "text": [
      "c:\\ProgramData\\Anaconda3\\envs\\ml\\lib\\site-packages\\sklearn\\svm\\_base.py:301: ConvergenceWarning: Solver terminated early (max_iter=250).  Consider pre-processing your data with StandardScaler or MinMaxScaler.\n",
      "  warnings.warn(\n"
     ]
    },
    {
     "name": "stdout",
     "output_type": "stream",
     "text": [
      "Training Classification Report: \n",
      "               precision    recall  f1-score   support\n",
      "\n",
      "         0.0      0.508     0.633     0.564     30780\n",
      "         1.0      0.518     0.392     0.446     31023\n",
      "\n",
      "    accuracy                          0.512     61803\n",
      "   macro avg      0.513     0.512     0.505     61803\n",
      "weighted avg      0.513     0.512     0.505     61803\n",
      "\n",
      "\n",
      "Validation Classification Report: \n",
      "               precision    recall  f1-score   support\n",
      "\n",
      "         0.0      0.000     0.000     0.000      1466\n",
      "         1.0      0.502     1.000     0.668      1477\n",
      "\n",
      "    accuracy                          0.502      2943\n",
      "   macro avg      0.251     0.500     0.334      2943\n",
      "weighted avg      0.252     0.502     0.335      2943\n",
      "\n",
      "\n",
      "Testing Classification Report: \n",
      "               precision    recall  f1-score   support\n",
      "\n",
      "         0.0      0.000     0.000     0.000      1303\n",
      "         1.0      0.502     1.000     0.669      1314\n",
      "\n",
      "    accuracy                          0.502      2617\n",
      "   macro avg      0.251     0.500     0.334      2617\n",
      "weighted avg      0.252     0.502     0.336      2617\n",
      "\n"
     ]
    },
    {
     "name": "stderr",
     "output_type": "stream",
     "text": [
      "c:\\ProgramData\\Anaconda3\\envs\\ml\\lib\\site-packages\\sklearn\\metrics\\_classification.py:1334: UndefinedMetricWarning: Precision and F-score are ill-defined and being set to 0.0 in labels with no predicted samples. Use `zero_division` parameter to control this behavior.\n",
      "  _warn_prf(average, modifier, msg_start, len(result))\n",
      "c:\\ProgramData\\Anaconda3\\envs\\ml\\lib\\site-packages\\sklearn\\metrics\\_classification.py:1334: UndefinedMetricWarning: Precision and F-score are ill-defined and being set to 0.0 in labels with no predicted samples. Use `zero_division` parameter to control this behavior.\n",
      "  _warn_prf(average, modifier, msg_start, len(result))\n",
      "c:\\ProgramData\\Anaconda3\\envs\\ml\\lib\\site-packages\\sklearn\\metrics\\_classification.py:1334: UndefinedMetricWarning: Precision and F-score are ill-defined and being set to 0.0 in labels with no predicted samples. Use `zero_division` parameter to control this behavior.\n",
      "  _warn_prf(average, modifier, msg_start, len(result))\n",
      "c:\\ProgramData\\Anaconda3\\envs\\ml\\lib\\site-packages\\sklearn\\metrics\\_classification.py:1334: UndefinedMetricWarning: Precision and F-score are ill-defined and being set to 0.0 in labels with no predicted samples. Use `zero_division` parameter to control this behavior.\n",
      "  _warn_prf(average, modifier, msg_start, len(result))\n",
      "c:\\ProgramData\\Anaconda3\\envs\\ml\\lib\\site-packages\\sklearn\\metrics\\_classification.py:1334: UndefinedMetricWarning: Precision and F-score are ill-defined and being set to 0.0 in labels with no predicted samples. Use `zero_division` parameter to control this behavior.\n",
      "  _warn_prf(average, modifier, msg_start, len(result))\n",
      "c:\\ProgramData\\Anaconda3\\envs\\ml\\lib\\site-packages\\sklearn\\metrics\\_classification.py:1334: UndefinedMetricWarning: Precision and F-score are ill-defined and being set to 0.0 in labels with no predicted samples. Use `zero_division` parameter to control this behavior.\n",
      "  _warn_prf(average, modifier, msg_start, len(result))\n"
     ]
    }
   ],
   "source": [
    "from sklearn.svm import SVC\n",
    "\n",
    "svm_cls = SVC(kernel = 'rbf', max_iter = 250, verbose= True)\n",
    "svm_cls.fit(x_train_aug.reshape(n_aug_train, -1), y_train_aug)\n",
    "preds_train = svm_cls.predict(x_train_aug.reshape(n_aug_train, -1))\n",
    "preds_val   = svm_cls.predict(x_val.reshape(n_val, -1))\n",
    "preds_test  = svm_cls.predict(x_test.reshape(n_test, -1))\n",
    "\n",
    "print(\"Training Classification Report: \\n\", classification_report(y_train_aug, preds_train, digits = N_DIGITS))\n",
    "print(\"\\nValidation Classification Report: \\n\", classification_report(y_val, preds_val, digits = N_DIGITS))\n",
    "print(\"\\nTesting Classification Report: \\n\", classification_report(y_test, preds_test, digits = N_DIGITS))\n",
    "                  "
   ]
  },
  {
   "cell_type": "markdown",
   "metadata": {},
   "source": [
    "#### Transfer Learning"
   ]
  },
  {
   "cell_type": "code",
   "execution_count": 40,
   "metadata": {},
   "outputs": [
    {
     "name": "stdout",
     "output_type": "stream",
     "text": [
      "Epoch 1/50\n",
      "483/483 [==============================] - 14s 25ms/step - loss: 0.6566 - accuracy: 0.6789 - val_loss: 0.6932 - val_accuracy: 0.5019\n",
      "Epoch 2/50\n",
      "181/483 [==========>...................] - ETA: 6s - loss: 0.5643 - accuracy: 0.7162"
     ]
    },
    {
     "ename": "KeyboardInterrupt",
     "evalue": "",
     "output_type": "error",
     "traceback": [
      "\u001b[1;31m---------------------------------------------------------------------------\u001b[0m",
      "\u001b[1;31mKeyboardInterrupt\u001b[0m                         Traceback (most recent call last)",
      "Cell \u001b[1;32mIn [40], line 24\u001b[0m\n\u001b[0;32m      8\u001b[0m trans_learn \u001b[38;5;241m=\u001b[39m tf\u001b[38;5;241m.\u001b[39mkeras\u001b[38;5;241m.\u001b[39mSequential([\n\u001b[0;32m      9\u001b[0m     tf\u001b[38;5;241m.\u001b[39mkeras\u001b[38;5;241m.\u001b[39mlayers\u001b[38;5;241m.\u001b[39mResizing(\u001b[38;5;241m72\u001b[39m, \u001b[38;5;241m72\u001b[39m),\n\u001b[0;32m     10\u001b[0m     imagenet,\n\u001b[1;32m   (...)\u001b[0m\n\u001b[0;32m     15\u001b[0m     tf\u001b[38;5;241m.\u001b[39mkeras\u001b[38;5;241m.\u001b[39mlayers\u001b[38;5;241m.\u001b[39mDense(\u001b[38;5;241m2\u001b[39m, activation \u001b[38;5;241m=\u001b[39m \u001b[38;5;124m'\u001b[39m\u001b[38;5;124msigmoid\u001b[39m\u001b[38;5;124m'\u001b[39m)\n\u001b[0;32m     16\u001b[0m ])\n\u001b[0;32m     18\u001b[0m trans_learn\u001b[38;5;241m.\u001b[39mcompile(\n\u001b[0;32m     19\u001b[0m     optimizer \u001b[38;5;241m=\u001b[39m tf\u001b[38;5;241m.\u001b[39mkeras\u001b[38;5;241m.\u001b[39moptimizers\u001b[38;5;241m.\u001b[39mAdam(learning_rate\u001b[38;5;241m=\u001b[39m\u001b[38;5;241m0.0001\u001b[39m),\n\u001b[0;32m     20\u001b[0m     loss \u001b[38;5;241m=\u001b[39m \u001b[38;5;124m'\u001b[39m\u001b[38;5;124msparse_categorical_crossentropy\u001b[39m\u001b[38;5;124m'\u001b[39m,\n\u001b[0;32m     21\u001b[0m     metrics \u001b[38;5;241m=\u001b[39m [\u001b[38;5;124m'\u001b[39m\u001b[38;5;124maccuracy\u001b[39m\u001b[38;5;124m'\u001b[39m]\n\u001b[0;32m     22\u001b[0m )\n\u001b[1;32m---> 24\u001b[0m history \u001b[38;5;241m=\u001b[39m \u001b[43mtrans_learn\u001b[49m\u001b[38;5;241;43m.\u001b[39;49m\u001b[43mfit\u001b[49m\u001b[43m(\u001b[49m\n\u001b[0;32m     25\u001b[0m \u001b[43m            \u001b[49m\u001b[43mx_train_aug\u001b[49m\u001b[43m,\u001b[49m\u001b[43m \u001b[49m\u001b[43my_train_aug\u001b[49m\u001b[43m,\u001b[49m\u001b[43m \u001b[49m\u001b[43mbatch_size\u001b[49m\u001b[43m \u001b[49m\u001b[38;5;241;43m=\u001b[39;49m\u001b[43m \u001b[49m\u001b[38;5;241;43m128\u001b[39;49m\u001b[43m,\u001b[49m\n\u001b[0;32m     26\u001b[0m \u001b[43m            \u001b[49m\u001b[43mshuffle\u001b[49m\u001b[43m \u001b[49m\u001b[38;5;241;43m=\u001b[39;49m\u001b[43m \u001b[49m\u001b[38;5;28;43;01mTrue\u001b[39;49;00m\u001b[43m,\u001b[49m\n\u001b[0;32m     27\u001b[0m \u001b[43m            \u001b[49m\u001b[43mepochs\u001b[49m\u001b[43m \u001b[49m\u001b[38;5;241;43m=\u001b[39;49m\u001b[43m \u001b[49m\u001b[38;5;241;43m50\u001b[39;49m\u001b[43m,\u001b[49m\n\u001b[0;32m     28\u001b[0m \u001b[43m            \u001b[49m\u001b[43mvalidation_data\u001b[49m\u001b[43m \u001b[49m\u001b[38;5;241;43m=\u001b[39;49m\u001b[43m \u001b[49m\u001b[43m[\u001b[49m\u001b[43mx_val\u001b[49m\u001b[43m,\u001b[49m\u001b[43m \u001b[49m\u001b[43my_val\u001b[49m\u001b[43m]\u001b[49m\u001b[43m,\u001b[49m\n\u001b[0;32m     29\u001b[0m \u001b[43m            \u001b[49m\u001b[43mvalidation_batch_size\u001b[49m\u001b[43m \u001b[49m\u001b[38;5;241;43m=\u001b[39;49m\u001b[43m \u001b[49m\u001b[38;5;241;43m64\u001b[39;49m\u001b[43m,\u001b[49m\n\u001b[0;32m     30\u001b[0m \u001b[43m            \u001b[49m\u001b[43mcallbacks\u001b[49m\u001b[43m \u001b[49m\u001b[38;5;241;43m=\u001b[39;49m\u001b[43m \u001b[49m\u001b[43mtf\u001b[49m\u001b[38;5;241;43m.\u001b[39;49m\u001b[43mkeras\u001b[49m\u001b[38;5;241;43m.\u001b[39;49m\u001b[43mcallbacks\u001b[49m\u001b[38;5;241;43m.\u001b[39;49m\u001b[43mEarlyStopping\u001b[49m\u001b[43m(\u001b[49m\u001b[43mmonitor\u001b[49m\u001b[43m \u001b[49m\u001b[38;5;241;43m=\u001b[39;49m\u001b[43m \u001b[49m\u001b[38;5;124;43m'\u001b[39;49m\u001b[38;5;124;43mval_loss\u001b[39;49m\u001b[38;5;124;43m'\u001b[39;49m\u001b[43m,\u001b[49m\u001b[43m \u001b[49m\u001b[43mpatience\u001b[49m\u001b[43m \u001b[49m\u001b[38;5;241;43m=\u001b[39;49m\u001b[43m \u001b[49m\u001b[38;5;241;43m3\u001b[39;49m\u001b[43m)\u001b[49m\n\u001b[0;32m     31\u001b[0m \u001b[43m        \u001b[49m\u001b[43m)\u001b[49m\n\u001b[0;32m     32\u001b[0m preds_train \u001b[38;5;241m=\u001b[39m np\u001b[38;5;241m.\u001b[39margmax(trans_learn\u001b[38;5;241m.\u001b[39mpredict(x_train_aug), axis \u001b[38;5;241m=\u001b[39m \u001b[38;5;241m1\u001b[39m)\n\u001b[0;32m     33\u001b[0m preds_val   \u001b[38;5;241m=\u001b[39m np\u001b[38;5;241m.\u001b[39margmax(trans_learn\u001b[38;5;241m.\u001b[39mpredict(x_val), axis \u001b[38;5;241m=\u001b[39m \u001b[38;5;241m1\u001b[39m)\n",
      "File \u001b[1;32mc:\\ProgramData\\Anaconda3\\envs\\ml\\lib\\site-packages\\keras\\utils\\traceback_utils.py:65\u001b[0m, in \u001b[0;36mfilter_traceback.<locals>.error_handler\u001b[1;34m(*args, **kwargs)\u001b[0m\n\u001b[0;32m     63\u001b[0m filtered_tb \u001b[39m=\u001b[39m \u001b[39mNone\u001b[39;00m\n\u001b[0;32m     64\u001b[0m \u001b[39mtry\u001b[39;00m:\n\u001b[1;32m---> 65\u001b[0m     \u001b[39mreturn\u001b[39;00m fn(\u001b[39m*\u001b[39margs, \u001b[39m*\u001b[39m\u001b[39m*\u001b[39mkwargs)\n\u001b[0;32m     66\u001b[0m \u001b[39mexcept\u001b[39;00m \u001b[39mException\u001b[39;00m \u001b[39mas\u001b[39;00m e:\n\u001b[0;32m     67\u001b[0m     filtered_tb \u001b[39m=\u001b[39m _process_traceback_frames(e\u001b[39m.\u001b[39m__traceback__)\n",
      "File \u001b[1;32mc:\\ProgramData\\Anaconda3\\envs\\ml\\lib\\site-packages\\keras\\engine\\training.py:1564\u001b[0m, in \u001b[0;36mModel.fit\u001b[1;34m(self, x, y, batch_size, epochs, verbose, callbacks, validation_split, validation_data, shuffle, class_weight, sample_weight, initial_epoch, steps_per_epoch, validation_steps, validation_batch_size, validation_freq, max_queue_size, workers, use_multiprocessing)\u001b[0m\n\u001b[0;32m   1556\u001b[0m \u001b[39mwith\u001b[39;00m tf\u001b[39m.\u001b[39mprofiler\u001b[39m.\u001b[39mexperimental\u001b[39m.\u001b[39mTrace(\n\u001b[0;32m   1557\u001b[0m     \u001b[39m\"\u001b[39m\u001b[39mtrain\u001b[39m\u001b[39m\"\u001b[39m,\n\u001b[0;32m   1558\u001b[0m     epoch_num\u001b[39m=\u001b[39mepoch,\n\u001b[1;32m   (...)\u001b[0m\n\u001b[0;32m   1561\u001b[0m     _r\u001b[39m=\u001b[39m\u001b[39m1\u001b[39m,\n\u001b[0;32m   1562\u001b[0m ):\n\u001b[0;32m   1563\u001b[0m     callbacks\u001b[39m.\u001b[39mon_train_batch_begin(step)\n\u001b[1;32m-> 1564\u001b[0m     tmp_logs \u001b[39m=\u001b[39m \u001b[39mself\u001b[39;49m\u001b[39m.\u001b[39;49mtrain_function(iterator)\n\u001b[0;32m   1565\u001b[0m     \u001b[39mif\u001b[39;00m data_handler\u001b[39m.\u001b[39mshould_sync:\n\u001b[0;32m   1566\u001b[0m         context\u001b[39m.\u001b[39masync_wait()\n",
      "File \u001b[1;32mc:\\ProgramData\\Anaconda3\\envs\\ml\\lib\\site-packages\\tensorflow\\python\\util\\traceback_utils.py:150\u001b[0m, in \u001b[0;36mfilter_traceback.<locals>.error_handler\u001b[1;34m(*args, **kwargs)\u001b[0m\n\u001b[0;32m    148\u001b[0m filtered_tb \u001b[39m=\u001b[39m \u001b[39mNone\u001b[39;00m\n\u001b[0;32m    149\u001b[0m \u001b[39mtry\u001b[39;00m:\n\u001b[1;32m--> 150\u001b[0m   \u001b[39mreturn\u001b[39;00m fn(\u001b[39m*\u001b[39margs, \u001b[39m*\u001b[39m\u001b[39m*\u001b[39mkwargs)\n\u001b[0;32m    151\u001b[0m \u001b[39mexcept\u001b[39;00m \u001b[39mException\u001b[39;00m \u001b[39mas\u001b[39;00m e:\n\u001b[0;32m    152\u001b[0m   filtered_tb \u001b[39m=\u001b[39m _process_traceback_frames(e\u001b[39m.\u001b[39m__traceback__)\n",
      "File \u001b[1;32mc:\\ProgramData\\Anaconda3\\envs\\ml\\lib\\site-packages\\tensorflow\\python\\eager\\def_function.py:915\u001b[0m, in \u001b[0;36mFunction.__call__\u001b[1;34m(self, *args, **kwds)\u001b[0m\n\u001b[0;32m    912\u001b[0m compiler \u001b[39m=\u001b[39m \u001b[39m\"\u001b[39m\u001b[39mxla\u001b[39m\u001b[39m\"\u001b[39m \u001b[39mif\u001b[39;00m \u001b[39mself\u001b[39m\u001b[39m.\u001b[39m_jit_compile \u001b[39melse\u001b[39;00m \u001b[39m\"\u001b[39m\u001b[39mnonXla\u001b[39m\u001b[39m\"\u001b[39m\n\u001b[0;32m    914\u001b[0m \u001b[39mwith\u001b[39;00m OptionalXlaContext(\u001b[39mself\u001b[39m\u001b[39m.\u001b[39m_jit_compile):\n\u001b[1;32m--> 915\u001b[0m   result \u001b[39m=\u001b[39m \u001b[39mself\u001b[39m\u001b[39m.\u001b[39m_call(\u001b[39m*\u001b[39margs, \u001b[39m*\u001b[39m\u001b[39m*\u001b[39mkwds)\n\u001b[0;32m    917\u001b[0m new_tracing_count \u001b[39m=\u001b[39m \u001b[39mself\u001b[39m\u001b[39m.\u001b[39mexperimental_get_tracing_count()\n\u001b[0;32m    918\u001b[0m without_tracing \u001b[39m=\u001b[39m (tracing_count \u001b[39m==\u001b[39m new_tracing_count)\n",
      "File \u001b[1;32mc:\\ProgramData\\Anaconda3\\envs\\ml\\lib\\site-packages\\tensorflow\\python\\eager\\def_function.py:947\u001b[0m, in \u001b[0;36mFunction._call\u001b[1;34m(self, *args, **kwds)\u001b[0m\n\u001b[0;32m    944\u001b[0m   \u001b[39mself\u001b[39m\u001b[39m.\u001b[39m_lock\u001b[39m.\u001b[39mrelease()\n\u001b[0;32m    945\u001b[0m   \u001b[39m# In this case we have created variables on the first call, so we run the\u001b[39;00m\n\u001b[0;32m    946\u001b[0m   \u001b[39m# defunned version which is guaranteed to never create variables.\u001b[39;00m\n\u001b[1;32m--> 947\u001b[0m   \u001b[39mreturn\u001b[39;00m \u001b[39mself\u001b[39m\u001b[39m.\u001b[39m_stateless_fn(\u001b[39m*\u001b[39margs, \u001b[39m*\u001b[39m\u001b[39m*\u001b[39mkwds)  \u001b[39m# pylint: disable=not-callable\u001b[39;00m\n\u001b[0;32m    948\u001b[0m \u001b[39melif\u001b[39;00m \u001b[39mself\u001b[39m\u001b[39m.\u001b[39m_stateful_fn \u001b[39mis\u001b[39;00m \u001b[39mnot\u001b[39;00m \u001b[39mNone\u001b[39;00m:\n\u001b[0;32m    949\u001b[0m   \u001b[39m# Release the lock early so that multiple threads can perform the call\u001b[39;00m\n\u001b[0;32m    950\u001b[0m   \u001b[39m# in parallel.\u001b[39;00m\n\u001b[0;32m    951\u001b[0m   \u001b[39mself\u001b[39m\u001b[39m.\u001b[39m_lock\u001b[39m.\u001b[39mrelease()\n",
      "File \u001b[1;32mc:\\ProgramData\\Anaconda3\\envs\\ml\\lib\\site-packages\\tensorflow\\python\\eager\\function.py:2496\u001b[0m, in \u001b[0;36mFunction.__call__\u001b[1;34m(self, *args, **kwargs)\u001b[0m\n\u001b[0;32m   2493\u001b[0m \u001b[39mwith\u001b[39;00m \u001b[39mself\u001b[39m\u001b[39m.\u001b[39m_lock:\n\u001b[0;32m   2494\u001b[0m   (graph_function,\n\u001b[0;32m   2495\u001b[0m    filtered_flat_args) \u001b[39m=\u001b[39m \u001b[39mself\u001b[39m\u001b[39m.\u001b[39m_maybe_define_function(args, kwargs)\n\u001b[1;32m-> 2496\u001b[0m \u001b[39mreturn\u001b[39;00m graph_function\u001b[39m.\u001b[39;49m_call_flat(\n\u001b[0;32m   2497\u001b[0m     filtered_flat_args, captured_inputs\u001b[39m=\u001b[39;49mgraph_function\u001b[39m.\u001b[39;49mcaptured_inputs)\n",
      "File \u001b[1;32mc:\\ProgramData\\Anaconda3\\envs\\ml\\lib\\site-packages\\tensorflow\\python\\eager\\function.py:1862\u001b[0m, in \u001b[0;36mConcreteFunction._call_flat\u001b[1;34m(self, args, captured_inputs, cancellation_manager)\u001b[0m\n\u001b[0;32m   1858\u001b[0m possible_gradient_type \u001b[39m=\u001b[39m gradients_util\u001b[39m.\u001b[39mPossibleTapeGradientTypes(args)\n\u001b[0;32m   1859\u001b[0m \u001b[39mif\u001b[39;00m (possible_gradient_type \u001b[39m==\u001b[39m gradients_util\u001b[39m.\u001b[39mPOSSIBLE_GRADIENT_TYPES_NONE\n\u001b[0;32m   1860\u001b[0m     \u001b[39mand\u001b[39;00m executing_eagerly):\n\u001b[0;32m   1861\u001b[0m   \u001b[39m# No tape is watching; skip to running the function.\u001b[39;00m\n\u001b[1;32m-> 1862\u001b[0m   \u001b[39mreturn\u001b[39;00m \u001b[39mself\u001b[39m\u001b[39m.\u001b[39m_build_call_outputs(\u001b[39mself\u001b[39;49m\u001b[39m.\u001b[39;49m_inference_function\u001b[39m.\u001b[39;49mcall(\n\u001b[0;32m   1863\u001b[0m       ctx, args, cancellation_manager\u001b[39m=\u001b[39;49mcancellation_manager))\n\u001b[0;32m   1864\u001b[0m forward_backward \u001b[39m=\u001b[39m \u001b[39mself\u001b[39m\u001b[39m.\u001b[39m_select_forward_and_backward_functions(\n\u001b[0;32m   1865\u001b[0m     args,\n\u001b[0;32m   1866\u001b[0m     possible_gradient_type,\n\u001b[0;32m   1867\u001b[0m     executing_eagerly)\n\u001b[0;32m   1868\u001b[0m forward_function, args_with_tangents \u001b[39m=\u001b[39m forward_backward\u001b[39m.\u001b[39mforward()\n",
      "File \u001b[1;32mc:\\ProgramData\\Anaconda3\\envs\\ml\\lib\\site-packages\\tensorflow\\python\\eager\\function.py:499\u001b[0m, in \u001b[0;36m_EagerDefinedFunction.call\u001b[1;34m(self, ctx, args, cancellation_manager)\u001b[0m\n\u001b[0;32m    497\u001b[0m \u001b[39mwith\u001b[39;00m _InterpolateFunctionError(\u001b[39mself\u001b[39m):\n\u001b[0;32m    498\u001b[0m   \u001b[39mif\u001b[39;00m cancellation_manager \u001b[39mis\u001b[39;00m \u001b[39mNone\u001b[39;00m:\n\u001b[1;32m--> 499\u001b[0m     outputs \u001b[39m=\u001b[39m execute\u001b[39m.\u001b[39;49mexecute(\n\u001b[0;32m    500\u001b[0m         \u001b[39mstr\u001b[39;49m(\u001b[39mself\u001b[39;49m\u001b[39m.\u001b[39;49msignature\u001b[39m.\u001b[39;49mname),\n\u001b[0;32m    501\u001b[0m         num_outputs\u001b[39m=\u001b[39;49m\u001b[39mself\u001b[39;49m\u001b[39m.\u001b[39;49m_num_outputs,\n\u001b[0;32m    502\u001b[0m         inputs\u001b[39m=\u001b[39;49margs,\n\u001b[0;32m    503\u001b[0m         attrs\u001b[39m=\u001b[39;49mattrs,\n\u001b[0;32m    504\u001b[0m         ctx\u001b[39m=\u001b[39;49mctx)\n\u001b[0;32m    505\u001b[0m   \u001b[39melse\u001b[39;00m:\n\u001b[0;32m    506\u001b[0m     outputs \u001b[39m=\u001b[39m execute\u001b[39m.\u001b[39mexecute_with_cancellation(\n\u001b[0;32m    507\u001b[0m         \u001b[39mstr\u001b[39m(\u001b[39mself\u001b[39m\u001b[39m.\u001b[39msignature\u001b[39m.\u001b[39mname),\n\u001b[0;32m    508\u001b[0m         num_outputs\u001b[39m=\u001b[39m\u001b[39mself\u001b[39m\u001b[39m.\u001b[39m_num_outputs,\n\u001b[1;32m   (...)\u001b[0m\n\u001b[0;32m    511\u001b[0m         ctx\u001b[39m=\u001b[39mctx,\n\u001b[0;32m    512\u001b[0m         cancellation_manager\u001b[39m=\u001b[39mcancellation_manager)\n",
      "File \u001b[1;32mc:\\ProgramData\\Anaconda3\\envs\\ml\\lib\\site-packages\\tensorflow\\python\\eager\\execute.py:54\u001b[0m, in \u001b[0;36mquick_execute\u001b[1;34m(op_name, num_outputs, inputs, attrs, ctx, name)\u001b[0m\n\u001b[0;32m     52\u001b[0m \u001b[39mtry\u001b[39;00m:\n\u001b[0;32m     53\u001b[0m   ctx\u001b[39m.\u001b[39mensure_initialized()\n\u001b[1;32m---> 54\u001b[0m   tensors \u001b[39m=\u001b[39m pywrap_tfe\u001b[39m.\u001b[39;49mTFE_Py_Execute(ctx\u001b[39m.\u001b[39;49m_handle, device_name, op_name,\n\u001b[0;32m     55\u001b[0m                                       inputs, attrs, num_outputs)\n\u001b[0;32m     56\u001b[0m \u001b[39mexcept\u001b[39;00m core\u001b[39m.\u001b[39m_NotOkStatusException \u001b[39mas\u001b[39;00m e:\n\u001b[0;32m     57\u001b[0m   \u001b[39mif\u001b[39;00m name \u001b[39mis\u001b[39;00m \u001b[39mnot\u001b[39;00m \u001b[39mNone\u001b[39;00m:\n",
      "\u001b[1;31mKeyboardInterrupt\u001b[0m: "
     ]
    }
   ],
   "source": [
    "imagenet = tf.keras.applications.Xception(\n",
    "    weights = 'imagenet',\n",
    "    include_top = False,\n",
    "    input_shape = (72, 72, 3)\n",
    ")\n",
    "imagenet.trainable = False\n",
    "\n",
    "trans_learn = tf.keras.Sequential([\n",
    "    tf.keras.layers.Resizing(72, 72),\n",
    "    imagenet,\n",
    "\n",
    "    tf.keras.layers.GlobalAveragePooling2D(),\n",
    "    tf.keras.layers.Dense(512, activation = 'relu'),\n",
    "    tf.keras.layers.Dense(512, activation = 'relu'),\n",
    "    tf.keras.layers.Dense(2, activation = 'sigmoid')\n",
    "])\n",
    "\n",
    "trans_learn.compile(\n",
    "    optimizer = tf.keras.optimizers.Adam(learning_rate=0.0001),\n",
    "    loss = 'sparse_categorical_crossentropy',\n",
    "    metrics = ['accuracy']\n",
    ")\n",
    "\n",
    "history = trans_learn.fit(\n",
    "            x_train_aug, y_train_aug, batch_size = 128,\n",
    "            shuffle = True,\n",
    "            epochs = 50,\n",
    "            validation_data = [x_val, y_val],\n",
    "            validation_batch_size = 64,\n",
    "            callbacks = tf.keras.callbacks.EarlyStopping(monitor = 'val_loss', patience = 3)\n",
    "        )\n",
    "preds_train = np.argmax(trans_learn.predict(x_train_aug), axis = 1)\n",
    "preds_val   = np.argmax(trans_learn.predict(x_val), axis = 1)\n",
    "preds_test  = np.argmax(trans_learn.predict(x_test), axis = 1)\n",
    "\n",
    "print(\"Training Classification Report: \\n\", classification_report(y_train_aug, preds_train, digits = N_DIGITS))\n",
    "print(\"\\nValidation Classification Report: \\n\", classification_report(y_val, preds_val, digits = N_DIGITS))\n",
    "print(\"\\nTesting Classification Report: \\n\", classification_report(y_test, preds_test, digits = N_DIGITS))\n",
    "\n"
   ]
  },
  {
   "cell_type": "markdown",
   "metadata": {},
   "source": [
    "#### CNN Model"
   ]
  },
  {
   "cell_type": "code",
   "execution_count": 45,
   "metadata": {},
   "outputs": [
    {
     "name": "stdout",
     "output_type": "stream",
     "text": [
      "Epoch 1/50\n",
      "483/483 [==============================] - 2s 4ms/step - loss: 14.9663 - accuracy: 0.4975 - val_loss: 0.6944 - val_accuracy: 0.4985\n",
      "Epoch 2/50\n",
      "483/483 [==============================] - 1s 3ms/step - loss: 9.4884 - accuracy: 0.5037 - val_loss: 0.6929 - val_accuracy: 0.5032\n",
      "Epoch 3/50\n",
      "483/483 [==============================] - 1s 3ms/step - loss: 6.5789 - accuracy: 0.5108 - val_loss: 0.6923 - val_accuracy: 0.5076\n",
      "Epoch 4/50\n",
      "483/483 [==============================] - 1s 3ms/step - loss: 4.8447 - accuracy: 0.5147 - val_loss: 0.6922 - val_accuracy: 0.5059\n",
      "Epoch 5/50\n",
      "483/483 [==============================] - 1s 3ms/step - loss: 3.6937 - accuracy: 0.5224 - val_loss: 0.6923 - val_accuracy: 0.4981\n",
      "Epoch 6/50\n",
      "483/483 [==============================] - 1s 3ms/step - loss: 2.8900 - accuracy: 0.5232 - val_loss: 0.6926 - val_accuracy: 0.4988\n",
      "Epoch 7/50\n",
      "483/483 [==============================] - 1s 3ms/step - loss: 2.3407 - accuracy: 0.5219 - val_loss: 0.6927 - val_accuracy: 0.4981\n",
      "1932/1932 [==============================] - 2s 1ms/step\n",
      "92/92 [==============================] - 0s 1ms/step\n",
      "82/82 [==============================] - 0s 1ms/step\n",
      "Training Classification Report: \n",
      "               precision    recall  f1-score   support\n",
      "\n",
      "         0.0      0.545     0.725     0.622     30780\n",
      "         1.0      0.594     0.399     0.477     31023\n",
      "\n",
      "    accuracy                          0.561     61803\n",
      "   macro avg      0.569     0.562     0.550     61803\n",
      "weighted avg      0.570     0.561     0.549     61803\n",
      "\n",
      "\n",
      "Validation Classification Report: \n",
      "               precision    recall  f1-score   support\n",
      "\n",
      "         0.0      0.498     1.000     0.665      1466\n",
      "         1.0      0.000     0.000     0.000      1477\n",
      "\n",
      "    accuracy                          0.498      2943\n",
      "   macro avg      0.249     0.500     0.333      2943\n",
      "weighted avg      0.248     0.498     0.331      2943\n",
      "\n",
      "\n",
      "Testing Classification Report: \n",
      "               precision    recall  f1-score   support\n",
      "\n",
      "         0.0      0.498     1.000     0.665      1303\n",
      "         1.0      0.000     0.000     0.000      1314\n",
      "\n",
      "    accuracy                          0.498      2617\n",
      "   macro avg      0.249     0.500     0.332      2617\n",
      "weighted avg      0.248     0.498     0.331      2617\n",
      "\n"
     ]
    },
    {
     "name": "stderr",
     "output_type": "stream",
     "text": [
      "c:\\ProgramData\\Anaconda3\\envs\\ml\\lib\\site-packages\\sklearn\\metrics\\_classification.py:1334: UndefinedMetricWarning: Precision and F-score are ill-defined and being set to 0.0 in labels with no predicted samples. Use `zero_division` parameter to control this behavior.\n",
      "  _warn_prf(average, modifier, msg_start, len(result))\n",
      "c:\\ProgramData\\Anaconda3\\envs\\ml\\lib\\site-packages\\sklearn\\metrics\\_classification.py:1334: UndefinedMetricWarning: Precision and F-score are ill-defined and being set to 0.0 in labels with no predicted samples. Use `zero_division` parameter to control this behavior.\n",
      "  _warn_prf(average, modifier, msg_start, len(result))\n",
      "c:\\ProgramData\\Anaconda3\\envs\\ml\\lib\\site-packages\\sklearn\\metrics\\_classification.py:1334: UndefinedMetricWarning: Precision and F-score are ill-defined and being set to 0.0 in labels with no predicted samples. Use `zero_division` parameter to control this behavior.\n",
      "  _warn_prf(average, modifier, msg_start, len(result))\n",
      "c:\\ProgramData\\Anaconda3\\envs\\ml\\lib\\site-packages\\sklearn\\metrics\\_classification.py:1334: UndefinedMetricWarning: Precision and F-score are ill-defined and being set to 0.0 in labels with no predicted samples. Use `zero_division` parameter to control this behavior.\n",
      "  _warn_prf(average, modifier, msg_start, len(result))\n",
      "c:\\ProgramData\\Anaconda3\\envs\\ml\\lib\\site-packages\\sklearn\\metrics\\_classification.py:1334: UndefinedMetricWarning: Precision and F-score are ill-defined and being set to 0.0 in labels with no predicted samples. Use `zero_division` parameter to control this behavior.\n",
      "  _warn_prf(average, modifier, msg_start, len(result))\n",
      "c:\\ProgramData\\Anaconda3\\envs\\ml\\lib\\site-packages\\sklearn\\metrics\\_classification.py:1334: UndefinedMetricWarning: Precision and F-score are ill-defined and being set to 0.0 in labels with no predicted samples. Use `zero_division` parameter to control this behavior.\n",
      "  _warn_prf(average, modifier, msg_start, len(result))\n"
     ]
    }
   ],
   "source": [
    "cnn = tf.keras.Sequential([\n",
    "    tf.keras.layers.Conv2D(16, (3,3), padding = 'same', activation = 'relu', input_shape = x_train_aug[0].shape),\n",
    "    tf.keras.layers.MaxPool2D((3,3), padding = 'same'),\n",
    "\n",
    "    tf.keras.layers.Conv2D(32, (2,2), padding = 'same', activation = 'relu'),\n",
    "    tf.keras.layers.MaxPool2D((2,2), padding = 'same'),\n",
    "\n",
    "\n",
    "    tf.keras.layers.Flatten(),\n",
    "\n",
    "    tf.keras.layers.Dense(256, activation = 'relu'),\n",
    "    tf.keras.layers.Dropout(0.5),\n",
    "    tf.keras.layers.Dense(256, activation = 'relu'),\n",
    "    tf.keras.layers.Dropout(0.5),\n",
    "    tf.keras.layers.Dense(2, activation = 'sigmoid')\n",
    "])\n",
    "\n",
    "cnn.compile(\n",
    "    optimizer = tf.keras.optimizers.Adam(learning_rate=0.000005),\n",
    "    loss = 'sparse_categorical_crossentropy',\n",
    "    metrics = ['accuracy']\n",
    ")\n",
    "\n",
    "history = cnn.fit(\n",
    "            x_train_aug, y_train_aug, batch_size = 128,\n",
    "            epochs = 50,\n",
    "            validation_data = [x_val, y_val],\n",
    "            validation_batch_size = 128,\n",
    "            callbacks = tf.keras.callbacks.EarlyStopping(monitor = 'val_loss', patience = 3)\n",
    "        )\n",
    "preds_train = np.argmax(cnn.predict(x_train_aug), axis = 1)\n",
    "preds_val   = np.argmax(cnn.predict(x_val), axis = 1)\n",
    "preds_test  = np.argmax(cnn.predict(x_test), axis = 1)\n",
    "\n",
    "print(\"Training Classification Report: \\n\", classification_report(y_train_aug, preds_train, digits = N_DIGITS))\n",
    "print(\"\\nValidation Classification Report: \\n\", classification_report(y_val, preds_val, digits = N_DIGITS))\n",
    "print(\"\\nTesting Classification Report: \\n\", classification_report(y_test, preds_test, digits = N_DIGITS))"
   ]
  }
 ],
 "metadata": {
  "kernelspec": {
   "display_name": "Python 3.10.0 ('ml')",
   "language": "python",
   "name": "python3"
  },
  "language_info": {
   "codemirror_mode": {
    "name": "ipython",
    "version": 3
   },
   "file_extension": ".py",
   "mimetype": "text/x-python",
   "name": "python",
   "nbconvert_exporter": "python",
   "pygments_lexer": "ipython3",
   "version": "3.10.0"
  },
  "orig_nbformat": 4,
  "vscode": {
   "interpreter": {
    "hash": "c58e9361bde7ca617934da376e83056db506761bdc9593ca2087fabac973f609"
   }
  }
 },
 "nbformat": 4,
 "nbformat_minor": 2
}
