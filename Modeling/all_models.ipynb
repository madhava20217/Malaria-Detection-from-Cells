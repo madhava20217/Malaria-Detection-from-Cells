{
 "cells": [
  {
   "cell_type": "code",
   "execution_count": 238,
   "metadata": {},
   "outputs": [],
   "source": [
    "import pandas as pd\n",
    "import numpy as np\n",
    "import tensorflow as tf\n",
    "import os\n",
    "\n",
    "import seaborn as sns\n",
    "import matplotlib.pyplot as plt\n",
    "import sys\n",
    "\n",
    "import skimage\n",
    "from skimage.color import rgb2hsv\n",
    "from skimage.transform import rescale, resize\n",
    "from tqdm import tqdm\n",
    "\n",
    "import random\n",
    "\n",
    "random.seed(123456789)\n",
    "\n",
    "\n",
    "HEIGHT = 50\n",
    "WIDTH  = 50"
   ]
  },
  {
   "cell_type": "markdown",
   "metadata": {},
   "source": [
    "SKImage rescales the image for us! Which means that we don't need to rescale by 255.0 anymore, saving us needlessly spent time and effort. There is another Augmentor library which can be used for data augmentation. We can simply sample the augmented images henceforth!"
   ]
  },
  {
   "cell_type": "code",
   "execution_count": 239,
   "metadata": {},
   "outputs": [],
   "source": [
    "sys.path.append(os.path.dirname(os.path.join((os.path.pardir), \"Modules\")))\n",
    "\n",
    "origin_dir = os.path.join(os.path.pardir, 'Data')\n",
    "new_dir_path = os.path.join(os.path.pardir, 'Data', 'cell_images')\n",
    "\n",
    "#for local systems\n",
    "train_csv = os.path.join(origin_dir, 'train.csv')\n",
    "test_csv = os.path.join(origin_dir, 'test.csv')\n",
    "val_csv = os.path.join(origin_dir, 'val.csv')\n",
    "\n",
    "from Modules.data_download import Data_Download\n",
    "from Modules.labelling import Labelling\n",
    "\n",
    "# download = Data_Download(origin_dir)\n",
    "# data_dir = download.resize_image(new_dir_path, 44, 44)\n",
    "\n",
    "lab = Labelling()\n",
    "lab.label('../Data/cell_images/', exclude_mislabeled= True)      # function to label the dataset\n",
    "train_csv, val_csv, test_csv = lab.train_test_val_split('../Data/', '../Data/cell_images/labels.csv', random_state = 12345)"
   ]
  },
  {
   "cell_type": "code",
   "execution_count": 240,
   "metadata": {},
   "outputs": [],
   "source": [
    "train_data = pd.read_csv(train_csv)\n",
    "val_data   = pd.read_csv(val_csv)\n",
    "test_data  = pd.read_csv(test_csv)"
   ]
  },
  {
   "cell_type": "markdown",
   "metadata": {},
   "source": [
    "### Reading images"
   ]
  },
  {
   "cell_type": "code",
   "execution_count": 241,
   "metadata": {},
   "outputs": [],
   "source": [
    "def read_image(path):\n",
    "    '''Function to read images given a path and return an array'''\n",
    "    return skimage.io.imread(path)"
   ]
  },
  {
   "cell_type": "code",
   "execution_count": 242,
   "metadata": {},
   "outputs": [
    {
     "name": "stdout",
     "output_type": "stream",
     "text": [
      "../Data/cell_images/Parasitized\\C132P93ThinF_IMG_20151004_152257_cell_111.png\n",
      "1.0\n"
     ]
    },
    {
     "data": {
      "text/plain": [
       "<matplotlib.image.AxesImage at 0x229186b46d0>"
      ]
     },
     "execution_count": 242,
     "metadata": {},
     "output_type": "execute_result"
    },
    {
     "data": {
      "image/png": "[encoded data removed]",
      "text/plain": [
       "<Figure size 640x480 with 1 Axes>"
      ]
     },
     "metadata": {},
     "output_type": "display_data"
    }
   ],
   "source": [
    "i = 14\n",
    "\n",
    "print(train_data['Image_Path'][i])\n",
    "image = rgb2hsv(skimage.io.imread(train_data['Image_Path'][i]))\n",
    "print(np.max(image))\n",
    "result = ((image > 0.5)*image)[..., 1]\n",
    "plt.imshow(result, 'gray')"
   ]
  },
  {
   "cell_type": "code",
   "execution_count": 243,
   "metadata": {},
   "outputs": [
    {
     "name": "stderr",
     "output_type": "stream",
     "text": [
      "100%|██████████| 20601/20601 [00:17<00:00, 1160.79it/s]\n",
      "100%|██████████| 2943/2943 [00:02<00:00, 1037.68it/s]\n",
      "100%|██████████| 2617/2617 [00:02<00:00, 1024.03it/s]\n"
     ]
    }
   ],
   "source": [
    "tqdm.pandas()\n",
    "train_data['image_arr'] = train_data['Image_Path'].progress_apply(lambda x: read_image(x))\n",
    "val_data['image_arr']   = val_data['Image_Path'].progress_apply(lambda x: read_image(x))\n",
    "test_data['image_arr']  = test_data['Image_Path'].progress_apply(lambda x: read_image(x))\n",
    "\n",
    "\n",
    "x_train, y_train = train_data['image_arr'].to_numpy(), train_data['Parasitized'].to_numpy()\n",
    "x_val  , y_val   = val_data['image_arr'].to_numpy()  , val_data['Parasitized'].to_numpy()\n",
    "x_test , y_test  = test_data['image_arr'].to_numpy() , test_data['Parasitized'].to_numpy()"
   ]
  },
  {
   "cell_type": "markdown",
   "metadata": {},
   "source": [
    "## Data Augmentation"
   ]
  },
  {
   "cell_type": "code",
   "execution_count": 244,
   "metadata": {},
   "outputs": [],
   "source": [
    "import albumentations as A\n",
    "import cv2"
   ]
  },
  {
   "cell_type": "code",
   "execution_count": 245,
   "metadata": {},
   "outputs": [
    {
     "name": "stderr",
     "output_type": "stream",
     "text": [
      "20601it [00:31, 659.93it/s]\n"
     ]
    }
   ],
   "source": [
    "augment = A.augmentations.geometric.transforms.Affine(\n",
    "    scale = 0.5,\n",
    "    translate_percent = 0.1,\n",
    "    rotate = 60,\n",
    "    shear = 30\n",
    "    )\n",
    "\n",
    "augment = A.ShiftScaleRotate(scale_limit = (-0.5, 0.01),rotate_limit= 180, border_mode=cv2.BORDER_CONSTANT, always_apply= True)\n",
    "\n",
    "transform = A.Compose(\n",
    "    [augment,\n",
    "    A.VerticalFlip(p = 0.5),\n",
    "    A.HorizontalFlip(p = 0.5),\n",
    "    A.augmentations.geometric.Affine(shear = 30),\n",
    "    A.Resize(HEIGHT, WIDTH, always_apply= True)\n",
    "    ]\n",
    ")\n",
    "\n",
    "aug_dataset = []\n",
    "aug_labels = []\n",
    "COPIES = 3\n",
    "\n",
    "for i, lab in tqdm(zip(x_train, y_train)):\n",
    "    for _ in range(COPIES):\n",
    "        aug_dataset.append(transform(image = i)['image'])\n",
    "        aug_labels.append(lab)"
   ]
  },
  {
   "cell_type": "code",
   "execution_count": 246,
   "metadata": {},
   "outputs": [],
   "source": [
    "x_train_aug = np.array(aug_dataset)\n",
    "y_train_aug = np.array(aug_labels)"
   ]
  },
  {
   "cell_type": "markdown",
   "metadata": {},
   "source": [
    "### Resizing"
   ]
  },
  {
   "cell_type": "code",
   "execution_count": 248,
   "metadata": {},
   "outputs": [
    {
     "name": "stderr",
     "output_type": "stream",
     "text": [
      "100%|██████████| 20601/20601 [01:08<00:00, 300.09it/s]\n"
     ]
    }
   ],
   "source": [
    "temp = []\n",
    "for img in tqdm(x_train):\n",
    "    temp.append(resize(img, (HEIGHT, WIDTH)))\n",
    "x_train = np.array(temp)\n",
    "\n",
    "\n",
    "temp = []\n",
    "for img in tqdm(x_val):\n",
    "    temp.append(resize(img, (HEIGHT, WIDTH)))\n",
    "x_val = np.array(temp)\n",
    "\n",
    "\n",
    "temp = []\n",
    "for img in tqdm(x_test):\n",
    "    temp.append(resize(img, (HEIGHT, WIDTH)))\n",
    "x_test = np.array(temp)"
   ]
  },
  {
   "cell_type": "code",
   "execution_count": 252,
   "metadata": {},
   "outputs": [
    {
     "data": {
      "text/plain": [
       "((20601, 50, 50, 3), (2943, 50, 50, 3), (2617, 50, 50, 3), (61803, 50, 50, 3))"
      ]
     },
     "execution_count": 252,
     "metadata": {},
     "output_type": "execute_result"
    }
   ],
   "source": [
    "x_train.shape, x_val.shape, x_test.shape, x_train_aug.shape"
   ]
  },
  {
   "cell_type": "markdown",
   "metadata": {},
   "source": [
    "## Modeling"
   ]
  },
  {
   "cell_type": "markdown",
   "metadata": {},
   "source": [
    "### Unaugmented"
   ]
  },
  {
   "cell_type": "markdown",
   "metadata": {},
   "source": [
    "#### Naive Bayes"
   ]
  },
  {
   "cell_type": "code",
   "execution_count": null,
   "metadata": {},
   "outputs": [],
   "source": [
    "from sklearn import naive_bayes\n",
    "\n",
    "nb_cls = naive_bayes.GaussianNB()"
   ]
  }
 ],
 "metadata": {
  "kernelspec": {
   "display_name": "Python 3.10.0 ('ml')",
   "language": "python",
   "name": "python3"
  },
  "language_info": {
   "codemirror_mode": {
    "name": "ipython",
    "version": 3
   },
   "file_extension": ".py",
   "mimetype": "text/x-python",
   "name": "python",
   "nbconvert_exporter": "python",
   "pygments_lexer": "ipython3",
   "version": "3.10.0"
  },
  "orig_nbformat": 4,
  "vscode": {
   "interpreter": {
    "hash": "c58e9361bde7ca617934da376e83056db506761bdc9593ca2087fabac973f609"
   }
  }
 },
 "nbformat": 4,
 "nbformat_minor": 2
}
