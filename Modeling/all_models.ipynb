{
 "cells": [
  {
   "cell_type": "markdown",
   "metadata": {},
   "source": [
    "## Imports"
   ]
  },
  {
   "cell_type": "code",
   "execution_count": 1,
   "metadata": {},
   "outputs": [],
   "source": [
    "import pandas as pd\n",
    "import numpy as np\n",
    "import tensorflow as tf\n",
    "import os\n",
    "\n",
    "import seaborn as sns\n",
    "import matplotlib.pyplot as plt\n",
    "import sys\n",
    "\n",
    "import skimage\n",
    "from skimage.color import rgb2hsv\n",
    "from skimage.transform import rescale, resize\n",
    "from tqdm import tqdm\n",
    "\n",
    "import sys\n",
    "import os\n",
    "\n",
    "from sklearn.metrics import classification_report\n",
    "\n",
    "\n",
    "import bz2, pickle, _pickle as cPickle\n",
    "\n",
    "import random\n",
    "\n",
    "# random.seed(1234)\n",
    "\n",
    "module_path = os.path.abspath(os.path.join('..'))\n",
    "if module_path not in sys.path:\n",
    "    sys.path.append(module_path+\"\\\\Modules\\\\Testing\")\n",
    "import testing_module\n",
    "\n",
    "SAVE_DIR = \"../Pickled Datasets/\"\n",
    "\n",
    "HEIGHT = 25\n",
    "WIDTH  = 25\n",
    "\n",
    "\n",
    "def compressed_pickle(name: str, data):\n",
    "    with bz2.BZ2File(os.path.join(SAVE_DIR, \"{}.pbz2\".format(name)), 'w') as f:\n",
    "        cPickle.dump(data, f)\n",
    "\n",
    "def decompress_pickle(file):\n",
    "    data = bz2.BZ2File(file, 'rb')\n",
    "    data = cPickle.load(data)\n",
    "    return data\n",
    "\n",
    "    "
   ]
  },
  {
   "cell_type": "markdown",
   "metadata": {},
   "source": [
    "SKImage rescales the image for us! Which means that we don't need to rescale by 255.0 anymore, saving us needlessly spent time and effort. There is another Augmentor library which can be used for data augmentation. We can simply sample the augmented images henceforth!"
   ]
  },
  {
   "cell_type": "markdown",
   "metadata": {},
   "source": [
    "## Preliminary setup"
   ]
  },
  {
   "cell_type": "code",
   "execution_count": 2,
   "metadata": {},
   "outputs": [],
   "source": [
    "sys.path.append(os.path.dirname(os.path.join((os.path.pardir), \"Modules\")))\n",
    "\n",
    "origin_dir = os.path.join(os.path.pardir, 'Data')\n",
    "new_dir_path = os.path.join(os.path.pardir, 'Data', 'cell_images')\n",
    "\n",
    "#for local systems\n",
    "train_csv = os.path.join(origin_dir, 'train.csv')\n",
    "test_csv = os.path.join(origin_dir, 'test.csv')\n",
    "val_csv = os.path.join(origin_dir, 'val.csv')\n",
    "\n",
    "from Modules.labelling import Labelling\n",
    "\n",
    "# download = Data_Download(origin_dir)\n",
    "# data_dir = download.resize_image(new_dir_path, 44, 44)\n",
    "\n",
    "lab = Labelling()\n",
    "lab.label('../Data/cell_images/', exclude_mislabeled= True)      # function to label the dataset\n",
    "train_csv, val_csv, test_csv = lab.train_test_val_split('../Data/', '../Data/cell_images/labels.csv', random_state = 1234)"
   ]
  },
  {
   "cell_type": "code",
   "execution_count": 3,
   "metadata": {},
   "outputs": [],
   "source": [
    "train_data = pd.read_csv(train_csv)\n",
    "val_data   = pd.read_csv(val_csv)\n",
    "test_data  = pd.read_csv(test_csv)"
   ]
  },
  {
   "cell_type": "markdown",
   "metadata": {},
   "source": [
    "### Reading images"
   ]
  },
  {
   "cell_type": "code",
   "execution_count": 4,
   "metadata": {},
   "outputs": [],
   "source": [
    "def read_image(path):\n",
    "    '''Function to read images given a path and return an array'''\n",
    "    return skimage.io.imread(path)"
   ]
  },
  {
   "cell_type": "code",
   "execution_count": 5,
   "metadata": {},
   "outputs": [
    {
     "name": "stdout",
     "output_type": "stream",
     "text": [
      "../Data/cell_images/Parasitized\\C39P4thinF_original_IMG_20150622_105102_cell_95.png\n",
      "0.9966666666666667\n"
     ]
    },
    {
     "data": {
      "text/plain": [
       "<matplotlib.image.AxesImage at 0x20a47255bd0>"
      ]
     },
     "execution_count": 5,
     "metadata": {},
     "output_type": "execute_result"
    },
    {
     "data": {
      "image/png": "[encoded data removed]",
      "text/plain": [
       "<Figure size 640x480 with 1 Axes>"
      ]
     },
     "metadata": {},
     "output_type": "display_data"
    }
   ],
   "source": [
    "i = 14\n",
    "\n",
    "print(train_data['Image_Path'][i])\n",
    "image = rgb2hsv(skimage.io.imread(train_data['Image_Path'][i]))\n",
    "print(np.max(image))\n",
    "result = ((image > 0.5)*image)[..., 1]\n",
    "plt.imshow(result, 'gray')"
   ]
  },
  {
   "cell_type": "code",
   "execution_count": 6,
   "metadata": {},
   "outputs": [
    {
     "name": "stderr",
     "output_type": "stream",
     "text": [
      "100%|██████████| 20601/20601 [00:29<00:00, 701.03it/s]\n",
      "100%|██████████| 2943/2943 [00:04<00:00, 695.30it/s]\n",
      "100%|██████████| 2617/2617 [00:03<00:00, 673.35it/s]\n"
     ]
    }
   ],
   "source": [
    "tqdm.pandas()\n",
    "train_data['image_arr'] = train_data['Image_Path'].progress_apply(lambda x: read_image(x))\n",
    "val_data['image_arr']   = val_data['Image_Path'].progress_apply(lambda x: read_image(x))\n",
    "test_data['image_arr']  = test_data['Image_Path'].progress_apply(lambda x: read_image(x))\n",
    "\n",
    "\n",
    "x_train, y_train = train_data['image_arr'].to_numpy(), train_data['Parasitized'].to_numpy()\n",
    "x_val  , y_val   = val_data['image_arr'].to_numpy()  , val_data['Parasitized'].to_numpy()\n",
    "x_test , y_test  = test_data['image_arr'].to_numpy() , test_data['Parasitized'].to_numpy()"
   ]
  },
  {
   "cell_type": "markdown",
   "metadata": {},
   "source": [
    "## Data Augmentation"
   ]
  },
  {
   "cell_type": "code",
   "execution_count": 7,
   "metadata": {},
   "outputs": [],
   "source": [
    "import albumentations as A\n",
    "import cv2"
   ]
  },
  {
   "cell_type": "code",
   "execution_count": 32,
   "metadata": {},
   "outputs": [
    {
     "name": "stderr",
     "output_type": "stream",
     "text": [
      "20601it [00:05, 3576.25it/s]\n"
     ]
    }
   ],
   "source": [
    "augment = A.augmentations.geometric.transforms.Affine(\n",
    "    translate_percent = 0.1,\n",
    "    rotate = 60,\n",
    "    shear = 30\n",
    "    )\n",
    "\n",
    "augment = A.ShiftScaleRotate(rotate_limit= 180, border_mode=cv2.BORDER_CONSTANT, always_apply= True)\n",
    "\n",
    "transform = A.Compose(\n",
    "    [augment,\n",
    "    A.VerticalFlip(p = 0.5),\n",
    "    A.HorizontalFlip(p = 0.5),\n",
    "    A.augmentations.geometric.Affine(shear = 15),\n",
    "    A.Resize(HEIGHT, WIDTH, always_apply= True)\n",
    "    ]\n",
    ")\n",
    "\n",
    "aug_dataset = []\n",
    "aug_labels = []\n",
    "COPIES = 2\n",
    "\n",
    "for i, lab in tqdm(zip(x_train, y_train)):\n",
    "    for _ in range(COPIES):\n",
    "        aug_dataset.append(transform(image = i)['image'])\n",
    "        aug_labels.append(lab)"
   ]
  },
  {
   "cell_type": "code",
   "execution_count": 33,
   "metadata": {},
   "outputs": [],
   "source": [
    "x_train_aug = np.array(aug_dataset)\n",
    "y_train_aug = np.array(aug_labels)"
   ]
  },
  {
   "cell_type": "code",
   "execution_count": 34,
   "metadata": {},
   "outputs": [
    {
     "data": {
      "text/plain": [
       "(array([0., 1.]), array([20520, 20682], dtype=int64))"
      ]
     },
     "execution_count": 34,
     "metadata": {},
     "output_type": "execute_result"
    }
   ],
   "source": [
    "np.unique(y_train_aug, return_counts = True)"
   ]
  },
  {
   "cell_type": "markdown",
   "metadata": {},
   "source": [
    "### Resizing"
   ]
  },
  {
   "cell_type": "code",
   "execution_count": 10,
   "metadata": {},
   "outputs": [
    {
     "name": "stderr",
     "output_type": "stream",
     "text": [
      "100%|██████████| 20601/20601 [00:20<00:00, 998.63it/s] \n",
      "100%|██████████| 2943/2943 [00:02<00:00, 1087.52it/s]\n",
      "100%|██████████| 2617/2617 [00:02<00:00, 1094.98it/s]\n"
     ]
    }
   ],
   "source": [
    "temp = []\n",
    "for img in tqdm(x_train):\n",
    "    temp.append(resize(img, (HEIGHT, WIDTH)))\n",
    "x_train = np.array(temp)\n",
    "\n",
    "\n",
    "temp = []\n",
    "for img in tqdm(x_val):\n",
    "    temp.append(resize(img, (HEIGHT, WIDTH)))\n",
    "x_val = np.array(temp)\n",
    "\n",
    "\n",
    "temp = []\n",
    "for img in tqdm(x_test):\n",
    "    temp.append(resize(img, (HEIGHT, WIDTH)))\n",
    "x_test = np.array(temp)"
   ]
  },
  {
   "cell_type": "markdown",
   "metadata": {},
   "source": [
    "## Saving Data"
   ]
  },
  {
   "cell_type": "code",
   "execution_count": 35,
   "metadata": {},
   "outputs": [],
   "source": [
    "compressed_pickle(\"x_train_aug\", x_train_aug)\n",
    "compressed_pickle(\"y_train_aug\", y_train_aug)\n",
    "compressed_pickle(\"x_train\", x_train)\n",
    "compressed_pickle(\"y_train\", y_train)\n",
    "compressed_pickle(\"x_val\", x_val)\n",
    "compressed_pickle(\"y_val\", y_val)\n",
    "compressed_pickle(\"x_test\", x_test)\n",
    "compressed_pickle(\"y_test\", y_test)"
   ]
  },
  {
   "cell_type": "markdown",
   "metadata": {},
   "source": [
    "## Loading Data"
   ]
  },
  {
   "cell_type": "code",
   "execution_count": 12,
   "metadata": {},
   "outputs": [
    {
     "name": "stdout",
     "output_type": "stream",
     "text": [
      "augmented:  (41202, 25, 25, 3) (41202,)\n",
      "train:  (20601, 25, 25, 3) (20601,)\n",
      "val:  (2943, 25, 25, 3) (2943,)\n",
      "test:  (2617, 25, 25, 3) (2617,)\n"
     ]
    }
   ],
   "source": [
    "x_train_aug = decompress_pickle(SAVE_DIR + 'x_train_aug.pbz2')\n",
    "y_train_aug = decompress_pickle(SAVE_DIR + 'y_train_aug.pbz2')\n",
    "x_train = decompress_pickle(SAVE_DIR + 'x_train.pbz2')\n",
    "y_train = decompress_pickle(SAVE_DIR + 'y_train.pbz2')\n",
    "x_val = decompress_pickle(SAVE_DIR + 'x_val.pbz2')\n",
    "y_val = decompress_pickle(SAVE_DIR + 'y_val.pbz2')\n",
    "x_test = decompress_pickle(SAVE_DIR + 'x_test.pbz2')\n",
    "y_test = decompress_pickle(SAVE_DIR + 'y_test.pbz2')\n",
    "\n",
    "print(\"augmented: \", x_train_aug.shape, y_train_aug.shape)\n",
    "print(\"train: \", x_train.shape, y_train.shape)\n",
    "print(\"val: \", x_val.shape, y_val.shape)\n",
    "print(\"test: \", x_test.shape, y_test.shape)"
   ]
  },
  {
   "cell_type": "code",
   "execution_count": 13,
   "metadata": {},
   "outputs": [],
   "source": [
    "n_aug_train = x_train_aug.shape[0]\n",
    "n_train     = x_train.shape[0]\n",
    "n_val       = x_val.shape[0]\n",
    "n_test      = x_test.shape[0]"
   ]
  },
  {
   "cell_type": "code",
   "execution_count": 14,
   "metadata": {},
   "outputs": [
    {
     "data": {
      "text/plain": [
       "<matplotlib.image.AxesImage at 0x20ae93600a0>"
      ]
     },
     "execution_count": 14,
     "metadata": {},
     "output_type": "execute_result"
    },
    {
     "data": {
      "image/png": "[encoded data removed]",
      "text/plain": [
       "<Figure size 640x480 with 1 Axes>"
      ]
     },
     "metadata": {},
     "output_type": "display_data"
    }
   ],
   "source": [
    "plt.imshow(x_train[3])"
   ]
  },
  {
   "cell_type": "markdown",
   "metadata": {},
   "source": [
    "## Modeling"
   ]
  },
  {
   "cell_type": "code",
   "execution_count": 15,
   "metadata": {},
   "outputs": [],
   "source": [
    "N_DIGITS = 3"
   ]
  },
  {
   "cell_type": "markdown",
   "metadata": {},
   "source": [
    "### Unaugmented"
   ]
  },
  {
   "cell_type": "markdown",
   "metadata": {},
   "source": [
    "#### Naive Bayes"
   ]
  },
  {
   "cell_type": "code",
   "execution_count": 16,
   "metadata": {},
   "outputs": [
    {
     "name": "stdout",
     "output_type": "stream",
     "text": [
      "Training Classification Report: \n",
      "               precision    recall  f1-score   support\n",
      "\n",
      "         0.0      0.611     0.746     0.672     10260\n",
      "         1.0      0.677     0.530     0.594     10341\n",
      "\n",
      "    accuracy                          0.637     20601\n",
      "   macro avg      0.644     0.638     0.633     20601\n",
      "weighted avg      0.644     0.637     0.633     20601\n",
      "\n",
      "\n",
      "Validation Classification Report: \n",
      "               precision    recall  f1-score   support\n",
      "\n",
      "         0.0      0.620     0.761     0.683      1466\n",
      "         1.0      0.693     0.538     0.606      1477\n",
      "\n",
      "    accuracy                          0.649      2943\n",
      "   macro avg      0.657     0.649     0.644      2943\n",
      "weighted avg      0.657     0.649     0.644      2943\n",
      "\n",
      "\n",
      "Testing Classification Report: \n",
      "               precision    recall  f1-score   support\n",
      "\n",
      "         0.0      0.613     0.766     0.681      1303\n",
      "         1.0      0.692     0.521     0.595      1314\n",
      "\n",
      "    accuracy                          0.643      2617\n",
      "   macro avg      0.653     0.644     0.638      2617\n",
      "weighted avg      0.653     0.643     0.638      2617\n",
      "\n"
     ]
    }
   ],
   "source": [
    "from sklearn import naive_bayes\n",
    "\n",
    "nb_cls = naive_bayes.GaussianNB()\n",
    "nb_cls.fit(x_train.reshape(n_train, -1), y_train)\n",
    "preds_train = nb_cls.predict(x_train.reshape(n_train, -1))\n",
    "preds_val   = nb_cls.predict(x_val.reshape(n_val, -1))\n",
    "preds_test  = nb_cls.predict(x_test.reshape(n_test, -1))\n",
    "\n",
    "print(\"Training Classification Report: \\n\", classification_report(y_train, preds_train, digits = N_DIGITS))\n",
    "print(\"\\nValidation Classification Report: \\n\", classification_report(y_val, preds_val, digits = N_DIGITS))\n",
    "print(\"\\nTesting Classification Report: \\n\", classification_report(y_test, preds_test, digits = N_DIGITS))\n",
    "\n",
    "# eval = testing_module.ModelEvaluation(y_val, \n",
    "#     nb_cls.predict(x_val.reshape(n_val, -1)),\n",
    "#     model_reference_name = 'Naive Bayes',\n",
    "#     model_type = 'classification',\n",
    "#     plot_classification_metric = ['roc_auc']) # if classification\n",
    "# eval.evaluate(evaluate_save= True, plots_show = True)"
   ]
  },
  {
   "cell_type": "markdown",
   "metadata": {},
   "source": [
    "#### Logistic Regression"
   ]
  },
  {
   "cell_type": "code",
   "execution_count": 18,
   "metadata": {},
   "outputs": [
    {
     "name": "stderr",
     "output_type": "stream",
     "text": [
      "[Parallel(n_jobs=-1)]: Using backend ThreadingBackend with 24 concurrent workers.\n"
     ]
    },
    {
     "name": "stdout",
     "output_type": "stream",
     "text": [
      "max_iter reached after 43 seconds\n",
      "Training Classification Report: \n",
      "               precision    recall  f1-score   support\n",
      "\n",
      "         0.0      0.729     0.754     0.741     10260\n",
      "         1.0      0.747     0.722     0.734     10341\n",
      "\n",
      "    accuracy                          0.738     20601\n",
      "   macro avg      0.738     0.738     0.738     20601\n",
      "weighted avg      0.738     0.738     0.738     20601\n",
      "\n",
      "\n",
      "Validation Classification Report: \n",
      "               precision    recall  f1-score   support\n",
      "\n",
      "         0.0      0.693     0.714     0.703      1466\n",
      "         1.0      0.707     0.686     0.696      1477\n",
      "\n",
      "    accuracy                          0.700      2943\n",
      "   macro avg      0.700     0.700     0.700      2943\n",
      "weighted avg      0.700     0.700     0.700      2943\n",
      "\n",
      "\n",
      "Testing Classification Report: \n",
      "               precision    recall  f1-score   support\n",
      "\n",
      "         0.0      0.689     0.738     0.712      1303\n",
      "         1.0      0.720     0.670     0.694      1314\n",
      "\n",
      "    accuracy                          0.703      2617\n",
      "   macro avg      0.705     0.704     0.703      2617\n",
      "weighted avg      0.705     0.703     0.703      2617\n",
      "\n"
     ]
    },
    {
     "name": "stderr",
     "output_type": "stream",
     "text": [
      "c:\\ProgramData\\Anaconda3\\envs\\ml\\lib\\site-packages\\sklearn\\linear_model\\_sag.py:350: ConvergenceWarning: The max_iter was reached which means the coef_ did not converge\n",
      "  warnings.warn(\n",
      "[Parallel(n_jobs=-1)]: Done   1 tasks      | elapsed:   43.3s\n",
      "[Parallel(n_jobs=-1)]: Done   1 out of   1 | elapsed:   43.3s finished\n"
     ]
    }
   ],
   "source": [
    "from sklearn.linear_model import LogisticRegression\n",
    "\n",
    "logreg_cls =  LogisticRegression(max_iter = 200, verbose = 10, n_jobs = -1, solver = 'saga')\n",
    "logreg_cls.fit(x_train.reshape(n_train, -1), y_train)\n",
    "preds_train = logreg_cls.predict(x_train.reshape(n_train, -1))\n",
    "preds_val   = logreg_cls.predict(x_val.reshape(n_val, -1))\n",
    "preds_test  = logreg_cls.predict(x_test.reshape(n_test, -1))\n",
    "\n",
    "print(\"Training Classification Report: \\n\", classification_report(y_train, preds_train, digits = N_DIGITS))\n",
    "print(\"\\nValidation Classification Report: \\n\", classification_report(y_val, preds_val, digits = N_DIGITS))\n",
    "print(\"\\nTesting Classification Report: \\n\", classification_report(y_test, preds_test, digits = N_DIGITS))\n",
    "\n",
    "# eval = testing_module.ModelEvaluation(y_val, \n",
    "#     nb_cls.predict(x_val.reshape(n_val, -1)),\n",
    "#     model_reference_name = 'Naive Bayes',\n",
    "#     model_type = 'classification',\n",
    "#     plot_classification_metric = ['roc_auc']) # if classification\n",
    "# eval.evaluate(evaluate_save= True, plots_show = True)"
   ]
  },
  {
   "cell_type": "markdown",
   "metadata": {},
   "source": [
    "#### Decision Trees"
   ]
  },
  {
   "cell_type": "code",
   "execution_count": 19,
   "metadata": {},
   "outputs": [
    {
     "name": "stdout",
     "output_type": "stream",
     "text": [
      "Training Classification Report: \n",
      "               precision    recall  f1-score   support\n",
      "\n",
      "         0.0      0.685     0.774     0.727     10260\n",
      "         1.0      0.743     0.646     0.691     10341\n",
      "\n",
      "    accuracy                          0.710     20601\n",
      "   macro avg      0.714     0.710     0.709     20601\n",
      "weighted avg      0.714     0.710     0.709     20601\n",
      "\n",
      "\n",
      "Validation Classification Report: \n",
      "               precision    recall  f1-score   support\n",
      "\n",
      "         0.0      0.677     0.774     0.722      1466\n",
      "         1.0      0.738     0.634     0.682      1477\n",
      "\n",
      "    accuracy                          0.703      2943\n",
      "   macro avg      0.708     0.704     0.702      2943\n",
      "weighted avg      0.708     0.703     0.702      2943\n",
      "\n",
      "\n",
      "Testing Classification Report: \n",
      "               precision    recall  f1-score   support\n",
      "\n",
      "         0.0      0.662     0.748     0.703      1303\n",
      "         1.0      0.714     0.622     0.664      1314\n",
      "\n",
      "    accuracy                          0.685      2617\n",
      "   macro avg      0.688     0.685     0.684      2617\n",
      "weighted avg      0.688     0.685     0.684      2617\n",
      "\n"
     ]
    }
   ],
   "source": [
    "from sklearn.tree import DecisionTreeClassifier\n",
    "\n",
    "dt_cls =  DecisionTreeClassifier(criterion = 'gini', splitter = 'best', max_depth = 5, min_samples_split = 2, )\n",
    "dt_cls.fit(x_train.reshape(n_train, -1), y_train)\n",
    "preds_train = dt_cls.predict(x_train.reshape(n_train, -1))\n",
    "preds_val   = dt_cls.predict(x_val.reshape(n_val, -1))\n",
    "preds_test  = dt_cls.predict(x_test.reshape(n_test, -1))\n",
    "\n",
    "print(\"Training Classification Report: \\n\", classification_report(y_train, preds_train, digits = N_DIGITS))\n",
    "print(\"\\nValidation Classification Report: \\n\", classification_report(y_val, preds_val, digits = N_DIGITS))\n",
    "print(\"\\nTesting Classification Report: \\n\", classification_report(y_test, preds_test, digits = N_DIGITS))\n",
    "\n",
    "# eval = testing_module.ModelEvaluation(y_val, \n",
    "#     nb_cls.predict(x_val.reshape(n_val, -1)),\n",
    "#     model_reference_name = 'Naive Bayes',\n",
    "#     model_type = 'classification',\n",
    "#     plot_classification_metric = ['roc_auc']) # if classification\n",
    "# eval.evaluate(evaluate_save= True, plots_show = True)"
   ]
  },
  {
   "cell_type": "markdown",
   "metadata": {},
   "source": [
    "#### XGBoost"
   ]
  },
  {
   "cell_type": "code",
   "execution_count": 20,
   "metadata": {},
   "outputs": [
    {
     "name": "stdout",
     "output_type": "stream",
     "text": [
      "Training Classification Report: \n",
      "               precision    recall  f1-score   support\n",
      "\n",
      "         0.0      0.966     0.983     0.974     10260\n",
      "         1.0      0.983     0.966     0.974     10341\n",
      "\n",
      "    accuracy                          0.974     20601\n",
      "   macro avg      0.974     0.974     0.974     20601\n",
      "weighted avg      0.975     0.974     0.974     20601\n",
      "\n",
      "\n",
      "Validation Classification Report: \n",
      "               precision    recall  f1-score   support\n",
      "\n",
      "         0.0      0.842     0.873     0.857      1466\n",
      "         1.0      0.869     0.837     0.853      1477\n",
      "\n",
      "    accuracy                          0.855      2943\n",
      "   macro avg      0.855     0.855     0.855      2943\n",
      "weighted avg      0.855     0.855     0.855      2943\n",
      "\n",
      "\n",
      "Testing Classification Report: \n",
      "               precision    recall  f1-score   support\n",
      "\n",
      "         0.0      0.842     0.861     0.851      1303\n",
      "         1.0      0.859     0.839     0.849      1314\n",
      "\n",
      "    accuracy                          0.850      2617\n",
      "   macro avg      0.850     0.850     0.850      2617\n",
      "weighted avg      0.850     0.850     0.850      2617\n",
      "\n"
     ]
    }
   ],
   "source": [
    "from xgboost import XGBClassifier\n",
    "\n",
    "xgb_cls = XGBClassifier(max_depth = 5, objective = 'reg:logistic',\n",
    "                            num_parallel_tree = 20, booster = 'gbtree',\n",
    "                            gamma = 0.5, tree_method = 'gpu_hist', subsample = 0.4, reg_lambda = 1)\n",
    "xgb_cls.fit(x_train.reshape(n_train, -1), y_train)\n",
    "preds_train = xgb_cls.predict(x_train.reshape(n_train, -1))\n",
    "preds_val   = xgb_cls.predict(x_val.reshape(n_val, -1))\n",
    "preds_test  = xgb_cls.predict(x_test.reshape(n_test, -1))\n",
    "\n",
    "print(\"Training Classification Report: \\n\", classification_report(y_train, preds_train, digits = N_DIGITS))\n",
    "print(\"\\nValidation Classification Report: \\n\", classification_report(y_val, preds_val, digits = N_DIGITS))\n",
    "print(\"\\nTesting Classification Report: \\n\", classification_report(y_test, preds_test, digits = N_DIGITS))\n",
    "                  "
   ]
  },
  {
   "cell_type": "markdown",
   "metadata": {},
   "source": [
    "#### SVM"
   ]
  },
  {
   "cell_type": "code",
   "execution_count": 21,
   "metadata": {},
   "outputs": [
    {
     "name": "stdout",
     "output_type": "stream",
     "text": [
      "[LibSVM]"
     ]
    },
    {
     "name": "stderr",
     "output_type": "stream",
     "text": [
      "c:\\ProgramData\\Anaconda3\\envs\\ml\\lib\\site-packages\\sklearn\\svm\\_base.py:301: ConvergenceWarning: Solver terminated early (max_iter=250).  Consider pre-processing your data with StandardScaler or MinMaxScaler.\n",
      "  warnings.warn(\n"
     ]
    },
    {
     "name": "stdout",
     "output_type": "stream",
     "text": [
      "Training Classification Report: \n",
      "               precision    recall  f1-score   support\n",
      "\n",
      "         0.0      0.456     0.498     0.476     10260\n",
      "         1.0      0.452     0.411     0.430     10341\n",
      "\n",
      "    accuracy                          0.454     20601\n",
      "   macro avg      0.454     0.454     0.453     20601\n",
      "weighted avg      0.454     0.454     0.453     20601\n",
      "\n",
      "\n",
      "Validation Classification Report: \n",
      "               precision    recall  f1-score   support\n",
      "\n",
      "         0.0      0.446     0.477     0.461      1466\n",
      "         1.0      0.442     0.412     0.426      1477\n",
      "\n",
      "    accuracy                          0.444      2943\n",
      "   macro avg      0.444     0.444     0.444      2943\n",
      "weighted avg      0.444     0.444     0.444      2943\n",
      "\n",
      "\n",
      "Testing Classification Report: \n",
      "               precision    recall  f1-score   support\n",
      "\n",
      "         0.0      0.457     0.486     0.471      1303\n",
      "         1.0      0.456     0.428     0.441      1314\n",
      "\n",
      "    accuracy                          0.457      2617\n",
      "   macro avg      0.457     0.457     0.456      2617\n",
      "weighted avg      0.457     0.457     0.456      2617\n",
      "\n"
     ]
    }
   ],
   "source": [
    "from sklearn.svm import SVC\n",
    "\n",
    "svm_cls = SVC(kernel = 'rbf', max_iter = 250, verbose= True)\n",
    "svm_cls.fit(x_train.reshape(n_train, -1), y_train)\n",
    "preds_train = svm_cls.predict(x_train.reshape(n_train, -1))\n",
    "preds_val   = svm_cls.predict(x_val.reshape(n_val, -1))\n",
    "preds_test  = svm_cls.predict(x_test.reshape(n_test, -1))\n",
    "\n",
    "print(\"Training Classification Report: \\n\", classification_report(y_train, preds_train, digits = N_DIGITS))\n",
    "print(\"\\nValidation Classification Report: \\n\", classification_report(y_val, preds_val, digits = N_DIGITS))\n",
    "print(\"\\nTesting Classification Report: \\n\", classification_report(y_test, preds_test, digits = N_DIGITS))\n",
    "                  "
   ]
  },
  {
   "cell_type": "markdown",
   "metadata": {},
   "source": [
    "#### Transfer Learning"
   ]
  },
  {
   "cell_type": "code",
   "execution_count": 22,
   "metadata": {},
   "outputs": [
    {
     "name": "stdout",
     "output_type": "stream",
     "text": [
      "Epoch 1/50\n",
      "322/322 [==============================] - 9s 17ms/step - loss: 0.2140 - accuracy: 0.9201 - val_loss: 0.1365 - val_accuracy: 0.9514\n",
      "Epoch 2/50\n",
      "322/322 [==============================] - 5s 15ms/step - loss: 0.1240 - accuracy: 0.9504 - val_loss: 0.1341 - val_accuracy: 0.9470\n",
      "Epoch 3/50\n",
      "322/322 [==============================] - 5s 15ms/step - loss: 0.1077 - accuracy: 0.9583 - val_loss: 0.1331 - val_accuracy: 0.9531\n",
      "Epoch 4/50\n",
      "322/322 [==============================] - 5s 16ms/step - loss: 0.0971 - accuracy: 0.9615 - val_loss: 0.1074 - val_accuracy: 0.9630\n",
      "Epoch 5/50\n",
      "322/322 [==============================] - 5s 15ms/step - loss: 0.0927 - accuracy: 0.9634 - val_loss: 0.1137 - val_accuracy: 0.9623\n",
      "Epoch 6/50\n",
      "322/322 [==============================] - 5s 15ms/step - loss: 0.0866 - accuracy: 0.9669 - val_loss: 0.2217 - val_accuracy: 0.9320\n",
      "Epoch 7/50\n",
      "322/322 [==============================] - 5s 16ms/step - loss: 0.0826 - accuracy: 0.9692 - val_loss: 0.1359 - val_accuracy: 0.9521\n",
      "644/644 [==============================] - 5s 7ms/step\n",
      "92/92 [==============================] - 1s 6ms/step\n",
      "82/82 [==============================] - 1s 7ms/step\n",
      "Training Classification Report: \n",
      "               precision    recall  f1-score   support\n",
      "\n",
      "         0.0      0.979     0.956     0.967     10260\n",
      "         1.0      0.957     0.980     0.968     10341\n",
      "\n",
      "    accuracy                          0.968     20601\n",
      "   macro avg      0.968     0.968     0.968     20601\n",
      "weighted avg      0.968     0.968     0.968     20601\n",
      "\n",
      "\n",
      "Validation Classification Report: \n",
      "               precision    recall  f1-score   support\n",
      "\n",
      "         0.0      0.970     0.933     0.951      1466\n",
      "         1.0      0.936     0.971     0.953      1477\n",
      "\n",
      "    accuracy                          0.952      2943\n",
      "   macro avg      0.953     0.952     0.952      2943\n",
      "weighted avg      0.953     0.952     0.952      2943\n",
      "\n",
      "\n",
      "Testing Classification Report: \n",
      "               precision    recall  f1-score   support\n",
      "\n",
      "         0.0      0.958     0.924     0.941      1303\n",
      "         1.0      0.927     0.960     0.943      1314\n",
      "\n",
      "    accuracy                          0.942      2617\n",
      "   macro avg      0.943     0.942     0.942      2617\n",
      "weighted avg      0.942     0.942     0.942      2617\n",
      "\n"
     ]
    }
   ],
   "source": [
    "imagenet = tf.keras.applications.Xception(\n",
    "    weights = 'imagenet',\n",
    "    include_top = False,\n",
    "    input_shape = (72, 72, 3)\n",
    ")\n",
    "imagenet.trainable = False\n",
    "\n",
    "trans_learn = tf.keras.Sequential([\n",
    "    tf.keras.layers.Resizing(72, 72),\n",
    "    imagenet,\n",
    "\n",
    "    tf.keras.layers.GlobalAveragePooling2D(),\n",
    "    tf.keras.layers.Dense(512, activation = 'relu'),\n",
    "    tf.keras.layers.Dense(512, activation = 'relu'),\n",
    "    tf.keras.layers.Dense(2, activation = 'sigmoid')\n",
    "])\n",
    "\n",
    "trans_learn.compile(\n",
    "    optimizer = tf.keras.optimizers.Adam(learning_rate=0.003),\n",
    "    loss = 'sparse_categorical_crossentropy',\n",
    "    metrics = ['accuracy']\n",
    ")\n",
    "\n",
    "history = trans_learn.fit(\n",
    "            x_train, y_train, batch_size = 64,\n",
    "            shuffle = True,\n",
    "            epochs = 50,\n",
    "            validation_data = [x_val, y_val],\n",
    "            validation_batch_size = 32,\n",
    "            callbacks = tf.keras.callbacks.EarlyStopping(monitor = 'val_loss', patience = 3)\n",
    "        )\n",
    "preds_train = np.argmax(trans_learn.predict(x_train), axis = 1)\n",
    "preds_val   = np.argmax(trans_learn.predict(x_val), axis = 1)\n",
    "preds_test  = np.argmax(trans_learn.predict(x_test), axis = 1)\n",
    "\n",
    "print(\"Training Classification Report: \\n\", classification_report(y_train, preds_train, digits = N_DIGITS))\n",
    "print(\"\\nValidation Classification Report: \\n\", classification_report(y_val, preds_val, digits = N_DIGITS))\n",
    "print(\"\\nTesting Classification Report: \\n\", classification_report(y_test, preds_test, digits = N_DIGITS))\n",
    "\n"
   ]
  },
  {
   "cell_type": "markdown",
   "metadata": {},
   "source": [
    "#### CNN Model"
   ]
  },
  {
   "cell_type": "code",
   "execution_count": 23,
   "metadata": {},
   "outputs": [
    {
     "name": "stdout",
     "output_type": "stream",
     "text": [
      "Epoch 1/50\n",
      "21/21 [==============================] - 1s 16ms/step - loss: 0.6991 - accuracy: 0.5436 - val_loss: 0.6575 - val_accuracy: 0.5906\n",
      "Epoch 2/50\n",
      "21/21 [==============================] - 0s 7ms/step - loss: 0.6421 - accuracy: 0.6313 - val_loss: 0.5956 - val_accuracy: 0.6854\n",
      "Epoch 3/50\n",
      "21/21 [==============================] - 0s 7ms/step - loss: 0.5946 - accuracy: 0.6853 - val_loss: 0.6197 - val_accuracy: 0.6232\n",
      "Epoch 4/50\n",
      "21/21 [==============================] - 0s 7ms/step - loss: 0.5464 - accuracy: 0.7279 - val_loss: 0.5453 - val_accuracy: 0.7159\n",
      "Epoch 5/50\n",
      "21/21 [==============================] - 0s 7ms/step - loss: 0.5019 - accuracy: 0.7666 - val_loss: 0.9244 - val_accuracy: 0.5070\n",
      "Epoch 6/50\n",
      "21/21 [==============================] - 0s 7ms/step - loss: 0.6034 - accuracy: 0.6656 - val_loss: 0.5038 - val_accuracy: 0.7530\n",
      "Epoch 7/50\n",
      "21/21 [==============================] - 0s 7ms/step - loss: 0.4677 - accuracy: 0.7900 - val_loss: 0.4338 - val_accuracy: 0.8073\n",
      "Epoch 8/50\n",
      "21/21 [==============================] - 0s 7ms/step - loss: 0.4178 - accuracy: 0.8208 - val_loss: 0.3803 - val_accuracy: 0.8440\n",
      "Epoch 9/50\n",
      "21/21 [==============================] - 0s 7ms/step - loss: 0.3751 - accuracy: 0.8469 - val_loss: 0.3600 - val_accuracy: 0.8529\n",
      "Epoch 10/50\n",
      "21/21 [==============================] - 0s 7ms/step - loss: 0.3450 - accuracy: 0.8558 - val_loss: 0.2894 - val_accuracy: 0.8807\n",
      "Epoch 11/50\n",
      "21/21 [==============================] - 0s 7ms/step - loss: 0.2568 - accuracy: 0.8992 - val_loss: 0.2091 - val_accuracy: 0.9140\n",
      "Epoch 12/50\n",
      "21/21 [==============================] - 0s 7ms/step - loss: 0.2013 - accuracy: 0.9231 - val_loss: 0.2499 - val_accuracy: 0.8936\n",
      "Epoch 13/50\n",
      "21/21 [==============================] - 0s 7ms/step - loss: 0.1793 - accuracy: 0.9326 - val_loss: 0.1308 - val_accuracy: 0.9545\n",
      "Epoch 14/50\n",
      "21/21 [==============================] - 0s 7ms/step - loss: 0.1399 - accuracy: 0.9498 - val_loss: 0.1061 - val_accuracy: 0.9592\n",
      "Epoch 15/50\n",
      "21/21 [==============================] - 0s 8ms/step - loss: 0.1105 - accuracy: 0.9611 - val_loss: 0.0926 - val_accuracy: 0.9687\n",
      "Epoch 16/50\n",
      "21/21 [==============================] - 0s 7ms/step - loss: 0.0938 - accuracy: 0.9667 - val_loss: 0.0766 - val_accuracy: 0.9718\n",
      "Epoch 17/50\n",
      "21/21 [==============================] - 0s 7ms/step - loss: 0.0783 - accuracy: 0.9721 - val_loss: 0.0836 - val_accuracy: 0.9728\n",
      "Epoch 18/50\n",
      "21/21 [==============================] - 0s 7ms/step - loss: 0.0720 - accuracy: 0.9756 - val_loss: 0.0752 - val_accuracy: 0.9759\n",
      "Epoch 19/50\n",
      "21/21 [==============================] - 0s 7ms/step - loss: 0.0693 - accuracy: 0.9761 - val_loss: 0.0660 - val_accuracy: 0.9789\n",
      "Epoch 20/50\n",
      "21/21 [==============================] - 0s 7ms/step - loss: 0.0593 - accuracy: 0.9805 - val_loss: 0.0657 - val_accuracy: 0.9762\n",
      "Epoch 21/50\n",
      "21/21 [==============================] - 0s 8ms/step - loss: 0.0652 - accuracy: 0.9780 - val_loss: 0.0570 - val_accuracy: 0.9803\n",
      "Epoch 22/50\n",
      "21/21 [==============================] - 0s 8ms/step - loss: 0.0570 - accuracy: 0.9810 - val_loss: 0.0533 - val_accuracy: 0.9830\n",
      "Epoch 23/50\n",
      "21/21 [==============================] - 0s 7ms/step - loss: 0.0504 - accuracy: 0.9838 - val_loss: 0.0559 - val_accuracy: 0.9850\n",
      "Epoch 24/50\n",
      "21/21 [==============================] - 0s 7ms/step - loss: 0.0516 - accuracy: 0.9835 - val_loss: 0.0484 - val_accuracy: 0.9850\n",
      "Epoch 25/50\n",
      "21/21 [==============================] - 0s 7ms/step - loss: 0.0450 - accuracy: 0.9856 - val_loss: 0.0576 - val_accuracy: 0.9823\n",
      "Epoch 26/50\n",
      "21/21 [==============================] - 0s 7ms/step - loss: 0.0456 - accuracy: 0.9850 - val_loss: 0.0476 - val_accuracy: 0.9864\n",
      "Epoch 27/50\n",
      "21/21 [==============================] - 0s 7ms/step - loss: 0.0446 - accuracy: 0.9860 - val_loss: 0.0521 - val_accuracy: 0.9857\n",
      "Epoch 28/50\n",
      "21/21 [==============================] - 0s 8ms/step - loss: 0.0412 - accuracy: 0.9865 - val_loss: 0.0562 - val_accuracy: 0.9820\n",
      "Epoch 29/50\n",
      "21/21 [==============================] - 0s 7ms/step - loss: 0.0357 - accuracy: 0.9888 - val_loss: 0.0475 - val_accuracy: 0.9878\n",
      "Epoch 30/50\n",
      "21/21 [==============================] - 0s 7ms/step - loss: 0.0330 - accuracy: 0.9901 - val_loss: 0.0478 - val_accuracy: 0.9878\n",
      "Epoch 31/50\n",
      "21/21 [==============================] - 0s 7ms/step - loss: 0.0381 - accuracy: 0.9868 - val_loss: 0.0456 - val_accuracy: 0.9854\n",
      "Epoch 32/50\n",
      "21/21 [==============================] - 0s 7ms/step - loss: 0.0373 - accuracy: 0.9880 - val_loss: 0.0424 - val_accuracy: 0.9864\n",
      "Epoch 33/50\n",
      "21/21 [==============================] - 0s 7ms/step - loss: 0.0308 - accuracy: 0.9902 - val_loss: 0.0513 - val_accuracy: 0.9847\n",
      "Epoch 34/50\n",
      "21/21 [==============================] - 0s 8ms/step - loss: 0.0287 - accuracy: 0.9906 - val_loss: 0.0484 - val_accuracy: 0.9867\n",
      "Epoch 35/50\n",
      "21/21 [==============================] - 0s 7ms/step - loss: 0.0248 - accuracy: 0.9911 - val_loss: 0.0448 - val_accuracy: 0.9881\n",
      "644/644 [==============================] - 1s 1ms/step\n",
      "92/92 [==============================] - 0s 1ms/step\n",
      "82/82 [==============================] - 0s 1ms/step\n",
      "Training Classification Report: \n",
      "               precision    recall  f1-score   support\n",
      "\n",
      "         0.0      0.995     0.997     0.996     10260\n",
      "         1.0      0.997     0.995     0.996     10341\n",
      "\n",
      "    accuracy                          0.996     20601\n",
      "   macro avg      0.996     0.996     0.996     20601\n",
      "weighted avg      0.996     0.996     0.996     20601\n",
      "\n",
      "\n",
      "Validation Classification Report: \n",
      "               precision    recall  f1-score   support\n",
      "\n",
      "         0.0      0.987     0.989     0.988      1466\n",
      "         1.0      0.989     0.987     0.988      1477\n",
      "\n",
      "    accuracy                          0.988      2943\n",
      "   macro avg      0.988     0.988     0.988      2943\n",
      "weighted avg      0.988     0.988     0.988      2943\n",
      "\n",
      "\n",
      "Testing Classification Report: \n",
      "               precision    recall  f1-score   support\n",
      "\n",
      "         0.0      0.980     0.989     0.985      1303\n",
      "         1.0      0.989     0.980     0.985      1314\n",
      "\n",
      "    accuracy                          0.985      2617\n",
      "   macro avg      0.985     0.985     0.985      2617\n",
      "weighted avg      0.985     0.985     0.985      2617\n",
      "\n"
     ]
    }
   ],
   "source": [
    "cnn = tf.keras.Sequential([\n",
    "    tf.keras.layers.Conv2D(16, (3,3), padding = 'same', activation = 'relu', input_shape = x_train[0].shape),\n",
    "    tf.keras.layers.MaxPool2D((3,3), padding = 'same'),\n",
    "\n",
    "    tf.keras.layers.Conv2D(32, (2,2), padding = 'same', activation = 'relu'),\n",
    "    tf.keras.layers.MaxPool2D((2,2), padding = 'same'),\n",
    "\n",
    "\n",
    "    tf.keras.layers.Flatten(),\n",
    "\n",
    "    tf.keras.layers.Dense(256, activation = 'relu'),\n",
    "    tf.keras.layers.Dropout(0.5),\n",
    "    tf.keras.layers.Dense(256, activation = 'relu'),\n",
    "    tf.keras.layers.Dropout(0.5),\n",
    "    tf.keras.layers.Dense(2, activation = 'sigmoid')\n",
    "])\n",
    "\n",
    "cnn.compile(\n",
    "    optimizer = tf.keras.optimizers.Adam(learning_rate=0.003),\n",
    "    loss = 'sparse_categorical_crossentropy',\n",
    "    metrics = ['accuracy']\n",
    ")\n",
    "\n",
    "history = cnn.fit(\n",
    "            x_train, y_train, batch_size = 1024,\n",
    "            epochs = 50,\n",
    "            validation_data = [x_val, y_val],\n",
    "            validation_batch_size = 256,\n",
    "            callbacks = tf.keras.callbacks.EarlyStopping(monitor = 'val_loss', patience = 3)\n",
    "        )\n",
    "preds_train = np.argmax(cnn.predict(x_train), axis = 1)\n",
    "preds_val   = np.argmax(cnn.predict(x_val), axis = 1)\n",
    "preds_test  = np.argmax(cnn.predict(x_test), axis = 1)\n",
    "\n",
    "print(\"Training Classification Report: \\n\", classification_report(y_train, preds_train, digits = N_DIGITS))\n",
    "print(\"\\nValidation Classification Report: \\n\", classification_report(y_val, preds_val, digits = N_DIGITS))\n",
    "print(\"\\nTesting Classification Report: \\n\", classification_report(y_test, preds_test, digits = N_DIGITS))"
   ]
  },
  {
   "cell_type": "markdown",
   "metadata": {},
   "source": [
    "### Augmented Dataset"
   ]
  },
  {
   "cell_type": "markdown",
   "metadata": {},
   "source": [
    "#### Naive Bayes"
   ]
  },
  {
   "cell_type": "code",
   "execution_count": 36,
   "metadata": {},
   "outputs": [
    {
     "name": "stdout",
     "output_type": "stream",
     "text": [
      "Training Classification Report: \n",
      "               precision    recall  f1-score   support\n",
      "\n",
      "         0.0      0.615     0.733     0.669     20520\n",
      "         1.0      0.673     0.544     0.601     20682\n",
      "\n",
      "    accuracy                          0.638     41202\n",
      "   macro avg      0.644     0.638     0.635     41202\n",
      "weighted avg      0.644     0.638     0.635     41202\n",
      "\n",
      "\n",
      "Validation Classification Report: \n",
      "               precision    recall  f1-score   support\n",
      "\n",
      "         0.0      0.605     0.815     0.694      1466\n",
      "         1.0      0.720     0.471     0.570      1477\n",
      "\n",
      "    accuracy                          0.643      2943\n",
      "   macro avg      0.662     0.643     0.632      2943\n",
      "weighted avg      0.662     0.643     0.632      2943\n",
      "\n",
      "\n",
      "Testing Classification Report: \n",
      "               precision    recall  f1-score   support\n",
      "\n",
      "         0.0      0.604     0.813     0.693      1303\n",
      "         1.0      0.717     0.471     0.569      1314\n",
      "\n",
      "    accuracy                          0.641      2617\n",
      "   macro avg      0.661     0.642     0.631      2617\n",
      "weighted avg      0.661     0.641     0.630      2617\n",
      "\n"
     ]
    }
   ],
   "source": [
    "from sklearn import naive_bayes\n",
    "\n",
    "nb_cls = naive_bayes.GaussianNB()\n",
    "nb_cls.fit(x_train_aug.reshape(n_aug_train, -1), y_train_aug)\n",
    "preds_train = nb_cls.predict(x_train_aug.reshape(n_aug_train, -1))\n",
    "preds_val   = nb_cls.predict(x_val.reshape(n_val, -1))\n",
    "preds_test  = nb_cls.predict(x_test.reshape(n_test, -1))\n",
    "\n",
    "print(\"Training Classification Report: \\n\", classification_report(y_train_aug, preds_train, digits = N_DIGITS))\n",
    "print(\"\\nValidation Classification Report: \\n\", classification_report(y_val, preds_val, digits = N_DIGITS))\n",
    "print(\"\\nTesting Classification Report: \\n\", classification_report(y_test, preds_test, digits = N_DIGITS))"
   ]
  },
  {
   "cell_type": "markdown",
   "metadata": {},
   "source": [
    "#### Logistic Regression"
   ]
  },
  {
   "cell_type": "code",
   "execution_count": 37,
   "metadata": {},
   "outputs": [
    {
     "name": "stderr",
     "output_type": "stream",
     "text": [
      "[Parallel(n_jobs=-1)]: Using backend ThreadingBackend with 24 concurrent workers.\n"
     ]
    },
    {
     "name": "stdout",
     "output_type": "stream",
     "text": [
      "max_iter reached after 88 seconds\n",
      "Training Classification Report: \n",
      "               precision    recall  f1-score   support\n",
      "\n",
      "         0.0      0.681     0.724     0.702     20520\n",
      "         1.0      0.708     0.663     0.685     20682\n",
      "\n",
      "    accuracy                          0.694     41202\n",
      "   macro avg      0.694     0.694     0.693     41202\n",
      "weighted avg      0.694     0.694     0.693     41202\n",
      "\n",
      "\n",
      "Validation Classification Report: \n",
      "               precision    recall  f1-score   support\n",
      "\n",
      "         0.0      0.657     0.731     0.692      1466\n",
      "         1.0      0.699     0.622     0.659      1477\n",
      "\n",
      "    accuracy                          0.676      2943\n",
      "   macro avg      0.678     0.676     0.675      2943\n",
      "weighted avg      0.679     0.676     0.675      2943\n",
      "\n",
      "\n",
      "Testing Classification Report: \n",
      "               precision    recall  f1-score   support\n",
      "\n",
      "         0.0      0.659     0.732     0.694      1303\n",
      "         1.0      0.701     0.624     0.660      1314\n",
      "\n",
      "    accuracy                          0.678      2617\n",
      "   macro avg      0.680     0.678     0.677      2617\n",
      "weighted avg      0.680     0.678     0.677      2617\n",
      "\n"
     ]
    },
    {
     "name": "stderr",
     "output_type": "stream",
     "text": [
      "c:\\ProgramData\\Anaconda3\\envs\\ml\\lib\\site-packages\\sklearn\\linear_model\\_sag.py:350: ConvergenceWarning: The max_iter was reached which means the coef_ did not converge\n",
      "  warnings.warn(\n",
      "[Parallel(n_jobs=-1)]: Done   1 tasks      | elapsed:  1.5min\n",
      "[Parallel(n_jobs=-1)]: Done   1 out of   1 | elapsed:  1.5min finished\n"
     ]
    }
   ],
   "source": [
    "from sklearn.linear_model import LogisticRegression\n",
    "\n",
    "logreg_cls =  LogisticRegression(max_iter = 200, verbose = 10, n_jobs = -1, solver = 'saga')\n",
    "logreg_cls.fit(x_train_aug.reshape(n_aug_train, -1), y_train_aug)\n",
    "preds_train = logreg_cls.predict(x_train_aug.reshape(n_aug_train, -1))\n",
    "preds_val   = logreg_cls.predict(x_val.reshape(n_val, -1))\n",
    "preds_test  = logreg_cls.predict(x_test.reshape(n_test, -1))\n",
    "\n",
    "print(\"Training Classification Report: \\n\", classification_report(y_train_aug, preds_train, digits = N_DIGITS))\n",
    "print(\"\\nValidation Classification Report: \\n\", classification_report(y_val, preds_val, digits = N_DIGITS))\n",
    "print(\"\\nTesting Classification Report: \\n\", classification_report(y_test, preds_test, digits = N_DIGITS))"
   ]
  },
  {
   "cell_type": "markdown",
   "metadata": {},
   "source": [
    "#### Decision Trees"
   ]
  },
  {
   "cell_type": "code",
   "execution_count": 38,
   "metadata": {},
   "outputs": [
    {
     "name": "stdout",
     "output_type": "stream",
     "text": [
      "Training Classification Report: \n",
      "               precision    recall  f1-score   support\n",
      "\n",
      "         0.0      0.859     0.962     0.908     20520\n",
      "         1.0      0.957     0.844     0.897     20682\n",
      "\n",
      "    accuracy                          0.903     41202\n",
      "   macro avg      0.908     0.903     0.902     41202\n",
      "weighted avg      0.908     0.903     0.902     41202\n",
      "\n",
      "\n",
      "Validation Classification Report: \n",
      "               precision    recall  f1-score   support\n",
      "\n",
      "         0.0      0.690     0.802     0.741      1466\n",
      "         1.0      0.765     0.642     0.698      1477\n",
      "\n",
      "    accuracy                          0.721      2943\n",
      "   macro avg      0.727     0.722     0.720      2943\n",
      "weighted avg      0.727     0.721     0.720      2943\n",
      "\n",
      "\n",
      "Testing Classification Report: \n",
      "               precision    recall  f1-score   support\n",
      "\n",
      "         0.0      0.679     0.815     0.741      1303\n",
      "         1.0      0.771     0.617     0.686      1314\n",
      "\n",
      "    accuracy                          0.716      2617\n",
      "   macro avg      0.725     0.716     0.713      2617\n",
      "weighted avg      0.725     0.716     0.713      2617\n",
      "\n"
     ]
    }
   ],
   "source": [
    "from sklearn.tree import DecisionTreeClassifier\n",
    "\n",
    "dt_cls =  DecisionTreeClassifier(criterion = 'gini', splitter = 'best', max_depth = 20, min_samples_split = 2, )\n",
    "dt_cls.fit(x_train_aug.reshape(n_aug_train, -1), y_train_aug)\n",
    "preds_train = dt_cls.predict(x_train_aug.reshape(n_aug_train, -1))\n",
    "preds_val   = dt_cls.predict(x_val.reshape(n_val, -1))\n",
    "preds_test  = dt_cls.predict(x_test.reshape(n_test, -1))\n",
    "\n",
    "print(\"Training Classification Report: \\n\", classification_report(y_train_aug, preds_train, digits = N_DIGITS))\n",
    "print(\"\\nValidation Classification Report: \\n\", classification_report(y_val, preds_val, digits = N_DIGITS))\n",
    "print(\"\\nTesting Classification Report: \\n\", classification_report(y_test, preds_test, digits = N_DIGITS))\n",
    "\n",
    "# eval = testing_module.ModelEvaluation(y_val, \n",
    "#     nb_cls.predict(x_val.reshape(n_val, -1)),\n",
    "#     model_reference_name = 'Naive Bayes',\n",
    "#     model_type = 'classification',\n",
    "#     plot_classification_metric = ['roc_auc']) # if classification\n",
    "# eval.evaluate(evaluate_save= True, plots_show = True)"
   ]
  },
  {
   "cell_type": "markdown",
   "metadata": {},
   "source": [
    "#### XGBoost"
   ]
  },
  {
   "cell_type": "code",
   "execution_count": 39,
   "metadata": {},
   "outputs": [
    {
     "name": "stdout",
     "output_type": "stream",
     "text": [
      "Training Classification Report: \n",
      "               precision    recall  f1-score   support\n",
      "\n",
      "         0.0      0.910     0.947     0.928     20520\n",
      "         1.0      0.945     0.907     0.926     20682\n",
      "\n",
      "    accuracy                          0.927     41202\n",
      "   macro avg      0.928     0.927     0.927     41202\n",
      "weighted avg      0.928     0.927     0.927     41202\n",
      "\n",
      "\n",
      "Validation Classification Report: \n",
      "               precision    recall  f1-score   support\n",
      "\n",
      "         0.0      0.840     0.884     0.861      1466\n",
      "         1.0      0.879     0.833     0.855      1477\n",
      "\n",
      "    accuracy                          0.858      2943\n",
      "   macro avg      0.859     0.858     0.858      2943\n",
      "weighted avg      0.859     0.858     0.858      2943\n",
      "\n",
      "\n",
      "Testing Classification Report: \n",
      "               precision    recall  f1-score   support\n",
      "\n",
      "         0.0      0.833     0.883     0.857      1303\n",
      "         1.0      0.876     0.824     0.849      1314\n",
      "\n",
      "    accuracy                          0.853      2617\n",
      "   macro avg      0.854     0.853     0.853      2617\n",
      "weighted avg      0.855     0.853     0.853      2617\n",
      "\n"
     ]
    }
   ],
   "source": [
    "from xgboost import XGBClassifier\n",
    "\n",
    "xgb_cls = XGBClassifier(max_depth = 5, objective = 'reg:logistic',\n",
    "                            num_parallel_tree = 20, booster = 'gbtree',\n",
    "                            gamma = 0.5, tree_method = 'gpu_hist', subsample = 0.4, reg_lambda = 1)\n",
    "xgb_cls.fit(x_train_aug.reshape(n_aug_train, -1), y_train_aug)\n",
    "preds_train = xgb_cls.predict(x_train_aug.reshape(n_aug_train, -1))\n",
    "preds_val   = xgb_cls.predict(x_val.reshape(n_val, -1))\n",
    "preds_test  = xgb_cls.predict(x_test.reshape(n_test, -1))\n",
    "\n",
    "print(\"Training Classification Report: \\n\", classification_report(y_train_aug, preds_train, digits = N_DIGITS))\n",
    "print(\"\\nValidation Classification Report: \\n\", classification_report(y_val, preds_val, digits = N_DIGITS))\n",
    "print(\"\\nTesting Classification Report: \\n\", classification_report(y_test, preds_test, digits = N_DIGITS))\n",
    "                  "
   ]
  },
  {
   "cell_type": "markdown",
   "metadata": {},
   "source": [
    "#### SVM"
   ]
  },
  {
   "cell_type": "code",
   "execution_count": 40,
   "metadata": {},
   "outputs": [
    {
     "name": "stdout",
     "output_type": "stream",
     "text": [
      "[LibSVM]"
     ]
    },
    {
     "name": "stderr",
     "output_type": "stream",
     "text": [
      "c:\\ProgramData\\Anaconda3\\envs\\ml\\lib\\site-packages\\sklearn\\svm\\_base.py:301: ConvergenceWarning: Solver terminated early (max_iter=250).  Consider pre-processing your data with StandardScaler or MinMaxScaler.\n",
      "  warnings.warn(\n"
     ]
    },
    {
     "name": "stdout",
     "output_type": "stream",
     "text": [
      "Training Classification Report: \n",
      "               precision    recall  f1-score   support\n",
      "\n",
      "         0.0      0.428     0.210     0.282     20520\n",
      "         1.0      0.479     0.721     0.576     20682\n",
      "\n",
      "    accuracy                          0.467     41202\n",
      "   macro avg      0.453     0.466     0.429     41202\n",
      "weighted avg      0.453     0.467     0.429     41202\n",
      "\n",
      "\n",
      "Validation Classification Report: \n",
      "               precision    recall  f1-score   support\n",
      "\n",
      "         0.0      0.430     0.204     0.277      1466\n",
      "         1.0      0.481     0.731     0.580      1477\n",
      "\n",
      "    accuracy                          0.469      2943\n",
      "   macro avg      0.455     0.468     0.428      2943\n",
      "weighted avg      0.455     0.469     0.429      2943\n",
      "\n",
      "\n",
      "Testing Classification Report: \n",
      "               precision    recall  f1-score   support\n",
      "\n",
      "         0.0      0.427     0.194     0.267      1303\n",
      "         1.0      0.481     0.741     0.584      1314\n",
      "\n",
      "    accuracy                          0.469      2617\n",
      "   macro avg      0.454     0.468     0.425      2617\n",
      "weighted avg      0.454     0.469     0.426      2617\n",
      "\n"
     ]
    }
   ],
   "source": [
    "from sklearn.svm import SVC\n",
    "\n",
    "svm_cls = SVC(kernel = 'rbf', max_iter = 250, verbose= True)\n",
    "svm_cls.fit(x_train_aug.reshape(n_aug_train, -1), y_train_aug)\n",
    "preds_train = svm_cls.predict(x_train_aug.reshape(n_aug_train, -1))\n",
    "preds_val   = svm_cls.predict(x_val.reshape(n_val, -1))\n",
    "preds_test  = svm_cls.predict(x_test.reshape(n_test, -1))\n",
    "\n",
    "print(\"Training Classification Report: \\n\", classification_report(y_train_aug, preds_train, digits = N_DIGITS))\n",
    "print(\"\\nValidation Classification Report: \\n\", classification_report(y_val, preds_val, digits = N_DIGITS))\n",
    "print(\"\\nTesting Classification Report: \\n\", classification_report(y_test, preds_test, digits = N_DIGITS))\n",
    "                  "
   ]
  },
  {
   "cell_type": "markdown",
   "metadata": {},
   "source": [
    "#### Transfer Learning"
   ]
  },
  {
   "cell_type": "code",
   "execution_count": 42,
   "metadata": {},
   "outputs": [
    {
     "name": "stdout",
     "output_type": "stream",
     "text": [
      "Epoch 1/50\n",
      "322/322 [==============================] - 10s 26ms/step - loss: 0.2370 - accuracy: 0.8979 - val_loss: 0.2188 - val_accuracy: 0.9181\n",
      "Epoch 2/50\n",
      "322/322 [==============================] - 8s 24ms/step - loss: 0.1750 - accuracy: 0.9283 - val_loss: 0.1545 - val_accuracy: 0.9433\n",
      "Epoch 3/50\n",
      "322/322 [==============================] - 8s 24ms/step - loss: 0.1510 - accuracy: 0.9379 - val_loss: 0.1316 - val_accuracy: 0.9551\n",
      "Epoch 4/50\n",
      "322/322 [==============================] - 8s 24ms/step - loss: 0.1471 - accuracy: 0.9417 - val_loss: 0.1297 - val_accuracy: 0.9589\n",
      "Epoch 5/50\n",
      "322/322 [==============================] - 8s 24ms/step - loss: 0.1335 - accuracy: 0.9469 - val_loss: 0.1356 - val_accuracy: 0.9555\n",
      "Epoch 6/50\n",
      "322/322 [==============================] - 8s 24ms/step - loss: 0.1292 - accuracy: 0.9487 - val_loss: 0.1310 - val_accuracy: 0.9541\n",
      "Epoch 7/50\n",
      "322/322 [==============================] - 8s 24ms/step - loss: 0.1205 - accuracy: 0.9524 - val_loss: 0.1347 - val_accuracy: 0.9606\n",
      "1288/1288 [==============================] - 9s 7ms/step\n",
      "92/92 [==============================] - 1s 7ms/step\n",
      "82/82 [==============================] - 1s 7ms/step\n",
      "Training Classification Report: \n",
      "               precision    recall  f1-score   support\n",
      "\n",
      "         0.0      0.940     0.982     0.961     20520\n",
      "         1.0      0.982     0.938     0.959     20682\n",
      "\n",
      "    accuracy                          0.960     41202\n",
      "   macro avg      0.961     0.960     0.960     41202\n",
      "weighted avg      0.961     0.960     0.960     41202\n",
      "\n",
      "\n",
      "Validation Classification Report: \n",
      "               precision    recall  f1-score   support\n",
      "\n",
      "         0.0      0.966     0.954     0.960      1466\n",
      "         1.0      0.955     0.967     0.961      1477\n",
      "\n",
      "    accuracy                          0.961      2943\n",
      "   macro avg      0.961     0.961     0.961      2943\n",
      "weighted avg      0.961     0.961     0.961      2943\n",
      "\n",
      "\n",
      "Testing Classification Report: \n",
      "               precision    recall  f1-score   support\n",
      "\n",
      "         0.0      0.956     0.959     0.957      1303\n",
      "         1.0      0.959     0.956     0.957      1314\n",
      "\n",
      "    accuracy                          0.957      2617\n",
      "   macro avg      0.957     0.957     0.957      2617\n",
      "weighted avg      0.957     0.957     0.957      2617\n",
      "\n"
     ]
    }
   ],
   "source": [
    "imagenet = tf.keras.applications.Xception(\n",
    "    weights = 'imagenet',\n",
    "    include_top = False,\n",
    "    input_shape = (72, 72, 3)\n",
    ")\n",
    "imagenet.trainable = False\n",
    "\n",
    "trans_learn = tf.keras.Sequential([\n",
    "    tf.keras.layers.Resizing(72, 72),\n",
    "    imagenet,\n",
    "\n",
    "    tf.keras.layers.GlobalAveragePooling2D(),\n",
    "    tf.keras.layers.Dense(512, activation = 'relu'),\n",
    "    tf.keras.layers.Dense(512, activation = 'relu'),\n",
    "    tf.keras.layers.Dense(2, activation = 'sigmoid')\n",
    "])\n",
    "\n",
    "trans_learn.compile(\n",
    "    optimizer = tf.keras.optimizers.Adam(learning_rate=0.001),\n",
    "    loss = 'sparse_categorical_crossentropy',\n",
    "    metrics = ['accuracy']\n",
    ")\n",
    "\n",
    "history = trans_learn.fit(\n",
    "            x_train_aug, y_train_aug, batch_size = 128,\n",
    "            shuffle = True,\n",
    "            epochs = 50,\n",
    "            validation_data = [x_val, y_val],\n",
    "            validation_batch_size = 64,\n",
    "            callbacks = tf.keras.callbacks.EarlyStopping(monitor = 'val_loss', patience = 3)\n",
    "        )\n",
    "preds_train = np.argmax(trans_learn.predict(x_train_aug), axis = 1)\n",
    "preds_val   = np.argmax(trans_learn.predict(x_val), axis = 1)\n",
    "preds_test  = np.argmax(trans_learn.predict(x_test), axis = 1)\n",
    "\n",
    "print(\"Training Classification Report: \\n\", classification_report(y_train_aug, preds_train, digits = N_DIGITS))\n",
    "print(\"\\nValidation Classification Report: \\n\", classification_report(y_val, preds_val, digits = N_DIGITS))\n",
    "print(\"\\nTesting Classification Report: \\n\", classification_report(y_test, preds_test, digits = N_DIGITS))\n",
    "\n"
   ]
  },
  {
   "cell_type": "markdown",
   "metadata": {},
   "source": [
    "#### CNN Model"
   ]
  },
  {
   "cell_type": "code",
   "execution_count": 44,
   "metadata": {},
   "outputs": [
    {
     "name": "stdout",
     "output_type": "stream",
     "text": [
      "Epoch 1/50\n",
      "81/81 [==============================] - 1s 6ms/step - loss: 0.6625 - accuracy: 0.5915 - val_loss: 0.5915 - val_accuracy: 0.6871\n",
      "Epoch 2/50\n",
      "81/81 [==============================] - 0s 5ms/step - loss: 0.5588 - accuracy: 0.7250 - val_loss: 0.4455 - val_accuracy: 0.8026\n",
      "Epoch 3/50\n",
      "81/81 [==============================] - 0s 5ms/step - loss: 0.4725 - accuracy: 0.7844 - val_loss: 0.3913 - val_accuracy: 0.8172\n",
      "Epoch 4/50\n",
      "81/81 [==============================] - 0s 4ms/step - loss: 0.3955 - accuracy: 0.8225 - val_loss: 0.2972 - val_accuracy: 0.8658\n",
      "Epoch 5/50\n",
      "81/81 [==============================] - 0s 4ms/step - loss: 0.3297 - accuracy: 0.8581 - val_loss: 0.2298 - val_accuracy: 0.9032\n",
      "Epoch 6/50\n",
      "81/81 [==============================] - 0s 4ms/step - loss: 0.2753 - accuracy: 0.8869 - val_loss: 0.1571 - val_accuracy: 0.9368\n",
      "Epoch 7/50\n",
      "81/81 [==============================] - 0s 5ms/step - loss: 0.2197 - accuracy: 0.9145 - val_loss: 0.1262 - val_accuracy: 0.9484\n",
      "Epoch 8/50\n",
      "81/81 [==============================] - 0s 4ms/step - loss: 0.1797 - accuracy: 0.9312 - val_loss: 0.0899 - val_accuracy: 0.9670\n",
      "Epoch 9/50\n",
      "81/81 [==============================] - 0s 5ms/step - loss: 0.1465 - accuracy: 0.9454 - val_loss: 0.0922 - val_accuracy: 0.9670\n",
      "Epoch 10/50\n",
      "81/81 [==============================] - 0s 4ms/step - loss: 0.1324 - accuracy: 0.9501 - val_loss: 0.0593 - val_accuracy: 0.9779\n",
      "Epoch 11/50\n",
      "81/81 [==============================] - 0s 4ms/step - loss: 0.1174 - accuracy: 0.9569 - val_loss: 0.0626 - val_accuracy: 0.9766\n",
      "Epoch 12/50\n",
      "81/81 [==============================] - 0s 5ms/step - loss: 0.1019 - accuracy: 0.9632 - val_loss: 0.0545 - val_accuracy: 0.9810\n",
      "Epoch 13/50\n",
      "81/81 [==============================] - 0s 4ms/step - loss: 0.0952 - accuracy: 0.9647 - val_loss: 0.0575 - val_accuracy: 0.9803\n",
      "Epoch 14/50\n",
      "81/81 [==============================] - 0s 4ms/step - loss: 0.0855 - accuracy: 0.9696 - val_loss: 0.0417 - val_accuracy: 0.9864\n",
      "Epoch 15/50\n",
      "81/81 [==============================] - 0s 5ms/step - loss: 0.0797 - accuracy: 0.9729 - val_loss: 0.0634 - val_accuracy: 0.9776\n",
      "Epoch 16/50\n",
      "81/81 [==============================] - 0s 4ms/step - loss: 0.0765 - accuracy: 0.9728 - val_loss: 0.0484 - val_accuracy: 0.9850\n",
      "Epoch 17/50\n",
      "81/81 [==============================] - 0s 4ms/step - loss: 0.0687 - accuracy: 0.9766 - val_loss: 0.0423 - val_accuracy: 0.9874\n",
      "1288/1288 [==============================] - 1s 1ms/step\n",
      "92/92 [==============================] - 0s 1ms/step\n",
      "82/82 [==============================] - 0s 1ms/step\n",
      "Training Classification Report: \n",
      "               precision    recall  f1-score   support\n",
      "\n",
      "         0.0      0.971     0.991     0.981     20520\n",
      "         1.0      0.991     0.971     0.981     20682\n",
      "\n",
      "    accuracy                          0.981     41202\n",
      "   macro avg      0.981     0.981     0.981     41202\n",
      "weighted avg      0.981     0.981     0.981     41202\n",
      "\n",
      "\n",
      "Validation Classification Report: \n",
      "               precision    recall  f1-score   support\n",
      "\n",
      "         0.0      0.991     0.984     0.987      1466\n",
      "         1.0      0.984     0.991     0.988      1477\n",
      "\n",
      "    accuracy                          0.987      2943\n",
      "   macro avg      0.987     0.987     0.987      2943\n",
      "weighted avg      0.987     0.987     0.987      2943\n",
      "\n",
      "\n",
      "Testing Classification Report: \n",
      "               precision    recall  f1-score   support\n",
      "\n",
      "         0.0      0.983     0.979     0.981      1303\n",
      "         1.0      0.980     0.983     0.981      1314\n",
      "\n",
      "    accuracy                          0.981      2617\n",
      "   macro avg      0.981     0.981     0.981      2617\n",
      "weighted avg      0.981     0.981     0.981      2617\n",
      "\n"
     ]
    }
   ],
   "source": [
    "cnn = tf.keras.Sequential([\n",
    "    tf.keras.layers.Conv2D(16, (3,3), padding = 'same', activation = 'relu', input_shape = x_train_aug[0].shape),\n",
    "    tf.keras.layers.MaxPool2D((3,3), padding = 'same'),\n",
    "\n",
    "    tf.keras.layers.Conv2D(32, (2,2), padding = 'same', activation = 'relu'),\n",
    "    tf.keras.layers.MaxPool2D((2,2), padding = 'same'),\n",
    "\n",
    "\n",
    "    tf.keras.layers.Flatten(),\n",
    "\n",
    "    tf.keras.layers.Dense(256, activation = 'relu'),\n",
    "    tf.keras.layers.Dropout(0.5),\n",
    "    tf.keras.layers.Dense(256, activation = 'relu'),\n",
    "    tf.keras.layers.Dropout(0.5),\n",
    "    tf.keras.layers.Dense(2, activation = 'sigmoid')\n",
    "])\n",
    "\n",
    "cnn.compile(\n",
    "    optimizer = tf.keras.optimizers.Adam(learning_rate=0.001),\n",
    "    loss = 'sparse_categorical_crossentropy',\n",
    "    metrics = ['accuracy']\n",
    ")\n",
    "\n",
    "history = cnn.fit(\n",
    "            x_train_aug, y_train_aug, batch_size = 512,\n",
    "            epochs = 50,\n",
    "            validation_data = [x_val, y_val],\n",
    "            validation_batch_size = 128,\n",
    "            callbacks = tf.keras.callbacks.EarlyStopping(monitor = 'val_loss', patience = 3)\n",
    "        )\n",
    "preds_train = np.argmax(cnn.predict(x_train_aug), axis = 1)\n",
    "preds_val   = np.argmax(cnn.predict(x_val), axis = 1)\n",
    "preds_test  = np.argmax(cnn.predict(x_test), axis = 1)\n",
    "\n",
    "print(\"Training Classification Report: \\n\", classification_report(y_train_aug, preds_train, digits = N_DIGITS))\n",
    "print(\"\\nValidation Classification Report: \\n\", classification_report(y_val, preds_val, digits = N_DIGITS))\n",
    "print(\"\\nTesting Classification Report: \\n\", classification_report(y_test, preds_test, digits = N_DIGITS))"
   ]
  }
 ],
 "metadata": {
  "kernelspec": {
   "display_name": "Python 3.10.0 ('ml')",
   "language": "python",
   "name": "python3"
  },
  "language_info": {
   "codemirror_mode": {
    "name": "ipython",
    "version": 3
   },
   "file_extension": ".py",
   "mimetype": "text/x-python",
   "name": "python",
   "nbconvert_exporter": "python",
   "pygments_lexer": "ipython3",
   "version": "3.10.0"
  },
  "orig_nbformat": 4,
  "vscode": {
   "interpreter": {
    "hash": "c58e9361bde7ca617934da376e83056db506761bdc9593ca2087fabac973f609"
   }
  }
 },
 "nbformat": 4,
 "nbformat_minor": 2
}
