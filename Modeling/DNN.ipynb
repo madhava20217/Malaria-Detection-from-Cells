{
 "cells": [
  {
   "cell_type": "markdown",
   "metadata": {},
   "source": [
    "# Deep Neural Network"
   ]
  },
  {
   "cell_type": "markdown",
   "metadata": {},
   "source": [
    "### Image Mode"
   ]
  },
  {
   "cell_type": "code",
   "execution_count": 105,
   "metadata": {},
   "outputs": [],
   "source": [
    "IMAGE_MODE = 1      #1 for colour, 0 for grayscale, unchanged for -1"
   ]
  },
  {
   "cell_type": "markdown",
   "metadata": {},
   "source": [
    "### Datasets locations:"
   ]
  },
  {
   "cell_type": "code",
   "execution_count": 106,
   "metadata": {},
   "outputs": [],
   "source": [
    "train_csv = \"..\\\\Datasets\\\\Resized_data_50_50\\\\train.csv\"\n",
    "test_csv = \"..\\\\Datasets\\\\Resized_data_50_50\\\\test.csv\"\n",
    "\n",
    "N_CLASSES = 2"
   ]
  },
  {
   "cell_type": "markdown",
   "metadata": {},
   "source": [
    "## Imports"
   ]
  },
  {
   "cell_type": "code",
   "execution_count": 107,
   "metadata": {},
   "outputs": [],
   "source": [
    "import tensorflow as tf\n",
    "\n",
    "import pandas as pd\n",
    "import numpy as np\n",
    "\n",
    "import matplotlib.pyplot as plt\n",
    "import cv2"
   ]
  },
  {
   "cell_type": "markdown",
   "metadata": {},
   "source": [
    "## Loading the dataset"
   ]
  },
  {
   "cell_type": "code",
   "execution_count": 108,
   "metadata": {},
   "outputs": [],
   "source": [
    "train_df = pd.read_csv(train_csv)\n",
    "test_df = pd.read_csv(test_csv)"
   ]
  },
  {
   "cell_type": "code",
   "execution_count": 109,
   "metadata": {},
   "outputs": [
    {
     "data": {
      "text/html": [
       "<div>\n",
       "<style scoped>\n",
       "    .dataframe tbody tr th:only-of-type {\n",
       "        vertical-align: middle;\n",
       "    }\n",
       "\n",
       "    .dataframe tbody tr th {\n",
       "        vertical-align: top;\n",
       "    }\n",
       "\n",
       "    .dataframe thead th {\n",
       "        text-align: right;\n",
       "    }\n",
       "</style>\n",
       "<table border=\"1\" class=\"dataframe\">\n",
       "  <thead>\n",
       "    <tr style=\"text-align: right;\">\n",
       "      <th></th>\n",
       "      <th>Image_Path</th>\n",
       "      <th>Parasitized</th>\n",
       "    </tr>\n",
       "  </thead>\n",
       "  <tbody>\n",
       "    <tr>\n",
       "      <th>0</th>\n",
       "      <td>..\\Datasets\\Resized_data_50_50\\Parasitized\\50x...</td>\n",
       "      <td>1.0</td>\n",
       "    </tr>\n",
       "    <tr>\n",
       "      <th>1</th>\n",
       "      <td>..\\Datasets\\Resized_data_50_50\\Parasitized\\50x...</td>\n",
       "      <td>1.0</td>\n",
       "    </tr>\n",
       "    <tr>\n",
       "      <th>2</th>\n",
       "      <td>..\\Datasets\\Resized_data_50_50\\Uninfected\\50x5...</td>\n",
       "      <td>0.0</td>\n",
       "    </tr>\n",
       "    <tr>\n",
       "      <th>3</th>\n",
       "      <td>..\\Datasets\\Resized_data_50_50\\Parasitized\\50x...</td>\n",
       "      <td>1.0</td>\n",
       "    </tr>\n",
       "    <tr>\n",
       "      <th>4</th>\n",
       "      <td>..\\Datasets\\Resized_data_50_50\\Parasitized\\50x...</td>\n",
       "      <td>1.0</td>\n",
       "    </tr>\n",
       "  </tbody>\n",
       "</table>\n",
       "</div>"
      ],
      "text/plain": [
       "                                          Image_Path  Parasitized\n",
       "0  ..\\Datasets\\Resized_data_50_50\\Parasitized\\50x...          1.0\n",
       "1  ..\\Datasets\\Resized_data_50_50\\Parasitized\\50x...          1.0\n",
       "2  ..\\Datasets\\Resized_data_50_50\\Uninfected\\50x5...          0.0\n",
       "3  ..\\Datasets\\Resized_data_50_50\\Parasitized\\50x...          1.0\n",
       "4  ..\\Datasets\\Resized_data_50_50\\Parasitized\\50x...          1.0"
      ]
     },
     "execution_count": 109,
     "metadata": {},
     "output_type": "execute_result"
    }
   ],
   "source": [
    "train_df.head()"
   ]
  },
  {
   "cell_type": "code",
   "execution_count": 110,
   "metadata": {},
   "outputs": [
    {
     "data": {
      "text/plain": [
       "Image_Path      object\n",
       "Parasitized    float64\n",
       "dtype: object"
      ]
     },
     "execution_count": 110,
     "metadata": {},
     "output_type": "execute_result"
    }
   ],
   "source": [
    "train_df.dtypes"
   ]
  },
  {
   "cell_type": "markdown",
   "metadata": {},
   "source": [
    "## Data and Labels"
   ]
  },
  {
   "cell_type": "code",
   "execution_count": 111,
   "metadata": {},
   "outputs": [],
   "source": [
    "train_x = train_df['Image_Path'].to_numpy()\n",
    "train_y = train_df['Parasitized'].to_numpy()\n",
    "\n",
    "test_x  = test_df['Image_Path'].to_numpy()\n",
    "test_y  = test_df['Parasitized'].to_numpy()"
   ]
  },
  {
   "cell_type": "markdown",
   "metadata": {},
   "source": [
    "#### Load images from paths"
   ]
  },
  {
   "cell_type": "code",
   "execution_count": 112,
   "metadata": {},
   "outputs": [],
   "source": [
    "def load_images(path_arr):\n",
    "    '''Reads and loads images into a numpy array\n",
    "    Returns: a numpy array'''\n",
    "    arr = []\n",
    "    for path in path_arr:\n",
    "        arr.append(cv2.imread(path, IMAGE_MODE))\n",
    "    \n",
    "    return np.array(arr)\n"
   ]
  },
  {
   "cell_type": "code",
   "execution_count": 113,
   "metadata": {},
   "outputs": [],
   "source": [
    "train_x = load_images(train_x)\n",
    "test_x = load_images(test_x)"
   ]
  },
  {
   "cell_type": "markdown",
   "metadata": {},
   "source": [
    "#### Checking shape"
   ]
  },
  {
   "cell_type": "code",
   "execution_count": 114,
   "metadata": {},
   "outputs": [
    {
     "name": "stdout",
     "output_type": "stream",
     "text": [
      "(24802, 50, 50, 3)\n",
      "(2756, 50, 50, 3)\n"
     ]
    }
   ],
   "source": [
    "print(train_x.shape, test_x.shape, sep = '\\n')"
   ]
  },
  {
   "cell_type": "markdown",
   "metadata": {},
   "source": [
    "## DNN"
   ]
  },
  {
   "cell_type": "code",
   "execution_count": 115,
   "metadata": {},
   "outputs": [],
   "source": [
    "# batch sizes\n",
    "TRAIN_BATCH_SIZE = 128\n",
    "TEST_BATCH_SIZE  = 64"
   ]
  },
  {
   "cell_type": "code",
   "execution_count": 116,
   "metadata": {},
   "outputs": [],
   "source": [
    "train_x = train_x/255.0\n",
    "test_x = test_x/255.0\n",
    "\n",
    "train_ds = tf.data.Dataset.from_tensor_slices((train_x, train_y))\n",
    "test_ds  = tf.data.Dataset.from_tensor_slices((test_x, test_y))\n",
    "\n",
    "train_ds = train_ds.batch(TRAIN_BATCH_SIZE)\n",
    "test_ds  = test_ds.batch(TEST_BATCH_SIZE)"
   ]
  },
  {
   "cell_type": "code",
   "execution_count": 117,
   "metadata": {},
   "outputs": [],
   "source": [
    "height, width = train_x.shape[1], train_x.shape[2]\n",
    "dims = len(train_x.shape)-1"
   ]
  },
  {
   "cell_type": "code",
   "execution_count": 118,
   "metadata": {},
   "outputs": [
    {
     "data": {
      "text/plain": [
       "tensorflow.python.data.ops.dataset_ops.BatchDataset"
      ]
     },
     "execution_count": 118,
     "metadata": {},
     "output_type": "execute_result"
    }
   ],
   "source": [
    "type(train_ds)"
   ]
  },
  {
   "cell_type": "code",
   "execution_count": 130,
   "metadata": {},
   "outputs": [
    {
     "data": {
      "text/plain": [
       "(50, 50, 3)"
      ]
     },
     "execution_count": 130,
     "metadata": {},
     "output_type": "execute_result"
    }
   ],
   "source": [
    "input_shape = train_x.shape[1:]\n",
    "input_shape"
   ]
  },
  {
   "cell_type": "code",
   "execution_count": 133,
   "metadata": {},
   "outputs": [
    {
     "name": "stdout",
     "output_type": "stream",
     "text": [
      "Epoch 1/20\n",
      "194/194 [==============================] - 2s 7ms/step - loss: 0.5817 - accuracy: 0.6897 - val_loss: 0.5170 - val_accuracy: 0.7417\n",
      "Epoch 2/20\n",
      "194/194 [==============================] - 1s 6ms/step - loss: 0.4335 - accuracy: 0.8000 - val_loss: 0.4061 - val_accuracy: 0.8008\n",
      "Epoch 3/20\n",
      "194/194 [==============================] - 1s 6ms/step - loss: 0.3140 - accuracy: 0.8669 - val_loss: 0.2858 - val_accuracy: 0.8788\n",
      "Epoch 4/20\n",
      "194/194 [==============================] - 1s 6ms/step - loss: 0.2446 - accuracy: 0.9049 - val_loss: 0.2361 - val_accuracy: 0.8999\n",
      "Epoch 5/20\n",
      "194/194 [==============================] - 1s 6ms/step - loss: 0.2019 - accuracy: 0.9243 - val_loss: 0.2026 - val_accuracy: 0.9184\n",
      "Epoch 6/20\n",
      "194/194 [==============================] - 1s 6ms/step - loss: 0.1763 - accuracy: 0.9360 - val_loss: 0.1878 - val_accuracy: 0.9267\n",
      "Epoch 7/20\n",
      "194/194 [==============================] - 1s 6ms/step - loss: 0.1584 - accuracy: 0.9433 - val_loss: 0.1757 - val_accuracy: 0.9343\n",
      "Epoch 8/20\n",
      "194/194 [==============================] - 1s 7ms/step - loss: 0.1498 - accuracy: 0.9476 - val_loss: 0.1756 - val_accuracy: 0.9361\n",
      "Epoch 9/20\n",
      "194/194 [==============================] - 1s 6ms/step - loss: 0.1420 - accuracy: 0.9504 - val_loss: 0.1692 - val_accuracy: 0.9383\n",
      "Epoch 10/20\n",
      "194/194 [==============================] - 1s 7ms/step - loss: 0.1375 - accuracy: 0.9521 - val_loss: 0.1599 - val_accuracy: 0.9430\n",
      "Epoch 11/20\n",
      "194/194 [==============================] - 1s 6ms/step - loss: 0.1303 - accuracy: 0.9547 - val_loss: 0.1508 - val_accuracy: 0.9496\n",
      "Epoch 12/20\n",
      "194/194 [==============================] - 1s 6ms/step - loss: 0.1239 - accuracy: 0.9567 - val_loss: 0.1477 - val_accuracy: 0.9507\n",
      "Epoch 13/20\n",
      "194/194 [==============================] - 1s 7ms/step - loss: 0.1182 - accuracy: 0.9586 - val_loss: 0.1453 - val_accuracy: 0.9525\n",
      "Epoch 14/20\n",
      "194/194 [==============================] - 1s 6ms/step - loss: 0.1140 - accuracy: 0.9600 - val_loss: 0.1408 - val_accuracy: 0.9536\n",
      "Epoch 15/20\n",
      "194/194 [==============================] - 1s 6ms/step - loss: 0.1097 - accuracy: 0.9627 - val_loss: 0.1411 - val_accuracy: 0.9528\n",
      "Epoch 16/20\n",
      "194/194 [==============================] - 1s 6ms/step - loss: 0.1053 - accuracy: 0.9636 - val_loss: 0.1392 - val_accuracy: 0.9539\n",
      "Epoch 17/20\n",
      "194/194 [==============================] - 1s 6ms/step - loss: 0.1011 - accuracy: 0.9646 - val_loss: 0.1398 - val_accuracy: 0.9536\n",
      "Epoch 18/20\n",
      "194/194 [==============================] - 1s 6ms/step - loss: 0.0974 - accuracy: 0.9666 - val_loss: 0.1385 - val_accuracy: 0.9543\n",
      "Epoch 19/20\n",
      "194/194 [==============================] - 1s 6ms/step - loss: 0.0936 - accuracy: 0.9680 - val_loss: 0.1381 - val_accuracy: 0.9528\n",
      "Epoch 20/20\n",
      "194/194 [==============================] - 1s 7ms/step - loss: 0.0892 - accuracy: 0.9699 - val_loss: 0.1391 - val_accuracy: 0.9539\n"
     ]
    },
    {
     "data": {
      "text/plain": [
       "<keras.callbacks.History at 0x20a5374d9d0>"
      ]
     },
     "execution_count": 133,
     "metadata": {},
     "output_type": "execute_result"
    }
   ],
   "source": [
    "dnn_model = tf.keras.Sequential([\n",
    "    tf.keras.layers.Conv2D(16, (3,3), padding = 'same', activation = 'relu', input_shape = input_shape),\n",
    "    tf.keras.layers.MaxPool2D((3,3), padding = 'same'),\n",
    "\n",
    "    tf.keras.layers.Conv2D(32, (3,3), padding = 'same', activation = 'relu'),\n",
    "    tf.keras.layers.MaxPool2D((3,3), padding = 'same'),\n",
    "\n",
    "    tf.keras.layers.Flatten(),\n",
    "\n",
    "    tf.keras.layers.Dense(512, activation = 'relu'),\n",
    "    tf.keras.layers.Dropout(0.2),\n",
    "    tf.keras.layers.Dense(N_CLASSES, activation = 'sigmoid')\n",
    "])\n",
    "\n",
    "dnn_model.compile(\n",
    "    optimizer = tf.keras.optimizers.Adam(learning_rate=0.0003),\n",
    "    loss = 'sparse_categorical_crossentropy',\n",
    "    metrics = ['accuracy']\n",
    ")\n",
    "\n",
    "dnn_model.fit(train_ds, batch_size = TRAIN_BATCH_SIZE, epochs = 20, validation_data = test_ds, validation_batch_size= TEST_BATCH_SIZE )"
   ]
  }
 ],
 "metadata": {
  "kernelspec": {
   "display_name": "Python 3.8.13 ('tf2.9')",
   "language": "python",
   "name": "python3"
  },
  "language_info": {
   "codemirror_mode": {
    "name": "ipython",
    "version": 3
   },
   "file_extension": ".py",
   "mimetype": "text/x-python",
   "name": "python",
   "nbconvert_exporter": "python",
   "pygments_lexer": "ipython3",
   "version": "3.8.13"
  },
  "orig_nbformat": 4,
  "vscode": {
   "interpreter": {
    "hash": "f3f9b9e2c84dd319003698fc684ead22f769b71014b59713d46cc8251cf0f9de"
   }
  }
 },
 "nbformat": 4,
 "nbformat_minor": 2
}
