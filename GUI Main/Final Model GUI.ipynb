{
 "cells": [
  {
   "cell_type": "code",
   "execution_count": 1,
   "metadata": {},
   "outputs": [
    {
     "name": "stdout",
     "output_type": "stream",
     "text": [
      "1/1 [==============================] - 2s 2s/step\n"
     ]
    }
   ],
   "source": [
    "from tensorflow.keras.models import load_model\n",
    "import numpy as np\n",
    "\n",
    "from tkinter import *\n",
    "from tkinter import ttk\n",
    "from tkinter import filedialog\n",
    "from skimage.transform import resize\n",
    "from skimage.color import rgb2hsv\n",
    "from tensorflow.keras.preprocessing import image\n",
    "\n",
    "class Root(Tk):\n",
    "    def __init__(self,model):\n",
    "        super(Root, self).__init__()\n",
    "        self.title(\"Malaria Detection\")\n",
    "        self.minsize(640, 400)\n",
    "        self.labelFrame = ttk.LabelFrame(self, text = \"Open File\")\n",
    "        self.labelFrame.grid(column = 0, row = 1, padx = 20, pady = 20)\n",
    "        self.button()\n",
    "        self.button1() \n",
    "        self.model = model\n",
    " \n",
    "    def button(self):\n",
    "        self.button = ttk.Button(self.labelFrame, text = \"Browse A File\",command = self.fileDialog)\n",
    "        self.button.grid(column = 1, row = 1)\n",
    "  \n",
    "    def fileDialog(self):\n",
    "        self.filename = filedialog.askopenfilename(initialdir =  \"/\", title = \"Select A File\", filetype =\n",
    "        ((\"png files\",\"*.png\"),(\"all files\",\"*.*\")) )\n",
    "        self.label = ttk.Label(self.labelFrame, text = \"\")\n",
    "        self.label.grid(column = 1, row = 2)\n",
    "        self.label.configure(text = self.filename)\n",
    " \n",
    "    def button1(self):\n",
    "        self.button = ttk.Button(self.labelFrame, text = \"submit\", command = self.get_prediction)\n",
    "        self.button.grid(column = 1, row = 20)\n",
    "        \n",
    "    def get_prediction(self):\n",
    "        my_image = image.load_img(self.filename)  #input \n",
    "        my_image = image.img_to_array(my_image)\n",
    "        my_image = rgb2hsv(resize(my_image, (25, 25)))[..., 1]\n",
    "        my_image = np.expand_dims(my_image, axis=0)\n",
    "        s=self.model.predict(my_image, )\n",
    "        #print(np.argmax(s[0]))\n",
    "        if(np.argmax(s[0]) > 0.5):\n",
    "            self.label.configure(text=\"Parasitized\")\n",
    "        else:\n",
    "            self.label.configure(text=\"Uninfected\") \n",
    "\n",
    "cnn = load_model(filepath = 'CNN_HSV_Best.tf')\n",
    "root = Root(cnn)\n",
    "root.mainloop()"
   ]
  }
 ],
 "metadata": {
  "kernelspec": {
   "display_name": "Python 3.8.13 ('tf2.9')",
   "language": "python",
   "name": "python3"
  },
  "language_info": {
   "codemirror_mode": {
    "name": "ipython",
    "version": 3
   },
   "file_extension": ".py",
   "mimetype": "text/x-python",
   "name": "python",
   "nbconvert_exporter": "python",
   "pygments_lexer": "ipython3",
   "version": "3.8.13"
  },
  "vscode": {
   "interpreter": {
    "hash": "f3f9b9e2c84dd319003698fc684ead22f769b71014b59713d46cc8251cf0f9de"
   }
  }
 },
 "nbformat": 4,
 "nbformat_minor": 2
}
