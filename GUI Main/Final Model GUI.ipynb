{
 "cells": [
  {
   "cell_type": "code",
   "execution_count": 2,
   "metadata": {},
   "outputs": [],
   "source": [
    "import os\n",
    "import pandas as pd\n",
    "import numpy as np\n",
    "import seaborn as sns\n",
    "import matplotlib.pyplot as plt\n",
    "from matplotlib.image import imread\n",
    "import cv2"
   ]
  },
  {
   "cell_type": "code",
   "execution_count": 3,
   "metadata": {
    "id": "9-bJjSKt9UxL"
   },
   "outputs": [],
   "source": [
    "import sys, os\n",
    "sys.path.append(os.path.dirname(os.path.join((os.path.pardir), \"Modules\")))\n",
    "\n",
    "origin_dir = os.path.join(os.path.pardir, 'Data')\n",
    "\n",
    "\n",
    "new_dir_path = os.path.join(os.path.pardir, 'Datasets')\n",
    "\n",
    "true_parasitized_path = os.path.relpath(\"corrected_images/True_parasitized.csv\")\n",
    "false_parasitized_path = os.path.relpath(\"corrected_images/False_parasitized.csv\")\n",
    "true_uninfected_path = os.path.relpath(\"corrected_images/True_uninfected.csv\")\n",
    "false_uninfected_path = os.path.relpath(\"corrected_images/False_uninfected.csv\")"
   ]
  },
  {
   "cell_type": "code",
   "execution_count": 4,
   "metadata": {
    "colab": {
     "base_uri": "https://localhost:8080/"
    },
    "id": "obC4gO3W9UxP",
    "outputId": "264263bc-2dd9-4ca6-ded8-f8986d71d112"
   },
   "outputs": [],
   "source": [
    "# # RUN THIS CELL IF COLAB\n",
    "\n",
    "# !pip install faiss-gpu\n",
    "# !pip install dask[bag]\n",
    "# !pip3 install tsnecuda==3.0.1+cu113 -f https://tsnecuda.isx.ai/tsnecuda_stable.html\n",
    "\n",
    "# from tsnecuda import TSNE\n",
    "# import dask\n",
    "\n",
    "\n",
    "# # RUN THIS CELL IF COLAB\n",
    "\n",
    "# !pip install faiss-gpu\n",
    "# !pip3 install tsnecuda==3.0.1+cu113 -f https://tsnecuda.isx.ai/tsnecuda_stable.html\n",
    "\n",
    "# from tsnecuda import TSNE\n",
    "\n",
    "# \n",
    "\n",
    "# from google.colab import drive\n",
    "\n",
    "# drive.mount('/content/gdrive')\n",
    "# !git clone \"https://{pat}@github.com/madhava20217/Malaria-Detection-from-Cells.git\"\n",
    "\n",
    "# !pip install -q -r \"/content/Malaria-Detection-from-Cells/requirements_versionless.txt\" \n",
    "\n",
    "# sys.path.append(os.path.dirname('/content/Malaria-Detection-from-Cells/Modules'))\n",
    "# origin_dir = \"/content/Data\"\n",
    "# new_dir_path = \"/content/Datasets/\"\n",
    "\n",
    "# true_parasitized_path  = '/content/Malaria-Detection-from-Cells/EDA/corrected_images/True_parasitized.csv'\n",
    "# false_parasitized_path = '/content/Malaria-Detection-from-Cells/EDA/corrected_images/False_parasitized.csv'\n",
    "# true_uninfected_path   = '/content/Malaria-Detection-from-Cells/EDA/corrected_images/True_uninfected.csv'\n",
    "# false_uninfected_path  = '/content/Malaria-Detection-from-Cells/EDA/corrected_images/False_uninfected.csv'\n"
   ]
  },
  {
   "cell_type": "markdown",
   "metadata": {
    "id": "VvAuSNlV9UxP"
   },
   "source": [
    "### Run this cell if you want to download data and label the datapoints"
   ]
  },
  {
   "cell_type": "code",
   "execution_count": 5,
   "metadata": {
    "colab": {
     "base_uri": "https://localhost:8080/"
    },
    "id": "rwkd9QEv9UxP",
    "outputId": "923fc69c-d3f4-42af-ee81-2a26cce44d2f"
   },
   "outputs": [],
   "source": [
    "# from Modules.data_download import Data_Download\n",
    "# from Modules.labelling import Labelling\n",
    "\n",
    "# download = Data_Download(origin_dir)"
   ]
  },
  {
   "cell_type": "code",
   "execution_count": 6,
   "metadata": {
    "id": "URPo4yti9UxQ"
   },
   "outputs": [],
   "source": [
    "parasitized_dir = os.path.join(origin_dir, 'cell-images-for-detecting-malaria', 'cell_images', \"Parasitized\")\n",
    "uninfected_dir  = os.path.join(origin_dir, 'cell-images-for-detecting-malaria', 'cell_images', 'Uninfected')\n",
    "\n",
    "true_parasitized = pd.read_csv(true_parasitized_path, index_col = 0, names = ['ImagePath'], header = 0)\n",
    "false_parasitized = pd.read_csv(false_parasitized_path, index_col = 0, names = ['ImagePath'], header = 0)\n",
    "\n",
    "true_uninfected = pd.read_csv(true_uninfected_path, index_col = 0, names = ['ImagePath'], header = 0)\n",
    "false_uninfected = pd.read_csv(false_uninfected_path, index_col = 0, names = ['ImagePath'], header = 0)"
   ]
  },
  {
   "cell_type": "code",
   "execution_count": 7,
   "metadata": {
    "id": "z1gkmRGW9UxR"
   },
   "outputs": [],
   "source": [
    "for dataset in [true_parasitized, false_parasitized]:\n",
    "    dataset['ImagePath'] = dataset['ImagePath'].apply(lambda row: os.path.join(parasitized_dir, row))\n",
    "\n",
    "for dataset in [true_uninfected, false_uninfected]:\n",
    "    dataset['ImagePath'] = dataset['ImagePath'].apply(lambda row: os.path.join(uninfected_dir, row))"
   ]
  },
  {
   "cell_type": "code",
   "execution_count": 8,
   "metadata": {
    "id": "ug9GsRC09UxS"
   },
   "outputs": [],
   "source": [
    "true_parasitized['status'] = 'true_parasitized'\n",
    "false_parasitized['status'] = 'false_parasitized'\n",
    "\n",
    "true_uninfected['status'] = 'true_uninfected'\n",
    "false_uninfected['status'] = 'false_uninfected'\n",
    "\n",
    "#joining the dataframes\n",
    "images = pd.concat([true_parasitized, false_parasitized, true_uninfected, false_uninfected])\n",
    "images.reset_index(drop = True, inplace = True)"
   ]
  },
  {
   "cell_type": "code",
   "execution_count": 9,
   "metadata": {},
   "outputs": [],
   "source": [
    "dim1 = []\n",
    "dim2 = []\n",
    "for img in true_parasitized['ImagePath']:\n",
    "    img = cv2.imread(img, 1)[..., ::-1]\n",
    "    d1,d2,colors = img.shape\n",
    "    dim1.append(d1)\n",
    "    dim2.append(d2)"
   ]
  },
  {
   "cell_type": "code",
   "execution_count": 10,
   "metadata": {},
   "outputs": [
    {
     "data": {
      "text/plain": [
       "134.6656259518733"
      ]
     },
     "execution_count": 10,
     "metadata": {},
     "output_type": "execute_result"
    }
   ],
   "source": [
    "np.mean(dim1)"
   ]
  },
  {
   "cell_type": "code",
   "execution_count": 11,
   "metadata": {},
   "outputs": [
    {
     "data": {
      "text/plain": [
       "133.9325312214438"
      ]
     },
     "execution_count": 11,
     "metadata": {},
     "output_type": "execute_result"
    }
   ],
   "source": [
    "np.mean(dim2)"
   ]
  },
  {
   "cell_type": "code",
   "execution_count": 12,
   "metadata": {},
   "outputs": [],
   "source": [
    "image_shape = (130,130,3)"
   ]
  },
  {
   "cell_type": "code",
   "execution_count": 13,
   "metadata": {},
   "outputs": [],
   "source": [
    "from tensorflow.keras.preprocessing.image import ImageDataGenerator"
   ]
  },
  {
   "cell_type": "code",
   "execution_count": 14,
   "metadata": {},
   "outputs": [],
   "source": [
    "# help(ImageDataGenerator)"
   ]
  },
  {
   "cell_type": "code",
   "execution_count": 15,
   "metadata": {},
   "outputs": [],
   "source": [
    "image_gen = ImageDataGenerator(rotation_range=20, # rotate the image 20 degrees\n",
    "                               width_shift_range=0.10, # Shift the pic width by a max of 5%\n",
    "                               height_shift_range=0.10, # Shift the pic height by a max of 5%\n",
    "                               rescale=1/255, # Rescale the image by normalzing it.\n",
    "                               shear_range=0.1, # Shear means cutting away part of the image (max 10%)\n",
    "                               zoom_range=0.1, # Zoom in by 10% max\n",
    "                               horizontal_flip=True, # Allo horizontal flipping\n",
    "                               fill_mode='nearest' # Fill in missing pixels with the nearest filled value\n",
    "                              )"
   ]
  },
  {
   "cell_type": "code",
   "execution_count": 16,
   "metadata": {},
   "outputs": [],
   "source": [
    "from tensorflow.keras.models import Sequential\n",
    "from tensorflow.keras.layers import Activation, Dropout, Flatten, Dense, Conv2D, MaxPooling2D"
   ]
  },
  {
   "cell_type": "code",
   "execution_count": 17,
   "metadata": {},
   "outputs": [],
   "source": [
    "#https://stats.stackexchange.com/questions/148139/rules-for-selecting-convolutional-neural-network-hyperparameters\n",
    "model = Sequential()\n",
    "\n",
    "model.add(Conv2D(filters=32, kernel_size=(3,3),input_shape=image_shape, activation='relu',))\n",
    "model.add(MaxPooling2D(pool_size=(2, 2)))\n",
    "\n",
    "model.add(Conv2D(filters=64, kernel_size=(3,3),input_shape=image_shape, activation='relu',))\n",
    "model.add(MaxPooling2D(pool_size=(2, 2)))\n",
    "\n",
    "model.add(Conv2D(filters=64, kernel_size=(3,3),input_shape=image_shape, activation='relu',))\n",
    "model.add(MaxPooling2D(pool_size=(2, 2)))\n",
    "\n",
    "\n",
    "model.add(Flatten())\n",
    "\n",
    "\n",
    "model.add(Dense(128))\n",
    "model.add(Activation('relu'))\n",
    "\n",
    "# Dropouts help reduce overfitting by randomly turning neurons off during training.\n",
    "# Here we say randomly turn off 50% of neurons.\n",
    "model.add(Dropout(0.5))\n",
    "\n",
    "# Last layer, remember its binary so we use sigmoid\n",
    "model.add(Dense(1))\n",
    "model.add(Activation('sigmoid'))\n",
    "\n",
    "model.compile(loss='binary_crossentropy',\n",
    "              optimizer='adam',\n",
    "              metrics=['accuracy'])"
   ]
  },
  {
   "cell_type": "code",
   "execution_count": 18,
   "metadata": {},
   "outputs": [
    {
     "name": "stdout",
     "output_type": "stream",
     "text": [
      "Model: \"sequential\"\n",
      "_________________________________________________________________\n",
      " Layer (type)                Output Shape              Param #   \n",
      "=================================================================\n",
      " conv2d (Conv2D)             (None, 128, 128, 32)      896       \n",
      "                                                                 \n",
      " max_pooling2d (MaxPooling2D  (None, 64, 64, 32)       0         \n",
      " )                                                               \n",
      "                                                                 \n",
      " conv2d_1 (Conv2D)           (None, 62, 62, 64)        18496     \n",
      "                                                                 \n",
      " max_pooling2d_1 (MaxPooling  (None, 31, 31, 64)       0         \n",
      " 2D)                                                             \n",
      "                                                                 \n",
      " conv2d_2 (Conv2D)           (None, 29, 29, 64)        36928     \n",
      "                                                                 \n",
      " max_pooling2d_2 (MaxPooling  (None, 14, 14, 64)       0         \n",
      " 2D)                                                             \n",
      "                                                                 \n",
      " flatten (Flatten)           (None, 12544)             0         \n",
      "                                                                 \n",
      " dense (Dense)               (None, 128)               1605760   \n",
      "                                                                 \n",
      " activation (Activation)     (None, 128)               0         \n",
      "                                                                 \n",
      " dropout (Dropout)           (None, 128)               0         \n",
      "                                                                 \n",
      " dense_1 (Dense)             (None, 1)                 129       \n",
      "                                                                 \n",
      " activation_1 (Activation)   (None, 1)                 0         \n",
      "                                                                 \n",
      "=================================================================\n",
      "Total params: 1,662,209\n",
      "Trainable params: 1,662,209\n",
      "Non-trainable params: 0\n",
      "_________________________________________________________________\n"
     ]
    }
   ],
   "source": [
    "model.summary()"
   ]
  },
  {
   "cell_type": "code",
   "execution_count": 19,
   "metadata": {},
   "outputs": [],
   "source": [
    "from tensorflow.keras.callbacks import EarlyStopping"
   ]
  },
  {
   "cell_type": "code",
   "execution_count": 20,
   "metadata": {},
   "outputs": [],
   "source": [
    "early_stop = EarlyStopping(monitor='val_loss',patience=2)"
   ]
  },
  {
   "cell_type": "code",
   "execution_count": 21,
   "metadata": {},
   "outputs": [],
   "source": [
    "from tkinter import *\n",
    "from tkinter import ttk\n",
    "from tkinter import filedialog\n",
    " \n",
    "class Root(Tk):\n",
    "    def __init__(self,model):\n",
    "        super(Root, self).__init__()\n",
    "        self.title(\"Python Tkinter Dialog Widget\")\n",
    "        self.minsize(640, 400)\n",
    "        self.labelFrame = ttk.LabelFrame(self, text = \"Open File\")\n",
    "        self.labelFrame.grid(column = 0, row = 1, padx = 20, pady = 20)\n",
    "        self.button()\n",
    "        self.button1() \n",
    "        self.model = model\n",
    " \n",
    "    def button(self):\n",
    "        self.button = ttk.Button(self.labelFrame, text = \"Browse A File\",command = self.fileDialog)\n",
    "        self.button.grid(column = 1, row = 1)\n",
    "  \n",
    "    def fileDialog(self):\n",
    "        self.filename = filedialog.askopenfilename(initialdir =  \"/\", title = \"Select A File\", filetype =\n",
    "        ((\"png files\",\"*.png\"),(\"all files\",\"*.*\")) )\n",
    "        self.label = ttk.Label(self.labelFrame, text = \"\")\n",
    "        self.label.grid(column = 1, row = 2)\n",
    "        self.label.configure(text = self.filename)\n",
    " \n",
    "    def button1(self):\n",
    "        self.button = ttk.Button(self.labelFrame, text = \"submit\", command = self.get_prediction)\n",
    "        self.button.grid(column = 1, row = 20)\n",
    "        \n",
    "    def get_prediction(self):\n",
    "        s=self.model.predict(my_image)\n",
    "        if(s==[[1.]]):\n",
    "            self.label.configure(text=\"non parasitic\")\n",
    "        else:\n",
    "            self.label.configure(text=\"parasitic\") \n",
    "root = Root(model)\n",
    "root.mainloop()"
   ]
  }
 ],
 "metadata": {
  "kernelspec": {
   "display_name": "Python 3.10.8 64-bit (microsoft store)",
   "language": "python",
   "name": "python3"
  },
  "language_info": {
   "codemirror_mode": {
    "name": "ipython",
    "version": 3
   },
   "file_extension": ".py",
   "mimetype": "text/x-python",
   "name": "python",
   "nbconvert_exporter": "python",
   "pygments_lexer": "ipython3",
   "version": "3.10.8"
  },
  "vscode": {
   "interpreter": {
    "hash": "4bac288aa39488c199db7c1d2d3a4aa1846c8b7d5157a5261bbf38d0b7c4ca41"
   }
  }
 },
 "nbformat": 4,
 "nbformat_minor": 2
}
