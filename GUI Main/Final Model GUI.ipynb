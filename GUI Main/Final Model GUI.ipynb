{
 "cells": [
  {
   "cell_type": "code",
   "execution_count": 7,
   "metadata": {},
   "outputs": [
    {
     "name": "stderr",
     "output_type": "stream",
     "text": [
      "Exception in Tkinter callback\n",
      "Traceback (most recent call last):\n",
      "  File \"c:\\ProgramData\\Anaconda3\\envs\\tf2.9\\lib\\tkinter\\__init__.py\", line 1892, in __call__\n",
      "    return self.func(*args)\n",
      "  File \"C:\\Users\\krish\\AppData\\Local\\Temp\\ipykernel_20848\\3788757498.py\", line 40, in get_prediction\n",
      "    label1.place(x = 0, y = 0)\n",
      "UnboundLocalError: local variable 'label1' referenced before assignment\n"
     ]
    }
   ],
   "source": [
    "from tensorflow.keras.models import load_model\n",
    "import numpy as np\n",
    "\n",
    "import tkinter\n",
    "from tkinter import *\n",
    "from tkinter import ttk\n",
    "from tkinter import filedialog\n",
    "from skimage.transform import resize\n",
    "from skimage.color import rgb2hsv\n",
    "from tensorflow.keras.preprocessing import image\n",
    "from PIL import Image, ImageTk\n",
    "\n",
    "class Root(Tk):\n",
    "    def __init__(self,model):\n",
    "        super(Root, self).__init__()\n",
    "        self.title(\"Malaria Detection\")\n",
    "        self.minsize(640, 400)\n",
    "        self.labelFrame = ttk.LabelFrame(self, text = \"Open File\")\n",
    "        self.labelFrame.grid(column = 0, row = 1, padx = 20, pady = 20)\n",
    "        self.button()\n",
    "        self.button1() \n",
    "        self.model = model\n",
    " \n",
    "    def button(self):\n",
    "        self.button = ttk.Button(self.labelFrame, text = \"Browse A File\",command = self.fileDialog)\n",
    "        self.button.grid(column = 1, row = 1)\n",
    "  \n",
    "    def fileDialog(self):\n",
    "        self.filename = filedialog.askopenfilename(initialdir =  \"/\", title = \"Select A File\", filetype =\n",
    "        ((\"png files\",\"*.png\"),(\"all files\",\"*.*\")) )\n",
    "        self.label = ttk.Label(self.labelFrame, text = \"\")\n",
    "        self.label.grid(column = 1, row = 2)\n",
    "        self.label.configure(text = self.filename)\n",
    " \n",
    "    def button1(self):\n",
    "        self.button = ttk.Button(self.labelFrame, text = \"submit\", command = self.get_prediction)\n",
    "        self.button.grid(column = 1, row = 20)\n",
    "        \n",
    "    def get_prediction(self):\n",
    "        \n",
    "\n",
    "        my_image = image.load_img(self.filename)  #input \n",
    "        my_image = image.img_to_array(my_image)\n",
    "        my_image = rgb2hsv(resize(my_image, (25, 25)))[..., 1]\n",
    "        my_image = np.expand_dims(my_image, axis=0)\n",
    "        s=self.model.predict(my_image, )\n",
    "        #print(np.argmax(s[0]))\n",
    "        if(np.argmax(s[0]) > 0.5):\n",
    "            self.label.configure(text=\"Parasitized\")\n",
    "        else:\n",
    "            self.label.configure(text=\"Uninfected\") \n",
    "\n",
    "        img = Image.open(self.filename)\n",
    "        ph = ImageTk.PhotoImage(img)\n",
    "\n",
    "        label1 = Label(image = ph)\n",
    "        label1.image = ph\n",
    "        label1.place(x = 0, y = 0)\n",
    "\n",
    "cnn = load_model(filepath = 'CNN_HSV_Best.tf')\n",
    "root = Root(cnn)\n",
    "root.mainloop()"
   ]
  }
 ],
 "metadata": {
  "kernelspec": {
   "display_name": "Python 3.10.8 64-bit (microsoft store)",
   "language": "python",
   "name": "python3"
  },
  "language_info": {
   "codemirror_mode": {
    "name": "ipython",
    "version": 3
   },
   "file_extension": ".py",
   "mimetype": "text/x-python",
   "name": "python",
   "nbconvert_exporter": "python",
   "pygments_lexer": "ipython3",
   "version": "3.10.8"
  },
  "vscode": {
   "interpreter": {
    "hash": "4bac288aa39488c199db7c1d2d3a4aa1846c8b7d5157a5261bbf38d0b7c4ca41"
   }
  }
 },
 "nbformat": 4,
 "nbformat_minor": 2
}
