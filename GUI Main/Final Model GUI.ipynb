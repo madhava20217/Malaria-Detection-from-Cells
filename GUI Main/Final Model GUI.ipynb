{
 "cells": [
  {
   "cell_type": "code",
   "execution_count": 11,
   "metadata": {},
   "outputs": [],
   "source": [
    "import os\n",
    "import pandas as pd\n",
    "import numpy as np\n",
    "import seaborn as sns\n",
    "import matplotlib.pyplot as plt\n",
    "from matplotlib.image import imread\n",
    "import cv2"
   ]
  },
  {
   "cell_type": "code",
   "execution_count": 12,
   "metadata": {
    "id": "9-bJjSKt9UxL"
   },
   "outputs": [],
   "source": [
    "import sys, os\n",
    "sys.path.append(os.path.dirname(os.path.join((os.path.pardir), \"Modules\")))\n",
    "\n",
    "origin_dir = os.path.join(os.path.pardir, 'Data')\n",
    "\n",
    "\n",
    "new_dir_path = os.path.join(os.path.pardir, 'Datasets')\n",
    "\n",
    "true_parasitized_path = os.path.relpath(\"corrected_images/True_parasitized.csv\")\n",
    "false_parasitized_path = os.path.relpath(\"corrected_images/False_parasitized.csv\")\n",
    "true_uninfected_path = os.path.relpath(\"corrected_images/True_uninfected.csv\")\n",
    "false_uninfected_path = os.path.relpath(\"corrected_images/False_uninfected.csv\")"
   ]
  },
  {
   "cell_type": "code",
   "execution_count": 13,
   "metadata": {
    "colab": {
     "base_uri": "https://localhost:8080/"
    },
    "id": "obC4gO3W9UxP",
    "outputId": "264263bc-2dd9-4ca6-ded8-f8986d71d112"
   },
   "outputs": [],
   "source": [
    "# # RUN THIS CELL IF COLAB\n",
    "\n",
    "# !pip install faiss-gpu\n",
    "# !pip install dask[bag]\n",
    "# !pip3 install tsnecuda==3.0.1+cu113 -f https://tsnecuda.isx.ai/tsnecuda_stable.html\n",
    "\n",
    "# from tsnecuda import TSNE\n",
    "# import dask\n",
    "\n",
    "\n",
    "# # RUN THIS CELL IF COLAB\n",
    "\n",
    "# !pip install faiss-gpu\n",
    "# !pip3 install tsnecuda==3.0.1+cu113 -f https://tsnecuda.isx.ai/tsnecuda_stable.html\n",
    "\n",
    "# from tsnecuda import TSNE\n",
    "\n",
    "# \n",
    "\n",
    "# from google.colab import drive\n",
    "\n",
    "# drive.mount('/content/gdrive')\n",
    "# !git clone \"https://{pat}@github.com/madhava20217/Malaria-Detection-from-Cells.git\"\n",
    "\n",
    "# !pip install -q -r \"/content/Malaria-Detection-from-Cells/requirements_versionless.txt\" \n",
    "\n",
    "# sys.path.append(os.path.dirname('/content/Malaria-Detection-from-Cells/Modules'))\n",
    "# origin_dir = \"/content/Data\"\n",
    "# new_dir_path = \"/content/Datasets/\"\n",
    "\n",
    "# true_parasitized_path  = '/content/Malaria-Detection-from-Cells/EDA/corrected_images/True_parasitized.csv'\n",
    "# false_parasitized_path = '/content/Malaria-Detection-from-Cells/EDA/corrected_images/False_parasitized.csv'\n",
    "# true_uninfected_path   = '/content/Malaria-Detection-from-Cells/EDA/corrected_images/True_uninfected.csv'\n",
    "# false_uninfected_path  = '/content/Malaria-Detection-from-Cells/EDA/corrected_images/False_uninfected.csv'\n"
   ]
  },
  {
   "cell_type": "markdown",
   "metadata": {
    "id": "VvAuSNlV9UxP"
   },
   "source": [
    "### Run this cell if you want to download data and label the datapoints"
   ]
  },
  {
   "cell_type": "code",
   "execution_count": 14,
   "metadata": {
    "colab": {
     "base_uri": "https://localhost:8080/"
    },
    "id": "rwkd9QEv9UxP",
    "outputId": "923fc69c-d3f4-42af-ee81-2a26cce44d2f"
   },
   "outputs": [],
   "source": [
    "# from Modules.data_download import Data_Download\n",
    "# from Modules.labelling import Labelling\n",
    "\n",
    "# download = Data_Download(origin_dir)"
   ]
  },
  {
   "cell_type": "code",
   "execution_count": 15,
   "metadata": {
    "id": "URPo4yti9UxQ"
   },
   "outputs": [],
   "source": [
    "parasitized_dir = os.path.join(origin_dir, 'cell_images', \"Parasitized\")\n",
    "uninfected_dir  = os.path.join(origin_dir, 'cell_images', 'Uninfected')\n",
    "\n",
    "true_parasitized = pd.read_csv(true_parasitized_path, index_col = 0, names = ['ImagePath'], header = 0)\n",
    "false_parasitized = pd.read_csv(false_parasitized_path, index_col = 0, names = ['ImagePath'], header = 0)\n",
    "\n",
    "true_uninfected = pd.read_csv(true_uninfected_path, index_col = 0, names = ['ImagePath'], header = 0)\n",
    "false_uninfected = pd.read_csv(false_uninfected_path, index_col = 0, names = ['ImagePath'], header = 0)"
   ]
  },
  {
   "cell_type": "code",
   "execution_count": 16,
   "metadata": {
    "id": "z1gkmRGW9UxR"
   },
   "outputs": [],
   "source": [
    "for dataset in [true_parasitized, false_parasitized]:\n",
    "    dataset['ImagePath'] = dataset['ImagePath'].apply(lambda row: os.path.join(parasitized_dir, row))\n",
    "\n",
    "for dataset in [true_uninfected, false_uninfected]:\n",
    "    dataset['ImagePath'] = dataset['ImagePath'].apply(lambda row: os.path.join(uninfected_dir, row))"
   ]
  },
  {
   "cell_type": "code",
   "execution_count": 17,
   "metadata": {
    "id": "ug9GsRC09UxS"
   },
   "outputs": [],
   "source": [
    "true_parasitized['status'] = 'true_parasitized'\n",
    "false_parasitized['status'] = 'false_parasitized'\n",
    "\n",
    "true_uninfected['status'] = 'true_uninfected'\n",
    "false_uninfected['status'] = 'false_uninfected'\n",
    "\n",
    "#joining the dataframes\n",
    "images = pd.concat([true_parasitized, false_parasitized, true_uninfected, false_uninfected])\n",
    "images.reset_index(drop = True, inplace = True)"
   ]
  },
  {
   "cell_type": "code",
   "execution_count": 18,
   "metadata": {},
   "outputs": [],
   "source": [
    "from tensorflow.keras.models import Sequential\n",
    "from tensorflow.keras.layers import Activation, Dropout, Flatten, Dense, Conv2D, MaxPooling2D\n",
    "import tensorflow as tf"
   ]
  },
  {
   "cell_type": "code",
   "execution_count": 19,
   "metadata": {},
   "outputs": [],
   "source": [
    "# import pandas as pd\n",
    "# import numpy as np\n",
    "# import tensorflow as tf\n",
    "# import os\n",
    "\n",
    "# import seaborn as sns\n",
    "# import matplotlib.pyplot as plt\n",
    "# import sys\n",
    "\n",
    "# # import skimage\n",
    "# # from skimage.color import rgb2hsv\n",
    "# # from skimage.transform import rescale, resize\n",
    "# # from tqdm import tqdm\n",
    "\n",
    "# import sys\n",
    "# import os\n",
    "\n",
    "# from sklearn.metrics import classification_report\n",
    "\n",
    "\n",
    "# import bz2, pickle, _pickle as cPickle\n",
    "\n",
    "# import random\n",
    "\n",
    "# # random.seed(1234)\n",
    "\n",
    "# # module_path = os.path.abspath(os.path.join('..'))\n",
    "# # if module_path not in sys.path:\n",
    "# #     sys.path.append(module_path+\"/Modules/Testing\")\n",
    "# # import testing_module\n",
    "\n",
    "# SAVE_DIR = \"../Pickled Datasets/\"\n",
    "\n",
    "# COPIES = 2\n",
    "# N_DIGITS = 3\n",
    "# HEIGHT = 25\n",
    "# WIDTH  = 25\n",
    "\n",
    "\n",
    "# PLOT_SAVE = \"../Plots/loss-curves/\"\n",
    "\n",
    "# def compressed_pickle(name: str, data):\n",
    "#     with bz2.BZ2File(os.path.join(SAVE_DIR, \"{}.pbz2\".format(name)), 'w') as f:\n",
    "#         cPickle.dump(data, f)\n",
    "\n",
    "# def decompress_pickle(file):\n",
    "#     data = bz2.BZ2File(file, 'rb')\n",
    "#     data = cPickle.load(data)\n",
    "#     return data"
   ]
  },
  {
   "cell_type": "code",
   "execution_count": 20,
   "metadata": {},
   "outputs": [],
   "source": [
    "# x_train_aug = decompress_pickle(SAVE_DIR + 'x_train_aug.pbz2')\n",
    "# y_train_aug = decompress_pickle(SAVE_DIR + 'y_train_aug.pbz2')\n",
    "# x_train = decompress_pickle(SAVE_DIR + 'x_train.pbz2')\n",
    "# y_train = decompress_pickle(SAVE_DIR + 'y_train.pbz2')\n",
    "# x_val = decompress_pickle(SAVE_DIR + 'x_val.pbz2')\n",
    "# y_val = decompress_pickle(SAVE_DIR + 'y_val.pbz2')\n",
    "# x_test = decompress_pickle(SAVE_DIR + 'x_test.pbz2')\n",
    "# y_test = decompress_pickle(SAVE_DIR + 'y_test.pbz2')\n",
    "\n",
    "# print(\"augmented: \", x_train_aug.shape, y_train_aug.shape)\n",
    "# print(\"train: \", x_train.shape, y_train.shape)\n",
    "# print(\"val: \", x_val.shape, y_val.shape)\n",
    "# print(\"test: \", x_test.shape, y_test.shape)"
   ]
  },
  {
   "cell_type": "code",
   "execution_count": 21,
   "metadata": {},
   "outputs": [],
   "source": [
    "# n_aug_train = x_train_aug.shape[0]\n",
    "# n_train     = x_train.shape[0]\n",
    "# n_val       = x_val.shape[0]\n",
    "# n_test      = x_test.shape[0]"
   ]
  },
  {
   "cell_type": "code",
   "execution_count": 25,
   "metadata": {},
   "outputs": [
    {
     "data": {
      "text/plain": [
       "<tensorflow.python.training.tracking.util.CheckpointLoadStatus at 0x25d7b7bddf0>"
      ]
     },
     "execution_count": 25,
     "metadata": {},
     "output_type": "execute_result"
    }
   ],
   "source": [
    "cnn = tf.keras.Sequential([\n",
    "    tf.keras.layers.Conv2D(64, (3,3), padding = 'same', activation = 'relu', input_shape = (25, 25, 1)),\n",
    "    tf.keras.layers.MaxPool2D((3,3), padding = 'same'),\n",
    "\n",
    "    tf.keras.layers.UpSampling2D((4,4)),\n",
    "\n",
    "    tf.keras.layers.Conv2D(32, (3,3), padding = 'same', activation = 'relu'),\n",
    "    tf.keras.layers.MaxPool2D((3,3), padding = 'same'),\n",
    "\n",
    "    tf.keras.layers.Conv2D(32, (2,2), padding = 'same', activation = 'relu'),\n",
    "    tf.keras.layers.MaxPool2D((2,2), padding = 'same'),\n",
    "\n",
    "\n",
    "    tf.keras.layers.Flatten(),\n",
    "\n",
    "    tf.keras.layers.Dense(512, activation = 'relu'),\n",
    "    tf.keras.layers.Dropout(0.5),\n",
    "    tf.keras.layers.Dense(512, activation = 'relu'),\n",
    "    tf.keras.layers.Dropout(0.5),\n",
    "    tf.keras.layers.Dense(2, activation = 'sigmoid')\n",
    "])\n",
    "\n",
    "cnn.compile(\n",
    "    optimizer = tf.keras.optimizers.Adam(learning_rate=0.003),\n",
    "    loss = 'sparse_categorical_crossentropy',\n",
    "    metrics = ['accuracy']\n",
    ")\n",
    "\n",
    "# history = cnn.fit(\n",
    "#             x_train, y_train, batch_size = 512,\n",
    "#             epochs = 50,\n",
    "#             validation_data = [x_val, y_val],\n",
    "#             validation_batch_size = 256,\n",
    "#             callbacks = [tf.keras.callbacks.EarlyStopping(monitor = 'val_loss', patience = 3),\n",
    "#                          tf.keras.callbacks.ModelCheckpoint(str = 'val_loss', save_best_only = True, save_weights_only = True, filepath= \"CNN_No_Aug_HSV\")]\n",
    "#         )\n",
    "\n",
    "\n",
    "cnn.load_weights('CNN_Aug_HSV')"
   ]
  },
  {
   "cell_type": "code",
   "execution_count": 26,
   "metadata": {},
   "outputs": [
    {
     "name": "stdout",
     "output_type": "stream",
     "text": [
      "Model: \"sequential_1\"\n",
      "_________________________________________________________________\n",
      " Layer (type)                Output Shape              Param #   \n",
      "=================================================================\n",
      " conv2d_3 (Conv2D)           (None, 25, 25, 64)        640       \n",
      "                                                                 \n",
      " max_pooling2d_3 (MaxPooling  (None, 9, 9, 64)         0         \n",
      " 2D)                                                             \n",
      "                                                                 \n",
      " up_sampling2d_1 (UpSampling  (None, 36, 36, 64)       0         \n",
      " 2D)                                                             \n",
      "                                                                 \n",
      " conv2d_4 (Conv2D)           (None, 36, 36, 32)        18464     \n",
      "                                                                 \n",
      " max_pooling2d_4 (MaxPooling  (None, 12, 12, 32)       0         \n",
      " 2D)                                                             \n",
      "                                                                 \n",
      " conv2d_5 (Conv2D)           (None, 12, 12, 32)        4128      \n",
      "                                                                 \n",
      " max_pooling2d_5 (MaxPooling  (None, 6, 6, 32)         0         \n",
      " 2D)                                                             \n",
      "                                                                 \n",
      " flatten_1 (Flatten)         (None, 1152)              0         \n",
      "                                                                 \n",
      " dense_3 (Dense)             (None, 512)               590336    \n",
      "                                                                 \n",
      " dropout_2 (Dropout)         (None, 512)               0         \n",
      "                                                                 \n",
      " dense_4 (Dense)             (None, 512)               262656    \n",
      "                                                                 \n",
      " dropout_3 (Dropout)         (None, 512)               0         \n",
      "                                                                 \n",
      " dense_5 (Dense)             (None, 2)                 1026      \n",
      "                                                                 \n",
      "=================================================================\n",
      "Total params: 877,250\n",
      "Trainable params: 877,250\n",
      "Non-trainable params: 0\n",
      "_________________________________________________________________\n"
     ]
    }
   ],
   "source": [
    "cnn.summary()"
   ]
  },
  {
   "cell_type": "code",
   "execution_count": 34,
   "metadata": {},
   "outputs": [
    {
     "name": "stderr",
     "output_type": "stream",
     "text": [
      "WARNING:absl:Found untraced functions such as _jit_compiled_convolution_op, _jit_compiled_convolution_op, _jit_compiled_convolution_op while saving (showing 3 of 3). These functions will not be directly callable after loading.\n"
     ]
    },
    {
     "name": "stdout",
     "output_type": "stream",
     "text": [
      "INFO:tensorflow:Assets written to: CNN_HSV_Best.tf\\assets\n"
     ]
    },
    {
     "name": "stderr",
     "output_type": "stream",
     "text": [
      "INFO:tensorflow:Assets written to: CNN_HSV_Best.tf\\assets\n"
     ]
    }
   ],
   "source": [
    "cnn.save(filepath = \"CNN_HSV_Best.tf\")"
   ]
  },
  {
   "cell_type": "code",
   "execution_count": null,
   "metadata": {},
   "outputs": [],
   "source": [
    "from tensorflow.keras.callbacks import EarlyStopping"
   ]
  },
  {
   "cell_type": "code",
   "execution_count": null,
   "metadata": {},
   "outputs": [],
   "source": [
    "early_stop = EarlyStopping(monitor='val_loss',patience=2)"
   ]
  },
  {
   "cell_type": "code",
   "execution_count": 33,
   "metadata": {},
   "outputs": [
    {
     "name": "stdout",
     "output_type": "stream",
     "text": [
      "1/1 [==============================] - 0s 12ms/step\n",
      "1\n",
      "1/1 [==============================] - 0s 11ms/step\n",
      "0\n"
     ]
    },
    {
     "ename": "KeyboardInterrupt",
     "evalue": "",
     "output_type": "error",
     "traceback": [
      "\u001b[1;31m---------------------------------------------------------------------------\u001b[0m",
      "\u001b[1;31mKeyboardInterrupt\u001b[0m                         Traceback (most recent call last)",
      "\u001b[1;32mc:\\Users\\krish\\Desktop\\Malaria Detection from Cells\\GUI Main\\Final Model GUI.ipynb Cell 17\u001b[0m in \u001b[0;36m<cell line: 48>\u001b[1;34m()\u001b[0m\n\u001b[0;32m     <a href='vscode-notebook-cell:/c%3A/Users/krish/Desktop/Malaria%20Detection%20from%20Cells/GUI%20Main/Final%20Model%20GUI.ipynb#X22sZmlsZQ%3D%3D?line=45'>46</a>\u001b[0m             \u001b[39mself\u001b[39m\u001b[39m.\u001b[39mlabel\u001b[39m.\u001b[39mconfigure(text\u001b[39m=\u001b[39m\u001b[39m\"\u001b[39m\u001b[39mNon-Parasitized\u001b[39m\u001b[39m\"\u001b[39m) \n\u001b[0;32m     <a href='vscode-notebook-cell:/c%3A/Users/krish/Desktop/Malaria%20Detection%20from%20Cells/GUI%20Main/Final%20Model%20GUI.ipynb#X22sZmlsZQ%3D%3D?line=46'>47</a>\u001b[0m root \u001b[39m=\u001b[39m Root(cnn)\n\u001b[1;32m---> <a href='vscode-notebook-cell:/c%3A/Users/krish/Desktop/Malaria%20Detection%20from%20Cells/GUI%20Main/Final%20Model%20GUI.ipynb#X22sZmlsZQ%3D%3D?line=47'>48</a>\u001b[0m root\u001b[39m.\u001b[39;49mmainloop()\n",
      "File \u001b[1;32mc:\\ProgramData\\Anaconda3\\envs\\tf2.9\\lib\\tkinter\\__init__.py:1429\u001b[0m, in \u001b[0;36mMisc.mainloop\u001b[1;34m(self, n)\u001b[0m\n\u001b[0;32m   1427\u001b[0m \u001b[39mdef\u001b[39;00m \u001b[39mmainloop\u001b[39m(\u001b[39mself\u001b[39m, n\u001b[39m=\u001b[39m\u001b[39m0\u001b[39m):\n\u001b[0;32m   1428\u001b[0m     \u001b[39m\"\"\"Call the mainloop of Tk.\"\"\"\u001b[39;00m\n\u001b[1;32m-> 1429\u001b[0m     \u001b[39mself\u001b[39;49m\u001b[39m.\u001b[39;49mtk\u001b[39m.\u001b[39;49mmainloop(n)\n",
      "\u001b[1;31mKeyboardInterrupt\u001b[0m: "
     ]
    }
   ],
   "source": [
    "import tensorflow as tf\n",
    "\n",
    "tf.\n",
    "\n",
    "from tkinter import *\n",
    "from tkinter import ttk\n",
    "from tkinter import filedialog\n",
    "from skimage.transform import resize\n",
    "from skimage.color import rgb2hsv\n",
    "from tensorflow.keras.preprocessing import image\n",
    "\n",
    " \n",
    "\n",
    "class Root(Tk):\n",
    "    def __init__(self,model):\n",
    "        super(Root, self).__init__()\n",
    "        self.title(\"Malaria Detection\")\n",
    "        self.minsize(640, 400)\n",
    "        self.labelFrame = ttk.LabelFrame(self, text = \"Open File\")\n",
    "        self.labelFrame.grid(column = 0, row = 1, padx = 20, pady = 20)\n",
    "        self.button()\n",
    "        self.button1() \n",
    "        self.model = model\n",
    " \n",
    "    def button(self):\n",
    "        self.button = ttk.Button(self.labelFrame, text = \"Browse A File\",command = self.fileDialog)\n",
    "        self.button.grid(column = 1, row = 1)\n",
    "  \n",
    "    def fileDialog(self):\n",
    "        self.filename = filedialog.askopenfilename(initialdir =  \"/\", title = \"Select A File\", filetype =\n",
    "        ((\"png files\",\"*.png\"),(\"all files\",\"*.*\")) )\n",
    "        self.label = ttk.Label(self.labelFrame, text = \"\")\n",
    "        self.label.grid(column = 1, row = 2)\n",
    "        self.label.configure(text = self.filename)\n",
    " \n",
    "    def button1(self):\n",
    "        self.button = ttk.Button(self.labelFrame, text = \"submit\", command = self.get_prediction)\n",
    "        self.button.grid(column = 1, row = 20)\n",
    "        \n",
    "    def get_prediction(self):\n",
    "        my_image = image.load_img(self.filename)  #input \n",
    "        my_image = image.img_to_array(my_image)\n",
    "        my_image = rgb2hsv(resize(my_image, (25, 25)))[..., 1]\n",
    "        my_image = np.expand_dims(my_image, axis=0)\n",
    "        s=self.model.predict(my_image, )\n",
    "        print(np.argmax(s[0]))\n",
    "        if(np.argmax(s[0]) > 0.5):\n",
    "            self.label.configure(text=\"Parasitized\")\n",
    "        else:\n",
    "            self.label.configure(text=\"Uninfected\") \n",
    "root = Root(cnn)\n",
    "root.mainloop()"
   ]
  }
 ],
 "metadata": {
  "kernelspec": {
   "display_name": "Python 3.8.13 ('tf2.9')",
   "language": "python",
   "name": "python3"
  },
  "language_info": {
   "codemirror_mode": {
    "name": "ipython",
    "version": 3
   },
   "file_extension": ".py",
   "mimetype": "text/x-python",
   "name": "python",
   "nbconvert_exporter": "python",
   "pygments_lexer": "ipython3",
   "version": "3.8.13"
  },
  "vscode": {
   "interpreter": {
    "hash": "f3f9b9e2c84dd319003698fc684ead22f769b71014b59713d46cc8251cf0f9de"
   }
  }
 },
 "nbformat": 4,
 "nbformat_minor": 2
}
