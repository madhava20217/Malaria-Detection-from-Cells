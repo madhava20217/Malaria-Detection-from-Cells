{
 "cells": [
  {
   "cell_type": "code",
   "execution_count": 1,
   "metadata": {},
   "outputs": [],
   "source": [
    "import os\n",
    "import pandas as pd\n",
    "import numpy as np\n",
    "import seaborn as sns\n",
    "import matplotlib.pyplot as plt\n",
    "from matplotlib.image import imread\n",
    "import cv2"
   ]
  },
  {
   "cell_type": "code",
   "execution_count": 2,
   "metadata": {
    "id": "9-bJjSKt9UxL"
   },
   "outputs": [],
   "source": [
    "import sys, os\n",
    "sys.path.append(os.path.dirname(os.path.join((os.path.pardir), \"Modules\")))\n",
    "\n",
    "origin_dir = os.path.join(os.path.pardir, 'Data')\n",
    "\n",
    "\n",
    "new_dir_path = os.path.join(os.path.pardir, 'Datasets')\n",
    "\n",
    "true_parasitized_path = os.path.relpath(\"corrected_images/True_parasitized.csv\")\n",
    "false_parasitized_path = os.path.relpath(\"corrected_images/False_parasitized.csv\")\n",
    "true_uninfected_path = os.path.relpath(\"corrected_images/True_uninfected.csv\")\n",
    "false_uninfected_path = os.path.relpath(\"corrected_images/False_uninfected.csv\")"
   ]
  },
  {
   "cell_type": "code",
   "execution_count": 3,
   "metadata": {
    "colab": {
     "base_uri": "https://localhost:8080/"
    },
    "id": "obC4gO3W9UxP",
    "outputId": "264263bc-2dd9-4ca6-ded8-f8986d71d112"
   },
   "outputs": [],
   "source": [
    "# # RUN THIS CELL IF COLAB\n",
    "\n",
    "# !pip install faiss-gpu\n",
    "# !pip install dask[bag]\n",
    "# !pip3 install tsnecuda==3.0.1+cu113 -f https://tsnecuda.isx.ai/tsnecuda_stable.html\n",
    "\n",
    "# from tsnecuda import TSNE\n",
    "# import dask\n",
    "\n",
    "\n",
    "# # RUN THIS CELL IF COLAB\n",
    "\n",
    "# !pip install faiss-gpu\n",
    "# !pip3 install tsnecuda==3.0.1+cu113 -f https://tsnecuda.isx.ai/tsnecuda_stable.html\n",
    "\n",
    "# from tsnecuda import TSNE\n",
    "\n",
    "# \n",
    "\n",
    "# from google.colab import drive\n",
    "\n",
    "# drive.mount('/content/gdrive')\n",
    "# !git clone \"https://{pat}@github.com/madhava20217/Malaria-Detection-from-Cells.git\"\n",
    "\n",
    "# !pip install -q -r \"/content/Malaria-Detection-from-Cells/requirements_versionless.txt\" \n",
    "\n",
    "# sys.path.append(os.path.dirname('/content/Malaria-Detection-from-Cells/Modules'))\n",
    "# origin_dir = \"/content/Data\"\n",
    "# new_dir_path = \"/content/Datasets/\"\n",
    "\n",
    "# true_parasitized_path  = '/content/Malaria-Detection-from-Cells/EDA/corrected_images/True_parasitized.csv'\n",
    "# false_parasitized_path = '/content/Malaria-Detection-from-Cells/EDA/corrected_images/False_parasitized.csv'\n",
    "# true_uninfected_path   = '/content/Malaria-Detection-from-Cells/EDA/corrected_images/True_uninfected.csv'\n",
    "# false_uninfected_path  = '/content/Malaria-Detection-from-Cells/EDA/corrected_images/False_uninfected.csv'\n"
   ]
  },
  {
   "cell_type": "markdown",
   "metadata": {
    "id": "VvAuSNlV9UxP"
   },
   "source": [
    "### Run this cell if you want to download data and label the datapoints"
   ]
  },
  {
   "cell_type": "code",
   "execution_count": 4,
   "metadata": {
    "colab": {
     "base_uri": "https://localhost:8080/"
    },
    "id": "rwkd9QEv9UxP",
    "outputId": "923fc69c-d3f4-42af-ee81-2a26cce44d2f"
   },
   "outputs": [],
   "source": [
    "# from Modules.data_download import Data_Download\n",
    "# from Modules.labelling import Labelling\n",
    "\n",
    "# download = Data_Download(origin_dir)"
   ]
  },
  {
   "cell_type": "code",
   "execution_count": 5,
   "metadata": {
    "id": "URPo4yti9UxQ"
   },
   "outputs": [],
   "source": [
    "parasitized_dir = os.path.join(origin_dir, 'cell-images-for-detecting-malaria', 'cell_images', \"Parasitized\")\n",
    "uninfected_dir  = os.path.join(origin_dir, 'cell-images-for-detecting-malaria', 'cell_images', 'Uninfected')\n",
    "\n",
    "true_parasitized = pd.read_csv(true_parasitized_path, index_col = 0, names = ['ImagePath'], header = 0)\n",
    "false_parasitized = pd.read_csv(false_parasitized_path, index_col = 0, names = ['ImagePath'], header = 0)\n",
    "\n",
    "true_uninfected = pd.read_csv(true_uninfected_path, index_col = 0, names = ['ImagePath'], header = 0)\n",
    "false_uninfected = pd.read_csv(false_uninfected_path, index_col = 0, names = ['ImagePath'], header = 0)"
   ]
  },
  {
   "cell_type": "code",
   "execution_count": 6,
   "metadata": {
    "id": "z1gkmRGW9UxR"
   },
   "outputs": [],
   "source": [
    "for dataset in [true_parasitized, false_parasitized]:\n",
    "    dataset['ImagePath'] = dataset['ImagePath'].apply(lambda row: os.path.join(parasitized_dir, row))\n",
    "\n",
    "for dataset in [true_uninfected, false_uninfected]:\n",
    "    dataset['ImagePath'] = dataset['ImagePath'].apply(lambda row: os.path.join(uninfected_dir, row))"
   ]
  },
  {
   "cell_type": "code",
   "execution_count": 7,
   "metadata": {
    "id": "ug9GsRC09UxS"
   },
   "outputs": [],
   "source": [
    "true_parasitized['status'] = 'true_parasitized'\n",
    "false_parasitized['status'] = 'false_parasitized'\n",
    "\n",
    "true_uninfected['status'] = 'true_uninfected'\n",
    "false_uninfected['status'] = 'false_uninfected'\n",
    "\n",
    "#joining the dataframes\n",
    "images = pd.concat([true_parasitized, false_parasitized, true_uninfected, false_uninfected])\n",
    "images.reset_index(drop = True, inplace = True)"
   ]
  },
  {
   "cell_type": "code",
   "execution_count": 11,
   "metadata": {},
   "outputs": [],
   "source": [
    "from tensorflow.keras.models import Sequential\n",
    "from tensorflow.keras.layers import Activation, Dropout, Flatten, Dense, Conv2D, MaxPooling2D\n",
    "import tensorflow as tf"
   ]
  },
  {
   "cell_type": "code",
   "execution_count": 12,
   "metadata": {},
   "outputs": [],
   "source": [
    "import pandas as pd\n",
    "import numpy as np\n",
    "import tensorflow as tf\n",
    "import os\n",
    "\n",
    "import seaborn as sns\n",
    "import matplotlib.pyplot as plt\n",
    "import sys\n",
    "\n",
    "# import skimage\n",
    "# from skimage.color import rgb2hsv\n",
    "# from skimage.transform import rescale, resize\n",
    "# from tqdm import tqdm\n",
    "\n",
    "import sys\n",
    "import os\n",
    "\n",
    "from sklearn.metrics import classification_report\n",
    "\n",
    "\n",
    "import bz2, pickle, _pickle as cPickle\n",
    "\n",
    "import random\n",
    "\n",
    "# random.seed(1234)\n",
    "\n",
    "# module_path = os.path.abspath(os.path.join('..'))\n",
    "# if module_path not in sys.path:\n",
    "#     sys.path.append(module_path+\"/Modules/Testing\")\n",
    "# import testing_module\n",
    "\n",
    "SAVE_DIR = \"../Pickled Datasets/\"\n",
    "\n",
    "COPIES = 2\n",
    "N_DIGITS = 3\n",
    "HEIGHT = 25\n",
    "WIDTH  = 25\n",
    "\n",
    "\n",
    "PLOT_SAVE = \"../Plots/loss-curves/\"\n",
    "\n",
    "def compressed_pickle(name: str, data):\n",
    "    with bz2.BZ2File(os.path.join(SAVE_DIR, \"{}.pbz2\".format(name)), 'w') as f:\n",
    "        cPickle.dump(data, f)\n",
    "\n",
    "def decompress_pickle(file):\n",
    "    data = bz2.BZ2File(file, 'rb')\n",
    "    data = cPickle.load(data)\n",
    "    return data"
   ]
  },
  {
   "cell_type": "code",
   "execution_count": 13,
   "metadata": {},
   "outputs": [
    {
     "ename": "FileNotFoundError",
     "evalue": "[Errno 2] No such file or directory: '../Pickled Datasets/x_train_aug.pbz2'",
     "output_type": "error",
     "traceback": [
      "\u001b[1;31m---------------------------------------------------------------------------\u001b[0m",
      "\u001b[1;31mFileNotFoundError\u001b[0m                         Traceback (most recent call last)",
      "Cell \u001b[1;32mIn [13], line 1\u001b[0m\n\u001b[1;32m----> 1\u001b[0m x_train_aug \u001b[39m=\u001b[39m decompress_pickle(SAVE_DIR \u001b[39m+\u001b[39;49m \u001b[39m'\u001b[39;49m\u001b[39mx_train_aug.pbz2\u001b[39;49m\u001b[39m'\u001b[39;49m)\n\u001b[0;32m      2\u001b[0m y_train_aug \u001b[39m=\u001b[39m decompress_pickle(SAVE_DIR \u001b[39m+\u001b[39m \u001b[39m'\u001b[39m\u001b[39my_train_aug.pbz2\u001b[39m\u001b[39m'\u001b[39m)\n\u001b[0;32m      3\u001b[0m x_train \u001b[39m=\u001b[39m decompress_pickle(SAVE_DIR \u001b[39m+\u001b[39m \u001b[39m'\u001b[39m\u001b[39mx_train.pbz2\u001b[39m\u001b[39m'\u001b[39m)\n",
      "Cell \u001b[1;32mIn [12], line 47\u001b[0m, in \u001b[0;36mdecompress_pickle\u001b[1;34m(file)\u001b[0m\n\u001b[0;32m     46\u001b[0m \u001b[39mdef\u001b[39;00m \u001b[39mdecompress_pickle\u001b[39m(file):\n\u001b[1;32m---> 47\u001b[0m     data \u001b[39m=\u001b[39m bz2\u001b[39m.\u001b[39;49mBZ2File(file, \u001b[39m'\u001b[39;49m\u001b[39mrb\u001b[39;49m\u001b[39m'\u001b[39;49m)\n\u001b[0;32m     48\u001b[0m     data \u001b[39m=\u001b[39m cPickle\u001b[39m.\u001b[39mload(data)\n\u001b[0;32m     49\u001b[0m     \u001b[39mreturn\u001b[39;00m data\n",
      "File \u001b[1;32mC:\\Program Files\\WindowsApps\\PythonSoftwareFoundation.Python.3.10_3.10.2288.0_x64__qbz5n2kfra8p0\\lib\\bz2.py:81\u001b[0m, in \u001b[0;36mBZ2File.__init__\u001b[1;34m(self, filename, mode, compresslevel)\u001b[0m\n\u001b[0;32m     78\u001b[0m     \u001b[39mraise\u001b[39;00m \u001b[39mValueError\u001b[39;00m(\u001b[39m\"\u001b[39m\u001b[39mInvalid mode: \u001b[39m\u001b[39m%r\u001b[39;00m\u001b[39m\"\u001b[39m \u001b[39m%\u001b[39m (mode,))\n\u001b[0;32m     80\u001b[0m \u001b[39mif\u001b[39;00m \u001b[39misinstance\u001b[39m(filename, (\u001b[39mstr\u001b[39m, \u001b[39mbytes\u001b[39m, os\u001b[39m.\u001b[39mPathLike)):\n\u001b[1;32m---> 81\u001b[0m     \u001b[39mself\u001b[39m\u001b[39m.\u001b[39m_fp \u001b[39m=\u001b[39m _builtin_open(filename, mode)\n\u001b[0;32m     82\u001b[0m     \u001b[39mself\u001b[39m\u001b[39m.\u001b[39m_closefp \u001b[39m=\u001b[39m \u001b[39mTrue\u001b[39;00m\n\u001b[0;32m     83\u001b[0m     \u001b[39mself\u001b[39m\u001b[39m.\u001b[39m_mode \u001b[39m=\u001b[39m mode_code\n",
      "\u001b[1;31mFileNotFoundError\u001b[0m: [Errno 2] No such file or directory: '../Pickled Datasets/x_train_aug.pbz2'"
     ]
    }
   ],
   "source": [
    "x_train_aug = decompress_pickle(SAVE_DIR + 'x_train_aug.pbz2')\n",
    "y_train_aug = decompress_pickle(SAVE_DIR + 'y_train_aug.pbz2')\n",
    "x_train = decompress_pickle(SAVE_DIR + 'x_train.pbz2')\n",
    "y_train = decompress_pickle(SAVE_DIR + 'y_train.pbz2')\n",
    "x_val = decompress_pickle(SAVE_DIR + 'x_val.pbz2')\n",
    "y_val = decompress_pickle(SAVE_DIR + 'y_val.pbz2')\n",
    "x_test = decompress_pickle(SAVE_DIR + 'x_test.pbz2')\n",
    "y_test = decompress_pickle(SAVE_DIR + 'y_test.pbz2')\n",
    "\n",
    "print(\"augmented: \", x_train_aug.shape, y_train_aug.shape)\n",
    "print(\"train: \", x_train.shape, y_train.shape)\n",
    "print(\"val: \", x_val.shape, y_val.shape)\n",
    "print(\"test: \", x_test.shape, y_test.shape)"
   ]
  },
  {
   "cell_type": "code",
   "execution_count": null,
   "metadata": {},
   "outputs": [],
   "source": [
    "n_aug_train = x_train_aug.shape[0]\n",
    "n_train     = x_train.shape[0]\n",
    "n_val       = x_val.shape[0]\n",
    "n_test      = x_test.shape[0]"
   ]
  },
  {
   "cell_type": "code",
   "execution_count": null,
   "metadata": {},
   "outputs": [],
   "source": [
    "cnn = tf.keras.Sequential([\n",
    "    tf.keras.layers.Conv2D(64, (3,3), padding = 'same', activation = 'relu', input_shape = x_train[0].shape),\n",
    "    tf.keras.layers.MaxPool2D((3,3), padding = 'same'),\n",
    "\n",
    "    tf.keras.layers.UpSampling2D((4,4)),\n",
    "\n",
    "    tf.keras.layers.Conv2D(32, (3,3), padding = 'same', activation = 'relu'),\n",
    "    tf.keras.layers.MaxPool2D((3,3), padding = 'same'),\n",
    "\n",
    "    tf.keras.layers.Conv2D(32, (2,2), padding = 'same', activation = 'relu'),\n",
    "    tf.keras.layers.MaxPool2D((2,2), padding = 'same'),\n",
    "\n",
    "\n",
    "    tf.keras.layers.Flatten(),\n",
    "\n",
    "    tf.keras.layers.Dense(512, activation = 'relu'),\n",
    "    tf.keras.layers.Dropout(0.5),\n",
    "    tf.keras.layers.Dense(512, activation = 'relu'),\n",
    "    tf.keras.layers.Dropout(0.5),\n",
    "    tf.keras.layers.Dense(2, activation = 'sigmoid')\n",
    "])\n",
    "\n",
    "cnn.compile(\n",
    "    optimizer = tf.keras.optimizers.Adam(learning_rate=0.003),\n",
    "    loss = 'sparse_categorical_crossentropy',\n",
    "    metrics = ['accuracy']\n",
    ")\n",
    "\n",
    "history = cnn.fit(\n",
    "            x_train, y_train, batch_size = 256,\n",
    "            epochs = 50,\n",
    "            validation_data = [x_val, y_val],\n",
    "            validation_batch_size = 256,\n",
    "            callbacks = [tf.keras.callbacks.EarlyStopping(monitor = 'val_loss', patience = 10),\n",
    "                         tf.keras.callbacks.ModelCheckpoint(str = 'val_loss', save_best_only = True, save_weights_only = True, filepath= \"CNN_No_Aug_HSV\")]\n",
    "        )\n",
    "\n",
    "\n",
    "cnn.load_weights('CNN_No_Aug_HSV')"
   ]
  },
  {
   "cell_type": "code",
   "execution_count": null,
   "metadata": {},
   "outputs": [
    {
     "name": "stdout",
     "output_type": "stream",
     "text": [
      "Model: \"sequential\"\n",
      "_________________________________________________________________\n",
      " Layer (type)                Output Shape              Param #   \n",
      "=================================================================\n",
      " conv2d (Conv2D)             (None, 128, 128, 32)      896       \n",
      "                                                                 \n",
      " max_pooling2d (MaxPooling2D  (None, 64, 64, 32)       0         \n",
      " )                                                               \n",
      "                                                                 \n",
      " conv2d_1 (Conv2D)           (None, 62, 62, 64)        18496     \n",
      "                                                                 \n",
      " max_pooling2d_1 (MaxPooling  (None, 31, 31, 64)       0         \n",
      " 2D)                                                             \n",
      "                                                                 \n",
      " conv2d_2 (Conv2D)           (None, 29, 29, 64)        36928     \n",
      "                                                                 \n",
      " max_pooling2d_2 (MaxPooling  (None, 14, 14, 64)       0         \n",
      " 2D)                                                             \n",
      "                                                                 \n",
      " flatten (Flatten)           (None, 12544)             0         \n",
      "                                                                 \n",
      " dense (Dense)               (None, 128)               1605760   \n",
      "                                                                 \n",
      " activation (Activation)     (None, 128)               0         \n",
      "                                                                 \n",
      " dropout (Dropout)           (None, 128)               0         \n",
      "                                                                 \n",
      " dense_1 (Dense)             (None, 1)                 129       \n",
      "                                                                 \n",
      " activation_1 (Activation)   (None, 1)                 0         \n",
      "                                                                 \n",
      "=================================================================\n",
      "Total params: 1,662,209\n",
      "Trainable params: 1,662,209\n",
      "Non-trainable params: 0\n",
      "_________________________________________________________________\n"
     ]
    }
   ],
   "source": [
    "cnn.summary()"
   ]
  },
  {
   "cell_type": "code",
   "execution_count": null,
   "metadata": {},
   "outputs": [],
   "source": [
    "from tensorflow.keras.callbacks import EarlyStopping"
   ]
  },
  {
   "cell_type": "code",
   "execution_count": null,
   "metadata": {},
   "outputs": [],
   "source": [
    "early_stop = EarlyStopping(monitor='val_loss',patience=2)"
   ]
  },
  {
   "cell_type": "code",
   "execution_count": null,
   "metadata": {},
   "outputs": [],
   "source": [
    "from tkinter import *\n",
    "from tkinter import ttk\n",
    "from tkinter import filedialog\n",
    " \n",
    "class Root(Tk):\n",
    "    def __init__(self,model):\n",
    "        super(Root, self).__init__()\n",
    "        self.title(\"Python Tkinter Dialog Widget\")\n",
    "        self.minsize(640, 400)\n",
    "        self.labelFrame = ttk.LabelFrame(self, text = \"Open File\")\n",
    "        self.labelFrame.grid(column = 0, row = 1, padx = 20, pady = 20)\n",
    "        self.button()\n",
    "        self.button1() \n",
    "        self.model = model\n",
    " \n",
    "    def button(self):\n",
    "        self.button = ttk.Button(self.labelFrame, text = \"Browse A File\",command = self.fileDialog)\n",
    "        self.button.grid(column = 1, row = 1)\n",
    "  \n",
    "    def fileDialog(self):\n",
    "        self.filename = filedialog.askopenfilename(initialdir =  \"/\", title = \"Select A File\", filetype =\n",
    "        ((\"png files\",\"*.png\"),(\"all files\",\"*.*\")) )\n",
    "        self.label = ttk.Label(self.labelFrame, text = \"\")\n",
    "        self.label.grid(column = 1, row = 2)\n",
    "        self.label.configure(text = self.filename)\n",
    " \n",
    "    def button1(self):\n",
    "        self.button = ttk.Button(self.labelFrame, text = \"submit\", command = self.get_prediction)\n",
    "        self.button.grid(column = 1, row = 20)\n",
    "        \n",
    "    def get_prediction(self):\n",
    "        s=self.model.predict(my_image)\n",
    "        if(s==[[1.]]):\n",
    "            self.label.configure(text=\"non parasitic\")\n",
    "        else:\n",
    "            self.label.configure(text=\"parasitic\") \n",
    "root = Root(cnn)\n",
    "root.mainloop()"
   ]
  }
 ],
 "metadata": {
  "kernelspec": {
   "display_name": "Python 3.10.8 64-bit (microsoft store)",
   "language": "python",
   "name": "python3"
  },
  "language_info": {
   "codemirror_mode": {
    "name": "ipython",
    "version": 3
   },
   "file_extension": ".py",
   "mimetype": "text/x-python",
   "name": "python",
   "nbconvert_exporter": "python",
   "pygments_lexer": "ipython3",
   "version": "3.10.8"
  },
  "vscode": {
   "interpreter": {
    "hash": "4bac288aa39488c199db7c1d2d3a4aa1846c8b7d5157a5261bbf38d0b7c4ca41"
   }
  }
 },
 "nbformat": 4,
 "nbformat_minor": 2
}
